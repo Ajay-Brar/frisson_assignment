{
 "cells": [
  {
   "cell_type": "code",
   "execution_count": null,
   "id": "f543aeed-42e4-4dc4-9b5d-b2b01de7465d",
   "metadata": {},
   "outputs": [],
   "source": [
    "##..STRING..##"
   ]
  },
  {
   "cell_type": "markdown",
   "id": "5c091738-df8d-4ce6-8fbb-4716bcb8c28b",
   "metadata": {},
   "source": [
    "1. Write a program to reverse a string.\n"
   ]
  },
  {
   "cell_type": "code",
   "execution_count": 1,
   "id": "8b825cb7-95f3-4e34-9db0-99c35912f2e2",
   "metadata": {},
   "outputs": [
    {
     "data": {
      "text/plain": [
       "'dcba'"
      ]
     },
     "execution_count": 1,
     "metadata": {},
     "output_type": "execute_result"
    }
   ],
   "source": [
    "str = 'abcd'\n",
    "str[::-1]"
   ]
  },
  {
   "cell_type": "markdown",
   "id": "923dae8d-335c-4076-84ba-425093bd58c5",
   "metadata": {},
   "source": [
    "2. Check if a string is a palindrome.\n",
    "\n"
   ]
  },
  {
   "cell_type": "code",
   "execution_count": 5,
   "id": "7cff6bac-956e-476c-9a43-7d88bac93203",
   "metadata": {},
   "outputs": [
    {
     "name": "stdin",
     "output_type": "stream",
     "text": [
      "enter the stirng:  anna\n"
     ]
    },
    {
     "name": "stdout",
     "output_type": "stream",
     "text": [
      "string anna is palindrom\n"
     ]
    }
   ],
   "source": [
    "str = input('enter the stirng: ')\n",
    "rev = str[::-1]\n",
    "if str == rev:\n",
    "    print(f'string {str} is palindrom')\n",
    "else: \n",
    "    print ('not plindrome')"
   ]
  },
  {
   "cell_type": "markdown",
   "id": "3d8b2359-b4ae-4a7b-95a7-7a49adf8e1ec",
   "metadata": {},
   "source": [
    "3. Convert a string to uppercase.\n"
   ]
  },
  {
   "cell_type": "code",
   "execution_count": 6,
   "id": "7f6679c6-a545-4222-b0ae-8961ed151091",
   "metadata": {},
   "outputs": [
    {
     "name": "stdin",
     "output_type": "stream",
     "text": [
      "enter the stirng:  abcd\n"
     ]
    },
    {
     "data": {
      "text/plain": [
       "'ABCD'"
      ]
     },
     "execution_count": 6,
     "metadata": {},
     "output_type": "execute_result"
    }
   ],
   "source": [
    "str = input('enter the stirng: ')\n",
    "str.upper()"
   ]
  },
  {
   "cell_type": "markdown",
   "id": "925869ba-25ba-4842-9d8a-6c2beebc2897",
   "metadata": {},
   "source": [
    "4. Convert a string to lowercase."
   ]
  },
  {
   "cell_type": "code",
   "execution_count": 7,
   "id": "9cfa306b-e5ba-4756-8a1b-8bbcb39f5415",
   "metadata": {},
   "outputs": [
    {
     "name": "stdin",
     "output_type": "stream",
     "text": [
      "enter the stirng:  ABCD\n"
     ]
    },
    {
     "data": {
      "text/plain": [
       "'abcd'"
      ]
     },
     "execution_count": 7,
     "metadata": {},
     "output_type": "execute_result"
    }
   ],
   "source": [
    "str = input('enter the stirng: ')\n",
    "str.lower()"
   ]
  },
  {
   "cell_type": "markdown",
   "id": "ef657d21-2d5e-4b02-82fa-bab7bc362349",
   "metadata": {},
   "source": [
    "5. Count the number of vowels in a string."
   ]
  },
  {
   "cell_type": "code",
   "execution_count": 8,
   "id": "acc9f1a1-c035-44f8-9bbf-0f5bae520f54",
   "metadata": {},
   "outputs": [
    {
     "name": "stdin",
     "output_type": "stream",
     "text": [
      "enter the stirng:  ajay\n"
     ]
    },
    {
     "name": "stdout",
     "output_type": "stream",
     "text": [
      "2\n"
     ]
    }
   ],
   "source": [
    "count = 0\n",
    "str = input('enter the stirng: ')\n",
    "str.lower()\n",
    "for i in str:\n",
    "    if (i == 'a' or i == 'e'or i == 'i' or i == 'o' or i == 'u'):\n",
    "        count += 1\n",
    "print (count)"
   ]
  },
  {
   "cell_type": "markdown",
   "id": "9c5178c0-6b9c-40c8-bfce-e5c72066bb6c",
   "metadata": {},
   "source": [
    "6. Count the number of consonants in a string.\n"
   ]
  },
  {
   "cell_type": "code",
   "execution_count": 10,
   "id": "5f49019d-5026-458f-9013-3263af813383",
   "metadata": {},
   "outputs": [
    {
     "name": "stdin",
     "output_type": "stream",
     "text": [
      "enter the stirng:  consonants\n"
     ]
    },
    {
     "name": "stdout",
     "output_type": "stream",
     "text": [
      "7\n"
     ]
    }
   ],
   "source": [
    "count = 0\n",
    "str = input('enter the stirng: ')\n",
    "vowel = 'aeiou'\n",
    "str.lower()\n",
    "for i in str:\n",
    "    if (i not in vowel):\n",
    "        count += 1\n",
    "print (count)"
   ]
  },
  {
   "cell_type": "markdown",
   "id": "9119049e-1d3b-432a-b405-ee5d48391fda",
   "metadata": {},
   "source": [
    "7. Remove all whitespaces from a string.\n"
   ]
  },
  {
   "cell_type": "code",
   "execution_count": 18,
   "id": "a5893194-d107-4731-a146-56853185915b",
   "metadata": {},
   "outputs": [
    {
     "name": "stdin",
     "output_type": "stream",
     "text": [
      "enter the stirng:  hi sir how are you\n"
     ]
    },
    {
     "data": {
      "text/plain": [
       "'hisirhowareyou'"
      ]
     },
     "execution_count": 18,
     "metadata": {},
     "output_type": "execute_result"
    }
   ],
   "source": [
    "#case 1:\n",
    "\n",
    "str = input('enter the stirng: ')\n",
    "str.replace(' ','')\n",
    "\n",
    "##case 2:\n",
    "#for i in str:\n",
    " #   if (i == ' '):\n",
    "  #      continue\n",
    "   # print(i,end = '')\n",
    "\n"
   ]
  },
  {
   "cell_type": "markdown",
   "id": "d4ad0fad-3df1-4158-a933-18ae0e0d96f0",
   "metadata": {},
   "source": [
    "8. Find the length of a string without using the `len()` function.\n"
   ]
  },
  {
   "cell_type": "code",
   "execution_count": 19,
   "id": "9c0418c3-32d5-4e22-8144-0c5f19dfca85",
   "metadata": {},
   "outputs": [
    {
     "name": "stdin",
     "output_type": "stream",
     "text": [
      "enter the stirng:  this is length\n"
     ]
    },
    {
     "name": "stdout",
     "output_type": "stream",
     "text": [
      "14\n"
     ]
    }
   ],
   "source": [
    "str = input('enter the stirng: ')\n",
    "length = 0\n",
    "for i in str:\n",
    "    length += 1\n",
    "print(length)\n",
    "    "
   ]
  },
  {
   "cell_type": "markdown",
   "id": "3ee4433a-35ba-4a21-93b9-f5a83db8968d",
   "metadata": {},
   "source": [
    "9. Check if a string contains a specific word."
   ]
  },
  {
   "cell_type": "code",
   "execution_count": 22,
   "id": "92897258-36a4-4b3a-a22b-3bc6a92a34dd",
   "metadata": {},
   "outputs": [
    {
     "name": "stdin",
     "output_type": "stream",
     "text": [
      "enter the stirng:  hello everyone how are you all\n",
      "enter the word:  all\n"
     ]
    },
    {
     "name": "stdout",
     "output_type": "stream",
     "text": [
      "the word all is inside the string\n"
     ]
    }
   ],
   "source": [
    "str = input('enter the stirng: ')\n",
    "word =  input('enter the word: ')\n",
    "if word in str:\n",
    "    print(f'the word {word} is inside the string')\n",
    "else :\n",
    "    print('Not inside string')"
   ]
  },
  {
   "cell_type": "markdown",
   "id": "ad9a8365-4dca-4a14-bfb7-848d6d955751",
   "metadata": {},
   "source": [
    "10. Replace a word in a string with another word.\n"
   ]
  },
  {
   "cell_type": "code",
   "execution_count": 26,
   "id": "7db28cb3-93ec-4b02-9ef5-09bd3d9ca790",
   "metadata": {},
   "outputs": [
    {
     "data": {
      "text/plain": [
       "'this is for the change string '"
      ]
     },
     "execution_count": 26,
     "metadata": {},
     "output_type": "execute_result"
    }
   ],
   "source": [
    "str = 'this is for the replace string '\n",
    "str.replace('replace','change')"
   ]
  },
  {
   "cell_type": "markdown",
   "id": "38740ae0-bf9b-4168-a323-480e61fbc953",
   "metadata": {},
   "source": [
    "11. Count the occurrences of a word in a string.\n"
   ]
  },
  {
   "cell_type": "code",
   "execution_count": 31,
   "id": "06aa7f97-9b49-4ba7-acfb-e77bd61f22ee",
   "metadata": {},
   "outputs": [
    {
     "name": "stdin",
     "output_type": "stream",
     "text": [
      "enter the stirng:  ajaay\n",
      "enter the word:  a\n"
     ]
    },
    {
     "name": "stdout",
     "output_type": "stream",
     "text": [
      "3\n"
     ]
    }
   ],
   "source": [
    "str = input('enter the stirng: ')\n",
    "word =  input('enter the word: ')\n",
    "count = 0\n",
    "for i in str :\n",
    "    if i == word :\n",
    "        count += 1\n",
    "print(count)"
   ]
  },
  {
   "cell_type": "markdown",
   "id": "0a3ca3b7-6910-4fbc-8bad-45c11eaab138",
   "metadata": {},
   "source": [
    "12. Find the first occurrence of a word in a string.\n"
   ]
  },
  {
   "cell_type": "code",
   "execution_count": 37,
   "id": "adaac81b-c3a3-42e2-8fee-138a75f53df7",
   "metadata": {},
   "outputs": [
    {
     "name": "stdin",
     "output_type": "stream",
     "text": [
      "enter the stirng:  hello\n",
      "enter the word:  l\n"
     ]
    },
    {
     "name": "stdout",
     "output_type": "stream",
     "text": [
      "the first occurrence is in the index position 2\n"
     ]
    }
   ],
   "source": [
    "str = input('enter the stirng: ')\n",
    "word =  input('enter the word: ')\n",
    "pos = str.index(word)\n",
    "print(f'the first occurrence is in the index position {pos}') "
   ]
  },
  {
   "cell_type": "markdown",
   "id": "50acb4cb-92be-4fef-a4de-bfedda272559",
   "metadata": {},
   "source": [
    "13. Find the last occurrence of a word in a string.\n"
   ]
  },
  {
   "cell_type": "code",
   "execution_count": 52,
   "id": "71eb494f-9c44-4ad1-89c9-08cb2d78a88e",
   "metadata": {},
   "outputs": [
    {
     "name": "stdin",
     "output_type": "stream",
     "text": [
      "enter the the string:  ajay\n",
      "enter the word:  a\n"
     ]
    },
    {
     "name": "stdout",
     "output_type": "stream",
     "text": [
      "The last occurence of word in the index 2\n"
     ]
    }
   ],
   "source": [
    "str= input('enter the the string: ')\n",
    "word=input('enter the word: ')\n",
    "for i in range(len(str_1)-1,-1,-1):       #reverse the loop for checking from last\n",
    "  if str[i] == word :                 #if the word is same print value of i (i is the index position)\n",
    "    print(f'The last occurence of word in the index {i}')\n",
    "    break"
   ]
  },
  {
   "cell_type": "markdown",
   "id": "ca7b2fe1-831e-44da-9b1c-782ec741b4a1",
   "metadata": {},
   "source": [
    "14. Split a string into a list of words.\n"
   ]
  },
  {
   "cell_type": "code",
   "execution_count": 53,
   "id": "7c6283c1-6e8d-42f7-a519-84fbaea072bc",
   "metadata": {},
   "outputs": [
    {
     "name": "stdin",
     "output_type": "stream",
     "text": [
      "enter the the string:  this is for the split\n"
     ]
    },
    {
     "data": {
      "text/plain": [
       "['this', 'is', 'for', 'the', 'split']"
      ]
     },
     "execution_count": 53,
     "metadata": {},
     "output_type": "execute_result"
    }
   ],
   "source": [
    "str= input('enter the the string: ')\n",
    "str.split()\n"
   ]
  },
  {
   "cell_type": "markdown",
   "id": "0b384193-b9b2-4154-bb64-b58b6174c94d",
   "metadata": {},
   "source": [
    "15. Join a list of words into a string.\n"
   ]
  },
  {
   "cell_type": "code",
   "execution_count": 55,
   "id": "af5a986e-f5dc-41ac-9b0d-107f88d750d7",
   "metadata": {},
   "outputs": [
    {
     "data": {
      "text/plain": [
       "'ajay,atitya,arjun,aryan,aman'"
      ]
     },
     "execution_count": 55,
     "metadata": {},
     "output_type": "execute_result"
    }
   ],
   "source": [
    "str = ['ajay','atitya','arjun','aryan','aman']\n",
    "','.join(str)\n"
   ]
  },
  {
   "cell_type": "markdown",
   "id": "25227476-3e50-4774-8dc2-744b85c0e668",
   "metadata": {},
   "source": [
    "16. Convert a string where words are separated by spaces to one where words\n",
    "are separated by underscores."
   ]
  },
  {
   "cell_type": "code",
   "execution_count": 57,
   "id": "096bb649-1ee6-4b82-bde9-903b4e691159",
   "metadata": {},
   "outputs": [
    {
     "name": "stdin",
     "output_type": "stream",
     "text": [
      "enter the the string:  this is for separation\n"
     ]
    },
    {
     "data": {
      "text/plain": [
       "'this,is,for,separation'"
      ]
     },
     "execution_count": 57,
     "metadata": {},
     "output_type": "execute_result"
    }
   ],
   "source": [
    "str= input('enter the the string: ')\n",
    "str.replace(' ',',')"
   ]
  },
  {
   "cell_type": "markdown",
   "id": "8df7ead3-54c9-4831-b176-cdb275dbd3b7",
   "metadata": {},
   "source": [
    "17. Check if a string starts with a specific word or phrase."
   ]
  },
  {
   "cell_type": "code",
   "execution_count": 59,
   "id": "4eea70bc-1a5d-48d7-bc53-94739ce88e6e",
   "metadata": {},
   "outputs": [
    {
     "name": "stdin",
     "output_type": "stream",
     "text": [
      "enter the the string:  hi there how are you\n",
      "enter the word:  hi\n"
     ]
    },
    {
     "data": {
      "text/plain": [
       "True"
      ]
     },
     "execution_count": 59,
     "metadata": {},
     "output_type": "execute_result"
    }
   ],
   "source": [
    "str= input('enter the the string: ')\n",
    "word=input('enter the word: ')\n",
    "\n",
    "str.startswith(word)"
   ]
  },
  {
   "cell_type": "markdown",
   "id": "b61e8b22-f062-416b-84a8-86acb2170b2e",
   "metadata": {},
   "source": [
    "18. Check if a string ends with a specific word or phrase.\n"
   ]
  },
  {
   "cell_type": "code",
   "execution_count": 61,
   "id": "010857f2-e6ee-4dd2-b43c-8c9f619ff7ae",
   "metadata": {},
   "outputs": [
    {
     "name": "stdin",
     "output_type": "stream",
     "text": [
      "enter the the string:  hi there how are you\n",
      "enter the word:  you\n"
     ]
    },
    {
     "data": {
      "text/plain": [
       "True"
      ]
     },
     "execution_count": 61,
     "metadata": {},
     "output_type": "execute_result"
    }
   ],
   "source": [
    "str= input('enter the the string: ')\n",
    "word=input('enter the word: ')\n",
    "\n",
    "str.endswith(word)\n"
   ]
  },
  {
   "cell_type": "markdown",
   "id": "81e18d35-3593-45a9-ab26-e5402484ccda",
   "metadata": {},
   "source": [
    "19. Convert a string to title case (e.g., \"hello world\" to \"Hello World\").\n"
   ]
  },
  {
   "cell_type": "code",
   "execution_count": 62,
   "id": "b84ba895-1c27-4fcb-8dcd-991b4e7fb2a3",
   "metadata": {},
   "outputs": [
    {
     "data": {
      "text/plain": [
       "'Hello World'"
      ]
     },
     "execution_count": 62,
     "metadata": {},
     "output_type": "execute_result"
    }
   ],
   "source": [
    "str= \"hello world\"\n",
    "str.title()"
   ]
  },
  {
   "cell_type": "markdown",
   "id": "46e26c0a-cdc9-4109-b8bb-b6fc9a2ed168",
   "metadata": {},
   "source": [
    "20. Find the longest word in a string.\n"
   ]
  },
  {
   "cell_type": "code",
   "execution_count": 70,
   "id": "33574084-709d-46ed-a4d8-9f5ede203436",
   "metadata": {},
   "outputs": [
    {
     "name": "stdin",
     "output_type": "stream",
     "text": [
      "enter the string:  where are you\n"
     ]
    },
    {
     "name": "stdout",
     "output_type": "stream",
     "text": [
      "where\n"
     ]
    }
   ],
   "source": [
    "str = input('enter the string: ')\n",
    "l = str.split()\n",
    "print(max(l,key = len))\n"
   ]
  },
  {
   "cell_type": "markdown",
   "id": "fc07f39a-84a8-4ba5-865a-3798b39f2061",
   "metadata": {},
   "source": [
    "21. Find the shortest word in a string.\n"
   ]
  },
  {
   "cell_type": "code",
   "execution_count": 71,
   "id": "443e5fba-1fb2-48fc-b15a-c5f75c2bb810",
   "metadata": {},
   "outputs": [
    {
     "name": "stdin",
     "output_type": "stream",
     "text": [
      "enter the string:  hi where were you\n"
     ]
    },
    {
     "name": "stdout",
     "output_type": "stream",
     "text": [
      "hi\n"
     ]
    }
   ],
   "source": [
    "str = input('enter the string: ')\n",
    "l = str.split()\n",
    "print(min(l,key = len))\n"
   ]
  },
  {
   "cell_type": "markdown",
   "id": "b245debf-f800-439c-a5ea-894fe5ff7453",
   "metadata": {},
   "source": [
    "22. Reverse the order of words in a string.\n"
   ]
  },
  {
   "cell_type": "code",
   "execution_count": null,
   "id": "7c7c23c9-b604-4dd7-a74e-2260909447bf",
   "metadata": {},
   "outputs": [],
   "source": [
    "str = input('enter the string :')\n",
    "str[::-1]"
   ]
  },
  {
   "cell_type": "markdown",
   "id": "23d68104-5742-4b13-97c6-eab48a7f1ce8",
   "metadata": {},
   "source": [
    "23. Check if a string is alphanumeric.\n"
   ]
  },
  {
   "cell_type": "code",
   "execution_count": 74,
   "id": "9adbb9cf-270a-40d4-9389-7f9e851b4eef",
   "metadata": {},
   "outputs": [
    {
     "name": "stdin",
     "output_type": "stream",
     "text": [
      "enter the string : z1\n"
     ]
    },
    {
     "data": {
      "text/plain": [
       "True"
      ]
     },
     "execution_count": 74,
     "metadata": {},
     "output_type": "execute_result"
    }
   ],
   "source": [
    "str = input('enter the string :')\n",
    "str.isalnum()"
   ]
  },
  {
   "cell_type": "code",
   "execution_count": null,
   "id": "5168f8df-46a3-4a49-af22-63b8c61a4760",
   "metadata": {},
   "outputs": [],
   "source": [
    "24. Extract all digits from a string.\n"
   ]
  },
  {
   "cell_type": "code",
   "execution_count": 83,
   "id": "bca0e00b-7156-4c13-b7a5-bf8bdcd70fc8",
   "metadata": {},
   "outputs": [
    {
     "name": "stdin",
     "output_type": "stream",
     "text": [
      "enter the string : ajay1223\n"
     ]
    },
    {
     "name": "stdout",
     "output_type": "stream",
     "text": [
      "1223"
     ]
    }
   ],
   "source": [
    "str = input('enter the string :')\n",
    "for i in str:\n",
    "    if i.isdigit():\n",
    "        print(i,end='')\n",
    "        "
   ]
  },
  {
   "cell_type": "markdown",
   "id": "2238e9a0-42e0-4414-a31d-4e430f820153",
   "metadata": {},
   "source": [
    "25. Extract all alphabets from a string.\n"
   ]
  },
  {
   "cell_type": "code",
   "execution_count": 86,
   "id": "88b99c3e-ae89-47be-ac2b-ab23adaf0c2c",
   "metadata": {},
   "outputs": [
    {
     "name": "stdin",
     "output_type": "stream",
     "text": [
      "enter the string : ajay112233\n"
     ]
    },
    {
     "name": "stdout",
     "output_type": "stream",
     "text": [
      "ajay"
     ]
    }
   ],
   "source": [
    "str = input('enter the string :')\n",
    "for i in str:\n",
    "    if i.isalpha():\n",
    "        print(i,end='')"
   ]
  },
  {
   "cell_type": "markdown",
   "id": "5e9ea3f4-8425-468d-b38a-6b7072df00a8",
   "metadata": {},
   "source": [
    "26. Count the number of uppercase letters in a string.\n"
   ]
  },
  {
   "cell_type": "code",
   "execution_count": 90,
   "id": "d98283df-6862-4d45-b96a-f4039c2f0b17",
   "metadata": {},
   "outputs": [
    {
     "name": "stdin",
     "output_type": "stream",
     "text": [
      "enter the string : Hi CODE\n"
     ]
    },
    {
     "name": "stdout",
     "output_type": "stream",
     "text": [
      "5\n"
     ]
    }
   ],
   "source": [
    "str = input('enter the string :')\n",
    "count = 0\n",
    "for i in str:\n",
    "    if 'A'<=i<='Z':\n",
    "        count += 1\n",
    "print(count)"
   ]
  },
  {
   "cell_type": "markdown",
   "id": "24d2bac1-8d37-48b0-87bf-4f60f7eb8a2b",
   "metadata": {},
   "source": [
    "27. Count the number of lowercase letters in a string"
   ]
  },
  {
   "cell_type": "code",
   "execution_count": 91,
   "id": "5f0062ed-c07c-4f96-bf53-fd5497c327b9",
   "metadata": {},
   "outputs": [
    {
     "name": "stdin",
     "output_type": "stream",
     "text": [
      "enter the string : Hi this is CODE\n"
     ]
    },
    {
     "name": "stdout",
     "output_type": "stream",
     "text": [
      "7\n"
     ]
    }
   ],
   "source": [
    "str = input('enter the string :')\n",
    "count = 0\n",
    "for i in str:\n",
    "    if 'a'<=i<='z':\n",
    "        count += 1\n",
    "print(count)"
   ]
  },
  {
   "cell_type": "markdown",
   "id": "e2bed231-5505-4fa2-8931-b61dafc963f9",
   "metadata": {},
   "source": [
    "28. Swap the case of each character in a string.\n"
   ]
  },
  {
   "cell_type": "code",
   "execution_count": 92,
   "id": "6388dda8-d692-4fa9-9c4e-a51dc7bf7d0b",
   "metadata": {},
   "outputs": [
    {
     "name": "stdin",
     "output_type": "stream",
     "text": [
      "enter the string : hi CODER\n"
     ]
    },
    {
     "data": {
      "text/plain": [
       "'HI coder'"
      ]
     },
     "execution_count": 92,
     "metadata": {},
     "output_type": "execute_result"
    }
   ],
   "source": [
    "str = input('enter the string :')\n",
    "str.swapcase()"
   ]
  },
  {
   "cell_type": "markdown",
   "id": "99e35c35-151a-485a-8c71-921db4cb8a61",
   "metadata": {},
   "source": [
    "29. Remove a specific word from a string.\n"
   ]
  },
  {
   "cell_type": "code",
   "execution_count": 96,
   "id": "4a70be37-a832-4231-aff8-a58b1f6e85e7",
   "metadata": {},
   "outputs": [
    {
     "data": {
      "text/plain": [
       "'hi '"
      ]
     },
     "execution_count": 96,
     "metadata": {},
     "output_type": "execute_result"
    }
   ],
   "source": [
    "str = 'hi people'\n",
    "str.replace('people','')"
   ]
  },
  {
   "cell_type": "markdown",
   "id": "90fbcfb0-6717-4630-865a-c326a9ec746e",
   "metadata": {},
   "source": [
    "30. Check if a string is a valid email address.\n"
   ]
  },
  {
   "cell_type": "code",
   "execution_count": 103,
   "id": "aa5e41ba-19e1-4a47-8d4e-f5abf9fe490f",
   "metadata": {},
   "outputs": [
    {
     "name": "stdin",
     "output_type": "stream",
     "text": [
      "enter the string : ajay@gmail.com\n"
     ]
    },
    {
     "name": "stdout",
     "output_type": "stream",
     "text": [
      "valid Email\n"
     ]
    }
   ],
   "source": [
    "str = input('enter the string :')\n",
    "a = '@gmail.com'\n",
    "if str.endswith(a) and str.count(a) ==1:\n",
    "    print('valid Email')\n",
    "else:\n",
    "    print('Invalid Email')\n"
   ]
  },
  {
   "cell_type": "markdown",
   "id": "56cfa143-f081-4eef-a891-df51e130f95b",
   "metadata": {},
   "source": [
    "31. Extract the username from an email address string.\n"
   ]
  },
  {
   "cell_type": "code",
   "execution_count": 116,
   "id": "178f84c8-5909-4d86-8aa7-690f7f34d8c5",
   "metadata": {},
   "outputs": [
    {
     "name": "stdin",
     "output_type": "stream",
     "text": [
      "enter the string : abc@gmail.com\n"
     ]
    },
    {
     "data": {
      "text/plain": [
       "'abc'"
      ]
     },
     "execution_count": 116,
     "metadata": {},
     "output_type": "execute_result"
    }
   ],
   "source": [
    "str = input('enter the string :')\n",
    "str [:str.find('@')]\n",
    "    "
   ]
  },
  {
   "cell_type": "markdown",
   "id": "a9fc029b-73e5-4414-8360-059b3dc1a85d",
   "metadata": {},
   "source": [
    "32. Extract the domain name from an email address string.\n",
    "    "
   ]
  },
  {
   "cell_type": "code",
   "execution_count": 120,
   "id": "188b99c7-6a25-468b-a43c-c6265921d1c7",
   "metadata": {},
   "outputs": [
    {
     "name": "stdin",
     "output_type": "stream",
     "text": [
      "enter the string : abc@gmail.com\n"
     ]
    },
    {
     "data": {
      "text/plain": [
       "'@gmail.com'"
      ]
     },
     "execution_count": 120,
     "metadata": {},
     "output_type": "execute_result"
    }
   ],
   "source": [
    "str = input('enter the string :')\n",
    "str [str.find('@'):len(str)]"
   ]
  },
  {
   "cell_type": "markdown",
   "id": "97926eeb-5828-4ac4-9842-1ea822dfbd0a",
   "metadata": {},
   "source": [
    "33. Replace multiple spaces in a string with a single space.\n"
   ]
  },
  {
   "cell_type": "code",
   "execution_count": 134,
   "id": "38cd52b2-fe81-4dc4-90d3-cd5ef4c7584b",
   "metadata": {},
   "outputs": [
    {
     "name": "stdin",
     "output_type": "stream",
     "text": [
      "enter the string : how   are you\n"
     ]
    },
    {
     "data": {
      "text/plain": [
       "'how are you'"
      ]
     },
     "execution_count": 134,
     "metadata": {},
     "output_type": "execute_result"
    }
   ],
   "source": [
    "str = input('enter the string :')\n",
    "\n",
    "' '.join(str.split())"
   ]
  },
  {
   "cell_type": "markdown",
   "id": "304d137c-e26e-49ff-9ae0-b87e734ca4d4",
   "metadata": {},
   "source": [
    "34. Check if a string is a valid URL.\n"
   ]
  },
  {
   "cell_type": "code",
   "execution_count": 143,
   "id": "003e817d-5c48-4f29-a6a8-8241b99f6ec5",
   "metadata": {},
   "outputs": [
    {
     "name": "stdin",
     "output_type": "stream",
     "text": [
      "enter the string : http://google.com\n"
     ]
    },
    {
     "name": "stdout",
     "output_type": "stream",
     "text": [
      "valid URL\n"
     ]
    }
   ],
   "source": [
    "\n",
    "\n",
    "str = input('enter the string :')\n",
    "a = 'http://'\n",
    "b = 'https://'\n",
    "if (str.startswith(a) or str.startswith(b)) and (str.count(a) ==1 or str.count(a) ==1):\n",
    "    print('valid URL')\n",
    "else:\n",
    "    print('Invalid URL')"
   ]
  },
  {
   "cell_type": "markdown",
   "id": "f7cc3e32-1c57-4fa1-8fec-571b7f68cf14",
   "metadata": {},
   "source": [
    "35. Extract the protocol (http or https) from a URL string."
   ]
  },
  {
   "cell_type": "code",
   "execution_count": 130,
   "id": "b02fa056-a1e3-447e-a37c-9301b2f5d0b6",
   "metadata": {},
   "outputs": [
    {
     "name": "stdin",
     "output_type": "stream",
     "text": [
      "enter the string : http://google.com\n"
     ]
    },
    {
     "data": {
      "text/plain": [
       "'http'"
      ]
     },
     "execution_count": 130,
     "metadata": {},
     "output_type": "execute_result"
    }
   ],
   "source": [
    "str = input('enter the string :')\n",
    "str [:str.find(':')]"
   ]
  },
  {
   "cell_type": "code",
   "execution_count": 131,
   "id": "95090e20-8488-435e-9aa0-31145938b98e",
   "metadata": {},
   "outputs": [
    {
     "name": "stdin",
     "output_type": "stream",
     "text": [
      "enter the string :  https://google.com\n"
     ]
    },
    {
     "data": {
      "text/plain": [
       "' https'"
      ]
     },
     "execution_count": 131,
     "metadata": {},
     "output_type": "execute_result"
    }
   ],
   "source": [
    "str = input('enter the string :')\n",
    "str [:str.find(':')]\n"
   ]
  },
  {
   "cell_type": "markdown",
   "id": "5be5f2db-98c0-4cd6-82d9-fa9fc0811859",
   "metadata": {},
   "source": [
    "36. Find the frequency of each character in a string."
   ]
  },
  {
   "cell_type": "code",
   "execution_count": 147,
   "id": "f27cc494-025d-4f9c-8a60-ae5a5dec7314",
   "metadata": {},
   "outputs": [
    {
     "name": "stdin",
     "output_type": "stream",
     "text": [
      "enter the string : heeloo\n"
     ]
    },
    {
     "name": "stdout",
     "output_type": "stream",
     "text": [
      "{'h': 1, 'e': 2, 'l': 1, 'o': 2}\n"
     ]
    }
   ],
   "source": [
    "str = input('enter the string :')\n",
    "fre = {}\n",
    "count = 0\n",
    "for i in str :\n",
    "    if i not in fre:\n",
    "        fre[i]=count +1\n",
    "    else:\n",
    "        fre[i] += 1\n",
    "print(fre)    "
   ]
  },
  {
   "cell_type": "code",
   "execution_count": 148,
   "id": "a9b97def-43ea-4da1-b2c3-fdc7e9a19b21",
   "metadata": {},
   "outputs": [
    {
     "name": "stdin",
     "output_type": "stream",
     "text": [
      "enter the string : hola amigo\n"
     ]
    },
    {
     "name": "stdout",
     "output_type": "stream",
     "text": [
      "{'h': 1, 'o': 2, 'l': 1, 'a': 2, ' ': 1, 'm': 1, 'i': 1, 'g': 1}\n"
     ]
    }
   ],
   "source": [
    "str = input('enter the string :')\n",
    "fre = {}\n",
    "count = 0\n",
    "for i in str :\n",
    "    if i not in fre:\n",
    "        fre[i]=count +1\n",
    "    else:\n",
    "        fre[i] += 1\n",
    "print(fre)    "
   ]
  },
  {
   "cell_type": "markdown",
   "id": "888c6438-bcb5-4c20-89fb-d4dcc131ffb8",
   "metadata": {},
   "source": [
    "37. Remove all punctuation from a string.\n"
   ]
  },
  {
   "cell_type": "code",
   "execution_count": 153,
   "id": "4b4133fa-589b-4100-971a-e998bdd919c9",
   "metadata": {},
   "outputs": [
    {
     "name": "stdin",
     "output_type": "stream",
     "text": [
      "entre the string ajay<>$%\n"
     ]
    },
    {
     "name": "stdout",
     "output_type": "stream",
     "text": [
      "ajay\n"
     ]
    }
   ],
   "source": [
    "str = input('entre the string')\n",
    "p = \"!@#$%^&*()))))_+{}[]:;<>\"\n",
    "str1 = \"\"\n",
    "for i in str:\n",
    "    if i not in p:\n",
    "        str1 += i\n",
    "print(str1)"
   ]
  },
  {
   "cell_type": "markdown",
   "id": "aa0cebe1-e98d-49f5-ba53-763cdda556b6",
   "metadata": {},
   "source": [
    "38. Check if a string contains only digits."
   ]
  },
  {
   "cell_type": "code",
   "execution_count": 154,
   "id": "a53da35c-2ac9-4f4e-974a-afb85e7ffb89",
   "metadata": {},
   "outputs": [
    {
     "name": "stdin",
     "output_type": "stream",
     "text": [
      "entre the string 56213\n"
     ]
    },
    {
     "data": {
      "text/plain": [
       "True"
      ]
     },
     "execution_count": 154,
     "metadata": {},
     "output_type": "execute_result"
    }
   ],
   "source": [
    "str = input('entre the string')\n",
    "str.isdigit()"
   ]
  },
  {
   "cell_type": "code",
   "execution_count": 155,
   "id": "ab895537-1bd3-4e34-b199-0c7f8296ff16",
   "metadata": {},
   "outputs": [
    {
     "name": "stdin",
     "output_type": "stream",
     "text": [
      "entre the string djfhal21\n"
     ]
    },
    {
     "data": {
      "text/plain": [
       "False"
      ]
     },
     "execution_count": 155,
     "metadata": {},
     "output_type": "execute_result"
    }
   ],
   "source": [
    "str = input('entre the string')\n",
    "str.isdigit()"
   ]
  },
  {
   "cell_type": "markdown",
   "id": "35d46740-6c92-43ca-a93e-9c499426361e",
   "metadata": {},
   "source": [
    "39. Check if a string contains only alphabets."
   ]
  },
  {
   "cell_type": "code",
   "execution_count": 157,
   "id": "2294e9e4-7b7c-4435-bc4a-2079a4ee8edd",
   "metadata": {},
   "outputs": [
    {
     "name": "stdin",
     "output_type": "stream",
     "text": [
      "entre the string ajay is working\n"
     ]
    },
    {
     "data": {
      "text/plain": [
       "False"
      ]
     },
     "execution_count": 157,
     "metadata": {},
     "output_type": "execute_result"
    }
   ],
   "source": [
    "str = input('entre the string')\n",
    "str.isalpha()"
   ]
  },
  {
   "cell_type": "code",
   "execution_count": 158,
   "id": "51872c9f-7381-4af8-8d79-875d2b6a7249",
   "metadata": {},
   "outputs": [
    {
     "name": "stdin",
     "output_type": "stream",
     "text": [
      "entre the string ajay\n"
     ]
    },
    {
     "data": {
      "text/plain": [
       "True"
      ]
     },
     "execution_count": 158,
     "metadata": {},
     "output_type": "execute_result"
    }
   ],
   "source": [
    "str = input('entre the string')\n",
    "str.isalpha()"
   ]
  },
  {
   "cell_type": "markdown",
   "id": "f1f5104d-1f0e-466b-a9fa-7bb071b9a31c",
   "metadata": {},
   "source": [
    "40. Convert a string to a list of characters.\n"
   ]
  },
  {
   "cell_type": "code",
   "execution_count": 159,
   "id": "7cc07353-0b69-4b47-ab0e-b52e87672ef9",
   "metadata": {},
   "outputs": [
    {
     "name": "stdin",
     "output_type": "stream",
     "text": [
      "entre the string: good day to all\n"
     ]
    },
    {
     "name": "stdout",
     "output_type": "stream",
     "text": [
      "['g', 'o', 'o', 'd', ' ', 'd', 'a', 'y', ' ', 't', 'o', ' ', 'a', 'l', 'l']\n"
     ]
    }
   ],
   "source": [
    "str = input('entre the string:')\n",
    "l =[]\n",
    "for i in str:\n",
    "    l.append(i)\n",
    "print(l)"
   ]
  },
  {
   "cell_type": "markdown",
   "id": "562b695b-5a90-46ed-a2d0-1de688c5f81f",
   "metadata": {},
   "source": [
    "41. Check if two strings are anagrams.\n"
   ]
  },
  {
   "cell_type": "code",
   "execution_count": 165,
   "id": "3b1d44bf-8c62-466d-82ab-b46d82fedaa2",
   "metadata": {},
   "outputs": [
    {
     "name": "stdin",
     "output_type": "stream",
     "text": [
      "enter a first word tap\n",
      "enter another word pat\n"
     ]
    },
    {
     "name": "stdout",
     "output_type": "stream",
     "text": [
      "tap and pat are anagrams\n"
     ]
    }
   ],
   "source": [
    "str1=input(\"enter a first word\")\n",
    "str2=input(\"enter another word\")\n",
    "l1=[]\n",
    "l2=[]\n",
    "for i in str1:\n",
    "  l1.append(i)\n",
    "for j in str2:\n",
    "  l2.append(j)\n",
    "if l1.sort() == l2.sort() and len(l1)==len(l2): \n",
    "  print(f\"{str1} and {str2} are anagrams\")\n",
    "else:\n",
    "  print(f\"{str1} and {str2} are not anagrams\")"
   ]
  },
  {
   "cell_type": "markdown",
   "id": "80880205-b631-4cd9-948a-9bd4c21e5765",
   "metadata": {},
   "source": [
    "42. Encode a string using a Caesar cipher.\n"
   ]
  },
  {
   "cell_type": "code",
   "execution_count": 4,
   "id": "957bd949-c9cc-46f2-9730-fa8312344b3c",
   "metadata": {},
   "outputs": [
    {
     "name": "stdin",
     "output_type": "stream",
     "text": [
      "enter a  word hello\n"
     ]
    },
    {
     "name": "stdout",
     "output_type": "stream",
     "text": [
      "khoor\n"
     ]
    }
   ],
   "source": [
    "str = input(\"enter a  word\")\n",
    "str1 = ''\n",
    "for i in str:\n",
    "    a = ord(i)+3 #shift right the value of characters by 3\n",
    "    str1 += chr(a) #concate character in empty string\n",
    "print(str1)"
   ]
  },
  {
   "cell_type": "markdown",
   "id": "9b9aeb99-6acf-40ad-81e5-bb42f8c096d5",
   "metadata": {},
   "source": [
    "43.Decode a Caesar cipher encoded string."
   ]
  },
  {
   "cell_type": "code",
   "execution_count": 5,
   "id": "ad3039ea-ba55-4ef2-a7d3-d80f8de13629",
   "metadata": {},
   "outputs": [
    {
     "name": "stdin",
     "output_type": "stream",
     "text": [
      "enter a  word khoor\n"
     ]
    },
    {
     "name": "stdout",
     "output_type": "stream",
     "text": [
      "hello\n"
     ]
    }
   ],
   "source": [
    "str = input(\"enter a  word\")\n",
    "str1 = ''\n",
    "for i in str:\n",
    "    a = ord(i)-3 #shift left the value of characters by 3 \n",
    "    str1 += chr(a) #concate character in empty string\n",
    "print(str1)"
   ]
  },
  {
   "cell_type": "markdown",
   "id": "7478f329-abba-4785-b45f-8ca353ec49b2",
   "metadata": {},
   "source": [
    "44. Find the most frequent word in a string.\n"
   ]
  },
  {
   "cell_type": "code",
   "execution_count": 15,
   "id": "277569e8-5371-454f-8f6e-da8d8f75cff3",
   "metadata": {},
   "outputs": [
    {
     "name": "stdin",
     "output_type": "stream",
     "text": [
      "Enter the string  hi hi sir ji\n"
     ]
    },
    {
     "name": "stdout",
     "output_type": "stream",
     "text": [
      "the most frequent word is hi\n"
     ]
    }
   ],
   "source": [
    "str=input(\"Enter the string \")\n",
    "l1=str.split()\n",
    "x={}\n",
    "count=0\n",
    "for i in l1:\n",
    "  if i in x:\n",
    "    x[i]+=1\n",
    "  else:\n",
    "    x[i]=1\n",
    "\n",
    "for j in x:     \n",
    "  if x[j]>count:\n",
    "    count=x[j]\n",
    "    print(f\"the most frequent word is {j}\")"
   ]
  },
  {
   "cell_type": "markdown",
   "id": "f478c3ef-5a00-4fdf-af79-f75d6b446d3c",
   "metadata": {},
   "source": [
    "45. Find all unique words in a string.\n"
   ]
  },
  {
   "cell_type": "code",
   "execution_count": 19,
   "id": "bd9e938a-49b3-4687-95c7-1ed1cdbafcd0",
   "metadata": {},
   "outputs": [
    {
     "name": "stdin",
     "output_type": "stream",
     "text": [
      "Enter the string  ajay\n"
     ]
    },
    {
     "name": "stdout",
     "output_type": "stream",
     "text": [
      "ayj\n"
     ]
    }
   ],
   "source": [
    "str=input(\"Enter the string \")\n",
    "l1 = []\n",
    "for i in str :\n",
    "    l1.append(i)\n",
    "x = list(set(l1))\n",
    "print(''.join(x))\n"
   ]
  },
  {
   "cell_type": "raw",
   "id": "44fcfeb3-06c1-4a7c-8739-dcd81baec8f7",
   "metadata": {},
   "source": [
    "46. Count the number of syllables in a string.\n"
   ]
  },
  {
   "cell_type": "code",
   "execution_count": null,
   "id": "779db72f-4062-474b-8d71-37226e0135d2",
   "metadata": {},
   "outputs": [],
   "source": [
    " #question to ask "
   ]
  },
  {
   "cell_type": "markdown",
   "id": "9b218e2f-4047-4eb1-862b-519c7a825d1a",
   "metadata": {},
   "source": [
    "47. Check if a string contains any special characters.\n"
   ]
  },
  {
   "cell_type": "code",
   "execution_count": 24,
   "id": "fc48c506-65c2-46a4-b1a6-90fdd509bef4",
   "metadata": {},
   "outputs": [
    {
     "name": "stdin",
     "output_type": "stream",
     "text": [
      "Enter a string:  aj@\n"
     ]
    },
    {
     "name": "stdout",
     "output_type": "stream",
     "text": [
      "@\n"
     ]
    }
   ],
   "source": [
    "str = input(\"Enter a string: \")\n",
    "sp_char=\"!@#$%^&*()_+\"\n",
    "s =''\n",
    "for i in str:\n",
    "    if i in sp_char:\n",
    "        s += i\n",
    "print(s)"
   ]
  },
  {
   "cell_type": "code",
   "execution_count": 26,
   "id": "11ef8204-8bdc-460f-90b4-dcc71ba5ead4",
   "metadata": {},
   "outputs": [
    {
     "name": "stdin",
     "output_type": "stream",
     "text": [
      "Enter a string:  ajay have $$ cash\n"
     ]
    },
    {
     "name": "stdout",
     "output_type": "stream",
     "text": [
      "$$ "
     ]
    }
   ],
   "source": [
    "str = input(\"Enter a string: \")\n",
    "sp_char=\"!@#$%^&*()_+\"\n",
    "s =''\n",
    "for i in str:\n",
    "    if i in sp_char:\n",
    "        s += i\n",
    "print(s, end = ' ')"
   ]
  },
  {
   "cell_type": "markdown",
   "id": "8f7046e3-d966-49d4-a8cb-6bc5a7bff952",
   "metadata": {},
   "source": [
    "48. Remove the nth word from a string.\n"
   ]
  },
  {
   "cell_type": "code",
   "execution_count": 12,
   "id": "9a9ab3b4-2004-46d0-91e3-cea705925a11",
   "metadata": {},
   "outputs": [
    {
     "name": "stdin",
     "output_type": "stream",
     "text": [
      "Enter a string:  hi sir\n",
      "enter the index:  0\n"
     ]
    },
    {
     "name": "stdout",
     "output_type": "stream",
     "text": [
      "sir\n"
     ]
    }
   ],
   "source": [
    "str = input(\"Enter a string: \")\n",
    "n = int(input(\"enter the index: \"))\n",
    "l = str.split()\n",
    "l.pop(n)\n",
    "print(' '.join(l))"
   ]
  },
  {
   "cell_type": "markdown",
   "id": "ce5fbca6-ea82-4c5f-a683-4d89df0da864",
   "metadata": {},
   "source": [
    "49.Insert a word at the nth position in a string."
   ]
  },
  {
   "cell_type": "code",
   "execution_count": 43,
   "id": "fd20fe58-9367-4a9c-867a-5b41a7d22c0d",
   "metadata": {},
   "outputs": [
    {
     "name": "stdin",
     "output_type": "stream",
     "text": [
      "Enter a string:  i am \n",
      "Enter index:  2\n",
      "enter the word:  ajay\n"
     ]
    },
    {
     "name": "stdout",
     "output_type": "stream",
     "text": [
      "i am ajay\n"
     ]
    }
   ],
   "source": [
    "str = input(\"Enter a string: \")\n",
    "n = int(input(\"Enter index: \"))\n",
    "word = input('enter the word: ')\n",
    "l = str.split()\n",
    "l.insert(n,word)\n",
    "print(' '.join(l))"
   ]
  },
  {
   "cell_type": "markdown",
   "id": "fcf95f83-ca25-48f9-a21c-409ae7bf740b",
   "metadata": {},
   "source": [
    "50. Convert a CSV string to a list of lists.\n"
   ]
  },
  {
   "cell_type": "code",
   "execution_count": 49,
   "id": "d0b84196-86ec-44d0-bf79-3a4ee300640f",
   "metadata": {},
   "outputs": [
    {
     "name": "stdout",
     "output_type": "stream",
     "text": [
      "[',text\\n', '0,\"The Quiet Pond\\n', 'The pond, a mirror, calm and deep,\\n', 'Reflects the sky where secrets sleep.\\n', 'A gentle breeze begins to sway,\\n', 'The leaves on branches dance and play.\\n', 'The sun descends, a golden hue,\\n', 'Painting the pond, a vibrant blue.\\n', 'The stars emerge, a silent light,\\n', 'In this serene and peaceful night.\"\\n']\n"
     ]
    }
   ],
   "source": [
    "a = open('text.csv','r')\n",
    "print(list(a))\n",
    "a.close()\n"
   ]
  },
  {
   "cell_type": "code",
   "execution_count": 1,
   "id": "f70ad902-7c81-46d3-a045-f8dd5afd3634",
   "metadata": {},
   "outputs": [
    {
     "name": "stdout",
     "output_type": "stream",
     "text": [
      "[[',text'], ['0,\"The'], ['Quiet'], ['Pond'], ['The'], ['pond,'], ['a'], ['mirror,'], ['calm'], ['and'], ['deep,'], ['Reflects'], ['the'], ['sky'], ['where'], ['secrets'], ['sleep.'], ['A'], ['gentle'], ['breeze'], ['begins'], ['to'], ['sway,'], ['The'], ['leaves'], ['on'], ['branches'], ['dance'], ['and'], ['play.'], ['The'], ['sun'], ['descends,'], ['a'], ['golden'], ['hue,'], ['Painting'], ['the'], ['pond,'], ['a'], ['vibrant'], ['blue.'], ['The'], ['stars'], ['emerge,'], ['a'], ['silent'], ['light,'], ['In'], ['this'], ['serene'], ['and'], ['peaceful'], ['night.\"']]\n"
     ]
    }
   ],
   "source": [
    "import pandas as pd \n",
    "\n",
    "text = ['''The Quiet Pond\n",
    "The pond, a mirror, calm and deep,\n",
    "Reflects the sky where secrets sleep.\n",
    "A gentle breeze begins to sway,\n",
    "The leaves on branches dance and play.\n",
    "The sun descends, a golden hue,\n",
    "Painting the pond, a vibrant blue.\n",
    "The stars emerge, a silent light,\n",
    "In this serene and peaceful night.''']\n",
    "\n",
    "df = pd.DataFrame({\"text\":text})\n",
    "df.to_csv(\"text.csv\")\n",
    "\n",
    "x=[]\n",
    "a=open(\"text.csv\")\n",
    "f= a.read()\n",
    "b=str(f).split()\n",
    "for i in b:\n",
    "  x.append([i])\n",
    "print(x)\n",
    "a.close()"
   ]
  },
  {
   "cell_type": "code",
   "execution_count": null,
   "id": "bf30cc9c-bfe4-4b24-916d-a231a9be8aac",
   "metadata": {},
   "outputs": [],
   "source": [
    "##..LIST..##"
   ]
  },
  {
   "cell_type": "code",
   "execution_count": 1,
   "id": "b759c4ef-6dc2-442e-9e38-cb56977d5b9e",
   "metadata": {},
   "outputs": [],
   "source": []
  },
  {
   "cell_type": "markdown",
   "id": "f5462f22-4b71-4718-bba8-dea3d8672957",
   "metadata": {},
   "source": [
    "1. Create a list with integers from 1 to 10.\n"
   ]
  },
  {
   "cell_type": "code",
   "execution_count": 2,
   "id": "1d430c0b-49e9-4365-b38d-6c365feaf714",
   "metadata": {},
   "outputs": [
    {
     "data": {
      "text/plain": [
       "[1, 2, 3, 4, 5, 6, 7, 8, 9, 10]"
      ]
     },
     "execution_count": 2,
     "metadata": {},
     "output_type": "execute_result"
    }
   ],
   "source": [
    "l = []\n",
    "for i in range (1,11):\n",
    "    l.append(i)\n",
    "l"
   ]
  },
  {
   "cell_type": "markdown",
   "id": "42aac6aa-f18c-45e8-b174-069f5ac3d3dc",
   "metadata": {},
   "source": [
    "2. Find the length of a list without using the `len()` function.\n"
   ]
  },
  {
   "cell_type": "code",
   "execution_count": 4,
   "id": "78e55b9c-f616-465c-b26e-f2e245053be6",
   "metadata": {},
   "outputs": [
    {
     "data": {
      "text/plain": [
       "5"
      ]
     },
     "execution_count": 4,
     "metadata": {},
     "output_type": "execute_result"
    }
   ],
   "source": [
    "l = [1,2,3,4,5]\n",
    "length = 0\n",
    "for i in l:\n",
    "    length += 1\n",
    "length\n"
   ]
  },
  {
   "cell_type": "markdown",
   "id": "bf2231ab-8543-406e-a13e-ef6ff62f98dd",
   "metadata": {},
   "source": [
    "3. Append an element to the end of a list.\n"
   ]
  },
  {
   "cell_type": "code",
   "execution_count": 6,
   "id": "542ce155-5286-4754-af8a-8748ac1e9021",
   "metadata": {},
   "outputs": [
    {
     "data": {
      "text/plain": [
       "[1, 2, 3, 4, 5, 6]"
      ]
     },
     "execution_count": 6,
     "metadata": {},
     "output_type": "execute_result"
    }
   ],
   "source": [
    "l = [1,2,3,4,5]\n",
    "l.append(6)\n",
    "l"
   ]
  },
  {
   "cell_type": "markdown",
   "id": "0e9f9668-d659-4469-adb8-dabe3674ebfb",
   "metadata": {},
   "source": [
    "4. Insert an element at a specific index in a list.\n"
   ]
  },
  {
   "cell_type": "code",
   "execution_count": 7,
   "id": "dfdf149a-9020-45d9-bdb7-2ef292cf4846",
   "metadata": {},
   "outputs": [
    {
     "data": {
      "text/plain": [
       "[1, 2, 8, 3, 4, 5]"
      ]
     },
     "execution_count": 7,
     "metadata": {},
     "output_type": "execute_result"
    }
   ],
   "source": [
    "l = [1,2,3,4,5]\n",
    "l.insert(2,8) #index 2 insert 8\n",
    "l"
   ]
  },
  {
   "cell_type": "markdown",
   "id": "cc83453f-f70f-4fd1-857a-659d83ef23a0",
   "metadata": {},
   "source": [
    "5. Remove an element from a list by its value.\n"
   ]
  },
  {
   "cell_type": "code",
   "execution_count": 9,
   "id": "d5dd43dc-02f9-4315-a865-26b7d5afeaaa",
   "metadata": {},
   "outputs": [
    {
     "data": {
      "text/plain": [
       "[1, 2, 3, 4]"
      ]
     },
     "execution_count": 9,
     "metadata": {},
     "output_type": "execute_result"
    }
   ],
   "source": [
    "l = [1,2,3,4,5]\n",
    "l.remove(5)\n",
    "l"
   ]
  },
  {
   "cell_type": "markdown",
   "id": "658c4221-2da7-41fc-9ac4-db0c50514297",
   "metadata": {},
   "source": [
    "6. Remove an element from a list by its index.\n"
   ]
  },
  {
   "cell_type": "code",
   "execution_count": 11,
   "id": "0e835b80-19df-4c3f-83e8-051fcb7bc2d2",
   "metadata": {},
   "outputs": [
    {
     "data": {
      "text/plain": [
       "[1, 2, 3, 5]"
      ]
     },
     "execution_count": 11,
     "metadata": {},
     "output_type": "execute_result"
    }
   ],
   "source": [
    "l = [1,2,3,4,5]\n",
    "index = l.index(4)\n",
    "l.remove(index+1) # add for due to 0 indexing\n",
    "l\n"
   ]
  },
  {
   "cell_type": "markdown",
   "id": "e4f016e0-32a8-42ef-a22b-e649fa3a4d19",
   "metadata": {},
   "source": [
    "7. Check if an element exists in a list.\n"
   ]
  },
  {
   "cell_type": "code",
   "execution_count": 12,
   "id": "e6a24a0e-863a-4c10-ad41-1c6e7ff93c46",
   "metadata": {},
   "outputs": [
    {
     "data": {
      "text/plain": [
       "True"
      ]
     },
     "execution_count": 12,
     "metadata": {},
     "output_type": "execute_result"
    }
   ],
   "source": [
    "l = [1,2,3,4,5]\n",
    "4 in l"
   ]
  },
  {
   "cell_type": "code",
   "execution_count": 13,
   "id": "8b893857-c119-40a7-ab56-deb9e278ee3b",
   "metadata": {},
   "outputs": [
    {
     "data": {
      "text/plain": [
       "False"
      ]
     },
     "execution_count": 13,
     "metadata": {},
     "output_type": "execute_result"
    }
   ],
   "source": [
    "l = [1,2,3,4,5]\n",
    "6 in l"
   ]
  },
  {
   "cell_type": "markdown",
   "id": "de86e118-a3da-4c57-8a3d-c6cb4b98a7b8",
   "metadata": {},
   "source": [
    "8. Find the index of the first occurrence of an element in a list.\n"
   ]
  },
  {
   "cell_type": "code",
   "execution_count": 15,
   "id": "afb2a8a1-e104-4446-97fb-880fbb4f6fa9",
   "metadata": {},
   "outputs": [
    {
     "name": "stdout",
     "output_type": "stream",
     "text": [
      "1\n"
     ]
    }
   ],
   "source": [
    "l = [1,3,2,3,4,3,5]\n",
    "print(l.index(3))\n"
   ]
  },
  {
   "cell_type": "markdown",
   "id": "f6227c2d-a96d-4582-b825-9e6d33c41e4d",
   "metadata": {},
   "source": [
    "9. Count the occurrences of an element in a list.\n"
   ]
  },
  {
   "cell_type": "code",
   "execution_count": 18,
   "id": "0020e858-fcdc-4af1-b14b-03c15df485a5",
   "metadata": {},
   "outputs": [
    {
     "data": {
      "text/plain": [
       "4"
      ]
     },
     "execution_count": 18,
     "metadata": {},
     "output_type": "execute_result"
    }
   ],
   "source": [
    "l = [1,3,2,3,3,4,3,5]\n",
    "l.count(3)\n"
   ]
  },
  {
   "cell_type": "markdown",
   "id": "23581ee3-1eb4-4305-989c-5dd7a5793689",
   "metadata": {},
   "source": [
    "10. Reverse the order of elements in a list.\n"
   ]
  },
  {
   "cell_type": "code",
   "execution_count": 20,
   "id": "39ee6844-3a38-4eb8-9f7d-b1fb84d93dab",
   "metadata": {},
   "outputs": [
    {
     "data": {
      "text/plain": [
       "[5, 4, 3, 2, 1]"
      ]
     },
     "execution_count": 20,
     "metadata": {},
     "output_type": "execute_result"
    }
   ],
   "source": [
    "l = [1,2,3,4,5]\n",
    "l[::-1]"
   ]
  },
  {
   "cell_type": "markdown",
   "id": "a5806514-d292-497b-abf2-8da150c9e1b8",
   "metadata": {},
   "source": [
    "11. Sort a list in ascending order.\n"
   ]
  },
  {
   "cell_type": "code",
   "execution_count": 22,
   "id": "1a993840-8125-4da8-838c-d2ab6a5a2df0",
   "metadata": {},
   "outputs": [
    {
     "data": {
      "text/plain": [
       "[1, 3, 4, 5, 5, 6, 8]"
      ]
     },
     "execution_count": 22,
     "metadata": {},
     "output_type": "execute_result"
    }
   ],
   "source": [
    "l = [1,5,4,6,8,5,3]\n",
    "l.sort()\n",
    "l"
   ]
  },
  {
   "cell_type": "markdown",
   "id": "79c5633d-5278-4bdd-bdd9-147ffec9c004",
   "metadata": {},
   "source": [
    "12. Sort a list in descending order.\n"
   ]
  },
  {
   "cell_type": "code",
   "execution_count": 24,
   "id": "c2dc5ce1-0523-4cd8-aa2b-9716b8539047",
   "metadata": {},
   "outputs": [
    {
     "data": {
      "text/plain": [
       "[8, 6, 5, 5, 4, 3, 1]"
      ]
     },
     "execution_count": 24,
     "metadata": {},
     "output_type": "execute_result"
    }
   ],
   "source": [
    "l = [1,5,4,6,8,5,3]\n",
    "l.sort() #sort in ascending\n",
    "l[::-1] # reverse the sorted list"
   ]
  },
  {
   "cell_type": "markdown",
   "id": "53f13b33-36fc-4267-8484-2b11cc106542",
   "metadata": {},
   "source": [
    "13. Create a list of even numbers from 1 to 20.\n"
   ]
  },
  {
   "cell_type": "code",
   "execution_count": 28,
   "id": "bff0c6b3-37c5-4f6f-8268-17a03561685b",
   "metadata": {},
   "outputs": [
    {
     "data": {
      "text/plain": [
       "[0, 2, 4, 6, 8, 10, 12, 14, 16, 18, 20]"
      ]
     },
     "execution_count": 28,
     "metadata": {},
     "output_type": "execute_result"
    }
   ],
   "source": [
    "l = [ ]\n",
    "for i in range(0,21,2):\n",
    "    l.append(i)\n",
    "l"
   ]
  },
  {
   "cell_type": "markdown",
   "id": "bb44318e-cd2f-44b4-9d9d-04c20264e3a0",
   "metadata": {},
   "source": [
    "14. Create a list of odd numbers from 1 to 20."
   ]
  },
  {
   "cell_type": "code",
   "execution_count": 29,
   "id": "a5205653-3867-4d92-9abe-0e559a693ddb",
   "metadata": {},
   "outputs": [
    {
     "data": {
      "text/plain": [
       "[1, 3, 5, 7, 9, 11, 13, 15, 17, 19]"
      ]
     },
     "execution_count": 29,
     "metadata": {},
     "output_type": "execute_result"
    }
   ],
   "source": [
    "l = [ ]\n",
    "for i in range(1,21,2):\n",
    "    l.append(i)\n",
    "l"
   ]
  },
  {
   "cell_type": "markdown",
   "id": "46929d49-cd30-4acd-ac5d-b7b6baeeafab",
   "metadata": {},
   "source": [
    "15. Find the sum of all elements in a list.\n"
   ]
  },
  {
   "cell_type": "code",
   "execution_count": 31,
   "id": "1935b93e-2c42-487e-a6b0-f60d53f0871d",
   "metadata": {},
   "outputs": [
    {
     "data": {
      "text/plain": [
       "32"
      ]
     },
     "execution_count": 31,
     "metadata": {},
     "output_type": "execute_result"
    }
   ],
   "source": [
    "l = [1,5,4,6,8,5,3]\n",
    "sum(l) # sum all the elements -> 1+5+4+6+8+5+3\n"
   ]
  },
  {
   "cell_type": "markdown",
   "id": "aab3bd5e-3ce8-4e08-89ea-476670ced86f",
   "metadata": {},
   "source": [
    "16. Find the maximum value in a list.\n"
   ]
  },
  {
   "cell_type": "code",
   "execution_count": 32,
   "id": "f156c9bc-f0bc-4f9d-a12e-faa9aafd8501",
   "metadata": {},
   "outputs": [
    {
     "data": {
      "text/plain": [
       "8"
      ]
     },
     "execution_count": 32,
     "metadata": {},
     "output_type": "execute_result"
    }
   ],
   "source": [
    "l = [1,5,4,6,8,5,3]\n",
    "max(l)"
   ]
  },
  {
   "cell_type": "markdown",
   "id": "aac8bca0-2626-4237-9fb8-b047120b1407",
   "metadata": {},
   "source": [
    "17. Find the minimum value in a list."
   ]
  },
  {
   "cell_type": "code",
   "execution_count": 33,
   "id": "ed9346d3-1eff-4670-be53-bd5c1f45cb85",
   "metadata": {},
   "outputs": [
    {
     "data": {
      "text/plain": [
       "1"
      ]
     },
     "execution_count": 33,
     "metadata": {},
     "output_type": "execute_result"
    }
   ],
   "source": [
    "l = [1,5,4,6,8,5,3]\n",
    "min(l)"
   ]
  },
  {
   "cell_type": "markdown",
   "id": "0be7df1b-d03b-4d37-8edd-f5742af7977e",
   "metadata": {},
   "source": [
    "18. Create a list of squares of numbers from 1 to 10.\n"
   ]
  },
  {
   "cell_type": "code",
   "execution_count": 34,
   "id": "21dc246c-ed1c-4d21-bd55-b9b20bb12622",
   "metadata": {},
   "outputs": [
    {
     "data": {
      "text/plain": [
       "[0, 1, 4, 9, 16, 25, 36, 49, 64, 81, 100]"
      ]
     },
     "execution_count": 34,
     "metadata": {},
     "output_type": "execute_result"
    }
   ],
   "source": [
    "l = []\n",
    "for i in range(0,11):\n",
    "    l.append(i**2)\n",
    "l"
   ]
  },
  {
   "cell_type": "markdown",
   "id": "fa0f33d3-67b2-4f3a-a9b9-1f06e3caa635",
   "metadata": {},
   "source": [
    "19. Create a list of random numbers.\n"
   ]
  },
  {
   "cell_type": "code",
   "execution_count": 7,
   "id": "11631e6e-f493-4d94-9a9e-5d6e3a2a2c51",
   "metadata": {},
   "outputs": [
    {
     "name": "stdout",
     "output_type": "stream",
     "text": [
      "[8, 2, 4, 7, 5]\n"
     ]
    }
   ],
   "source": [
    "## yet to be solve\n",
    "import random\n",
    "li = random.sample(range(1, 10), 5)\n",
    "print(li) "
   ]
  },
  {
   "cell_type": "markdown",
   "id": "eefb1685-e7e9-476a-afa9-07688f727552",
   "metadata": {},
   "source": [
    "20. Remove duplicates from a list."
   ]
  },
  {
   "cell_type": "code",
   "execution_count": 41,
   "id": "ffd72f61-5252-4376-a1bf-62bc70a18bfe",
   "metadata": {},
   "outputs": [
    {
     "data": {
      "text/plain": [
       "[1, 3, 4, 5, 6, 8]"
      ]
     },
     "execution_count": 41,
     "metadata": {},
     "output_type": "execute_result"
    }
   ],
   "source": [
    "l = [1,5,4,6,8,3,5,3]\n",
    "l = list(set(l))\n",
    "l"
   ]
  },
  {
   "cell_type": "markdown",
   "id": "27728240-a3d4-4361-b55e-d06019781db7",
   "metadata": {},
   "source": [
    "21. Find the common elements between two lists.\n"
   ]
  },
  {
   "cell_type": "code",
   "execution_count": 1,
   "id": "8f1cbbef-426b-4ce6-9f30-202b7ecca388",
   "metadata": {},
   "outputs": [
    {
     "data": {
      "text/plain": [
       "[3, 4]"
      ]
     },
     "execution_count": 1,
     "metadata": {},
     "output_type": "execute_result"
    }
   ],
   "source": [
    "l1 = [1,2,3,4]\n",
    "l2 = [3,4,5]\n",
    "common=[]\n",
    "for i in l1:\n",
    "    for j in l2:\n",
    "        if i == j :\n",
    "            common.append(j)\n",
    "common"
   ]
  },
  {
   "cell_type": "markdown",
   "id": "85816de1-7435-47c9-996e-e0cfad480b8f",
   "metadata": {},
   "source": [
    "22. Find the difference between two lists.\n"
   ]
  },
  {
   "cell_type": "code",
   "execution_count": 10,
   "id": "47e4dcd2-27d2-4d0e-ac09-0b2f05a6459f",
   "metadata": {},
   "outputs": [
    {
     "data": {
      "text/plain": [
       "[1, 2]"
      ]
     },
     "execution_count": 10,
     "metadata": {},
     "output_type": "execute_result"
    }
   ],
   "source": [
    "l1 = [1,2,3,4]\n",
    "l2 = [3,4,5,8]\n",
    "diff = list(set(l1)-set(l2))\n",
    "diff"
   ]
  },
  {
   "cell_type": "markdown",
   "id": "4e0cd5a3-7459-4223-95c5-a919de94cdbc",
   "metadata": {},
   "source": [
    "23. Merge two lists.\n"
   ]
  },
  {
   "cell_type": "code",
   "execution_count": 11,
   "id": "d36c184e-f766-40cf-aae0-d2c3dfe1b688",
   "metadata": {},
   "outputs": [
    {
     "data": {
      "text/plain": [
       "[1, 2, 3, 4, 3, 4, 5, 8]"
      ]
     },
     "execution_count": 11,
     "metadata": {},
     "output_type": "execute_result"
    }
   ],
   "source": [
    "l1 = [1,2,3,4]\n",
    "l2 = [3,4,5,8]\n",
    "l1.extend(l2)\n",
    "l1"
   ]
  },
  {
   "cell_type": "code",
   "execution_count": null,
   "id": "0bfb84b9-8e46-4888-a620-f7db1dedc4d3",
   "metadata": {},
   "outputs": [],
   "source": []
  },
  {
   "cell_type": "code",
   "execution_count": null,
   "id": "57e2d773-758a-4a42-aa0c-0c129c6ce853",
   "metadata": {},
   "outputs": [],
   "source": [
    "## TO BE CONRINUED"
   ]
  },
  {
   "cell_type": "code",
   "execution_count": null,
   "id": "368c1a51-b602-401b-9c78-144c46b44acf",
   "metadata": {},
   "outputs": [],
   "source": [
    "#24. Multiply all elements in a list by 2.\n"
   ]
  },
  {
   "cell_type": "code",
   "execution_count": 3,
   "id": "a4b45f17-63a3-4184-8966-85ee613f3d17",
   "metadata": {},
   "outputs": [
    {
     "data": {
      "text/plain": [
       "[6, 8, 10, 16]"
      ]
     },
     "execution_count": 3,
     "metadata": {},
     "output_type": "execute_result"
    }
   ],
   "source": [
    "l2 = [3,4,5,8]\n",
    "l=[]\n",
    "for i in l2:\n",
    "    l.append(i*2)\n",
    "\n",
    "l"
   ]
  },
  {
   "cell_type": "code",
   "execution_count": null,
   "id": "d78dd881-3262-497f-933e-d815f47e8182",
   "metadata": {},
   "outputs": [],
   "source": [
    "#25. Filter out all even numbers from a list.\n"
   ]
  },
  {
   "cell_type": "code",
   "execution_count": 34,
   "id": "95bf70ff-02f8-449a-a53e-a2dc9be07662",
   "metadata": {},
   "outputs": [
    {
     "data": {
      "text/plain": [
       "[4, 8]"
      ]
     },
     "execution_count": 34,
     "metadata": {},
     "output_type": "execute_result"
    }
   ],
   "source": [
    "l2 = [3,4,5,8]\n",
    "l =[]\n",
    "for i in l2:\n",
    "    if i%2 == 0:\n",
    "        l.append(i)\n",
    "        \n",
    "l"
   ]
  },
  {
   "cell_type": "code",
   "execution_count": null,
   "id": "f169c612-93b5-4e1b-8a80-8ae4143a54a8",
   "metadata": {},
   "outputs": [],
   "source": [
    "#26. Convert a list of strings to a list of integers.\n"
   ]
  },
  {
   "cell_type": "code",
   "execution_count": 11,
   "id": "cacf72ac-2d1f-48a4-8a2c-422524431dc4",
   "metadata": {},
   "outputs": [
    {
     "data": {
      "text/plain": [
       "[3, 4, 5, 8]"
      ]
     },
     "execution_count": 11,
     "metadata": {},
     "output_type": "execute_result"
    }
   ],
   "source": [
    "l2 = ['3','4','5','8']\n",
    "l =[]\n",
    "for i in l2:\n",
    "    l.append(int(i))\n",
    "l"
   ]
  },
  {
   "cell_type": "code",
   "execution_count": null,
   "id": "0a7e7911-fe77-4456-9b3f-37db62196068",
   "metadata": {},
   "outputs": [],
   "source": [
    "#27. Convert a list of integers to a list of strings.\n"
   ]
  },
  {
   "cell_type": "code",
   "execution_count": 12,
   "id": "6917ff64-1fff-4fc8-9f78-f469d0ac03a6",
   "metadata": {},
   "outputs": [
    {
     "data": {
      "text/plain": [
       "['3', '4', '5', '8']"
      ]
     },
     "execution_count": 12,
     "metadata": {},
     "output_type": "execute_result"
    }
   ],
   "source": [
    "l = [3, 4, 5, 8] \n",
    "l1 = []\n",
    "for i in l:\n",
    "    l1.append(str(i))\n",
    "l1"
   ]
  },
  {
   "cell_type": "code",
   "execution_count": null,
   "id": "3ad87f85-1806-4717-b2fe-a287d750a987",
   "metadata": {},
   "outputs": [],
   "source": [
    "#28. Flatten a nested list.\n"
   ]
  },
  {
   "cell_type": "code",
   "execution_count": 16,
   "id": "584a00a3-bf58-4e2f-b726-fd7b8543bef9",
   "metadata": {},
   "outputs": [
    {
     "data": {
      "text/plain": [
       "[1, 2, 3, 4, 5, 6]"
      ]
     },
     "execution_count": 16,
     "metadata": {},
     "output_type": "execute_result"
    }
   ],
   "source": [
    "l = [[1, 2], [3, 4], [5, 6]]\n",
    "fl = []\n",
    "for i in range(0,len(l)):\n",
    "    for j in range(0,2):\n",
    "        fl.append(l[i][j])\n",
    "fl"
   ]
  },
  {
   "cell_type": "code",
   "execution_count": null,
   "id": "e6acb3de-07be-4eee-83d3-7e69dc754a54",
   "metadata": {},
   "outputs": [],
   "source": [
    "#29.Create a list of the first 10 Fibonacci numbers."
   ]
  },
  {
   "cell_type": "code",
   "execution_count": 17,
   "id": "dbb11cda-e79f-4d86-8195-eef755658a1e",
   "metadata": {},
   "outputs": [
    {
     "data": {
      "text/plain": [
       "[0, 1, 1, 2, 3, 5, 8, 13, 21, 34, 55, 89]"
      ]
     },
     "execution_count": 17,
     "metadata": {},
     "output_type": "execute_result"
    }
   ],
   "source": [
    "l = [0,1]\n",
    "for i in range(1,11):\n",
    "    l.append(l[i]+l[i-1]) \n",
    "l"
   ]
  },
  {
   "cell_type": "code",
   "execution_count": null,
   "id": "d20f81e0-ae3a-4398-9ee4-41dde4565cdd",
   "metadata": {},
   "outputs": [],
   "source": [
    "#30. Check if a list is sorted.\n"
   ]
  },
  {
   "cell_type": "code",
   "execution_count": 26,
   "id": "775ba256-0257-4b79-b56e-9e40418a237d",
   "metadata": {},
   "outputs": [
    {
     "name": "stdout",
     "output_type": "stream",
     "text": [
      "list [3, 4, 5] is sorted\n"
     ]
    }
   ],
   "source": [
    "l = [3, 4, 5]\n",
    "l1=[]\n",
    "s = set(l)\n",
    "for i in s:\n",
    "    l1.append(i)\n",
    "if l1 == l:\n",
    "    print(f'list {l} is sorted')\n",
    "    "
   ]
  },
  {
   "cell_type": "code",
   "execution_count": null,
   "id": "4fe75868-6164-4454-b185-3662e5ad3939",
   "metadata": {},
   "outputs": [],
   "source": [
    "#31. Rotate a list to the left by `n` positions.\n"
   ]
  },
  {
   "cell_type": "code",
   "execution_count": 36,
   "id": "0e878f0c-bb49-4919-93fa-dbfb3f51bf08",
   "metadata": {},
   "outputs": [
    {
     "name": "stdin",
     "output_type": "stream",
     "text": [
      "enter the number of rotation:  2\n"
     ]
    },
    {
     "name": "stdout",
     "output_type": "stream",
     "text": [
      "[4, 5, 1, 2, 3]\n"
     ]
    }
   ],
   "source": [
    "l = [1,2,3,4,5]\n",
    "n=int(input(\"enter the number of rotation: \"))\n",
    "for i in range(0,n):\n",
    "  l.insert(0,l[-1])\n",
    "  l.pop(-1)\n",
    "print(l)\n"
   ]
  },
  {
   "cell_type": "code",
   "execution_count": null,
   "id": "328cd569-8cb2-442c-abb7-ca8f0644f0be",
   "metadata": {},
   "outputs": [],
   "source": [
    "#32. Rotate a list to the right by `n` positions."
   ]
  },
  {
   "cell_type": "code",
   "execution_count": 35,
   "id": "0678895e-a8b2-4f13-9950-1971f46414c8",
   "metadata": {},
   "outputs": [
    {
     "name": "stdin",
     "output_type": "stream",
     "text": [
      "enter the number of rotation:  2\n"
     ]
    },
    {
     "name": "stdout",
     "output_type": "stream",
     "text": [
      "[3, 4, 5, 1, 2]\n"
     ]
    }
   ],
   "source": [
    "l = [1,2,3,4,5]\n",
    "n=int(input(\"enter the number of rotation: \"))\n",
    "for i in range(0,n):\n",
    "  l.append(l[0])\n",
    "  l.pop(0)\n",
    "print(l)"
   ]
  },
  {
   "cell_type": "code",
   "execution_count": null,
   "id": "3ddaf720-0bfa-4859-9e0e-67c88394a3b3",
   "metadata": {},
   "outputs": [],
   "source": [
    "#33. Create a list of prime numbers up to 50."
   ]
  },
  {
   "cell_type": "code",
   "execution_count": 41,
   "id": "b791b238-1c24-4acc-b2c1-e7e0ca18855b",
   "metadata": {},
   "outputs": [
    {
     "name": "stdout",
     "output_type": "stream",
     "text": [
      "[2, 3, 5, 7, 11, 13, 17, 19, 23, 29, 31, 37, 41, 43, 47]\n"
     ]
    }
   ],
   "source": [
    "l=[]\n",
    "for i in range(2,51):\n",
    "  for j in range(2,i):\n",
    "    if i%j==0:\n",
    "      break\n",
    "  else:\n",
    "    l.append(i)\n",
    "print(l)"
   ]
  },
  {
   "cell_type": "code",
   "execution_count": 47,
   "id": "73a23361-9af9-4971-ac78-8c4bb5a7f8e1",
   "metadata": {},
   "outputs": [],
   "source": [
    "#34. Split a list into chunks of size `n`.\n"
   ]
  },
  {
   "cell_type": "code",
   "execution_count": 57,
   "id": "39ded638-262e-4b59-81fb-4dfc14b37d8a",
   "metadata": {},
   "outputs": [
    {
     "name": "stdin",
     "output_type": "stream",
     "text": [
      "enter the size of chunk :  2\n"
     ]
    },
    {
     "name": "stdout",
     "output_type": "stream",
     "text": [
      "[[1, 2], [3, 4], [5, 6], [7, 8]]\n"
     ]
    }
   ],
   "source": [
    "l=[1,2,3,4,5,6,7,8]\n",
    "x=[]\n",
    "b=[]\n",
    "n=int(input(\"enter the size of chunk : \"))\n",
    "for i in l:\n",
    "  b.append(i)\n",
    "  if len(b)==n:\n",
    "    x.append(b)\n",
    "    b=[]\n",
    "if b:\n",
    "  x.append(b)\n",
    "print(x)"
   ]
  },
  {
   "cell_type": "code",
   "execution_count": null,
   "id": "8dd6a8a2-3225-4429-bf30-fcbae2e9472f",
   "metadata": {},
   "outputs": [],
   "source": [
    "#35. Find the second largest number in a list.\n"
   ]
  },
  {
   "cell_type": "code",
   "execution_count": 4,
   "id": "a1cc76d4-131e-46fc-9dde-97de8ffa4285",
   "metadata": {},
   "outputs": [
    {
     "name": "stdout",
     "output_type": "stream",
     "text": [
      "the second largenst in list is :16\n"
     ]
    }
   ],
   "source": [
    "l=[1,12,3,14,5,16,7,18]\n",
    "l.sort()\n",
    "print(f'the second largenst in list is :{l[-2]}')"
   ]
  },
  {
   "cell_type": "code",
   "execution_count": null,
   "id": "5a39e082-bfc0-4ba1-a316-4da07d679000",
   "metadata": {},
   "outputs": [],
   "source": [
    "#36. Replace every element in a list with its square.\n"
   ]
  },
  {
   "cell_type": "code",
   "execution_count": 9,
   "id": "9dbd662d-2642-4ccb-b049-52e8ba616c15",
   "metadata": {},
   "outputs": [
    {
     "name": "stdout",
     "output_type": "stream",
     "text": [
      "squered list [1, 4, 9, 16, 25]\n"
     ]
    }
   ],
   "source": [
    "l = [1,2,3,4,5]\n",
    "\n",
    "for i in range(0,len(l)):\n",
    "    l.append(l[0]**2)\n",
    "    l.pop(0)\n",
    "print(f'squered list {l}')"
   ]
  },
  {
   "cell_type": "code",
   "execution_count": null,
   "id": "539ee930-0332-402d-9aeb-754672d5f7be",
   "metadata": {},
   "outputs": [],
   "source": [
    "#37. Convert a list to a dictionary where list elements become keys and their\n",
    "#indices become values."
   ]
  },
  {
   "cell_type": "code",
   "execution_count": 11,
   "id": "a2f06bf8-0d72-470d-a2ed-7f079849e13c",
   "metadata": {},
   "outputs": [
    {
     "data": {
      "text/plain": [
       "{0: 'ajay', 1: 'arjun', 2: 'aryan', 3: 'aditya'}"
      ]
     },
     "execution_count": 11,
     "metadata": {},
     "output_type": "execute_result"
    }
   ],
   "source": [
    "l = ['ajay','arjun','aryan','aditya']\n",
    "d = {}\n",
    "for i in l:\n",
    "    d[l.index(i)] = i\n",
    "d"
   ]
  },
  {
   "cell_type": "code",
   "execution_count": null,
   "id": "6420fa43-678f-4498-aa7b-be68f3b93aa0",
   "metadata": {},
   "outputs": [],
   "source": [
    "#38. Shuffle the elements of a list randomly.\n"
   ]
  },
  {
   "cell_type": "code",
   "execution_count": 13,
   "id": "ae0e2de0-41df-4ca3-bc8b-4ed42927fa74",
   "metadata": {},
   "outputs": [
    {
     "data": {
      "text/plain": [
       "[5, 4, 1, 3, 2]"
      ]
     },
     "execution_count": 13,
     "metadata": {},
     "output_type": "execute_result"
    }
   ],
   "source": [
    "import random\n",
    "l = [1,2,3,4,5]\n",
    "random.shuffle(l)\n",
    "l"
   ]
  },
  {
   "cell_type": "code",
   "execution_count": null,
   "id": "b4aab34f-e302-4773-b65b-bc42972d9b01",
   "metadata": {},
   "outputs": [],
   "source": [
    "#39. Create a list of the first 10 factorial numbers.\n"
   ]
  },
  {
   "cell_type": "code",
   "execution_count": 15,
   "id": "549b4f49-25c0-4579-b161-6332968f6786",
   "metadata": {},
   "outputs": [
    {
     "data": {
      "text/plain": [
       "[1, 1, 2, 6, 24, 120, 720, 5040, 40320, 362880]"
      ]
     },
     "execution_count": 15,
     "metadata": {},
     "output_type": "execute_result"
    }
   ],
   "source": [
    "def fac(n):\n",
    "    if n == 0 or n ==1:return 1\n",
    "    else: return n*fac(n-1)\n",
    "\n",
    "l1 = []\n",
    "for i in range(0,10):\n",
    "    l1.append(fac(i))\n",
    "l1 "
   ]
  },
  {
   "cell_type": "code",
   "execution_count": null,
   "id": "761458fa-2fb1-4c06-a805-467617fd1fd1",
   "metadata": {},
   "outputs": [],
   "source": [
    "#40. Check if two lists have at least one element in common.\n"
   ]
  },
  {
   "cell_type": "code",
   "execution_count": 19,
   "id": "fc2d34c3-0e28-49ef-b420-f72604b657c5",
   "metadata": {},
   "outputs": [
    {
     "data": {
      "text/plain": [
       "[4]"
      ]
     },
     "execution_count": 19,
     "metadata": {},
     "output_type": "execute_result"
    }
   ],
   "source": [
    "l1 = [1,2,3,4]\n",
    "l2 = [4,5,6,7]\n",
    "comm = set(l1).intersection(set(l2))\n",
    "list(comm)"
   ]
  },
  {
   "cell_type": "code",
   "execution_count": null,
   "id": "08bb7e52-8422-4dd5-bd96-d38f1056df38",
   "metadata": {},
   "outputs": [],
   "source": [
    "#41. Remove all elements from a list.\n"
   ]
  },
  {
   "cell_type": "code",
   "execution_count": 20,
   "id": "c6c6ee8c-d71e-4162-8bc1-d637944bdb94",
   "metadata": {},
   "outputs": [
    {
     "data": {
      "text/plain": [
       "[]"
      ]
     },
     "execution_count": 20,
     "metadata": {},
     "output_type": "execute_result"
    }
   ],
   "source": [
    "l1 = [1,2,3,4]\n",
    "l1.clear()\n",
    "l1"
   ]
  },
  {
   "cell_type": "code",
   "execution_count": null,
   "id": "afd471ff-6d54-4fcd-a101-dd8d9adc4dad",
   "metadata": {},
   "outputs": [],
   "source": [
    "#42. Replace negative numbers in a list with 0.\n"
   ]
  },
  {
   "cell_type": "code",
   "execution_count": 23,
   "id": "3426d10e-d2c8-4822-b3e1-e0b3772de679",
   "metadata": {},
   "outputs": [
    {
     "data": {
      "text/plain": [
       "[1, 2, 0, 0]"
      ]
     },
     "execution_count": 23,
     "metadata": {},
     "output_type": "execute_result"
    }
   ],
   "source": [
    "l1 = [1,2,-3,-4]\n",
    "for i in l1:\n",
    "    if i <0:\n",
    "        l1[l1.index(i)]= 0\n",
    "        \n",
    "l1"
   ]
  },
  {
   "cell_type": "code",
   "execution_count": null,
   "id": "9c33a5b8-a911-44ce-8458-b8bbe7925199",
   "metadata": {},
   "outputs": [],
   "source": [
    "#43. Convert a string into a list of words.\n"
   ]
  },
  {
   "cell_type": "code",
   "execution_count": 25,
   "id": "f15428c9-5a37-4329-a415-7da7fcafc6b8",
   "metadata": {},
   "outputs": [
    {
     "name": "stdin",
     "output_type": "stream",
     "text": [
      "enter the string:  hi hello\n"
     ]
    },
    {
     "data": {
      "text/plain": [
       "['hi', 'hello']"
      ]
     },
     "execution_count": 25,
     "metadata": {},
     "output_type": "execute_result"
    }
   ],
   "source": [
    "str = input(\"enter the string: \")\n",
    "a = str.split()\n",
    "a"
   ]
  },
  {
   "cell_type": "code",
   "execution_count": null,
   "id": "6fb9a509-e3f8-40fc-ac51-78ecaf18752e",
   "metadata": {},
   "outputs": [],
   "source": [
    "#44. Convert a list of words into a string.\n"
   ]
  },
  {
   "cell_type": "code",
   "execution_count": 3,
   "id": "d38fe7c0-724d-4e90-adaa-0398c46664df",
   "metadata": {},
   "outputs": [
    {
     "data": {
      "text/plain": [
       "'1 2 sam mohan'"
      ]
     },
     "execution_count": 3,
     "metadata": {},
     "output_type": "execute_result"
    }
   ],
   "source": [
    "l1 = ['1','2','sam','mohan']\n",
    "l=' '.join(l1)\n",
    "l\n"
   ]
  },
  {
   "cell_type": "code",
   "execution_count": null,
   "id": "35117439-89cf-458d-b790-2aa8b23cda3c",
   "metadata": {},
   "outputs": [],
   "source": [
    "#45. Create a list of the first `n` powers of 2.\n"
   ]
  },
  {
   "cell_type": "code",
   "execution_count": 7,
   "id": "fd6efaf8-6ca4-44e0-af1b-2dc0e6b763c1",
   "metadata": {},
   "outputs": [
    {
     "name": "stdin",
     "output_type": "stream",
     "text": [
      "enter the no. : 5\n"
     ]
    },
    {
     "data": {
      "text/plain": [
       "[1, 2, 4, 8, 16, 32]"
      ]
     },
     "execution_count": 7,
     "metadata": {},
     "output_type": "execute_result"
    }
   ],
   "source": [
    "l = []\n",
    "n = int (input('enter the no. :'))\n",
    "for i in range(0,n+1):\n",
    "         l.append(2**i)\n",
    "l"
   ]
  },
  {
   "cell_type": "code",
   "execution_count": null,
   "id": "b48e936e-4ca6-472d-ae26-387b70b06d1b",
   "metadata": {},
   "outputs": [],
   "source": [
    "#46. Find the longest string in a list of strings.\n"
   ]
  },
  {
   "cell_type": "code",
   "execution_count": 8,
   "id": "659da1a3-336d-4fc6-9ba7-ab6ea17d8a38",
   "metadata": {},
   "outputs": [
    {
     "data": {
      "text/plain": [
       "'rainbow'"
      ]
     },
     "execution_count": 8,
     "metadata": {},
     "output_type": "execute_result"
    }
   ],
   "source": [
    "l = ['rainbow','sky','rain','water']\n",
    "str = \"\"\n",
    "for i in l:\n",
    "    if len(i)> len(str):\n",
    "        str = i\n",
    "str"
   ]
  },
  {
   "cell_type": "code",
   "execution_count": null,
   "id": "07ed96c4-cb3e-4455-bd04-65f4ba043700",
   "metadata": {},
   "outputs": [],
   "source": [
    "#47. Find the shortest string in a list of strings.\n"
   ]
  },
  {
   "cell_type": "code",
   "execution_count": 9,
   "id": "1ecd8fe6-8925-4873-bd3e-4dc329d53c0a",
   "metadata": {},
   "outputs": [
    {
     "data": {
      "text/plain": [
       "'sky'"
      ]
     },
     "execution_count": 9,
     "metadata": {},
     "output_type": "execute_result"
    }
   ],
   "source": [
    "l = ['rainbow','sky','rain','water']\n",
    "str = l[0]\n",
    "for i in l:\n",
    "    if len(i)< len(str):\n",
    "        str = i\n",
    "str"
   ]
  },
  {
   "cell_type": "code",
   "execution_count": null,
   "id": "8285e754-9a54-4734-b821-3441e62babb0",
   "metadata": {},
   "outputs": [],
   "source": [
    "#48. Create a list of the first `n` triangular numbers.\n"
   ]
  },
  {
   "cell_type": "code",
   "execution_count": 11,
   "id": "26d2891a-e3d5-4f50-b3d1-a7febf920027",
   "metadata": {},
   "outputs": [
    {
     "name": "stdin",
     "output_type": "stream",
     "text": [
      "enter a number 10\n"
     ]
    },
    {
     "name": "stdout",
     "output_type": "stream",
     "text": [
      "[0, 1, 3, 6, 10, 15, 21, 28, 36, 45, 55]\n"
     ]
    }
   ],
   "source": [
    "n=int(input(\"enter a number\"))\n",
    "l=[]\n",
    "step=0\n",
    "for i in range(0,n+1):\n",
    "  step+=i\n",
    "  l.append(step)\n",
    "print(l)\n"
   ]
  },
  {
   "cell_type": "code",
   "execution_count": null,
   "id": "b22f0766-fa6d-4f45-af6c-d5b8f3a10112",
   "metadata": {},
   "outputs": [],
   "source": [
    "#49. Check if a list contains another list as a subsequence.\n"
   ]
  },
  {
   "cell_type": "code",
   "execution_count": 3,
   "id": "41b6ba56-4a67-41a1-9f1b-2aeae5a100ea",
   "metadata": {},
   "outputs": [
    {
     "name": "stdout",
     "output_type": "stream",
     "text": [
      "y is subsequence of x\n"
     ]
    }
   ],
   "source": [
    "x=[1,2,3,4,5]\n",
    "y=[2,4]\n",
    "for i in y:\n",
    "  if i in x:\n",
    "    print(\"y is subsequence of x\")\n",
    "    break\n",
    "else:\n",
    "  print(\"y is not subsequence of x\")"
   ]
  },
  {
   "cell_type": "code",
   "execution_count": null,
   "id": "2d220546-1ba5-4fce-9e43-f15b911eca38",
   "metadata": {},
   "outputs": [],
   "source": [
    "#50. Swap two elements in a list by their indices.\n"
   ]
  },
  {
   "cell_type": "code",
   "execution_count": 5,
   "id": "8f4a3b91-a811-43a2-9b2a-b79c1a7587a2",
   "metadata": {},
   "outputs": [
    {
     "data": {
      "text/plain": [
       "[4, 2, 3, 1]"
      ]
     },
     "execution_count": 5,
     "metadata": {},
     "output_type": "execute_result"
    }
   ],
   "source": [
    "l = [1,2,3,4]\n",
    "l[0],l[3] = l[3],l[0]\n",
    "l"
   ]
  },
  {
   "cell_type": "code",
   "execution_count": null,
   "id": "5d8cd5db-dc67-40d4-a212-cb360a503489",
   "metadata": {},
   "outputs": [],
   "source": []
  },
  {
   "cell_type": "code",
   "execution_count": 6,
   "id": "5b2804ee-52f0-4107-b450-be275af336ae",
   "metadata": {},
   "outputs": [],
   "source": [
    "##.. TUPLE .. ##"
   ]
  },
  {
   "cell_type": "code",
   "execution_count": null,
   "id": "48058774-6e59-400b-8ca2-d008e8ac9823",
   "metadata": {},
   "outputs": [],
   "source": [
    "#1. Create a tuple with integers from 1 to 5."
   ]
  },
  {
   "cell_type": "code",
   "execution_count": 9,
   "id": "dceb0a25-930d-4db0-b048-6a816e49fadb",
   "metadata": {},
   "outputs": [
    {
     "data": {
      "text/plain": [
       "(1, 2, 3, 4, 5)"
      ]
     },
     "execution_count": 9,
     "metadata": {},
     "output_type": "execute_result"
    }
   ],
   "source": [
    "t = ()\n",
    "for i in range(1,6):\n",
    "    t += (i,) #tuple add tuple value not int\n",
    "t "
   ]
  },
  {
   "cell_type": "code",
   "execution_count": 10,
   "id": "90673356-e5f0-491c-93fa-4307f592a83c",
   "metadata": {},
   "outputs": [],
   "source": [
    "#2. Access the third element of a tuple.\n"
   ]
  },
  {
   "cell_type": "code",
   "execution_count": 14,
   "id": "02ec4dd6-c55b-4cc1-9f3c-03c2ad4e720d",
   "metadata": {},
   "outputs": [
    {
     "data": {
      "text/plain": [
       "(1, 3)"
      ]
     },
     "execution_count": 14,
     "metadata": {},
     "output_type": "execute_result"
    }
   ],
   "source": [
    "t = (1, 2, 3, 4, 5)\n",
    "t[0],t[2]"
   ]
  },
  {
   "cell_type": "code",
   "execution_count": null,
   "id": "b0c52cb0-c3fe-4efc-af44-8ce16fbc2788",
   "metadata": {},
   "outputs": [],
   "source": [
    "#3. Find the length of a tuple without using the `len()` function.\n"
   ]
  },
  {
   "cell_type": "code",
   "execution_count": 12,
   "id": "532bc743-b5db-4848-a478-cbd64bc0ec95",
   "metadata": {},
   "outputs": [
    {
     "data": {
      "text/plain": [
       "5"
      ]
     },
     "execution_count": 12,
     "metadata": {},
     "output_type": "execute_result"
    }
   ],
   "source": [
    "t = (1, 2, 3, 4, 5)\n",
    "count = 0\n",
    "for i in t:\n",
    "    count += 1\n",
    "count "
   ]
  },
  {
   "cell_type": "code",
   "execution_count": null,
   "id": "c19dae21-4035-4b7f-b5ea-9fd172e63352",
   "metadata": {},
   "outputs": [],
   "source": [
    "#4. Count the occurrences of an element in a tuple.\n"
   ]
  },
  {
   "cell_type": "code",
   "execution_count": 5,
   "id": "3db390f0-7a7a-440f-bf8d-19aec536b018",
   "metadata": {},
   "outputs": [
    {
     "name": "stdin",
     "output_type": "stream",
     "text": [
      "enter the value:  2\n"
     ]
    },
    {
     "data": {
      "text/plain": [
       "3"
      ]
     },
     "execution_count": 5,
     "metadata": {},
     "output_type": "execute_result"
    }
   ],
   "source": [
    "t = (1,2,3,4,2,2,5)\n",
    "item = int(input('enter the value: '))\n",
    "count = 0\n",
    "for i in t :\n",
    "    if i == item:\n",
    "        count += 1\n",
    "count"
   ]
  },
  {
   "cell_type": "code",
   "execution_count": 6,
   "id": "bef31b49-ea35-4daa-949b-036d1af97c09",
   "metadata": {},
   "outputs": [],
   "source": [
    "#5. Find the index of the first occurrence of an element in a tuple.\n"
   ]
  },
  {
   "cell_type": "code",
   "execution_count": 7,
   "id": "e6f72fd7-96b4-4b46-9694-7f5a208ac4f8",
   "metadata": {},
   "outputs": [
    {
     "data": {
      "text/plain": [
       "1"
      ]
     },
     "execution_count": 7,
     "metadata": {},
     "output_type": "execute_result"
    }
   ],
   "source": [
    "t = (1,2,3,4,2,2,5)\n",
    "t.index(2)\n",
    "\n"
   ]
  },
  {
   "cell_type": "code",
   "execution_count": null,
   "id": "add68765-4803-42ac-adab-1e163da97a9c",
   "metadata": {},
   "outputs": [],
   "source": [
    "#6. Check if an element exists in a tuple.\n"
   ]
  },
  {
   "cell_type": "code",
   "execution_count": 8,
   "id": "32cf90b2-147c-4daa-883e-234d86d3ef0b",
   "metadata": {},
   "outputs": [
    {
     "name": "stdin",
     "output_type": "stream",
     "text": [
      "entr the tuple element:  9\n"
     ]
    },
    {
     "data": {
      "text/plain": [
       "False"
      ]
     },
     "execution_count": 8,
     "metadata": {},
     "output_type": "execute_result"
    }
   ],
   "source": [
    "t = (1,2,3,4,2,2,5)\n",
    "element = int(input('entr the tuple element: '))\n",
    "\n",
    "element in t"
   ]
  },
  {
   "cell_type": "code",
   "execution_count": 9,
   "id": "ca6de3fb-3abe-4eeb-9a8a-eaf28329740f",
   "metadata": {},
   "outputs": [
    {
     "name": "stdin",
     "output_type": "stream",
     "text": [
      "entr the tuple element:  5\n"
     ]
    },
    {
     "data": {
      "text/plain": [
       "True"
      ]
     },
     "execution_count": 9,
     "metadata": {},
     "output_type": "execute_result"
    }
   ],
   "source": [
    "t = (1,2,3,4,2,2,5)\n",
    "element = int(input('entr the tuple element: '))\n",
    "\n",
    "element in t"
   ]
  },
  {
   "cell_type": "code",
   "execution_count": null,
   "id": "adf42d7e-868c-43d2-804c-17715d1d2fd1",
   "metadata": {},
   "outputs": [],
   "source": [
    "#7. Convert a tuple to a list.\n"
   ]
  },
  {
   "cell_type": "code",
   "execution_count": 10,
   "id": "13d17539-0bc5-4aba-9ec5-e0e7d19c56c6",
   "metadata": {},
   "outputs": [
    {
     "data": {
      "text/plain": [
       "[1, 2, 3, 4, 2, 2, 5]"
      ]
     },
     "execution_count": 10,
     "metadata": {},
     "output_type": "execute_result"
    }
   ],
   "source": [
    "t = (1,2,3,4,2,2,5)\n",
    "l = list(t)\n",
    "l"
   ]
  },
  {
   "cell_type": "code",
   "execution_count": 11,
   "id": "84db9fcd-0853-49cc-a5db-258af75efcc9",
   "metadata": {},
   "outputs": [],
   "source": [
    "#8. Convert a list to a tuple.\n"
   ]
  },
  {
   "cell_type": "code",
   "execution_count": 12,
   "id": "ece4601c-1a79-492e-a8a6-513ab32dc6ac",
   "metadata": {},
   "outputs": [
    {
     "data": {
      "text/plain": [
       "(1, 2, 3, 4, 2, 2, 5)"
      ]
     },
     "execution_count": 12,
     "metadata": {},
     "output_type": "execute_result"
    }
   ],
   "source": [
    "l =[1, 2, 3, 4, 2, 2, 5]\n",
    "t = tuple(l)\n",
    "t"
   ]
  },
  {
   "cell_type": "code",
   "execution_count": 14,
   "id": "8d05ac85-ec53-4353-b48b-7ab274309cde",
   "metadata": {},
   "outputs": [
    {
     "name": "stdout",
     "output_type": "stream",
     "text": [
      "a = 2 and b = 4 and c = 6\n"
     ]
    }
   ],
   "source": [
    "t = (2,4,6)\n",
    "a,b,c = t\n",
    "print(f'a = {a} and b = {b} and c = {c}')"
   ]
  },
  {
   "cell_type": "code",
   "execution_count": null,
   "id": "0b3b8904-608f-4ef9-96ad-8a9c7b6e4788",
   "metadata": {},
   "outputs": [],
   "source": [
    "#10. Create a tuple of even numbers from 1 to 10.\n"
   ]
  },
  {
   "cell_type": "code",
   "execution_count": 16,
   "id": "79e1c7c1-6ce9-4cd6-8588-a9de7f007600",
   "metadata": {},
   "outputs": [
    {
     "data": {
      "text/plain": [
       "(2, 4, 6, 8, 10)"
      ]
     },
     "execution_count": 16,
     "metadata": {},
     "output_type": "execute_result"
    }
   ],
   "source": [
    "t = ()\n",
    "for i in range(1,11):\n",
    "    if i%2 == 0:\n",
    "        t += (i,)\n",
    "t"
   ]
  },
  {
   "cell_type": "code",
   "execution_count": 17,
   "id": "63cb13ca-bd9c-4024-abeb-6ccd5d089d6f",
   "metadata": {},
   "outputs": [],
   "source": [
    "#11. Create a tuple of odd numbers from 1 to 10.\n"
   ]
  },
  {
   "cell_type": "code",
   "execution_count": 18,
   "id": "92120fde-9906-418b-a926-ca319b33b203",
   "metadata": {},
   "outputs": [
    {
     "data": {
      "text/plain": [
       "(1, 3, 5, 7, 9)"
      ]
     },
     "execution_count": 18,
     "metadata": {},
     "output_type": "execute_result"
    }
   ],
   "source": [
    "t = ()\n",
    "for i in range(1,11):\n",
    "    if i%2 != 0:\n",
    "        t += (i,)\n",
    "t"
   ]
  },
  {
   "cell_type": "code",
   "execution_count": null,
   "id": "27ba17c0-f380-46e7-bd5f-aacf43c9bdd0",
   "metadata": {},
   "outputs": [],
   "source": [
    "#12. Concatenate two tuples.\n"
   ]
  },
  {
   "cell_type": "code",
   "execution_count": 19,
   "id": "78168232-8dd6-4077-afca-a750d93d68b3",
   "metadata": {},
   "outputs": [
    {
     "data": {
      "text/plain": [
       "(2, 4, 6, 8, 10, 11, 12, 13, 14)"
      ]
     },
     "execution_count": 19,
     "metadata": {},
     "output_type": "execute_result"
    }
   ],
   "source": [
    "t = (2, 4, 6, 8, 10)\n",
    "t1 = (11,12,13,14)\n",
    "t+t1"
   ]
  },
  {
   "cell_type": "code",
   "execution_count": 20,
   "id": "6545cbe1-63c0-42f9-aaa9-4462fb34b88c",
   "metadata": {},
   "outputs": [],
   "source": [
    "#13. Repeat a tuple three times.\n"
   ]
  },
  {
   "cell_type": "code",
   "execution_count": 21,
   "id": "0cd5bc5b-3054-4214-a5ad-d94f22d25ec4",
   "metadata": {},
   "outputs": [
    {
     "data": {
      "text/plain": [
       "(11, 12, 13, 14, 11, 12, 13, 14, 11, 12, 13, 14)"
      ]
     },
     "execution_count": 21,
     "metadata": {},
     "output_type": "execute_result"
    }
   ],
   "source": [
    "t1 = (11,12,13,14)\n",
    "t1*3"
   ]
  },
  {
   "cell_type": "code",
   "execution_count": null,
   "id": "34a42382-0ce3-4176-85d0-cb58abdc60ee",
   "metadata": {},
   "outputs": [],
   "source": [
    "#14. Check if a tuple is empty.\n"
   ]
  },
  {
   "cell_type": "code",
   "execution_count": 22,
   "id": "6697958b-b592-4a7c-bd80-c4524717d891",
   "metadata": {},
   "outputs": [
    {
     "name": "stdout",
     "output_type": "stream",
     "text": [
      "empty\n"
     ]
    }
   ],
   "source": [
    "t = ()\n",
    "if t == ():\n",
    "    print('empty')\n",
    "else: print('not empty')"
   ]
  },
  {
   "cell_type": "code",
   "execution_count": 23,
   "id": "cd6eebe8-2a63-465d-acc4-36d06ee80be1",
   "metadata": {},
   "outputs": [],
   "source": [
    "#15. Create a nested tuple.\n"
   ]
  },
  {
   "cell_type": "code",
   "execution_count": 29,
   "id": "a244f60b-33fe-4d6a-9b36-a4f95ba0083d",
   "metadata": {},
   "outputs": [
    {
     "name": "stdout",
     "output_type": "stream",
     "text": [
      "((0, 1), (1, 2), (2, 3), (3, 4), (4, 5))"
     ]
    }
   ],
   "source": [
    "t = ()\n",
    "for i in range(0,5):\n",
    "    t += ((i,i+1),)\n",
    "print(t,end='')"
   ]
  },
  {
   "cell_type": "code",
   "execution_count": null,
   "id": "06f76d62-f4a3-4aa1-835e-d8f564e43208",
   "metadata": {},
   "outputs": [],
   "source": [
    "#16. Access the first element of a nested tuple.\n"
   ]
  },
  {
   "cell_type": "code",
   "execution_count": 30,
   "id": "90200987-b363-4ae6-a87b-66c3e9fac5fd",
   "metadata": {},
   "outputs": [
    {
     "data": {
      "text/plain": [
       "1"
      ]
     },
     "execution_count": 30,
     "metadata": {},
     "output_type": "execute_result"
    }
   ],
   "source": [
    "t = ((0, 1), (1, 2), (2, 3), (3, 4), (4, 5))\n",
    "t[0][1]"
   ]
  },
  {
   "cell_type": "code",
   "execution_count": null,
   "id": "130224d5-b97b-46ab-aefe-87fa19368fbf",
   "metadata": {},
   "outputs": [],
   "source": [
    "#17. Create a tuple with a single element.\n"
   ]
  },
  {
   "cell_type": "code",
   "execution_count": 31,
   "id": "6ec0c047-cefa-415c-9797-fd48b7cea042",
   "metadata": {},
   "outputs": [
    {
     "name": "stdin",
     "output_type": "stream",
     "text": [
      "enter the element:  5\n"
     ]
    },
    {
     "data": {
      "text/plain": [
       "(5,)"
      ]
     },
     "execution_count": 31,
     "metadata": {},
     "output_type": "execute_result"
    }
   ],
   "source": [
    "t = ()\n",
    "n = int (input('enter the element: '))\n",
    "t += (n,)\n",
    "t"
   ]
  },
  {
   "cell_type": "code",
   "execution_count": 32,
   "id": "3585bc66-6961-4a27-ae18-9dad0fe8c9f7",
   "metadata": {},
   "outputs": [],
   "source": [
    "#18. Compare two tuples.\n"
   ]
  },
  {
   "cell_type": "code",
   "execution_count": 33,
   "id": "d59b6214-fc72-40dc-9e2c-07b2cb71f1ff",
   "metadata": {},
   "outputs": [
    {
     "data": {
      "text/plain": [
       "False"
      ]
     },
     "execution_count": 33,
     "metadata": {},
     "output_type": "execute_result"
    }
   ],
   "source": [
    "t = (1,2,3)\n",
    "t1 = (4,5,6)\n",
    "t == t1"
   ]
  },
  {
   "cell_type": "code",
   "execution_count": 34,
   "id": "e8b9bde4-d5a4-4acd-88b9-2ceba17af574",
   "metadata": {},
   "outputs": [],
   "source": [
    "#19. Delete a tuple.\n"
   ]
  },
  {
   "cell_type": "code",
   "execution_count": 40,
   "id": "4d2a18e8-a51d-467b-b5bc-00e029c71131",
   "metadata": {},
   "outputs": [
    {
     "name": "stdout",
     "output_type": "stream",
     "text": [
      "tuple is deleted\n"
     ]
    }
   ],
   "source": [
    "t =(1,3,4)\n",
    "del(t)\n",
    "print('tuple is deleted')"
   ]
  },
  {
   "cell_type": "code",
   "execution_count": 41,
   "id": "893149c9-0e67-4ca3-87b6-dd5738f3c8a0",
   "metadata": {},
   "outputs": [],
   "source": [
    "#20. Slice a tuple.\n"
   ]
  },
  {
   "cell_type": "code",
   "execution_count": 43,
   "id": "f67cd038-da5d-421a-8e65-f011110d8e95",
   "metadata": {},
   "outputs": [
    {
     "data": {
      "text/plain": [
       "((1, 2, 3), (4, 5, 6))"
      ]
     },
     "execution_count": 43,
     "metadata": {},
     "output_type": "execute_result"
    }
   ],
   "source": [
    "t = (1,2,3,4,5,6)\n",
    "t[:3],t[3:]"
   ]
  },
  {
   "cell_type": "code",
   "execution_count": 44,
   "id": "70dabe14-a787-4a19-af49-0e5e09a59d02",
   "metadata": {},
   "outputs": [],
   "source": [
    "#21. Find the maximum value in a tuple.\n"
   ]
  },
  {
   "cell_type": "code",
   "execution_count": 45,
   "id": "6805d036-6ba4-4454-a129-bccae601075d",
   "metadata": {},
   "outputs": [
    {
     "data": {
      "text/plain": [
       "6"
      ]
     },
     "execution_count": 45,
     "metadata": {},
     "output_type": "execute_result"
    }
   ],
   "source": [
    "t = (1,2,3,4,5,6)\n",
    "max(t)"
   ]
  },
  {
   "cell_type": "code",
   "execution_count": 46,
   "id": "0ebf5f82-407d-4cf9-9ec9-66d446ceb4f2",
   "metadata": {},
   "outputs": [],
   "source": [
    "#22. Find the minimum value in a tuple.\n"
   ]
  },
  {
   "cell_type": "code",
   "execution_count": 47,
   "id": "3b13b9a6-a6c1-4e22-91fd-56e33b182691",
   "metadata": {},
   "outputs": [
    {
     "data": {
      "text/plain": [
       "1"
      ]
     },
     "execution_count": 47,
     "metadata": {},
     "output_type": "execute_result"
    }
   ],
   "source": [
    "t = (1,2,3,4,5,6)\n",
    "\n",
    "min(t)"
   ]
  },
  {
   "cell_type": "code",
   "execution_count": 48,
   "id": "abe1aa25-b1ea-4f66-9c67-6c86ada17f26",
   "metadata": {},
   "outputs": [],
   "source": [
    "#23. Convert a string to a tuple of characters.\n"
   ]
  },
  {
   "cell_type": "code",
   "execution_count": 49,
   "id": "9071bfcb-301f-4954-b1b3-a6dd31c7caec",
   "metadata": {},
   "outputs": [
    {
     "data": {
      "text/plain": [
       "('h', 'e', 'l', 'l', 'o')"
      ]
     },
     "execution_count": 49,
     "metadata": {},
     "output_type": "execute_result"
    }
   ],
   "source": [
    "str = \"hello\"\n",
    "t = ()\n",
    "for i in str:\n",
    "    t += (i,)\n",
    "t"
   ]
  },
  {
   "cell_type": "code",
   "execution_count": null,
   "id": "f6cf6a75-f0e3-4c9d-8802-d75c9c5ae825",
   "metadata": {},
   "outputs": [],
   "source": [
    "# OR"
   ]
  },
  {
   "cell_type": "code",
   "execution_count": 50,
   "id": "67bdfe84-597f-46af-acd7-b9d64319f503",
   "metadata": {},
   "outputs": [
    {
     "data": {
      "text/plain": [
       "('h', 'e', 'l', 'l', 'o')"
      ]
     },
     "execution_count": 50,
     "metadata": {},
     "output_type": "execute_result"
    }
   ],
   "source": [
    "str = \"hello\"\n",
    "t = tuple(str)\n",
    "t"
   ]
  },
  {
   "cell_type": "code",
   "execution_count": 51,
   "id": "530079e5-8a4d-4cfa-98f7-e4aec38a25c6",
   "metadata": {},
   "outputs": [],
   "source": [
    "#24. Convert a tuple of characters to a string.\n"
   ]
  },
  {
   "cell_type": "code",
   "execution_count": 4,
   "id": "ab5920cc-f80a-40e7-847c-48e4f88802af",
   "metadata": {},
   "outputs": [
    {
     "data": {
      "text/plain": [
       "'hello'"
      ]
     },
     "execution_count": 4,
     "metadata": {},
     "output_type": "execute_result"
    }
   ],
   "source": [
    "t = ('h', 'e', 'l', 'l', 'o')\n",
    "str = ''\n",
    "for i in t:\n",
    "    str += i\n",
    "str"
   ]
  },
  {
   "cell_type": "code",
   "execution_count": 5,
   "id": "d13c1d24-5abb-403a-9554-431ad9e3036c",
   "metadata": {},
   "outputs": [],
   "source": [
    "#25. Create a tuple from multiple data types.\n"
   ]
  },
  {
   "cell_type": "code",
   "execution_count": 8,
   "id": "acde2b67-15b0-4869-bfc1-e48d9530549f",
   "metadata": {},
   "outputs": [
    {
     "name": "stdin",
     "output_type": "stream",
     "text": [
      "enter the int value:  5\n",
      "enter the float value:  1.4\n",
      "enter the string value:  ajay\n",
      "entre the boolean value True\n"
     ]
    },
    {
     "data": {
      "text/plain": [
       "(5, 1.4, 'ajay', True)"
      ]
     },
     "execution_count": 8,
     "metadata": {},
     "output_type": "execute_result"
    }
   ],
   "source": [
    "x = int(input( 'enter the int value: '))\n",
    "y = float(input( 'enter the float value: '))\n",
    "z = input( 'enter the string value: ')\n",
    "b = bool(input('entre the boolean value'))\n",
    "t = (x,y,z,b)\n",
    "t"
   ]
  },
  {
   "cell_type": "code",
   "execution_count": 9,
   "id": "41f372ea-3014-4fb3-a9c4-f0b217471e24",
   "metadata": {},
   "outputs": [],
   "source": [
    "#26. Check if two tuples are identical.\n"
   ]
  },
  {
   "cell_type": "code",
   "execution_count": 10,
   "id": "e5217dd2-34f8-40ff-ba93-36dc574d243c",
   "metadata": {},
   "outputs": [
    {
     "name": "stdout",
     "output_type": "stream",
     "text": [
      "both tuple are identical\n"
     ]
    }
   ],
   "source": [
    "t = (1,2,3)\n",
    "t1 = (1,2,3)\n",
    "if t == t1:\n",
    "    print ('both tuple are identical')"
   ]
  },
  {
   "cell_type": "code",
   "execution_count": 11,
   "id": "ca7e57f8-1d46-4924-b6e4-ccd97b595981",
   "metadata": {},
   "outputs": [],
   "source": [
    "#27. Sort the elements of a tuple.\n"
   ]
  },
  {
   "cell_type": "code",
   "execution_count": 5,
   "id": "7c0c5697-06a8-4ff4-8825-f9b3c0dc6476",
   "metadata": {},
   "outputs": [
    {
     "name": "stdout",
     "output_type": "stream",
     "text": [
      "tuple (4, 6, 7, 2, 3, 5, 8)\n",
      "sorted tuple (2, 3, 4, 5, 6, 7, 8)\n"
     ]
    }
   ],
   "source": [
    "t = (4,6,7,2,3,5,8)\n",
    "s = set(t)\n",
    "print(f'tuple {t}')\n",
    "t = tuple(s)\n",
    "print(f'sorted tuple {t}')"
   ]
  },
  {
   "cell_type": "code",
   "execution_count": 11,
   "id": "9e99e224-8518-421a-b641-5092ad282d4f",
   "metadata": {},
   "outputs": [
    {
     "name": "stdout",
     "output_type": "stream",
     "text": [
      "tuple (4, 6, 7, 2, 3, 5, 3, 8)\n",
      "sorted tuple [2, 3, 3, 4, 5, 6, 7, 8]\n"
     ]
    }
   ],
   "source": [
    "t = (4,6,7,2,3,5,3,8)\n",
    "l = sorted(t)\n",
    "tuple(l)\n",
    "print(f'tuple {t}')\n",
    "print(f'sorted tuple {l}')"
   ]
  },
  {
   "cell_type": "code",
   "execution_count": 6,
   "id": "e29c432a-64b9-4f7d-8c65-69f60f217326",
   "metadata": {},
   "outputs": [],
   "source": [
    "#28. Convert a tuple of integers to a tuple of strings.\n"
   ]
  },
  {
   "cell_type": "code",
   "execution_count": 13,
   "id": "6b92a754-936f-4353-8605-4f53869373c6",
   "metadata": {},
   "outputs": [
    {
     "data": {
      "text/plain": [
       "('4', '6', '7', '2', '3', '5', '8')"
      ]
     },
     "execution_count": 13,
     "metadata": {},
     "output_type": "execute_result"
    }
   ],
   "source": [
    "t = (4,6,7,2,3,5,8)\n",
    "t1 = ()\n",
    "for i in t:\n",
    "    t1 += (str(i),)\n",
    "t1\n",
    "    "
   ]
  },
  {
   "cell_type": "code",
   "execution_count": 14,
   "id": "39fc3abe-c11b-4452-ab70-bd644f68d1e6",
   "metadata": {},
   "outputs": [],
   "source": [
    "#29. Convert a tuple of strings to a tuple of integers.\n"
   ]
  },
  {
   "cell_type": "code",
   "execution_count": 15,
   "id": "23db8dcc-f45e-41cc-8dfb-2bc8fdcd1e81",
   "metadata": {},
   "outputs": [
    {
     "data": {
      "text/plain": [
       "(4, 6, 7, 2, 3, 5, 8)"
      ]
     },
     "execution_count": 15,
     "metadata": {},
     "output_type": "execute_result"
    }
   ],
   "source": [
    "t = ('4', '6', '7', '2', '3', '5', '8')\n",
    "t1 = ()\n",
    "for i in t:\n",
    "    t1 += (int(i),)\n",
    "t1"
   ]
  },
  {
   "cell_type": "code",
   "execution_count": 16,
   "id": "e0778b7a-df36-41d9-bce3-33c00bafdcae",
   "metadata": {},
   "outputs": [],
   "source": [
    "#30. Merge two tuples.\n"
   ]
  },
  {
   "cell_type": "code",
   "execution_count": 17,
   "id": "4a607df7-10c9-4321-9e11-0112ecb3d44f",
   "metadata": {},
   "outputs": [
    {
     "data": {
      "text/plain": [
       "(1, 2, 3, 4, 5, 6)"
      ]
     },
     "execution_count": 17,
     "metadata": {},
     "output_type": "execute_result"
    }
   ],
   "source": [
    "t = (1,2,3)\n",
    "t1 = (4,5,6)\n",
    "t + t1"
   ]
  },
  {
   "cell_type": "code",
   "execution_count": 18,
   "id": "e117f63f-76b9-44f1-88f3-bc4aa6db230e",
   "metadata": {},
   "outputs": [],
   "source": [
    "#31. Flatten a nested tuple.\n"
   ]
  },
  {
   "cell_type": "code",
   "execution_count": 22,
   "id": "5188f3c6-bf7f-438c-963e-9e0023152289",
   "metadata": {},
   "outputs": [
    {
     "name": "stdout",
     "output_type": "stream",
     "text": [
      "tuple (1, 2, 3, (4, 5, 6)) and flatten tuple (1, 2, 3, 4, 5, 6)\n"
     ]
    }
   ],
   "source": [
    "t = (1,2,3,(4,5,6))\n",
    "t1 = ()\n",
    "for i in t:\n",
    "  if isinstance(i,tuple): # isinstance check the (value, type ) and return true or false\n",
    "    for j in i:\n",
    "      t1=t1+(j,)\n",
    "  else:\n",
    "    t1=t1+(i,)\n",
    "print(f'tuple {t} and flatten tuple {t1}')"
   ]
  },
  {
   "cell_type": "code",
   "execution_count": 23,
   "id": "0073ed35-5194-4281-b102-1edbd67b7e80",
   "metadata": {},
   "outputs": [],
   "source": [
    "#32. Create a tuple of the first 5 prime numbers.\n"
   ]
  },
  {
   "cell_type": "code",
   "execution_count": 24,
   "id": "d4bba97a-52f2-423b-8610-708eafcb3935",
   "metadata": {},
   "outputs": [
    {
     "name": "stdout",
     "output_type": "stream",
     "text": [
      "(2, 3, 5, 7, 11)\n"
     ]
    }
   ],
   "source": [
    "t =()\n",
    "for i in range (2,20):\n",
    "    for j in range(2,i):\n",
    "        if i%j==0:\n",
    "            break\n",
    "    else:\n",
    "        t += (i,)\n",
    "    if len(t) ==5:\n",
    "        break\n",
    "print(t)\n",
    "        \n"
   ]
  },
  {
   "cell_type": "code",
   "execution_count": 25,
   "id": "9d4c6708-8518-4c00-ad2b-f1a81fc06022",
   "metadata": {},
   "outputs": [],
   "source": [
    "#33. Check if a tuple is a palindrome.\n"
   ]
  },
  {
   "cell_type": "code",
   "execution_count": 26,
   "id": "d584fd3f-5883-4bb7-9a7f-afeef53014bd",
   "metadata": {},
   "outputs": [
    {
     "name": "stdout",
     "output_type": "stream",
     "text": [
      "tuple (1, 2, 1) is palindrome\n"
     ]
    }
   ],
   "source": [
    "tuple = (1, 2, 1)\n",
    "if tuple == tuple[::-1] :\n",
    "    print(f'tuple {tuple} is palindrome') "
   ]
  },
  {
   "cell_type": "code",
   "execution_count": 27,
   "id": "16fbd6cb-6081-49d8-a227-5282af6318b1",
   "metadata": {},
   "outputs": [],
   "source": [
    "#34. Create a tuple of squares of numbers from 1 to 5.\n"
   ]
  },
  {
   "cell_type": "code",
   "execution_count": 28,
   "id": "c3480587-81c6-4aba-86e4-7dd7b3021347",
   "metadata": {},
   "outputs": [
    {
     "data": {
      "text/plain": [
       "(1, 4, 9, 16, 25)"
      ]
     },
     "execution_count": 28,
     "metadata": {},
     "output_type": "execute_result"
    }
   ],
   "source": [
    "t = ()\n",
    "\n",
    "for i in range(1,6):\n",
    "    t += (i**2,)\n",
    "t\n",
    "    "
   ]
  },
  {
   "cell_type": "code",
   "execution_count": 29,
   "id": "cdad21bf-4d2c-4d7f-b9b3-51c15d3d08c7",
   "metadata": {},
   "outputs": [],
   "source": [
    "#35. Filter out all even numbers from a tuple.\n"
   ]
  },
  {
   "cell_type": "code",
   "execution_count": 32,
   "id": "466e675c-5028-4308-8939-b964298589ef",
   "metadata": {},
   "outputs": [
    {
     "name": "stdout",
     "output_type": "stream",
     "text": [
      "2,4,8,"
     ]
    }
   ],
   "source": [
    "t = (2, 3, 3, 4, 5, 7, 8)\n",
    "for i in t:\n",
    "    if i%2 ==0:\n",
    "        print(i,end = ',')"
   ]
  },
  {
   "cell_type": "code",
   "execution_count": 33,
   "id": "67cb56a2-4adb-4add-9277-290c8f653ec2",
   "metadata": {},
   "outputs": [],
   "source": [
    "#36. Multiply all elements in a tuple by 2.\n"
   ]
  },
  {
   "cell_type": "code",
   "execution_count": 37,
   "id": "0b0ea3bf-f35d-49c2-b5d0-414719858ee5",
   "metadata": {},
   "outputs": [
    {
     "name": "stdout",
     "output_type": "stream",
     "text": [
      "old tuple (2, 3, 3, 4, 5, 7, 8) \n",
      " new tuple (4, 6, 6, 8, 10, 14, 16)\n"
     ]
    }
   ],
   "source": [
    "t = (2, 3, 3, 4, 5, 7, 8)\n",
    "t1 =()\n",
    "for i in t:\n",
    "    t1 += (i*2,)\n",
    "print(f'old tuple {t} \\n new tuple {t1}')"
   ]
  },
  {
   "cell_type": "code",
   "execution_count": 38,
   "id": "dcb106dc-f06b-4be3-b391-da1ec123d1d3",
   "metadata": {},
   "outputs": [],
   "source": [
    "#37. Create a tuple of random numbers.\n"
   ]
  },
  {
   "cell_type": "code",
   "execution_count": 42,
   "id": "ac4bc24e-49f5-4e18-9ced-4bd31f7ff2ab",
   "metadata": {},
   "outputs": [
    {
     "data": {
      "text/plain": [
       "(23, 18, 48, 42, 47, 17, 8, 38, 12)"
      ]
     },
     "execution_count": 42,
     "metadata": {},
     "output_type": "execute_result"
    }
   ],
   "source": [
    "import random\n",
    "t = ()\n",
    "for i in range(1,10):\n",
    "    t += (random.randint(0,50),)\n",
    "t"
   ]
  },
  {
   "cell_type": "code",
   "execution_count": 43,
   "id": "8a9e3323-2b3a-4a61-b455-d587474af5c9",
   "metadata": {},
   "outputs": [],
   "source": [
    "#38. Check if a tuple is sorted.\n"
   ]
  },
  {
   "cell_type": "code",
   "execution_count": 1,
   "id": "c29fd0f8-9685-4b58-bfb3-30c89afffbba",
   "metadata": {},
   "outputs": [
    {
     "name": "stdout",
     "output_type": "stream",
     "text": [
      "tuple is not sorted\n"
     ]
    }
   ],
   "source": [
    "t = (23, 18, 48, 42, 47, 17, 8, 38, 12)\n",
    "if t == tuple(sorted(t)):\n",
    "    print('tuple is sorted')\n",
    "else :\n",
    "    print('tuple is not sorted')\n"
   ]
  },
  {
   "cell_type": "code",
   "execution_count": 2,
   "id": "69c2d8d4-cbcb-4f86-bd2d-c30219c0142f",
   "metadata": {},
   "outputs": [
    {
     "name": "stdout",
     "output_type": "stream",
     "text": [
      "tuple is sorted\n"
     ]
    }
   ],
   "source": [
    "t1=(1,2,3,4,5,6)\n",
    "if t1==tuple(sorted(t1)):\n",
    "  print(\"tuple is sorted\")\n",
    "else:\n",
    "  print(\"tuple is not sorted\")"
   ]
  },
  {
   "cell_type": "code",
   "execution_count": 3,
   "id": "df4d1ef5-0d06-4d6c-9d13-81677444ed55",
   "metadata": {},
   "outputs": [],
   "source": [
    "#39. Rotate a tuple to the left by `n` positions.\n"
   ]
  },
  {
   "cell_type": "code",
   "execution_count": 5,
   "id": "b106bca5-be14-48a2-812e-d48f426fd4da",
   "metadata": {},
   "outputs": [
    {
     "name": "stdin",
     "output_type": "stream",
     "text": [
      "enter the number of rotation 2\n"
     ]
    },
    {
     "name": "stdout",
     "output_type": "stream",
     "text": [
      "(3, 4, 5, 6, 7, 1, 2)\n"
     ]
    }
   ],
   "source": [
    "t=(1,2,3,4,5,6,7)\n",
    "t1=()\n",
    "n=int(input(\"enter the number of rotation\"))\n",
    "t1+=(t[n:])\n",
    "t1+=(t[0:n])\n",
    "print(t1)"
   ]
  },
  {
   "cell_type": "code",
   "execution_count": null,
   "id": "03971bef-d949-4108-96f8-04f296e7e5c6",
   "metadata": {},
   "outputs": [],
   "source": [
    "#40. Rotate a tuple to the right by `n` positions.\n"
   ]
  },
  {
   "cell_type": "code",
   "execution_count": 6,
   "id": "643d3b19-b949-4504-a4b8-35ca790c910f",
   "metadata": {},
   "outputs": [
    {
     "name": "stdin",
     "output_type": "stream",
     "text": [
      "enter the number of rotation 2\n"
     ]
    },
    {
     "name": "stdout",
     "output_type": "stream",
     "text": [
      "(6, 7, 1, 2, 3, 4, 5)\n"
     ]
    }
   ],
   "source": [
    "t=(1,2,3,4,5,6,7)\n",
    "t1=()\n",
    "n=int(input(\"enter the number of rotation\"))\n",
    "t1+=(t[-n:])\n",
    "t1+=(t[:-n])\n",
    "print(t1)"
   ]
  },
  {
   "cell_type": "code",
   "execution_count": null,
   "id": "c6b607b4-d130-447b-8414-2e6a22f719aa",
   "metadata": {},
   "outputs": [],
   "source": [
    "## TO BE CONTINUED....."
   ]
  },
  {
   "cell_type": "code",
   "execution_count": null,
   "id": "6a5fa1ad-1203-4dbb-8b6a-54281e063000",
   "metadata": {},
   "outputs": [],
   "source": [
    "#41. Create a tuple of the first 5 Fibonacci numbers.\n"
   ]
  },
  {
   "cell_type": "code",
   "execution_count": 5,
   "id": "692d9c9c-772d-4e5b-bc14-446afc135519",
   "metadata": {},
   "outputs": [
    {
     "data": {
      "text/plain": [
       "(0, 1, 1, 2, 3)"
      ]
     },
     "execution_count": 5,
     "metadata": {},
     "output_type": "execute_result"
    }
   ],
   "source": [
    "t = (0,1)\n",
    "for i in range(0, 3) :\n",
    "    t += (t[i]+t[i+1],)\n",
    "t"
   ]
  },
  {
   "cell_type": "code",
   "execution_count": null,
   "id": "418d81dd-e8e1-4118-a235-72c3b570fd47",
   "metadata": {},
   "outputs": [],
   "source": [
    "# 42. Create a tuple from user input.\n"
   ]
  },
  {
   "cell_type": "code",
   "execution_count": 7,
   "id": "18493b98-730c-4815-8f27-74181ffbff0b",
   "metadata": {},
   "outputs": [
    {
     "name": "stdin",
     "output_type": "stream",
     "text": [
      "enter the no. of tupels :  5\n",
      "enter the element:  4\n",
      "enter the element:  6\n",
      "enter the element:  8\n",
      "enter the element:  2\n",
      "enter the element:  3\n"
     ]
    },
    {
     "data": {
      "text/plain": [
       "(4, 6, 8, 2, 3)"
      ]
     },
     "execution_count": 7,
     "metadata": {},
     "output_type": "execute_result"
    }
   ],
   "source": [
    "t = ()\n",
    "n = int(input('enter the no. of tupels : '))\n",
    "for i in range(0,n):\n",
    "    t += (int(input('enter the element: ')),)\n",
    "t"
   ]
  },
  {
   "cell_type": "code",
   "execution_count": 8,
   "id": "f6ac917a-e1ff-457a-9387-0677486c883a",
   "metadata": {},
   "outputs": [],
   "source": [
    "#43. Swap two elements in a tuple."
   ]
  },
  {
   "cell_type": "code",
   "execution_count": 14,
   "id": "80d9e75d-7b76-426e-8c88-86f1b04d7954",
   "metadata": {},
   "outputs": [
    {
     "data": {
      "text/plain": [
       "(2, 6, 8, 4, 3)"
      ]
     },
     "execution_count": 14,
     "metadata": {},
     "output_type": "execute_result"
    }
   ],
   "source": [
    "t = (4, 6, 8, 2, 3) \n",
    "l = list(t)\n",
    "l[0],l[3] = l[3],l[0]\n",
    "tuple(l)"
   ]
  },
  {
   "cell_type": "code",
   "execution_count": 13,
   "id": "0146d0f8-5ef2-4ae5-a805-04469d2f32fb",
   "metadata": {},
   "outputs": [],
   "source": [
    "#44. Reverse the elements of a tuple."
   ]
  },
  {
   "cell_type": "code",
   "execution_count": 15,
   "id": "99b1e0fd-8549-4de7-8a54-46176db4e78e",
   "metadata": {},
   "outputs": [
    {
     "data": {
      "text/plain": [
       "(5, 4, 3, 2, 1)"
      ]
     },
     "execution_count": 15,
     "metadata": {},
     "output_type": "execute_result"
    }
   ],
   "source": [
    "t = (1,2,3,4,5)\n",
    "t[::-1]"
   ]
  },
  {
   "cell_type": "code",
   "execution_count": 16,
   "id": "cfc1c945-f733-4ee6-b06e-7b98368bec3f",
   "metadata": {},
   "outputs": [],
   "source": [
    "#45. Create a tuple of the first `n` powers of 2."
   ]
  },
  {
   "cell_type": "code",
   "execution_count": 20,
   "id": "8ee12494-9708-4fb8-aef4-a95c2b83a76e",
   "metadata": {},
   "outputs": [
    {
     "name": "stdin",
     "output_type": "stream",
     "text": [
      "enter the no. of tupels :  5\n"
     ]
    },
    {
     "data": {
      "text/plain": [
       "(0, 1, 4, 9, 16)"
      ]
     },
     "execution_count": 20,
     "metadata": {},
     "output_type": "execute_result"
    }
   ],
   "source": [
    "t = ()\n",
    "n = int(input('enter the no. of tupels : '))\n",
    "for i in range(0,n):\n",
    "    t += (i**2,)\n",
    "t"
   ]
  },
  {
   "cell_type": "code",
   "execution_count": 21,
   "id": "074fad69-1a34-4325-ab07-2b57ef078e76",
   "metadata": {},
   "outputs": [],
   "source": [
    "#46. Find the longest string in a tuple of strings."
   ]
  },
  {
   "cell_type": "code",
   "execution_count": 22,
   "id": "06f5448f-fbbf-4e35-80d0-f128e765779d",
   "metadata": {},
   "outputs": [
    {
     "data": {
      "text/plain": [
       "'raptiles'"
      ]
     },
     "execution_count": 22,
     "metadata": {},
     "output_type": "execute_result"
    }
   ],
   "source": [
    "t = ('animal','birds','raptiles')\n",
    "max(t,key = len)"
   ]
  },
  {
   "cell_type": "code",
   "execution_count": 23,
   "id": "530c7cf5-7be3-47e4-bc21-cfef1335b9be",
   "metadata": {},
   "outputs": [],
   "source": [
    "#47. Find the shortest string in a tuple of strings."
   ]
  },
  {
   "cell_type": "code",
   "execution_count": 24,
   "id": "8ba2722f-b815-4c00-b2dc-628dd0dc3aa9",
   "metadata": {},
   "outputs": [
    {
     "data": {
      "text/plain": [
       "'birds'"
      ]
     },
     "execution_count": 24,
     "metadata": {},
     "output_type": "execute_result"
    }
   ],
   "source": [
    "t = ('animal','birds','raptiles')\n",
    "min(t,key = len)"
   ]
  },
  {
   "cell_type": "code",
   "execution_count": 25,
   "id": "dafba413-ea5d-4b5c-a4dd-169dec5410b2",
   "metadata": {},
   "outputs": [],
   "source": [
    "#48. Create a tuple of the first `n` triangular numbers."
   ]
  },
  {
   "cell_type": "code",
   "execution_count": 28,
   "id": "c978a303-db79-4a82-a146-3dfe3d83c2c8",
   "metadata": {},
   "outputs": [
    {
     "name": "stdin",
     "output_type": "stream",
     "text": [
      "enter the no. of tupels :  6\n"
     ]
    },
    {
     "data": {
      "text/plain": [
       "(0, 1, 3, 6, 10, 15, 21)"
      ]
     },
     "execution_count": 28,
     "metadata": {},
     "output_type": "execute_result"
    }
   ],
   "source": [
    "t = ()\n",
    "step = 0\n",
    "n = int(input('enter the no. of tupels : '))\n",
    "\n",
    "for i in range (0,n+1):\n",
    "    step += i\n",
    "    t += (step,)\n",
    "t"
   ]
  },
  {
   "cell_type": "code",
   "execution_count": null,
   "id": "6a0b6c1c-7def-4aa6-9244-62937966a6af",
   "metadata": {},
   "outputs": [],
   "source": [
    "# 49 to ask"
   ]
  },
  {
   "cell_type": "code",
   "execution_count": 29,
   "id": "277ea018-cad6-4c33-9aa1-3cc089c345ca",
   "metadata": {},
   "outputs": [],
   "source": [
    "#50. Create a tuple of alternating 1s and 0s of length `n`."
   ]
  },
  {
   "cell_type": "code",
   "execution_count": 8,
   "id": "119b6050-52f6-4e2e-86c2-1607198fd2df",
   "metadata": {},
   "outputs": [
    {
     "name": "stdin",
     "output_type": "stream",
     "text": [
      "enter the no. of element  5\n"
     ]
    },
    {
     "name": "stdout",
     "output_type": "stream",
     "text": [
      "(1, 0, 1, 0, 1)\n"
     ]
    }
   ],
   "source": [
    "a=(1,0)\n",
    "n=int(input(\"enter the no. of element \"))\n",
    "if(n%2==0):\n",
    "  print(a*(n//2))\n",
    "else:\n",
    "  x=a*((n-1)//2)\n",
    "  x+=(1,)\n",
    "  print(x)"
   ]
  },
  {
   "cell_type": "code",
   "execution_count": null,
   "id": "bb03fc66-d8a5-47db-995a-354cbfd78bd4",
   "metadata": {},
   "outputs": [],
   "source": []
  },
  {
   "cell_type": "code",
   "execution_count": 31,
   "id": "d2c46247-d4d1-4c12-b878-aff0746ee6bf",
   "metadata": {},
   "outputs": [],
   "source": [
    "\n",
    "## SETS..##\n"
   ]
  },
  {
   "cell_type": "code",
   "execution_count": null,
   "id": "8e1a17ae-e98b-43aa-b35d-a693003a701d",
   "metadata": {},
   "outputs": [],
   "source": []
  },
  {
   "cell_type": "code",
   "execution_count": 32,
   "id": "92dcb2bc-e26f-4831-b405-0c0a250db26e",
   "metadata": {},
   "outputs": [],
   "source": [
    "#1. Create a set with integers from 1 to 5."
   ]
  },
  {
   "cell_type": "code",
   "execution_count": 3,
   "id": "77111f20-e733-49b2-9a3e-86b4af013f94",
   "metadata": {},
   "outputs": [
    {
     "data": {
      "text/plain": [
       "{0, 1, 2, 3, 4}"
      ]
     },
     "execution_count": 3,
     "metadata": {},
     "output_type": "execute_result"
    }
   ],
   "source": [
    "s = set()\n",
    "for i in range(0,5):\n",
    "    s.add(i)\n",
    "s"
   ]
  },
  {
   "cell_type": "code",
   "execution_count": 4,
   "id": "55285a0d-825d-42ad-9d6e-850f2634fd20",
   "metadata": {},
   "outputs": [],
   "source": [
    "#2. Add an element to a set."
   ]
  },
  {
   "cell_type": "code",
   "execution_count": 6,
   "id": "d30b67a0-af2d-470f-b8c6-8b51116c553a",
   "metadata": {},
   "outputs": [
    {
     "data": {
      "text/plain": [
       "{0, 1, 2, 3, 4, 5}"
      ]
     },
     "execution_count": 6,
     "metadata": {},
     "output_type": "execute_result"
    }
   ],
   "source": [
    "s = {0, 1, 2, 3, 4}\n",
    "s.add(5)\n",
    "s"
   ]
  },
  {
   "cell_type": "code",
   "execution_count": 7,
   "id": "d78bb074-648d-430f-a926-32125b34c4ee",
   "metadata": {},
   "outputs": [],
   "source": [
    "#3. Remove an element from a set."
   ]
  },
  {
   "cell_type": "code",
   "execution_count": 10,
   "id": "590525e6-a8c9-406e-af65-5b8aad7c4282",
   "metadata": {},
   "outputs": [
    {
     "data": {
      "text/plain": [
       "{0, 1, 2, 4}"
      ]
     },
     "execution_count": 10,
     "metadata": {},
     "output_type": "execute_result"
    }
   ],
   "source": [
    "s = {0, 1, 2, 3, 4}\n",
    "s.remove(3)\n",
    "s"
   ]
  },
  {
   "cell_type": "code",
   "execution_count": 11,
   "id": "a2988cd0-ac1f-4a5f-b4c2-f5934b3ddf3e",
   "metadata": {},
   "outputs": [],
   "source": [
    "#4. Check if an element exists in a set."
   ]
  },
  {
   "cell_type": "code",
   "execution_count": 13,
   "id": "7fce9465-ac1e-4fb4-a3b5-a97809ad4b30",
   "metadata": {},
   "outputs": [
    {
     "name": "stdin",
     "output_type": "stream",
     "text": [
      "enter the element:  5\n"
     ]
    },
    {
     "name": "stdout",
     "output_type": "stream",
     "text": [
      "not inside set\n"
     ]
    }
   ],
   "source": [
    "s = {0, 1, 2, 3, 4}\n",
    "item = int(input('enter the element: '))\n",
    "if item in s:\n",
    "    print(f'element {item} is in set {s} ')\n",
    "else:\n",
    "    print('not inside set')"
   ]
  },
  {
   "cell_type": "code",
   "execution_count": 14,
   "id": "f03fa883-e6e8-4ca0-96a5-1333b8247b0e",
   "metadata": {},
   "outputs": [
    {
     "name": "stdin",
     "output_type": "stream",
     "text": [
      "enter the element:  2\n"
     ]
    },
    {
     "name": "stdout",
     "output_type": "stream",
     "text": [
      "element 2 is in set {0, 1, 2, 3, 4} \n"
     ]
    }
   ],
   "source": [
    "s = {0, 1, 2, 3, 4}\n",
    "item = int(input('enter the element: '))\n",
    "if item in s:\n",
    "    print(f'element {item} is in set {s} ')\n",
    "else:\n",
    "    print('not inside set')"
   ]
  },
  {
   "cell_type": "code",
   "execution_count": 15,
   "id": "e2fcf209-f528-4491-991a-b96793dbaf60",
   "metadata": {},
   "outputs": [],
   "source": [
    "#5. Find the length of a set without using the `len()` function."
   ]
  },
  {
   "cell_type": "code",
   "execution_count": 16,
   "id": "8469d6f1-1d03-4a34-a49e-020002e9d044",
   "metadata": {},
   "outputs": [
    {
     "data": {
      "text/plain": [
       "5"
      ]
     },
     "execution_count": 16,
     "metadata": {},
     "output_type": "execute_result"
    }
   ],
   "source": [
    "s = {0, 1, 2, 3, 4}\n",
    "length = 0\n",
    "for i in s:\n",
    "    length += 1\n",
    "length"
   ]
  },
  {
   "cell_type": "code",
   "execution_count": 17,
   "id": "127ba6e5-e8bd-4b90-9fbb-ed717e553400",
   "metadata": {},
   "outputs": [],
   "source": [
    "#6. Clear all elements from a set."
   ]
  },
  {
   "cell_type": "code",
   "execution_count": 18,
   "id": "4d6cbd65-d748-4bf8-8d09-efa19e2aac04",
   "metadata": {},
   "outputs": [
    {
     "data": {
      "text/plain": [
       "set()"
      ]
     },
     "execution_count": 18,
     "metadata": {},
     "output_type": "execute_result"
    }
   ],
   "source": [
    "s = {0, 1, 2, 3, 4}\n",
    "s.clear()\n",
    "s"
   ]
  },
  {
   "cell_type": "code",
   "execution_count": 19,
   "id": "888a6d43-fb61-49fd-8cf3-08c6334b30b3",
   "metadata": {},
   "outputs": [],
   "source": [
    "#7. Create a set of even numbers from 1 to 10."
   ]
  },
  {
   "cell_type": "code",
   "execution_count": 20,
   "id": "676d841b-468f-4c90-a39c-0c195f228902",
   "metadata": {},
   "outputs": [
    {
     "data": {
      "text/plain": [
       "{2, 4, 6, 8, 10}"
      ]
     },
     "execution_count": 20,
     "metadata": {},
     "output_type": "execute_result"
    }
   ],
   "source": [
    "s = set()\n",
    "for i in range(1,11):\n",
    "    if i%2==0:\n",
    "        s.add(i)\n",
    "s"
   ]
  },
  {
   "cell_type": "code",
   "execution_count": 21,
   "id": "519439be-cbbd-4535-a746-e48a8483564a",
   "metadata": {},
   "outputs": [],
   "source": [
    "#8. Create a set of odd numbers from 1 to 10."
   ]
  },
  {
   "cell_type": "code",
   "execution_count": 22,
   "id": "cb4166ff-a8b8-44ba-a5e1-9b58cfa7899d",
   "metadata": {},
   "outputs": [
    {
     "data": {
      "text/plain": [
       "{1, 3, 5, 7, 9}"
      ]
     },
     "execution_count": 22,
     "metadata": {},
     "output_type": "execute_result"
    }
   ],
   "source": [
    "s = set()\n",
    "for i in range(1,11):\n",
    "    if i%2!=0:\n",
    "        s.add(i)\n",
    "s"
   ]
  },
  {
   "cell_type": "code",
   "execution_count": 23,
   "id": "951ddd46-fdcf-46bd-933d-28a6baf05efd",
   "metadata": {},
   "outputs": [],
   "source": [
    "#9. Find the union of two sets."
   ]
  },
  {
   "cell_type": "code",
   "execution_count": 24,
   "id": "f8c93db0-e9b2-40ff-8176-9e12b4e44b76",
   "metadata": {},
   "outputs": [
    {
     "data": {
      "text/plain": [
       "{1, 2, 3, 4, 5, 6}"
      ]
     },
     "execution_count": 24,
     "metadata": {},
     "output_type": "execute_result"
    }
   ],
   "source": [
    "s= {1,2,3}\n",
    "s1 = {4,5,6}\n",
    "s.union(s1)"
   ]
  },
  {
   "cell_type": "code",
   "execution_count": 25,
   "id": "751005fd-751b-4dee-ab95-ed73f6cfe910",
   "metadata": {},
   "outputs": [],
   "source": [
    "#10. Find the intersection of two sets."
   ]
  },
  {
   "cell_type": "code",
   "execution_count": 26,
   "id": "10b19039-c671-4a61-b2c3-828712581f86",
   "metadata": {},
   "outputs": [
    {
     "data": {
      "text/plain": [
       "{4}"
      ]
     },
     "execution_count": 26,
     "metadata": {},
     "output_type": "execute_result"
    }
   ],
   "source": [
    "s= {1,2,3,4}\n",
    "s1 = {4,5,6}\n",
    "s.intersection(s1)"
   ]
  },
  {
   "cell_type": "code",
   "execution_count": 27,
   "id": "6717b78e-e843-43ec-97b6-e554112d0eb5",
   "metadata": {},
   "outputs": [],
   "source": [
    "#11. Find the difference between two sets."
   ]
  },
  {
   "cell_type": "code",
   "execution_count": 29,
   "id": "654a7b72-0a5d-4b6c-99d3-7e073879ad9b",
   "metadata": {},
   "outputs": [
    {
     "data": {
      "text/plain": [
       "{1, 2, 3}"
      ]
     },
     "execution_count": 29,
     "metadata": {},
     "output_type": "execute_result"
    }
   ],
   "source": [
    "s= {1,2,3,4,5}\n",
    "s1 = {4,5,6}\n",
    "s.difference(s1)"
   ]
  },
  {
   "cell_type": "code",
   "execution_count": 30,
   "id": "e7e85bcd-6f9a-40f9-b0f9-a65ae8fa0263",
   "metadata": {},
   "outputs": [],
   "source": [
    "#12. Check if a set is a subset of another set."
   ]
  },
  {
   "cell_type": "code",
   "execution_count": 33,
   "id": "d451e591-cf7b-4ebb-9932-3251a6560b9f",
   "metadata": {},
   "outputs": [
    {
     "data": {
      "text/plain": [
       "True"
      ]
     },
     "execution_count": 33,
     "metadata": {},
     "output_type": "execute_result"
    }
   ],
   "source": [
    "s= {1,2,3,4,5}\n",
    "s1 = {4,5}\n",
    "s1.issubset(s)"
   ]
  },
  {
   "cell_type": "code",
   "execution_count": 34,
   "id": "38e72923-d1af-4922-80eb-0725e457eac7",
   "metadata": {},
   "outputs": [],
   "source": [
    "#13. Check if a set is a superset of another set."
   ]
  },
  {
   "cell_type": "code",
   "execution_count": 35,
   "id": "70ab58ab-217a-4d9c-8cc6-914be9f6d018",
   "metadata": {},
   "outputs": [
    {
     "data": {
      "text/plain": [
       "True"
      ]
     },
     "execution_count": 35,
     "metadata": {},
     "output_type": "execute_result"
    }
   ],
   "source": [
    "s= {1,2,3,4,5}\n",
    "s1 = {4,5}\n",
    "s.issuperset(s1)"
   ]
  },
  {
   "cell_type": "code",
   "execution_count": 36,
   "id": "dd0a2946-4295-4d6a-a6ea-99a3485357fd",
   "metadata": {},
   "outputs": [],
   "source": [
    "#14. Create a set from a list."
   ]
  },
  {
   "cell_type": "code",
   "execution_count": 37,
   "id": "9874c8b6-0159-4bc3-beed-56f3b0c561ac",
   "metadata": {},
   "outputs": [
    {
     "data": {
      "text/plain": [
       "{1, 2, 3, 4, 5, 6}"
      ]
     },
     "execution_count": 37,
     "metadata": {},
     "output_type": "execute_result"
    }
   ],
   "source": [
    "l = [1,2,3,4,5,6]\n",
    "s = set(l)\n",
    "s"
   ]
  },
  {
   "cell_type": "code",
   "execution_count": 38,
   "id": "825b8538-6a30-4c20-b1db-00d0d802ece5",
   "metadata": {},
   "outputs": [],
   "source": [
    "#15. Convert a set to a list.\n"
   ]
  },
  {
   "cell_type": "code",
   "execution_count": 39,
   "id": "36070e02-505c-4c14-9672-5e51d62f5aae",
   "metadata": {},
   "outputs": [
    {
     "data": {
      "text/plain": [
       "[1, 2, 3, 4, 5, 6]"
      ]
     },
     "execution_count": 39,
     "metadata": {},
     "output_type": "execute_result"
    }
   ],
   "source": [
    "s = {1, 2, 3, 4, 5, 6}\n",
    "l = list(s)\n",
    "l"
   ]
  },
  {
   "cell_type": "code",
   "execution_count": 40,
   "id": "76a7c80d-bb9b-4d63-a432-111920473d6a",
   "metadata": {},
   "outputs": [],
   "source": [
    "#16. Remove a random element from a set."
   ]
  },
  {
   "cell_type": "code",
   "execution_count": 41,
   "id": "b94688f6-e273-4bff-951c-80f5943b8bfe",
   "metadata": {},
   "outputs": [
    {
     "name": "stdin",
     "output_type": "stream",
     "text": [
      "enter any random integer:  5\n"
     ]
    },
    {
     "data": {
      "text/plain": [
       "{1, 2, 3, 4, 6}"
      ]
     },
     "execution_count": 41,
     "metadata": {},
     "output_type": "execute_result"
    }
   ],
   "source": [
    "s = {1, 2, 3, 4, 5, 6}\n",
    "n = int(input('enter any random integer: '))\n",
    "s.remove(n)\n",
    "s"
   ]
  },
  {
   "cell_type": "code",
   "execution_count": 42,
   "id": "edb843d3-bd89-42ee-a165-303353e7909d",
   "metadata": {},
   "outputs": [],
   "source": [
    "#17. Pop an element from a set."
   ]
  },
  {
   "cell_type": "code",
   "execution_count": 43,
   "id": "c614a114-d051-494c-8ae9-2cd6e2d1b2fa",
   "metadata": {},
   "outputs": [
    {
     "data": {
      "text/plain": [
       "1"
      ]
     },
     "execution_count": 43,
     "metadata": {},
     "output_type": "execute_result"
    }
   ],
   "source": [
    "s = {1, 2, 3, 4, 5, 6}\n",
    "s.pop()"
   ]
  },
  {
   "cell_type": "code",
   "execution_count": 44,
   "id": "f92aa379-66d1-41f4-bd96-33c6cd127796",
   "metadata": {},
   "outputs": [],
   "source": [
    "#18. Check if two sets have no elements in common."
   ]
  },
  {
   "cell_type": "code",
   "execution_count": 49,
   "id": "d25183f1-dda0-4968-8d62-fc5590f1bb71",
   "metadata": {},
   "outputs": [
    {
     "data": {
      "text/plain": [
       "set()"
      ]
     },
     "execution_count": 49,
     "metadata": {},
     "output_type": "execute_result"
    }
   ],
   "source": [
    "s = {1, 2, 3, 4, 5, 6}\n",
    "s1 = {7,8,9}\n",
    "s.intersection(s1)"
   ]
  },
  {
   "cell_type": "code",
   "execution_count": 50,
   "id": "0ecebd1c-cd4f-422d-9497-1609ffbc71ca",
   "metadata": {},
   "outputs": [],
   "source": [
    "#19. Find the symmetric difference between two sets."
   ]
  },
  {
   "cell_type": "code",
   "execution_count": 52,
   "id": "b3ac1eec-e292-4e49-a05b-33d6f2b76f17",
   "metadata": {},
   "outputs": [
    {
     "data": {
      "text/plain": [
       "{1, 2, 3, 4, 5, 7, 8, 9}"
      ]
     },
     "execution_count": 52,
     "metadata": {},
     "output_type": "execute_result"
    }
   ],
   "source": [
    "s = {1, 2, 3, 4, 5, 6}\n",
    "s1 = {6,7,8,9}\n",
    "s.symmetric_difference(s1)"
   ]
  },
  {
   "cell_type": "code",
   "execution_count": null,
   "id": "fc3d9e6c-b987-4656-97f6-0d4c9aff488b",
   "metadata": {},
   "outputs": [],
   "source": [
    "#20. Update a set with elements from another set."
   ]
  },
  {
   "cell_type": "code",
   "execution_count": 51,
   "id": "f7bc20bf-b608-4e43-92d0-ee595be007d4",
   "metadata": {},
   "outputs": [
    {
     "name": "stdout",
     "output_type": "stream",
     "text": [
      "{1, 2, 3, 4, 5, 6, 7, 8, 9}\n"
     ]
    }
   ],
   "source": [
    "a={1,2,3,4,5,6}\n",
    "b={4,5,6,7,8,9}\n",
    "a.update(b)\n",
    "print(a)"
   ]
  },
  {
   "cell_type": "code",
   "execution_count": null,
   "id": "6e5c83fa-4c42-429a-b88c-163d390c689d",
   "metadata": {},
   "outputs": [],
   "source": [
    "## TO BE  CONTINUED......"
   ]
  },
  {
   "cell_type": "code",
   "execution_count": null,
   "id": "220dc1e0-68e7-413a-bd4d-8ed4ea1a274f",
   "metadata": {},
   "outputs": [],
   "source": [
    "#21. Create a set of the first 5 prime numbers."
   ]
  },
  {
   "cell_type": "code",
   "execution_count": 5,
   "id": "9ff01653-6e20-4468-a66d-da0cff2dd626",
   "metadata": {},
   "outputs": [
    {
     "name": "stdout",
     "output_type": "stream",
     "text": [
      "{2, 3, 5, 7, 11}\n"
     ]
    }
   ],
   "source": [
    "s = set()\n",
    "for i in range(2,50):\n",
    "  for j in range(2,i):\n",
    "    if i%j==0:\n",
    "      break\n",
    "  else:\n",
    "    s.add(i)\n",
    "  if len(s)==5:\n",
    "    break\n",
    "print(s)"
   ]
  },
  {
   "cell_type": "code",
   "execution_count": null,
   "id": "969383d8-b149-4867-99f6-db5dad6306fc",
   "metadata": {},
   "outputs": [],
   "source": [
    "#22. Check if two sets are identical."
   ]
  },
  {
   "cell_type": "code",
   "execution_count": 7,
   "id": "7bffa3ca-4cd8-45cb-8956-4a91b1ca30ad",
   "metadata": {},
   "outputs": [
    {
     "name": "stdout",
     "output_type": "stream",
     "text": [
      "two sets are identical\n"
     ]
    }
   ],
   "source": [
    "s={1,2,3,4}\n",
    "s1={1,2,4,3}\n",
    "if s==s1:\n",
    "  print(\"two sets are identical\")\n",
    "else:\n",
    "  print(\"two sets are not identical\")"
   ]
  },
  {
   "cell_type": "code",
   "execution_count": null,
   "id": "8e721541-2b7c-4b50-b783-8399593fa014",
   "metadata": {},
   "outputs": [],
   "source": [
    "#23. Create a frozen set."
   ]
  },
  {
   "cell_type": "code",
   "execution_count": 10,
   "id": "50b71af3-316d-48df-9df1-f15d40b8be4b",
   "metadata": {},
   "outputs": [
    {
     "name": "stdout",
     "output_type": "stream",
     "text": [
      "frozenset({1, 2, 3, 4, 5})\n"
     ]
    }
   ],
   "source": [
    "s={1,2,3,4,5}\n",
    "print(frozenset(a))   \n",
    "#frozenset({1, 2, 3, 4, 5})"
   ]
  },
  {
   "cell_type": "code",
   "execution_count": 11,
   "id": "a5581bbd-6564-4081-a6a4-3ba1fae4fbd9",
   "metadata": {},
   "outputs": [],
   "source": [
    "#24. Check if a set is disjoint with another set."
   ]
  },
  {
   "cell_type": "code",
   "execution_count": 13,
   "id": "8c2758c6-088c-4c4c-95a9-db4176abf91a",
   "metadata": {},
   "outputs": [
    {
     "data": {
      "text/plain": [
       "True"
      ]
     },
     "execution_count": 13,
     "metadata": {},
     "output_type": "execute_result"
    }
   ],
   "source": [
    "s ={1,2,3,4,5}\n",
    "s1 = {6,7,8}\n",
    "s.isdisjoint(s1)"
   ]
  },
  {
   "cell_type": "code",
   "execution_count": 14,
   "id": "a86a97e1-67a6-45c9-8810-9c47d8e85ed0",
   "metadata": {},
   "outputs": [
    {
     "data": {
      "text/plain": [
       "False"
      ]
     },
     "execution_count": 14,
     "metadata": {},
     "output_type": "execute_result"
    }
   ],
   "source": [
    "s ={1,2,3,4,5}\n",
    "s1 = {5,6,7,8}\n",
    "s.isdisjoint(s1)"
   ]
  },
  {
   "cell_type": "code",
   "execution_count": 15,
   "id": "fd0e2d1a-964c-47cc-a80c-fd4896701f0a",
   "metadata": {},
   "outputs": [],
   "source": [
    "#25. Create a set of squares of numbers from 1 to 5."
   ]
  },
  {
   "cell_type": "code",
   "execution_count": 16,
   "id": "56b5ee1f-5535-4adb-9a92-366336c9838e",
   "metadata": {},
   "outputs": [
    {
     "data": {
      "text/plain": [
       "{0, 1, 4, 9, 16, 25}"
      ]
     },
     "execution_count": 16,
     "metadata": {},
     "output_type": "execute_result"
    }
   ],
   "source": [
    "s = set()\n",
    "for i in range(0,6):\n",
    "    s.add(i**2)\n",
    "s"
   ]
  },
  {
   "cell_type": "code",
   "execution_count": 17,
   "id": "cd9c198a-3de8-464d-871a-a86c8ec3d095",
   "metadata": {},
   "outputs": [],
   "source": [
    "#26. Filter out all even numbers from a set."
   ]
  },
  {
   "cell_type": "code",
   "execution_count": 19,
   "id": "5908c4b6-9227-4ac8-a054-12f7356d5d50",
   "metadata": {},
   "outputs": [
    {
     "name": "stdout",
     "output_type": "stream",
     "text": [
      "2 4 6 8 "
     ]
    }
   ],
   "source": [
    "s = {1,2,3,4,5,6,7,8,9}\n",
    "for i in s:\n",
    "    if i%2==0:\n",
    "        print(i,end=' ')"
   ]
  },
  {
   "cell_type": "code",
   "execution_count": 20,
   "id": "9e4513c5-3c09-483b-9a13-a2a12b7c9bec",
   "metadata": {},
   "outputs": [],
   "source": [
    "# 27. Multiply all elements in a set by 2."
   ]
  },
  {
   "cell_type": "code",
   "execution_count": 22,
   "id": "db7853ca-82dd-4fb5-943d-429ef5dde361",
   "metadata": {},
   "outputs": [
    {
     "data": {
      "text/plain": [
       "{2, 4, 6, 8, 10, 12, 14, 16, 18}"
      ]
     },
     "execution_count": 22,
     "metadata": {},
     "output_type": "execute_result"
    }
   ],
   "source": [
    "s = {1,2,3,4,5,6,7,8,9}\n",
    "s1 = set()\n",
    "for i in s:\n",
    "    s1.add(i*2)\n",
    "s1"
   ]
  },
  {
   "cell_type": "code",
   "execution_count": 23,
   "id": "f3a2593f-b590-41ff-9202-e848db19e622",
   "metadata": {},
   "outputs": [],
   "source": [
    "#28. Create a set of random numbers."
   ]
  },
  {
   "cell_type": "code",
   "execution_count": 24,
   "id": "0e06ca06-208d-4285-9fc4-4b50d0dc9c10",
   "metadata": {},
   "outputs": [
    {
     "data": {
      "text/plain": [
       "{6, 9, 14, 15, 20, 22, 30, 31, 34, 41}"
      ]
     },
     "execution_count": 24,
     "metadata": {},
     "output_type": "execute_result"
    }
   ],
   "source": [
    "import random\n",
    "s = set()\n",
    "for i in range(0,11):\n",
    "    s.add(random.randint(0,50))\n",
    "s"
   ]
  },
  {
   "cell_type": "code",
   "execution_count": 25,
   "id": "419e6aa7-8177-4496-a3df-55f10c16030d",
   "metadata": {},
   "outputs": [],
   "source": [
    "#29. Check if a set is empty."
   ]
  },
  {
   "cell_type": "code",
   "execution_count": 26,
   "id": "d4cf01b2-9dd7-42d8-9f44-879c39173d1d",
   "metadata": {},
   "outputs": [
    {
     "name": "stdout",
     "output_type": "stream",
     "text": [
      "empty\n"
     ]
    }
   ],
   "source": [
    "s = set()\n",
    "if s == set():\n",
    "    print('empty')\n",
    "else:print('not empty')"
   ]
  },
  {
   "cell_type": "code",
   "execution_count": 27,
   "id": "935db85f-8a49-4a32-ad62-7a4e9a3d9bb6",
   "metadata": {},
   "outputs": [],
   "source": [
    "#30. Create a nested set (hint: use frozenset)."
   ]
  },
  {
   "cell_type": "code",
   "execution_count": 33,
   "id": "d26cf9bf-aacf-405c-bbef-ee9dbd572cb4",
   "metadata": {},
   "outputs": [
    {
     "name": "stdout",
     "output_type": "stream",
     "text": [
      "{frozenset({1, 2, 3, 4}), frozenset({8, 5, 6, 7})}\n"
     ]
    }
   ],
   "source": [
    "s1=frozenset({1,2,3,4})\n",
    "s2=frozenset({5,6,7,8})\n",
    "s = set()\n",
    "s.add(s1)\n",
    "s.add(s2)\n",
    "print(s)"
   ]
  },
  {
   "cell_type": "code",
   "execution_count": 34,
   "id": "8c9e00b7-9402-4f46-b464-918849d89d23",
   "metadata": {},
   "outputs": [],
   "source": [
    "#31. Remove an element from a set using the discard method."
   ]
  },
  {
   "cell_type": "code",
   "execution_count": 36,
   "id": "49e58bd7-c6b3-4540-ad94-1020092cbea9",
   "metadata": {},
   "outputs": [
    {
     "data": {
      "text/plain": [
       "{1, 2, 3, 4, 5, 6, 7, 8}"
      ]
     },
     "execution_count": 36,
     "metadata": {},
     "output_type": "execute_result"
    }
   ],
   "source": [
    "s = {1,2,3,4,5,6,7,8,9}\n",
    "s.discard(9)\n",
    "s"
   ]
  },
  {
   "cell_type": "code",
   "execution_count": 37,
   "id": "3805310a-c69c-4e9a-87f8-8cb925d7757f",
   "metadata": {},
   "outputs": [],
   "source": [
    "#32. Compare two sets\n"
   ]
  },
  {
   "cell_type": "code",
   "execution_count": 38,
   "id": "1a4c8eb7-1efd-4433-95e8-fb8fc75374ee",
   "metadata": {},
   "outputs": [
    {
     "name": "stdout",
     "output_type": "stream",
     "text": [
      "equal\n"
     ]
    }
   ],
   "source": [
    "s ={1,2,3}\n",
    "s1 = {1,2,3}\n",
    "if s == s1:\n",
    "    print('equal')\n",
    "else:print('not equal')"
   ]
  },
  {
   "cell_type": "code",
   "execution_count": 39,
   "id": "b13ddd33-48f9-41fc-bad8-d99996f23ae0",
   "metadata": {},
   "outputs": [],
   "source": [
    "#33. Create a set from a string."
   ]
  },
  {
   "cell_type": "code",
   "execution_count": 42,
   "id": "45bdf3df-d094-4eb1-8f60-e2daba8e55cf",
   "metadata": {},
   "outputs": [
    {
     "name": "stdout",
     "output_type": "stream",
     "text": [
      "{'y', 'a', 'j'}\n"
     ]
    }
   ],
   "source": [
    "str = 'ajay'\n",
    "print(set(str))"
   ]
  },
  {
   "cell_type": "code",
   "execution_count": 43,
   "id": "3d6e2555-3032-481b-b223-f66ac7334941",
   "metadata": {},
   "outputs": [],
   "source": [
    "#34. Convert a set of strings to a set of integers."
   ]
  },
  {
   "cell_type": "code",
   "execution_count": 44,
   "id": "84617bf8-d670-424d-9e0d-bded9419c9fa",
   "metadata": {},
   "outputs": [
    {
     "data": {
      "text/plain": [
       "{1, 2, 3}"
      ]
     },
     "execution_count": 44,
     "metadata": {},
     "output_type": "execute_result"
    }
   ],
   "source": [
    "s = {'1','2','3'}\n",
    "s1 = set()\n",
    "for i in s:\n",
    "    s1.add(int(i))\n",
    "s1"
   ]
  },
  {
   "cell_type": "code",
   "execution_count": 45,
   "id": "fe90413d-246d-40a9-ad42-227f12489bf3",
   "metadata": {},
   "outputs": [],
   "source": [
    "#35. Convert a set of integers to a set of strings."
   ]
  },
  {
   "cell_type": "code",
   "execution_count": 1,
   "id": "fc590ded-71e0-4159-bc38-31b56ec92ac5",
   "metadata": {},
   "outputs": [
    {
     "data": {
      "text/plain": [
       "{'1', '2', '3'}"
      ]
     },
     "execution_count": 1,
     "metadata": {},
     "output_type": "execute_result"
    }
   ],
   "source": [
    "s = {1, 2, 3}\n",
    "s1 = set()\n",
    "for i in s:\n",
    "    s1.add(str(i))\n",
    "s1"
   ]
  },
  {
   "cell_type": "code",
   "execution_count": 2,
   "id": "6a2a4cac-283b-4bad-a35c-b1bf69de8f3c",
   "metadata": {},
   "outputs": [],
   "source": [
    "#36. Create a set from a tuple.\n"
   ]
  },
  {
   "cell_type": "code",
   "execution_count": 3,
   "id": "c7eeda78-8c78-48ac-b147-9c39d91ca34f",
   "metadata": {},
   "outputs": [
    {
     "data": {
      "text/plain": [
       "{1, 2, 3, 4}"
      ]
     },
     "execution_count": 3,
     "metadata": {},
     "output_type": "execute_result"
    }
   ],
   "source": [
    "t = (1,2,3,4)\n",
    "s = set(t)\n",
    "s"
   ]
  },
  {
   "cell_type": "code",
   "execution_count": 4,
   "id": "f1bc4fef-efc1-4b06-82f4-1fa4019834bf",
   "metadata": {},
   "outputs": [],
   "source": [
    "#37. Convert a set to a tuple."
   ]
  },
  {
   "cell_type": "code",
   "execution_count": 6,
   "id": "617fcf5c-af3d-4716-84c1-d2fde3b5cd9c",
   "metadata": {},
   "outputs": [
    {
     "data": {
      "text/plain": [
       "(1, 2, 3, 4, 5)"
      ]
     },
     "execution_count": 6,
     "metadata": {},
     "output_type": "execute_result"
    }
   ],
   "source": [
    "s ={1,2,3,4,5}\n",
    "t = tuple(s)\n",
    "t"
   ]
  },
  {
   "cell_type": "code",
   "execution_count": 7,
   "id": "fa2ce4e2-42b3-4eaf-820c-0e361b210ee3",
   "metadata": {},
   "outputs": [],
   "source": [
    "#38. Find the maximum value in a set."
   ]
  },
  {
   "cell_type": "code",
   "execution_count": 8,
   "id": "cd878594-e285-4acd-94ec-0abefc149111",
   "metadata": {},
   "outputs": [
    {
     "data": {
      "text/plain": [
       "5"
      ]
     },
     "execution_count": 8,
     "metadata": {},
     "output_type": "execute_result"
    }
   ],
   "source": [
    "s ={1,2,3,4,5}\n",
    "max(s)"
   ]
  },
  {
   "cell_type": "code",
   "execution_count": 9,
   "id": "b0044a29-5706-48da-a039-62a198753f8d",
   "metadata": {},
   "outputs": [],
   "source": [
    "#39. Find the minimum value in a set.\n"
   ]
  },
  {
   "cell_type": "code",
   "execution_count": 10,
   "id": "768bf601-0540-43f8-a1e8-9f46a73e7b83",
   "metadata": {},
   "outputs": [
    {
     "data": {
      "text/plain": [
       "1"
      ]
     },
     "execution_count": 10,
     "metadata": {},
     "output_type": "execute_result"
    }
   ],
   "source": [
    "s ={1,2,3,4,5}\n",
    "min(s)"
   ]
  },
  {
   "cell_type": "code",
   "execution_count": 11,
   "id": "0a5186be-0566-454b-a25d-acfc02f5d935",
   "metadata": {},
   "outputs": [],
   "source": [
    "#40. Create a set from user input."
   ]
  },
  {
   "cell_type": "code",
   "execution_count": 12,
   "id": "09830cf6-4f45-4173-bf9c-e4d3c8502a9a",
   "metadata": {},
   "outputs": [
    {
     "name": "stdin",
     "output_type": "stream",
     "text": [
      " 5\n",
      " 7\n",
      " 8\n",
      " 6\n",
      " 1\n"
     ]
    },
    {
     "data": {
      "text/plain": [
       "{1, 5, 6, 7, 8}"
      ]
     },
     "execution_count": 12,
     "metadata": {},
     "output_type": "execute_result"
    }
   ],
   "source": [
    "s =set()\n",
    "for i in range(0,5):\n",
    "    s.add(int(input()))\n",
    "s"
   ]
  },
  {
   "cell_type": "code",
   "execution_count": 13,
   "id": "cb52c8ce-8fef-480b-bacd-2b47760264b3",
   "metadata": {},
   "outputs": [],
   "source": [
    "#41. Check if the intersection of two sets is empty."
   ]
  },
  {
   "cell_type": "code",
   "execution_count": 15,
   "id": "29c3af11-1a6b-47ca-90c3-909305799d18",
   "metadata": {},
   "outputs": [
    {
     "name": "stdout",
     "output_type": "stream",
     "text": [
      "empty\n"
     ]
    }
   ],
   "source": [
    "s1 = {1, 5, 6, 7, 8}\n",
    "s2 = {33,22,65,9,0}\n",
    "s = s1.intersection(s2)\n",
    "if s == set():\n",
    "    print('empty')\n",
    "else:print('not empty')"
   ]
  },
  {
   "cell_type": "code",
   "execution_count": 16,
   "id": "027940b1-0a79-4abd-b9a7-5e84c2b46f3c",
   "metadata": {},
   "outputs": [],
   "source": [
    "#42. Create a set of the first 5 Fibonacci numbers."
   ]
  },
  {
   "cell_type": "code",
   "execution_count": 24,
   "id": "5a92af9b-77ab-4368-ad99-2b4213b363a8",
   "metadata": {},
   "outputs": [
    {
     "name": "stdout",
     "output_type": "stream",
     "text": [
      "{0, 1, 2, 3, 5}\n"
     ]
    }
   ],
   "source": [
    "s=set()\n",
    "x=0\n",
    "y=1\n",
    "s={x,y}\n",
    "for i in range(1,10):\n",
    "  f=x+y\n",
    "  x=y\n",
    "  y=f\n",
    "  s.add(f)\n",
    "  if len(s)==5:\n",
    "    break\n",
    "print(s)"
   ]
  },
  {
   "cell_type": "code",
   "execution_count": 26,
   "id": "2ccce97a-446d-4a14-a493-639d3358f935",
   "metadata": {},
   "outputs": [],
   "source": [
    "#43. Remove duplicates from a list using sets.\n"
   ]
  },
  {
   "cell_type": "code",
   "execution_count": 27,
   "id": "04e649d6-edae-4ca9-a39d-364ed012e23d",
   "metadata": {},
   "outputs": [
    {
     "data": {
      "text/plain": [
       "{2, 3, 4, 6, 8}"
      ]
     },
     "execution_count": 27,
     "metadata": {},
     "output_type": "execute_result"
    }
   ],
   "source": [
    "l = [2,4,2,6,8,3,2]\n",
    "set(l)"
   ]
  },
  {
   "cell_type": "code",
   "execution_count": 28,
   "id": "0de4748e-dd11-4964-97f7-3ec1850bbcbb",
   "metadata": {},
   "outputs": [],
   "source": [
    "#44. Check if two sets have the same elements, regardless of their count."
   ]
  },
  {
   "cell_type": "code",
   "execution_count": 29,
   "id": "153c4c2c-9c20-4166-ae34-6f584c0d3d68",
   "metadata": {},
   "outputs": [
    {
     "data": {
      "text/plain": [
       "{1, 2, 3, 4, 5}"
      ]
     },
     "execution_count": 29,
     "metadata": {},
     "output_type": "execute_result"
    }
   ],
   "source": [
    "s1={1,2,3,4,3,2,1,5,2}\n",
    "s2={1,2,3,4,5,9,2}\n",
    "s1.intersection(s2)"
   ]
  },
  {
   "cell_type": "code",
   "execution_count": null,
   "id": "af2f54fb-1bb3-4b18-a777-6d7a237a343a",
   "metadata": {},
   "outputs": [],
   "source": [
    "#45. Create a set of the first `n` powers of 2.\n"
   ]
  },
  {
   "cell_type": "code",
   "execution_count": 31,
   "id": "b6bd3a16-afa9-4539-83b0-3d135d334670",
   "metadata": {},
   "outputs": [
    {
     "name": "stdin",
     "output_type": "stream",
     "text": [
      "enter the no. :  6\n"
     ]
    },
    {
     "name": "stdout",
     "output_type": "stream",
     "text": [
      "{1, 4, 36, 9, 16, 25}\n"
     ]
    }
   ],
   "source": [
    "s=set()\n",
    "n=int(input(\"enter the no. : \"))\n",
    "for i in range(1,n+1):\n",
    "  s.add(i**2)\n",
    "print(s)"
   ]
  },
  {
   "cell_type": "code",
   "execution_count": null,
   "id": "c1554692-b820-40fb-b722-e6b667b5c2b3",
   "metadata": {},
   "outputs": [],
   "source": [
    "#46. Find the common elements between a set and a list.\n"
   ]
  },
  {
   "cell_type": "code",
   "execution_count": 32,
   "id": "be2cdd83-4015-47c0-81b7-645ec310861d",
   "metadata": {},
   "outputs": [
    {
     "name": "stdout",
     "output_type": "stream",
     "text": [
      "{2, 3, 4, 5, 6}\n"
     ]
    }
   ],
   "source": [
    "l=[1,2,3,4,5,6,5,4,3]\n",
    "s={2,3,4,5,2,6,7}\n",
    "print(set(l).intersection(s))"
   ]
  },
  {
   "cell_type": "code",
   "execution_count": null,
   "id": "6c9ad9c8-54ed-4fb9-96cc-808c626c83f2",
   "metadata": {},
   "outputs": [],
   "source": [
    "#47.Create a set of the first n triangular numbers."
   ]
  },
  {
   "cell_type": "code",
   "execution_count": 37,
   "id": "15144a69-c230-400a-845b-d894fc14981e",
   "metadata": {},
   "outputs": [
    {
     "name": "stdin",
     "output_type": "stream",
     "text": [
      "enter the no. of element 5\n"
     ]
    },
    {
     "name": "stdout",
     "output_type": "stream",
     "text": [
      "{0, 1, 3, 6, 10, 15}\n"
     ]
    }
   ],
   "source": [
    "\n",
    "s=set()\n",
    "n=int(input(\"enter the no. of element\"))\n",
    "step=0\n",
    "for i in range(0,n+1):\n",
    "  step+=i\n",
    "  s.add(step)\n",
    "print(s)     "
   ]
  },
  {
   "cell_type": "code",
   "execution_count": 38,
   "id": "81f4a03d-5387-4b2c-aa26-dbc208a492a6",
   "metadata": {},
   "outputs": [],
   "source": [
    "#48. Check if a set contains another set as a subset.\n"
   ]
  },
  {
   "cell_type": "code",
   "execution_count": 40,
   "id": "cb11cdac-59a1-4cca-a231-24144702a7b3",
   "metadata": {},
   "outputs": [
    {
     "data": {
      "text/plain": [
       "True"
      ]
     },
     "execution_count": 40,
     "metadata": {},
     "output_type": "execute_result"
    }
   ],
   "source": [
    "s ={0, 1, 3, 6, 10, 15}\n",
    "s1 = {1,0,3}\n",
    "s1.issubset(s)"
   ]
  },
  {
   "cell_type": "code",
   "execution_count": 43,
   "id": "4ddbc2d5-ea01-44f2-9104-aef2734a63be",
   "metadata": {},
   "outputs": [],
   "source": [
    "#49. Create a set of alternating 1s and 0s of length `n`."
   ]
  },
  {
   "cell_type": "code",
   "execution_count": null,
   "id": "3239d5b1-da12-41a8-b56f-f78b75d19b1f",
   "metadata": {},
   "outputs": [],
   "source": [
    "# can not do this in set because of repe"
   ]
  },
  {
   "cell_type": "code",
   "execution_count": 41,
   "id": "df030cac-f9e0-49ff-ba78-0b875030d942",
   "metadata": {},
   "outputs": [],
   "source": [
    "#50. Merge multiple sets into one."
   ]
  },
  {
   "cell_type": "code",
   "execution_count": 42,
   "id": "04a23836-33bc-43d2-89f2-2be3b681b557",
   "metadata": {},
   "outputs": [
    {
     "data": {
      "text/plain": [
       "{1, 2, 3, 4, 5, 6}"
      ]
     },
     "execution_count": 42,
     "metadata": {},
     "output_type": "execute_result"
    }
   ],
   "source": [
    "s1 = {1,2,3}\n",
    "s2 = {3,4,5}\n",
    "s3 = {4,5,6}\n",
    "s1.union(s2).union(s3)"
   ]
  },
  {
   "cell_type": "code",
   "execution_count": null,
   "id": "2a7eff1f-60e3-4c3c-95be-d7b723c8fa37",
   "metadata": {},
   "outputs": [],
   "source": []
  }
 ],
 "metadata": {
  "kernelspec": {
   "display_name": "Python 3 (ipykernel)",
   "language": "python",
   "name": "python3"
  },
  "language_info": {
   "codemirror_mode": {
    "name": "ipython",
    "version": 3
   },
   "file_extension": ".py",
   "mimetype": "text/x-python",
   "name": "python",
   "nbconvert_exporter": "python",
   "pygments_lexer": "ipython3",
   "version": "3.12.7"
  }
 },
 "nbformat": 4,
 "nbformat_minor": 5
}
