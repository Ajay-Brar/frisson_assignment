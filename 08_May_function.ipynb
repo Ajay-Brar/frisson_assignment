{
  "nbformat": 4,
  "nbformat_minor": 0,
  "metadata": {
    "colab": {
      "provenance": [],
      "authorship_tag": "ABX9TyMrdhxwQKiffrJqObgoCw3/",
      "include_colab_link": true
    },
    "kernelspec": {
      "name": "python3",
      "display_name": "Python 3"
    },
    "language_info": {
      "name": "python"
    }
  },
  "cells": [
    {
      "cell_type": "markdown",
      "metadata": {
        "id": "view-in-github",
        "colab_type": "text"
      },
      "source": [
        "<a href=\"https://colab.research.google.com/github/Ajay-Brar/frisson_assignment/blob/main/08_May_function.ipynb\" target=\"_parent\"><img src=\"https://colab.research.google.com/assets/colab-badge.svg\" alt=\"Open In Colab\"/></a>"
      ]
    },
    {
      "cell_type": "code",
      "execution_count": 18,
      "metadata": {
        "colab": {
          "base_uri": "https://localhost:8080/",
          "height": 53
        },
        "id": "RA_qgrOf6UTq",
        "outputId": "1f59f4e2-f786-4ab0-ee12-f297c1d45c45"
      },
      "outputs": [
        {
          "name": "stdout",
          "output_type": "stream",
          "text": [
            "enter  password abcd@123\n"
          ]
        },
        {
          "output_type": "execute_result",
          "data": {
            "text/plain": [
              "'valid password'"
            ],
            "application/vnd.google.colaboratory.intrinsic+json": {
              "type": "string"
            }
          },
          "metadata": {},
          "execution_count": 18
        }
      ],
      "source": [
        "pswrd=input(\"enter  password \")\n",
        "def password(pswrd):\n",
        "  if 8<=len(pswrd)<=32:\n",
        "    if 'a'<=pswrd[0]<='z' or 'A'<=pswrd[0]<='Z':\n",
        "      if '/' not in pswrd and '\\\\' not in pswrd and '=' not in pswrd and \"'\" not in pswrd and '\"' not in pswrd and ' ' not in pswrd:\n",
        "        return \"valid password\"\n",
        "      else:\n",
        "        return \"remove special character example = '/\\=' \"\n",
        "    else:\n",
        "      return \"use alphabet as first character\"\n",
        "  else:\n",
        "    return \"password should have minimum 8\"\n",
        "password(pswrd)"
      ]
    },
    {
      "cell_type": "code",
      "source": [
        "p=input(\"enter password \")\n",
        "def password(p):\n",
        "  if 8<=len(p)<=32:\n",
        "    if 'a'<=p[0]<='z' or 'A'<=p[0]<='Z':\n",
        "      if '/' not in p and '\\\\' not in p and '=' not in p and \"'\" not in p and '\"' not in p and ' ' not in p:\n",
        "        return \"valid password\"\n",
        "      else:\n",
        "        return \"remove special character'/\\='\\\" \"\n",
        "    else:\n",
        "      return \"use alphabet as first character\"\n",
        "  else:\n",
        "    a = ''' Pasword is invalid\n",
        "        make your password correct\n",
        "        and password should have minimum 8\n",
        "        character or maximum 32 character\n",
        "        Suggentions:\n",
        "        1. abcd1234\n",
        "        2. abcd@123\n",
        "        3. abc#$%231 '''\n",
        "    return a\n",
        "password(p)"
      ],
      "metadata": {
        "colab": {
          "base_uri": "https://localhost:8080/",
          "height": 70
        },
        "id": "asAVV8Vr7Zz7",
        "outputId": "f399e86e-bfd3-4680-fa73-899923dd02ae"
      },
      "execution_count": 19,
      "outputs": [
        {
          "name": "stdout",
          "output_type": "stream",
          "text": [
            "enter password 123\n"
          ]
        },
        {
          "output_type": "execute_result",
          "data": {
            "text/plain": [
              "' Pasword is invalid \\n        make your password correct\\n        and password should have minimum 8\\n        character or maximum 32 character\\n        Suggentions:\\n        1. abcd1234\\n        2. abcd@123\\n        3. abc#$%231 '"
            ],
            "application/vnd.google.colaboratory.intrinsic+json": {
              "type": "string"
            }
          },
          "metadata": {},
          "execution_count": 19
        }
      ]
    },
    {
      "cell_type": "code",
      "source": [],
      "metadata": {
        "id": "pP5hthR8C22X"
      },
      "execution_count": null,
      "outputs": []
    }
  ]
}