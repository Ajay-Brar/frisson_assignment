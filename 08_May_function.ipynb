{
  "nbformat": 4,
  "nbformat_minor": 0,
  "metadata": {
    "colab": {
      "provenance": [],
      "authorship_tag": "ABX9TyOCHLJjJjZI4OqfG3xlY27m",
      "include_colab_link": true
    },
    "kernelspec": {
      "name": "python3",
      "display_name": "Python 3"
    },
    "language_info": {
      "name": "python"
    }
  },
  "cells": [
    {
      "cell_type": "markdown",
      "metadata": {
        "id": "view-in-github",
        "colab_type": "text"
      },
      "source": [
        "<a href=\"https://colab.research.google.com/github/Ajay-Brar/frisson_assignment/blob/main/08_May_function.ipynb\" target=\"_parent\"><img src=\"https://colab.research.google.com/assets/colab-badge.svg\" alt=\"Open In Colab\"/></a>"
      ]
    },
    {
      "cell_type": "markdown",
      "source": [
        "# **Task 1**\n"
      ],
      "metadata": {
        "id": "IFQ9JYtlDvZV"
      }
    },
    {
      "cell_type": "code",
      "execution_count": null,
      "metadata": {
        "colab": {
          "base_uri": "https://localhost:8080/",
          "height": 53
        },
        "id": "RA_qgrOf6UTq",
        "outputId": "1f59f4e2-f786-4ab0-ee12-f297c1d45c45"
      },
      "outputs": [
        {
          "name": "stdout",
          "output_type": "stream",
          "text": [
            "enter  password abcd@123\n"
          ]
        },
        {
          "output_type": "execute_result",
          "data": {
            "text/plain": [
              "'valid password'"
            ],
            "application/vnd.google.colaboratory.intrinsic+json": {
              "type": "string"
            }
          },
          "metadata": {},
          "execution_count": 18
        }
      ],
      "source": [
        "pswrd=input(\"enter  password \")\n",
        "def password(pswrd):\n",
        "  if 8<=len(pswrd)<=32:\n",
        "    if 'a'<=pswrd[0]<='z' or 'A'<=pswrd[0]<='Z':\n",
        "      if '/' not in pswrd and '\\\\' not in pswrd and '=' not in pswrd and \"'\" not in pswrd and '\"' not in pswrd and ' ' not in pswrd:\n",
        "        return \"valid password\"\n",
        "      else:\n",
        "        return \"remove special character example = '/\\=' \"\n",
        "    else:\n",
        "      return \"use alphabet as first character\"\n",
        "  else:\n",
        "    return \"password should have minimum 8\"\n",
        "password(pswrd)"
      ]
    },
    {
      "cell_type": "markdown",
      "source": [
        "# **Task 2**"
      ],
      "metadata": {
        "id": "_xOKuNu3D4XK"
      }
    },
    {
      "cell_type": "code",
      "source": [
        "import string\n",
        "import random\n",
        "\n",
        "\n",
        "def suggest_password():\n",
        "    while True:\n",
        "      a=random.choices(string.ascii_letters + string.digits, k=8)\n",
        "      a=''.join(a)\n",
        "      if a[0].isalpha(): #it return that password that start with alphabet\n",
        "         return(a)\n",
        "def password(pass_word):\n",
        "  if 8<=len(pass_word)<=32:\n",
        "    if 'a'<=pass_word[0]<='z' or 'A'<=pass_word[0]<='Z':\n",
        "      if '/' not in  pass_word and '\\\\' not in pass_word and '=' not in pass_word and \"'\" not in pass_word and '\"' not in pass_word and ' ' not in pass_word:\n",
        "        return \"valid password\"\n",
        "      else:\n",
        "        return \"remove special character'/\\='\\ \" + suggest_password()\n",
        "    else:\n",
        "      return \"use alphabet as first character \" + suggest_password()\n",
        "  else:\n",
        "    return \"password should have minimum 8 It shuld be like this: \" + suggest_password()\n",
        "pass_word=input(\"enter password \")\n",
        "\n",
        "password(pass_word)\n"
      ],
      "metadata": {
        "colab": {
          "base_uri": "https://localhost:8080/",
          "height": 54
        },
        "id": "asAVV8Vr7Zz7",
        "outputId": "95c271d7-d96d-431a-c16f-27b61c9cdb3e"
      },
      "execution_count": 17,
      "outputs": [
        {
          "name": "stdout",
          "output_type": "stream",
          "text": [
            "enter password ajay1234=\n"
          ]
        },
        {
          "output_type": "execute_result",
          "data": {
            "text/plain": [
              "\"remove special character'/\\\\='\\\\ sXI5kI8F\""
            ],
            "application/vnd.google.colaboratory.intrinsic+json": {
              "type": "string"
            }
          },
          "metadata": {},
          "execution_count": 17
        }
      ]
    },
    {
      "cell_type": "markdown",
      "source": [],
      "metadata": {
        "id": "NruCH0PYDqvr"
      }
    },
    {
      "cell_type": "code",
      "source": [],
      "metadata": {
        "id": "pP5hthR8C22X"
      },
      "execution_count": null,
      "outputs": []
    }
  ]
}