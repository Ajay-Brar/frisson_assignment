{
 "cells": [
  {
   "cell_type": "code",
   "execution_count": null,
   "id": "f543aeed-42e4-4dc4-9b5d-b2b01de7465d",
   "metadata": {},
   "outputs": [],
   "source": [
    "##..STRING..##"
   ]
  },
  {
   "cell_type": "raw",
   "id": "0ead19f8-6734-49c4-8e77-c1db3a924013",
   "metadata": {},
   "source": [
    "1. Write a program to reverse a string.\n"
   ]
  },
  {
   "cell_type": "code",
   "execution_count": 1,
   "id": "8b825cb7-95f3-4e34-9db0-99c35912f2e2",
   "metadata": {},
   "outputs": [
    {
     "data": {
      "text/plain": [
       "'dcba'"
      ]
     },
     "execution_count": 1,
     "metadata": {},
     "output_type": "execute_result"
    }
   ],
   "source": [
    "str = 'abcd'\n",
    "str[::-1]"
   ]
  },
  {
   "cell_type": "raw",
   "id": "0bfe1d5d-328e-4430-8077-2c46f126fd03",
   "metadata": {},
   "source": [
    "2. Check if a string is a palindrome.\n",
    "\n"
   ]
  },
  {
   "cell_type": "code",
   "execution_count": 5,
   "id": "7cff6bac-956e-476c-9a43-7d88bac93203",
   "metadata": {},
   "outputs": [
    {
     "name": "stdin",
     "output_type": "stream",
     "text": [
      "enter the stirng:  anna\n"
     ]
    },
    {
     "name": "stdout",
     "output_type": "stream",
     "text": [
      "string anna is palindrom\n"
     ]
    }
   ],
   "source": [
    "str = input('enter the stirng: ')\n",
    "rev = str[::-1]\n",
    "if str == rev:\n",
    "    print(f'string {str} is palindrom')\n",
    "else: \n",
    "    print ('not plindrome')"
   ]
  },
  {
   "cell_type": "raw",
   "id": "21b5a841-cbb4-4e19-a274-2da0808c0b2b",
   "metadata": {},
   "source": [
    "3. Convert a string to uppercase.\n"
   ]
  },
  {
   "cell_type": "code",
   "execution_count": 6,
   "id": "7f6679c6-a545-4222-b0ae-8961ed151091",
   "metadata": {},
   "outputs": [
    {
     "name": "stdin",
     "output_type": "stream",
     "text": [
      "enter the stirng:  abcd\n"
     ]
    },
    {
     "data": {
      "text/plain": [
       "'ABCD'"
      ]
     },
     "execution_count": 6,
     "metadata": {},
     "output_type": "execute_result"
    }
   ],
   "source": [
    "str = input('enter the stirng: ')\n",
    "str.upper()"
   ]
  },
  {
   "cell_type": "raw",
   "id": "1aff3398-37d1-4ace-85ed-9a69a2ffdf84",
   "metadata": {},
   "source": [
    "4. Convert a string to lowercase."
   ]
  },
  {
   "cell_type": "code",
   "execution_count": 7,
   "id": "9cfa306b-e5ba-4756-8a1b-8bbcb39f5415",
   "metadata": {},
   "outputs": [
    {
     "name": "stdin",
     "output_type": "stream",
     "text": [
      "enter the stirng:  ABCD\n"
     ]
    },
    {
     "data": {
      "text/plain": [
       "'abcd'"
      ]
     },
     "execution_count": 7,
     "metadata": {},
     "output_type": "execute_result"
    }
   ],
   "source": [
    "str = input('enter the stirng: ')\n",
    "str.lower()"
   ]
  },
  {
   "cell_type": "raw",
   "id": "ba925035-215d-44aa-be5d-aafb92d5a933",
   "metadata": {},
   "source": [
    "5. Count the number of vowels in a string."
   ]
  },
  {
   "cell_type": "code",
   "execution_count": 8,
   "id": "acc9f1a1-c035-44f8-9bbf-0f5bae520f54",
   "metadata": {},
   "outputs": [
    {
     "name": "stdin",
     "output_type": "stream",
     "text": [
      "enter the stirng:  ajay\n"
     ]
    },
    {
     "name": "stdout",
     "output_type": "stream",
     "text": [
      "2\n"
     ]
    }
   ],
   "source": [
    "count = 0\n",
    "str = input('enter the stirng: ')\n",
    "str.lower()\n",
    "for i in str:\n",
    "    if (i == 'a' or i == 'e'or i == 'i' or i == 'o' or i == 'u'):\n",
    "        count += 1\n",
    "print (count)"
   ]
  },
  {
   "cell_type": "raw",
   "id": "813dd363-773d-4c65-926e-70dfbb07c521",
   "metadata": {},
   "source": [
    "6. Count the number of consonants in a string.\n"
   ]
  },
  {
   "cell_type": "code",
   "execution_count": 10,
   "id": "5f49019d-5026-458f-9013-3263af813383",
   "metadata": {},
   "outputs": [
    {
     "name": "stdin",
     "output_type": "stream",
     "text": [
      "enter the stirng:  consonants\n"
     ]
    },
    {
     "name": "stdout",
     "output_type": "stream",
     "text": [
      "7\n"
     ]
    }
   ],
   "source": [
    "count = 0\n",
    "str = input('enter the stirng: ')\n",
    "vowel = 'aeiou'\n",
    "str.lower()\n",
    "for i in str:\n",
    "    if (i not in vowel):\n",
    "        count += 1\n",
    "print (count)"
   ]
  },
  {
   "cell_type": "raw",
   "id": "1bcd1bd2-9f97-4a19-bc37-ce03bc57d8a0",
   "metadata": {},
   "source": [
    "7. Remove all whitespaces from a string.\n"
   ]
  },
  {
   "cell_type": "code",
   "execution_count": 18,
   "id": "a5893194-d107-4731-a146-56853185915b",
   "metadata": {},
   "outputs": [
    {
     "name": "stdin",
     "output_type": "stream",
     "text": [
      "enter the stirng:  hi sir how are you\n"
     ]
    },
    {
     "data": {
      "text/plain": [
       "'hisirhowareyou'"
      ]
     },
     "execution_count": 18,
     "metadata": {},
     "output_type": "execute_result"
    }
   ],
   "source": [
    "#case 1:\n",
    "\n",
    "str = input('enter the stirng: ')\n",
    "str.replace(' ','')\n",
    "\n",
    "##case 2:\n",
    "#for i in str:\n",
    " #   if (i == ' '):\n",
    "  #      continue\n",
    "   # print(i,end = '')\n",
    "\n"
   ]
  },
  {
   "cell_type": "raw",
   "id": "c7326ffd-9c8e-471f-a4c8-8e451626b78e",
   "metadata": {},
   "source": [
    "8. Find the length of a string without using the `len()` function.\n"
   ]
  },
  {
   "cell_type": "code",
   "execution_count": 19,
   "id": "9c0418c3-32d5-4e22-8144-0c5f19dfca85",
   "metadata": {},
   "outputs": [
    {
     "name": "stdin",
     "output_type": "stream",
     "text": [
      "enter the stirng:  this is length\n"
     ]
    },
    {
     "name": "stdout",
     "output_type": "stream",
     "text": [
      "14\n"
     ]
    }
   ],
   "source": [
    "str = input('enter the stirng: ')\n",
    "length = 0\n",
    "for i in str:\n",
    "    length += 1\n",
    "print(length)\n",
    "    "
   ]
  },
  {
   "cell_type": "raw",
   "id": "96bf9618-f277-4309-905c-9210ebd05d6c",
   "metadata": {},
   "source": [
    "9. Check if a string contains a specific word."
   ]
  },
  {
   "cell_type": "code",
   "execution_count": 22,
   "id": "92897258-36a4-4b3a-a22b-3bc6a92a34dd",
   "metadata": {},
   "outputs": [
    {
     "name": "stdin",
     "output_type": "stream",
     "text": [
      "enter the stirng:  hello everyone how are you all\n",
      "enter the word:  all\n"
     ]
    },
    {
     "name": "stdout",
     "output_type": "stream",
     "text": [
      "the word all is inside the string\n"
     ]
    }
   ],
   "source": [
    "str = input('enter the stirng: ')\n",
    "word =  input('enter the word: ')\n",
    "if word in str:\n",
    "    print(f'the word {word} is inside the string')\n",
    "else :\n",
    "    print('Not inside string')"
   ]
  },
  {
   "cell_type": "raw",
   "id": "89e699a5-f3b8-4b80-972c-b73d6c2a46eb",
   "metadata": {},
   "source": [
    "10. Replace a word in a string with another word.\n"
   ]
  },
  {
   "cell_type": "code",
   "execution_count": 26,
   "id": "7db28cb3-93ec-4b02-9ef5-09bd3d9ca790",
   "metadata": {},
   "outputs": [
    {
     "data": {
      "text/plain": [
       "'this is for the change string '"
      ]
     },
     "execution_count": 26,
     "metadata": {},
     "output_type": "execute_result"
    }
   ],
   "source": [
    "str = 'this is for the replace string '\n",
    "str.replace('replace','change')"
   ]
  },
  {
   "cell_type": "raw",
   "id": "67d870c3-858a-40c3-a175-dcc658329ea7",
   "metadata": {},
   "source": [
    "11. Count the occurrences of a word in a string.\n"
   ]
  },
  {
   "cell_type": "code",
   "execution_count": 31,
   "id": "06aa7f97-9b49-4ba7-acfb-e77bd61f22ee",
   "metadata": {},
   "outputs": [
    {
     "name": "stdin",
     "output_type": "stream",
     "text": [
      "enter the stirng:  ajaay\n",
      "enter the word:  a\n"
     ]
    },
    {
     "name": "stdout",
     "output_type": "stream",
     "text": [
      "3\n"
     ]
    }
   ],
   "source": [
    "str = input('enter the stirng: ')\n",
    "word =  input('enter the word: ')\n",
    "count = 0\n",
    "for i in str :\n",
    "    if i == word :\n",
    "        count += 1\n",
    "print(count)"
   ]
  },
  {
   "cell_type": "raw",
   "id": "e2f7b931-e0dc-41f2-ad80-815eb46e5d98",
   "metadata": {},
   "source": [
    "12. Find the first occurrence of a word in a string.\n"
   ]
  },
  {
   "cell_type": "code",
   "execution_count": 37,
   "id": "adaac81b-c3a3-42e2-8fee-138a75f53df7",
   "metadata": {},
   "outputs": [
    {
     "name": "stdin",
     "output_type": "stream",
     "text": [
      "enter the stirng:  hello\n",
      "enter the word:  l\n"
     ]
    },
    {
     "name": "stdout",
     "output_type": "stream",
     "text": [
      "the first occurrence is in the index position 2\n"
     ]
    }
   ],
   "source": [
    "str = input('enter the stirng: ')\n",
    "word =  input('enter the word: ')\n",
    "pos = str.index(word)\n",
    "print(f'the first occurrence is in the index position {pos}') "
   ]
  },
  {
   "cell_type": "raw",
   "id": "9bb81e71-e582-4d7d-af86-2a7b760e9055",
   "metadata": {},
   "source": [
    "13. Find the last occurrence of a word in a string.\n"
   ]
  },
  {
   "cell_type": "code",
   "execution_count": 52,
   "id": "71eb494f-9c44-4ad1-89c9-08cb2d78a88e",
   "metadata": {},
   "outputs": [
    {
     "name": "stdin",
     "output_type": "stream",
     "text": [
      "enter the the string:  ajay\n",
      "enter the word:  a\n"
     ]
    },
    {
     "name": "stdout",
     "output_type": "stream",
     "text": [
      "The last occurence of word in the index 2\n"
     ]
    }
   ],
   "source": [
    "str= input('enter the the string: ')\n",
    "word=input('enter the word: ')\n",
    "for i in range(len(str_1)-1,-1,-1):       #reverse the loop for checking from last\n",
    "  if str[i] == word :                 #if the word is same print value of i (i is the index position)\n",
    "    print(f'The last occurence of word in the index {i}')\n",
    "    break"
   ]
  },
  {
   "cell_type": "raw",
   "id": "e470b75f-c2c5-46bb-aa90-b2b284d076aa",
   "metadata": {},
   "source": [
    "14. Split a string into a list of words.\n"
   ]
  },
  {
   "cell_type": "code",
   "execution_count": 53,
   "id": "7c6283c1-6e8d-42f7-a519-84fbaea072bc",
   "metadata": {},
   "outputs": [
    {
     "name": "stdin",
     "output_type": "stream",
     "text": [
      "enter the the string:  this is for the split\n"
     ]
    },
    {
     "data": {
      "text/plain": [
       "['this', 'is', 'for', 'the', 'split']"
      ]
     },
     "execution_count": 53,
     "metadata": {},
     "output_type": "execute_result"
    }
   ],
   "source": [
    "str= input('enter the the string: ')\n",
    "str.split()\n"
   ]
  },
  {
   "cell_type": "raw",
   "id": "de4ce5bd-11f7-4afd-86d6-4988d0b90107",
   "metadata": {},
   "source": [
    "15. Join a list of words into a string.\n"
   ]
  },
  {
   "cell_type": "code",
   "execution_count": 55,
   "id": "af5a986e-f5dc-41ac-9b0d-107f88d750d7",
   "metadata": {},
   "outputs": [
    {
     "data": {
      "text/plain": [
       "'ajay,atitya,arjun,aryan,aman'"
      ]
     },
     "execution_count": 55,
     "metadata": {},
     "output_type": "execute_result"
    }
   ],
   "source": [
    "str = ['ajay','atitya','arjun','aryan','aman']\n",
    "','.join(str)\n"
   ]
  },
  {
   "cell_type": "raw",
   "id": "5d63db58-8be7-4500-8f54-bc18542812ab",
   "metadata": {},
   "source": [
    "16. Convert a string where words are separated by spaces to one where words\n",
    "are separated by underscores."
   ]
  },
  {
   "cell_type": "code",
   "execution_count": 57,
   "id": "096bb649-1ee6-4b82-bde9-903b4e691159",
   "metadata": {},
   "outputs": [
    {
     "name": "stdin",
     "output_type": "stream",
     "text": [
      "enter the the string:  this is for separation\n"
     ]
    },
    {
     "data": {
      "text/plain": [
       "'this,is,for,separation'"
      ]
     },
     "execution_count": 57,
     "metadata": {},
     "output_type": "execute_result"
    }
   ],
   "source": [
    "str= input('enter the the string: ')\n",
    "str.replace(' ',',')"
   ]
  },
  {
   "cell_type": "raw",
   "id": "fa60a97e-6d13-4251-96de-eaa7b7bf0d3c",
   "metadata": {},
   "source": [
    "17. Check if a string starts with a specific word or phrase."
   ]
  },
  {
   "cell_type": "code",
   "execution_count": 59,
   "id": "4eea70bc-1a5d-48d7-bc53-94739ce88e6e",
   "metadata": {},
   "outputs": [
    {
     "name": "stdin",
     "output_type": "stream",
     "text": [
      "enter the the string:  hi there how are you\n",
      "enter the word:  hi\n"
     ]
    },
    {
     "data": {
      "text/plain": [
       "True"
      ]
     },
     "execution_count": 59,
     "metadata": {},
     "output_type": "execute_result"
    }
   ],
   "source": [
    "str= input('enter the the string: ')\n",
    "word=input('enter the word: ')\n",
    "\n",
    "str.startswith(word)"
   ]
  },
  {
   "cell_type": "raw",
   "id": "34c9ccab-69dc-4a5f-9c08-6502c0d42ab7",
   "metadata": {},
   "source": [
    "18. Check if a string ends with a specific word or phrase.\n"
   ]
  },
  {
   "cell_type": "code",
   "execution_count": 61,
   "id": "010857f2-e6ee-4dd2-b43c-8c9f619ff7ae",
   "metadata": {},
   "outputs": [
    {
     "name": "stdin",
     "output_type": "stream",
     "text": [
      "enter the the string:  hi there how are you\n",
      "enter the word:  you\n"
     ]
    },
    {
     "data": {
      "text/plain": [
       "True"
      ]
     },
     "execution_count": 61,
     "metadata": {},
     "output_type": "execute_result"
    }
   ],
   "source": [
    "str= input('enter the the string: ')\n",
    "word=input('enter the word: ')\n",
    "\n",
    "str.endswith(word)\n"
   ]
  },
  {
   "cell_type": "raw",
   "id": "345b8749-5354-47a4-9759-f989d870b09c",
   "metadata": {},
   "source": [
    "19. Convert a string to title case (e.g., \"hello world\" to \"Hello World\").\n"
   ]
  },
  {
   "cell_type": "code",
   "execution_count": 62,
   "id": "b84ba895-1c27-4fcb-8dcd-991b4e7fb2a3",
   "metadata": {},
   "outputs": [
    {
     "data": {
      "text/plain": [
       "'Hello World'"
      ]
     },
     "execution_count": 62,
     "metadata": {},
     "output_type": "execute_result"
    }
   ],
   "source": [
    "str= \"hello world\"\n",
    "str.title()"
   ]
  },
  {
   "cell_type": "raw",
   "id": "47e91b27-bf66-483c-bfed-ddcca5f30ec1",
   "metadata": {},
   "source": [
    "20. Find the longest word in a string.\n"
   ]
  },
  {
   "cell_type": "code",
   "execution_count": 70,
   "id": "33574084-709d-46ed-a4d8-9f5ede203436",
   "metadata": {},
   "outputs": [
    {
     "name": "stdin",
     "output_type": "stream",
     "text": [
      "enter the string:  where are you\n"
     ]
    },
    {
     "name": "stdout",
     "output_type": "stream",
     "text": [
      "where\n"
     ]
    }
   ],
   "source": [
    "str = input('enter the string: ')\n",
    "l = str.split()\n",
    "print(max(l,key = len))\n"
   ]
  },
  {
   "cell_type": "raw",
   "id": "328118d4-6b6d-42d6-bf3b-ef9cbf363ac3",
   "metadata": {},
   "source": [
    "21. Find the shortest word in a string.\n"
   ]
  },
  {
   "cell_type": "code",
   "execution_count": 71,
   "id": "443e5fba-1fb2-48fc-b15a-c5f75c2bb810",
   "metadata": {},
   "outputs": [
    {
     "name": "stdin",
     "output_type": "stream",
     "text": [
      "enter the string:  hi where were you\n"
     ]
    },
    {
     "name": "stdout",
     "output_type": "stream",
     "text": [
      "hi\n"
     ]
    }
   ],
   "source": [
    "str = input('enter the string: ')\n",
    "l = str.split()\n",
    "print(min(l,key = len))\n"
   ]
  },
  {
   "cell_type": "raw",
   "id": "d943059a-8712-4bab-9f6e-58069c135e3c",
   "metadata": {},
   "source": [
    "22. Reverse the order of words in a string.\n"
   ]
  },
  {
   "cell_type": "code",
   "execution_count": null,
   "id": "7c7c23c9-b604-4dd7-a74e-2260909447bf",
   "metadata": {},
   "outputs": [],
   "source": [
    "str = input('enter the string :')\n",
    "str[::-1]"
   ]
  },
  {
   "cell_type": "raw",
   "id": "92f75a62-bc15-42e6-bb8d-70f202d34751",
   "metadata": {},
   "source": [
    "23. Check if a string is alphanumeric.\n"
   ]
  },
  {
   "cell_type": "code",
   "execution_count": 74,
   "id": "9adbb9cf-270a-40d4-9389-7f9e851b4eef",
   "metadata": {},
   "outputs": [
    {
     "name": "stdin",
     "output_type": "stream",
     "text": [
      "enter the string : z1\n"
     ]
    },
    {
     "data": {
      "text/plain": [
       "True"
      ]
     },
     "execution_count": 74,
     "metadata": {},
     "output_type": "execute_result"
    }
   ],
   "source": [
    "str = input('enter the string :')\n",
    "str.isalnum()"
   ]
  },
  {
   "cell_type": "code",
   "execution_count": null,
   "id": "5168f8df-46a3-4a49-af22-63b8c61a4760",
   "metadata": {},
   "outputs": [],
   "source": [
    "24. Extract all digits from a string.\n"
   ]
  },
  {
   "cell_type": "code",
   "execution_count": 83,
   "id": "bca0e00b-7156-4c13-b7a5-bf8bdcd70fc8",
   "metadata": {},
   "outputs": [
    {
     "name": "stdin",
     "output_type": "stream",
     "text": [
      "enter the string : ajay1223\n"
     ]
    },
    {
     "name": "stdout",
     "output_type": "stream",
     "text": [
      "1223"
     ]
    }
   ],
   "source": [
    "str = input('enter the string :')\n",
    "for i in str:\n",
    "    if i.isdigit():\n",
    "        print(i,end='')\n",
    "        "
   ]
  },
  {
   "cell_type": "raw",
   "id": "b2548b3a-6610-4e96-97b7-dbe74ead409b",
   "metadata": {},
   "source": [
    "25. Extract all alphabets from a string.\n"
   ]
  },
  {
   "cell_type": "code",
   "execution_count": 86,
   "id": "88b99c3e-ae89-47be-ac2b-ab23adaf0c2c",
   "metadata": {},
   "outputs": [
    {
     "name": "stdin",
     "output_type": "stream",
     "text": [
      "enter the string : ajay112233\n"
     ]
    },
    {
     "name": "stdout",
     "output_type": "stream",
     "text": [
      "ajay"
     ]
    }
   ],
   "source": [
    "str = input('enter the string :')\n",
    "for i in str:\n",
    "    if i.isalpha():\n",
    "        print(i,end='')"
   ]
  },
  {
   "cell_type": "raw",
   "id": "4a4c2c42-e48b-4c8f-b75e-551e1e47bc3e",
   "metadata": {},
   "source": [
    "26. Count the number of uppercase letters in a string.\n"
   ]
  },
  {
   "cell_type": "code",
   "execution_count": 90,
   "id": "d98283df-6862-4d45-b96a-f4039c2f0b17",
   "metadata": {},
   "outputs": [
    {
     "name": "stdin",
     "output_type": "stream",
     "text": [
      "enter the string : Hi CODE\n"
     ]
    },
    {
     "name": "stdout",
     "output_type": "stream",
     "text": [
      "5\n"
     ]
    }
   ],
   "source": [
    "str = input('enter the string :')\n",
    "count = 0\n",
    "for i in str:\n",
    "    if 'A'<=i<='Z':\n",
    "        count += 1\n",
    "print(count)"
   ]
  },
  {
   "cell_type": "raw",
   "id": "b73f6527-3bfd-4f0a-94f6-f33c4b4268ec",
   "metadata": {},
   "source": [
    "27. Count the number of lowercase letters in a string"
   ]
  },
  {
   "cell_type": "code",
   "execution_count": 91,
   "id": "5f0062ed-c07c-4f96-bf53-fd5497c327b9",
   "metadata": {},
   "outputs": [
    {
     "name": "stdin",
     "output_type": "stream",
     "text": [
      "enter the string : Hi this is CODE\n"
     ]
    },
    {
     "name": "stdout",
     "output_type": "stream",
     "text": [
      "7\n"
     ]
    }
   ],
   "source": [
    "str = input('enter the string :')\n",
    "count = 0\n",
    "for i in str:\n",
    "    if 'a'<=i<='z':\n",
    "        count += 1\n",
    "print(count)"
   ]
  },
  {
   "cell_type": "raw",
   "id": "ae4fb6ec-3d35-44d2-b8f2-69cabe82e6f5",
   "metadata": {},
   "source": [
    "28. Swap the case of each character in a string.\n"
   ]
  },
  {
   "cell_type": "code",
   "execution_count": 92,
   "id": "6388dda8-d692-4fa9-9c4e-a51dc7bf7d0b",
   "metadata": {},
   "outputs": [
    {
     "name": "stdin",
     "output_type": "stream",
     "text": [
      "enter the string : hi CODER\n"
     ]
    },
    {
     "data": {
      "text/plain": [
       "'HI coder'"
      ]
     },
     "execution_count": 92,
     "metadata": {},
     "output_type": "execute_result"
    }
   ],
   "source": [
    "str = input('enter the string :')\n",
    "str.swapcase()"
   ]
  },
  {
   "cell_type": "raw",
   "id": "2baaee5d-6ed9-429a-ba4e-24fd0f500419",
   "metadata": {},
   "source": [
    "29. Remove a specific word from a string.\n"
   ]
  },
  {
   "cell_type": "code",
   "execution_count": 96,
   "id": "4a70be37-a832-4231-aff8-a58b1f6e85e7",
   "metadata": {},
   "outputs": [
    {
     "data": {
      "text/plain": [
       "'hi '"
      ]
     },
     "execution_count": 96,
     "metadata": {},
     "output_type": "execute_result"
    }
   ],
   "source": [
    "str = 'hi people'\n",
    "str.replace('people','')"
   ]
  },
  {
   "cell_type": "raw",
   "id": "0392aaa5-8506-4318-9bb5-ab408a07cd25",
   "metadata": {},
   "source": [
    "30. Check if a string is a valid email address.\n"
   ]
  },
  {
   "cell_type": "code",
   "execution_count": 103,
   "id": "aa5e41ba-19e1-4a47-8d4e-f5abf9fe490f",
   "metadata": {},
   "outputs": [
    {
     "name": "stdin",
     "output_type": "stream",
     "text": [
      "enter the string : ajay@gmail.com\n"
     ]
    },
    {
     "name": "stdout",
     "output_type": "stream",
     "text": [
      "valid Email\n"
     ]
    }
   ],
   "source": [
    "str = input('enter the string :')\n",
    "a = '@gmail.com'\n",
    "if str.endswith(a) and str.count(a) ==1:\n",
    "    print('valid Email')\n",
    "else:\n",
    "    print('Invalid Email')\n"
   ]
  },
  {
   "cell_type": "raw",
   "id": "f4f18dde-7d88-4d36-b745-46dfc9335175",
   "metadata": {},
   "source": [
    "31. Extract the username from an email address string.\n"
   ]
  },
  {
   "cell_type": "code",
   "execution_count": 116,
   "id": "178f84c8-5909-4d86-8aa7-690f7f34d8c5",
   "metadata": {},
   "outputs": [
    {
     "name": "stdin",
     "output_type": "stream",
     "text": [
      "enter the string : abc@gmail.com\n"
     ]
    },
    {
     "data": {
      "text/plain": [
       "'abc'"
      ]
     },
     "execution_count": 116,
     "metadata": {},
     "output_type": "execute_result"
    }
   ],
   "source": [
    "str = input('enter the string :')\n",
    "str [:str.find('@')]\n",
    "    "
   ]
  },
  {
   "cell_type": "raw",
   "id": "5a231641-1f28-4d35-bb3c-2a1a279bea55",
   "metadata": {},
   "source": [
    "32. Extract the domain name from an email address string.\n",
    "    "
   ]
  },
  {
   "cell_type": "code",
   "execution_count": 120,
   "id": "188b99c7-6a25-468b-a43c-c6265921d1c7",
   "metadata": {},
   "outputs": [
    {
     "name": "stdin",
     "output_type": "stream",
     "text": [
      "enter the string : abc@gmail.com\n"
     ]
    },
    {
     "data": {
      "text/plain": [
       "'@gmail.com'"
      ]
     },
     "execution_count": 120,
     "metadata": {},
     "output_type": "execute_result"
    }
   ],
   "source": [
    "str = input('enter the string :')\n",
    "str [str.find('@'):len(str)]"
   ]
  },
  {
   "cell_type": "raw",
   "id": "3a771166-0057-4116-9f53-efb57c2b1803",
   "metadata": {},
   "source": [
    "33. Replace multiple spaces in a string with a single space.\n"
   ]
  },
  {
   "cell_type": "code",
   "execution_count": 134,
   "id": "38cd52b2-fe81-4dc4-90d3-cd5ef4c7584b",
   "metadata": {},
   "outputs": [
    {
     "name": "stdin",
     "output_type": "stream",
     "text": [
      "enter the string : how   are you\n"
     ]
    },
    {
     "data": {
      "text/plain": [
       "'how are you'"
      ]
     },
     "execution_count": 134,
     "metadata": {},
     "output_type": "execute_result"
    }
   ],
   "source": [
    "str = input('enter the string :')\n",
    "\n",
    "' '.join(str.split())"
   ]
  },
  {
   "cell_type": "raw",
   "id": "d12508ea-221a-41ab-b9a0-d6eff8173bf1",
   "metadata": {},
   "source": [
    "34. Check if a string is a valid URL.\n"
   ]
  },
  {
   "cell_type": "code",
   "execution_count": 143,
   "id": "003e817d-5c48-4f29-a6a8-8241b99f6ec5",
   "metadata": {},
   "outputs": [
    {
     "name": "stdin",
     "output_type": "stream",
     "text": [
      "enter the string : http://google.com\n"
     ]
    },
    {
     "name": "stdout",
     "output_type": "stream",
     "text": [
      "valid URL\n"
     ]
    }
   ],
   "source": [
    "\n",
    "\n",
    "str = input('enter the string :')\n",
    "a = 'http://'\n",
    "b = 'https://'\n",
    "if (str.startswith(a) or str.startswith(b)) and (str.count(a) ==1 or str.count(a) ==1):\n",
    "    print('valid URL')\n",
    "else:\n",
    "    print('Invalid URL')"
   ]
  },
  {
   "cell_type": "raw",
   "id": "d14dc17f-fba5-4016-8ee0-df8336303919",
   "metadata": {},
   "source": [
    "35. Extract the protocol (http or https) from a URL string."
   ]
  },
  {
   "cell_type": "code",
   "execution_count": 130,
   "id": "b02fa056-a1e3-447e-a37c-9301b2f5d0b6",
   "metadata": {},
   "outputs": [
    {
     "name": "stdin",
     "output_type": "stream",
     "text": [
      "enter the string : http://google.com\n"
     ]
    },
    {
     "data": {
      "text/plain": [
       "'http'"
      ]
     },
     "execution_count": 130,
     "metadata": {},
     "output_type": "execute_result"
    }
   ],
   "source": [
    "str = input('enter the string :')\n",
    "str [:str.find(':')]"
   ]
  },
  {
   "cell_type": "code",
   "execution_count": 131,
   "id": "95090e20-8488-435e-9aa0-31145938b98e",
   "metadata": {},
   "outputs": [
    {
     "name": "stdin",
     "output_type": "stream",
     "text": [
      "enter the string :  https://google.com\n"
     ]
    },
    {
     "data": {
      "text/plain": [
       "' https'"
      ]
     },
     "execution_count": 131,
     "metadata": {},
     "output_type": "execute_result"
    }
   ],
   "source": [
    "str = input('enter the string :')\n",
    "str [:str.find(':')]\n"
   ]
  },
  {
   "cell_type": "raw",
   "id": "b628f0ff-de01-4486-b18e-b4bb90cd6109",
   "metadata": {},
   "source": [
    "36. Find the frequency of each character in a string."
   ]
  },
  {
   "cell_type": "code",
   "execution_count": 147,
   "id": "f27cc494-025d-4f9c-8a60-ae5a5dec7314",
   "metadata": {},
   "outputs": [
    {
     "name": "stdin",
     "output_type": "stream",
     "text": [
      "enter the string : heeloo\n"
     ]
    },
    {
     "name": "stdout",
     "output_type": "stream",
     "text": [
      "{'h': 1, 'e': 2, 'l': 1, 'o': 2}\n"
     ]
    }
   ],
   "source": [
    "str = input('enter the string :')\n",
    "fre = {}\n",
    "count = 0\n",
    "for i in str :\n",
    "    if i not in fre:\n",
    "        fre[i]=count +1\n",
    "    else:\n",
    "        fre[i] += 1\n",
    "print(fre)    "
   ]
  },
  {
   "cell_type": "code",
   "execution_count": 148,
   "id": "a9b97def-43ea-4da1-b2c3-fdc7e9a19b21",
   "metadata": {},
   "outputs": [
    {
     "name": "stdin",
     "output_type": "stream",
     "text": [
      "enter the string : hola amigo\n"
     ]
    },
    {
     "name": "stdout",
     "output_type": "stream",
     "text": [
      "{'h': 1, 'o': 2, 'l': 1, 'a': 2, ' ': 1, 'm': 1, 'i': 1, 'g': 1}\n"
     ]
    }
   ],
   "source": [
    "str = input('enter the string :')\n",
    "fre = {}\n",
    "count = 0\n",
    "for i in str :\n",
    "    if i not in fre:\n",
    "        fre[i]=count +1\n",
    "    else:\n",
    "        fre[i] += 1\n",
    "print(fre)    "
   ]
  },
  {
   "cell_type": "raw",
   "id": "d3ddcd79-6b58-4539-8d3d-bd1957c81a96",
   "metadata": {},
   "source": [
    "37. Remove all punctuation from a string.\n"
   ]
  },
  {
   "cell_type": "code",
   "execution_count": 153,
   "id": "4b4133fa-589b-4100-971a-e998bdd919c9",
   "metadata": {},
   "outputs": [
    {
     "name": "stdin",
     "output_type": "stream",
     "text": [
      "entre the string ajay<>$%\n"
     ]
    },
    {
     "name": "stdout",
     "output_type": "stream",
     "text": [
      "ajay\n"
     ]
    }
   ],
   "source": [
    "str = input('entre the string')\n",
    "p = \"!@#$%^&*()))))_+{}[]:;<>\"\n",
    "str1 = \"\"\n",
    "for i in str:\n",
    "    if i not in p:\n",
    "        str1 += i\n",
    "print(str1)"
   ]
  },
  {
   "cell_type": "raw",
   "id": "ce9524b7-81e0-4d72-a01b-5ac478dbef85",
   "metadata": {},
   "source": [
    "38. Check if a string contains only digits."
   ]
  },
  {
   "cell_type": "code",
   "execution_count": 154,
   "id": "a53da35c-2ac9-4f4e-974a-afb85e7ffb89",
   "metadata": {},
   "outputs": [
    {
     "name": "stdin",
     "output_type": "stream",
     "text": [
      "entre the string 56213\n"
     ]
    },
    {
     "data": {
      "text/plain": [
       "True"
      ]
     },
     "execution_count": 154,
     "metadata": {},
     "output_type": "execute_result"
    }
   ],
   "source": [
    "str = input('entre the string')\n",
    "str.isdigit()"
   ]
  },
  {
   "cell_type": "code",
   "execution_count": 155,
   "id": "ab895537-1bd3-4e34-b199-0c7f8296ff16",
   "metadata": {},
   "outputs": [
    {
     "name": "stdin",
     "output_type": "stream",
     "text": [
      "entre the string djfhal21\n"
     ]
    },
    {
     "data": {
      "text/plain": [
       "False"
      ]
     },
     "execution_count": 155,
     "metadata": {},
     "output_type": "execute_result"
    }
   ],
   "source": [
    "str = input('entre the string')\n",
    "str.isdigit()"
   ]
  },
  {
   "cell_type": "raw",
   "id": "c4c57e15-f2ca-4ea1-a366-6d670d845080",
   "metadata": {},
   "source": [
    "39. Check if a string contains only alphabets."
   ]
  },
  {
   "cell_type": "code",
   "execution_count": 157,
   "id": "2294e9e4-7b7c-4435-bc4a-2079a4ee8edd",
   "metadata": {},
   "outputs": [
    {
     "name": "stdin",
     "output_type": "stream",
     "text": [
      "entre the string ajay is working\n"
     ]
    },
    {
     "data": {
      "text/plain": [
       "False"
      ]
     },
     "execution_count": 157,
     "metadata": {},
     "output_type": "execute_result"
    }
   ],
   "source": [
    "str = input('entre the string')\n",
    "str.isalpha()"
   ]
  },
  {
   "cell_type": "code",
   "execution_count": 158,
   "id": "51872c9f-7381-4af8-8d79-875d2b6a7249",
   "metadata": {},
   "outputs": [
    {
     "name": "stdin",
     "output_type": "stream",
     "text": [
      "entre the string ajay\n"
     ]
    },
    {
     "data": {
      "text/plain": [
       "True"
      ]
     },
     "execution_count": 158,
     "metadata": {},
     "output_type": "execute_result"
    }
   ],
   "source": [
    "str = input('entre the string')\n",
    "str.isalpha()"
   ]
  },
  {
   "cell_type": "raw",
   "id": "569b8901-a542-40a7-ab31-e4b1bef0d1ee",
   "metadata": {},
   "source": [
    "40. Convert a string to a list of characters.\n"
   ]
  },
  {
   "cell_type": "code",
   "execution_count": 159,
   "id": "7cc07353-0b69-4b47-ab0e-b52e87672ef9",
   "metadata": {},
   "outputs": [
    {
     "name": "stdin",
     "output_type": "stream",
     "text": [
      "entre the string: good day to all\n"
     ]
    },
    {
     "name": "stdout",
     "output_type": "stream",
     "text": [
      "['g', 'o', 'o', 'd', ' ', 'd', 'a', 'y', ' ', 't', 'o', ' ', 'a', 'l', 'l']\n"
     ]
    }
   ],
   "source": [
    "str = input('entre the string:')\n",
    "l =[]\n",
    "for i in str:\n",
    "    l.append(i)\n",
    "print(l)"
   ]
  },
  {
   "cell_type": "raw",
   "id": "79f0dbe9-d63c-448b-8e1e-6c95e7e85218",
   "metadata": {},
   "source": [
    "41. Check if two strings are anagrams.\n"
   ]
  },
  {
   "cell_type": "code",
   "execution_count": 165,
   "id": "3b1d44bf-8c62-466d-82ab-b46d82fedaa2",
   "metadata": {},
   "outputs": [
    {
     "name": "stdin",
     "output_type": "stream",
     "text": [
      "enter a first word tap\n",
      "enter another word pat\n"
     ]
    },
    {
     "name": "stdout",
     "output_type": "stream",
     "text": [
      "tap and pat are anagrams\n"
     ]
    }
   ],
   "source": [
    "str1=input(\"enter a first word\")\n",
    "str2=input(\"enter another word\")\n",
    "l1=[]\n",
    "l2=[]\n",
    "for i in str1:\n",
    "  l1.append(i)\n",
    "for j in str2:\n",
    "  l2.append(j)\n",
    "if l1.sort() == l2.sort() and len(l1)==len(l2): \n",
    "  print(f\"{str1} and {str2} are anagrams\")\n",
    "else:\n",
    "  print(f\"{str1} and {str2} are not anagrams\")"
   ]
  },
  {
   "cell_type": "raw",
   "id": "0f71dafb-0796-4c66-af8c-8150a36493df",
   "metadata": {},
   "source": [
    "42. Encode a string using a Caesar cipher.\n"
   ]
  },
  {
   "cell_type": "code",
   "execution_count": 4,
   "id": "957bd949-c9cc-46f2-9730-fa8312344b3c",
   "metadata": {},
   "outputs": [
    {
     "name": "stdin",
     "output_type": "stream",
     "text": [
      "enter a  word hello\n"
     ]
    },
    {
     "name": "stdout",
     "output_type": "stream",
     "text": [
      "khoor\n"
     ]
    }
   ],
   "source": [
    "str = input(\"enter a  word\")\n",
    "str1 = ''\n",
    "for i in str:\n",
    "    a = ord(i)+3 #shift right the value of characters by 3\n",
    "    str1 += chr(a) #concate character in empty string\n",
    "print(str1)"
   ]
  },
  {
   "cell_type": "raw",
   "id": "c292ac34-aef0-4d3f-8f28-eaece79f9c26",
   "metadata": {},
   "source": [
    "Decode a Caesar cipher encoded string."
   ]
  },
  {
   "cell_type": "code",
   "execution_count": 5,
   "id": "ad3039ea-ba55-4ef2-a7d3-d80f8de13629",
   "metadata": {},
   "outputs": [
    {
     "name": "stdin",
     "output_type": "stream",
     "text": [
      "enter a  word khoor\n"
     ]
    },
    {
     "name": "stdout",
     "output_type": "stream",
     "text": [
      "hello\n"
     ]
    }
   ],
   "source": [
    "str = input(\"enter a  word\")\n",
    "str1 = ''\n",
    "for i in str:\n",
    "    a = ord(i)-3 #shift left the value of characters by 3 \n",
    "    str1 += chr(a) #concate character in empty string\n",
    "print(str1)"
   ]
  },
  {
   "cell_type": "raw",
   "id": "49b19cac-5834-452e-8cd5-eec0221c7a0d",
   "metadata": {},
   "source": [
    "44. Find the most frequent word in a string.\n"
   ]
  },
  {
   "cell_type": "code",
   "execution_count": 15,
   "id": "277569e8-5371-454f-8f6e-da8d8f75cff3",
   "metadata": {},
   "outputs": [
    {
     "name": "stdin",
     "output_type": "stream",
     "text": [
      "Enter the string  hi hi sir ji\n"
     ]
    },
    {
     "name": "stdout",
     "output_type": "stream",
     "text": [
      "the most frequent word is hi\n"
     ]
    }
   ],
   "source": [
    "str=input(\"Enter the string \")\n",
    "l1=str.split()\n",
    "x={}\n",
    "count=0\n",
    "for i in l1:\n",
    "  if i in x:\n",
    "    x[i]+=1\n",
    "  else:\n",
    "    x[i]=1\n",
    "\n",
    "for j in x:     \n",
    "  if x[j]>count:\n",
    "    count=x[j]\n",
    "    print(f\"the most frequent word is {j}\")"
   ]
  },
  {
   "cell_type": "raw",
   "id": "6bec54a4-93d7-4e1b-a4a8-9b807930777c",
   "metadata": {},
   "source": [
    "45. Find all unique words in a string.\n"
   ]
  },
  {
   "cell_type": "code",
   "execution_count": 19,
   "id": "bd9e938a-49b3-4687-95c7-1ed1cdbafcd0",
   "metadata": {},
   "outputs": [
    {
     "name": "stdin",
     "output_type": "stream",
     "text": [
      "Enter the string  ajay\n"
     ]
    },
    {
     "name": "stdout",
     "output_type": "stream",
     "text": [
      "ayj\n"
     ]
    }
   ],
   "source": [
    "str=input(\"Enter the string \")\n",
    "l1 = []\n",
    "for i in str :\n",
    "    l1.append(i)\n",
    "x = list(set(l1))\n",
    "print(''.join(x))\n"
   ]
  },
  {
   "cell_type": "raw",
   "id": "44fcfeb3-06c1-4a7c-8739-dcd81baec8f7",
   "metadata": {},
   "source": [
    "46. Count the number of syllables in a string.\n"
   ]
  },
  {
   "cell_type": "code",
   "execution_count": null,
   "id": "779db72f-4062-474b-8d71-37226e0135d2",
   "metadata": {},
   "outputs": [],
   "source": [
    " question to ask"
   ]
  },
  {
   "cell_type": "raw",
   "id": "30b9a590-464c-48c4-974d-a422892d411f",
   "metadata": {},
   "source": [
    "47. Check if a string contains any special characters.\n"
   ]
  },
  {
   "cell_type": "code",
   "execution_count": 24,
   "id": "fc48c506-65c2-46a4-b1a6-90fdd509bef4",
   "metadata": {},
   "outputs": [
    {
     "name": "stdin",
     "output_type": "stream",
     "text": [
      "Enter a string:  aj@\n"
     ]
    },
    {
     "name": "stdout",
     "output_type": "stream",
     "text": [
      "@\n"
     ]
    }
   ],
   "source": [
    "str = input(\"Enter a string: \")\n",
    "sp_char=\"!@#$%^&*()_+\"\n",
    "s =''\n",
    "for i in str:\n",
    "    if i in sp_char:\n",
    "        s += i\n",
    "print(s)"
   ]
  },
  {
   "cell_type": "code",
   "execution_count": 26,
   "id": "11ef8204-8bdc-460f-90b4-dcc71ba5ead4",
   "metadata": {},
   "outputs": [
    {
     "name": "stdin",
     "output_type": "stream",
     "text": [
      "Enter a string:  ajay have $$ cash\n"
     ]
    },
    {
     "name": "stdout",
     "output_type": "stream",
     "text": [
      "$$ "
     ]
    }
   ],
   "source": [
    "str = input(\"Enter a string: \")\n",
    "sp_char=\"!@#$%^&*()_+\"\n",
    "s =''\n",
    "for i in str:\n",
    "    if i in sp_char:\n",
    "        s += i\n",
    "print(s, end = ' ')"
   ]
  },
  {
   "cell_type": "raw",
   "id": "91fbf0d8-db13-4ee0-b3d0-d2137c830d75",
   "metadata": {},
   "source": [
    "48. Remove the nth word from a string.\n"
   ]
  },
  {
   "cell_type": "code",
   "execution_count": 41,
   "id": "9a9ab3b4-2004-46d0-91e3-cea705925a11",
   "metadata": {},
   "outputs": [
    {
     "name": "stdin",
     "output_type": "stream",
     "text": [
      "Enter a string:  hi sir\n",
      "enter the index:  0\n"
     ]
    },
    {
     "name": "stdout",
     "output_type": "stream",
     "text": [
      "sir\n"
     ]
    }
   ],
   "source": [
    "str = input(\"Enter a string: \")\n",
    "n = int(input(\"enter the index: \"))\n",
    "l = str.split()\n",
    "l.pop(n)\n",
    "print(' '.join(l))"
   ]
  },
  {
   "cell_type": "raw",
   "id": "ce0a8716-7055-4701-af44-788a3ed80938",
   "metadata": {},
   "source": [
    "Insert a word at the nth position in a string."
   ]
  },
  {
   "cell_type": "code",
   "execution_count": 43,
   "id": "fd20fe58-9367-4a9c-867a-5b41a7d22c0d",
   "metadata": {},
   "outputs": [
    {
     "name": "stdin",
     "output_type": "stream",
     "text": [
      "Enter a string:  i am \n",
      "Enter index:  2\n",
      "enter the word:  ajay\n"
     ]
    },
    {
     "name": "stdout",
     "output_type": "stream",
     "text": [
      "i am ajay\n"
     ]
    }
   ],
   "source": [
    "str = input(\"Enter a string: \")\n",
    "n = int(input(\"Enter index: \"))\n",
    "word = input('enter the word: ')\n",
    "l = str.split()\n",
    "l.insert(n,word)\n",
    "print(' '.join(l))"
   ]
  },
  {
   "cell_type": "raw",
   "id": "b7b3a17c-d6d0-4f6e-9c02-702c7752e275",
   "metadata": {},
   "source": [
    "50. Convert a CSV string to a list of lists.\n"
   ]
  },
  {
   "cell_type": "code",
   "execution_count": null,
   "id": "d0b84196-86ec-44d0-bf79-3a4ee300640f",
   "metadata": {},
   "outputs": [],
   "source": [
    "quetion to ask"
   ]
  },
  {
   "cell_type": "code",
   "execution_count": null,
   "id": "bf30cc9c-bfe4-4b24-916d-a231a9be8aac",
   "metadata": {},
   "outputs": [],
   "source": []
  },
  {
   "cell_type": "code",
   "execution_count": 1,
   "id": "b759c4ef-6dc2-442e-9e38-cb56977d5b9e",
   "metadata": {},
   "outputs": [],
   "source": [
    "##..LIST..##"
   ]
  },
  {
   "cell_type": "raw",
   "id": "4c52ef18-60dc-4361-b4c0-c9a2982a7ea9",
   "metadata": {},
   "source": [
    "1. Create a list with integers from 1 to 10.\n"
   ]
  },
  {
   "cell_type": "code",
   "execution_count": 2,
   "id": "1d430c0b-49e9-4365-b38d-6c365feaf714",
   "metadata": {},
   "outputs": [
    {
     "data": {
      "text/plain": [
       "[1, 2, 3, 4, 5, 6, 7, 8, 9, 10]"
      ]
     },
     "execution_count": 2,
     "metadata": {},
     "output_type": "execute_result"
    }
   ],
   "source": [
    "l = []\n",
    "for i in range (1,11):\n",
    "    l.append(i)\n",
    "l"
   ]
  },
  {
   "cell_type": "raw",
   "id": "95f0d950-1070-4925-bc11-4fcb829f9639",
   "metadata": {},
   "source": [
    "2. Find the length of a list without using the `len()` function.\n"
   ]
  },
  {
   "cell_type": "code",
   "execution_count": 4,
   "id": "78e55b9c-f616-465c-b26e-f2e245053be6",
   "metadata": {},
   "outputs": [
    {
     "data": {
      "text/plain": [
       "5"
      ]
     },
     "execution_count": 4,
     "metadata": {},
     "output_type": "execute_result"
    }
   ],
   "source": [
    "l = [1,2,3,4,5]\n",
    "length = 0\n",
    "for i in l:\n",
    "    length += 1\n",
    "length\n"
   ]
  },
  {
   "cell_type": "raw",
   "id": "1b2009ee-7700-4dcd-8736-41466ac8c505",
   "metadata": {},
   "source": [
    "3. Append an element to the end of a list.\n"
   ]
  },
  {
   "cell_type": "code",
   "execution_count": 6,
   "id": "542ce155-5286-4754-af8a-8748ac1e9021",
   "metadata": {},
   "outputs": [
    {
     "data": {
      "text/plain": [
       "[1, 2, 3, 4, 5, 6]"
      ]
     },
     "execution_count": 6,
     "metadata": {},
     "output_type": "execute_result"
    }
   ],
   "source": [
    "l = [1,2,3,4,5]\n",
    "l.append(6)\n",
    "l"
   ]
  },
  {
   "cell_type": "raw",
   "id": "47dc1b4f-596a-4840-b323-8fe3eb1f8f2c",
   "metadata": {},
   "source": [
    "4. Insert an element at a specific index in a list.\n"
   ]
  },
  {
   "cell_type": "code",
   "execution_count": 7,
   "id": "dfdf149a-9020-45d9-bdb7-2ef292cf4846",
   "metadata": {},
   "outputs": [
    {
     "data": {
      "text/plain": [
       "[1, 2, 8, 3, 4, 5]"
      ]
     },
     "execution_count": 7,
     "metadata": {},
     "output_type": "execute_result"
    }
   ],
   "source": [
    "l = [1,2,3,4,5]\n",
    "l.insert(2,8) #index 2 insert 8\n",
    "l"
   ]
  },
  {
   "cell_type": "raw",
   "id": "6f0960a4-07ce-42d7-aaee-bfc02098f8d9",
   "metadata": {},
   "source": [
    "5. Remove an element from a list by its value.\n"
   ]
  },
  {
   "cell_type": "code",
   "execution_count": 9,
   "id": "d5dd43dc-02f9-4315-a865-26b7d5afeaaa",
   "metadata": {},
   "outputs": [
    {
     "data": {
      "text/plain": [
       "[1, 2, 3, 4]"
      ]
     },
     "execution_count": 9,
     "metadata": {},
     "output_type": "execute_result"
    }
   ],
   "source": [
    "l = [1,2,3,4,5]\n",
    "l.remove(5)\n",
    "l"
   ]
  },
  {
   "cell_type": "raw",
   "id": "ae896d41-db9d-4a9c-ad71-d3d2b46f4cc5",
   "metadata": {},
   "source": [
    "6. Remove an element from a list by its index.\n"
   ]
  },
  {
   "cell_type": "code",
   "execution_count": 11,
   "id": "0e835b80-19df-4c3f-83e8-051fcb7bc2d2",
   "metadata": {},
   "outputs": [
    {
     "data": {
      "text/plain": [
       "[1, 2, 3, 5]"
      ]
     },
     "execution_count": 11,
     "metadata": {},
     "output_type": "execute_result"
    }
   ],
   "source": [
    "l = [1,2,3,4,5]\n",
    "index = l.index(4)\n",
    "l.remove(index+1) # add for due to 0 indexing\n",
    "l\n"
   ]
  },
  {
   "cell_type": "raw",
   "id": "ed716d33-2dc2-40ae-b310-a8aa3c9ed23a",
   "metadata": {},
   "source": [
    "7. Check if an element exists in a list.\n"
   ]
  },
  {
   "cell_type": "code",
   "execution_count": 12,
   "id": "e6a24a0e-863a-4c10-ad41-1c6e7ff93c46",
   "metadata": {},
   "outputs": [
    {
     "data": {
      "text/plain": [
       "True"
      ]
     },
     "execution_count": 12,
     "metadata": {},
     "output_type": "execute_result"
    }
   ],
   "source": [
    "l = [1,2,3,4,5]\n",
    "4 in l"
   ]
  },
  {
   "cell_type": "code",
   "execution_count": 13,
   "id": "8b893857-c119-40a7-ab56-deb9e278ee3b",
   "metadata": {},
   "outputs": [
    {
     "data": {
      "text/plain": [
       "False"
      ]
     },
     "execution_count": 13,
     "metadata": {},
     "output_type": "execute_result"
    }
   ],
   "source": [
    "l = [1,2,3,4,5]\n",
    "6 in l"
   ]
  },
  {
   "cell_type": "raw",
   "id": "598f51ec-f8fd-4d7c-9c38-73e553115543",
   "metadata": {},
   "source": [
    "8. Find the index of the first occurrence of an element in a list.\n"
   ]
  },
  {
   "cell_type": "code",
   "execution_count": 15,
   "id": "afb2a8a1-e104-4446-97fb-880fbb4f6fa9",
   "metadata": {},
   "outputs": [
    {
     "name": "stdout",
     "output_type": "stream",
     "text": [
      "1\n"
     ]
    }
   ],
   "source": [
    "l = [1,3,2,3,4,3,5]\n",
    "print(l.index(3))\n"
   ]
  },
  {
   "cell_type": "raw",
   "id": "44c05b1e-b363-457a-8083-256b3f5b3aac",
   "metadata": {},
   "source": [
    "9. Count the occurrences of an element in a list.\n"
   ]
  },
  {
   "cell_type": "code",
   "execution_count": 18,
   "id": "0020e858-fcdc-4af1-b14b-03c15df485a5",
   "metadata": {},
   "outputs": [
    {
     "data": {
      "text/plain": [
       "4"
      ]
     },
     "execution_count": 18,
     "metadata": {},
     "output_type": "execute_result"
    }
   ],
   "source": [
    "l = [1,3,2,3,3,4,3,5]\n",
    "l.count(3)\n"
   ]
  },
  {
   "cell_type": "raw",
   "id": "cdadda93-3033-4f5f-9f03-82c367551f15",
   "metadata": {},
   "source": [
    "10. Reverse the order of elements in a list.\n"
   ]
  },
  {
   "cell_type": "code",
   "execution_count": 20,
   "id": "39ee6844-3a38-4eb8-9f7d-b1fb84d93dab",
   "metadata": {},
   "outputs": [
    {
     "data": {
      "text/plain": [
       "[5, 4, 3, 2, 1]"
      ]
     },
     "execution_count": 20,
     "metadata": {},
     "output_type": "execute_result"
    }
   ],
   "source": [
    "l = [1,2,3,4,5]\n",
    "l[::-1]"
   ]
  },
  {
   "cell_type": "raw",
   "id": "e047803d-f349-4b47-aa49-3eea6cd309d1",
   "metadata": {},
   "source": [
    "11. Sort a list in ascending order.\n"
   ]
  },
  {
   "cell_type": "code",
   "execution_count": 22,
   "id": "1a993840-8125-4da8-838c-d2ab6a5a2df0",
   "metadata": {},
   "outputs": [
    {
     "data": {
      "text/plain": [
       "[1, 3, 4, 5, 5, 6, 8]"
      ]
     },
     "execution_count": 22,
     "metadata": {},
     "output_type": "execute_result"
    }
   ],
   "source": [
    "l = [1,5,4,6,8,5,3]\n",
    "l.sort()\n",
    "l"
   ]
  },
  {
   "cell_type": "raw",
   "id": "e36114af-9e45-4d7e-83a3-5a2abda01791",
   "metadata": {},
   "source": [
    "12. Sort a list in descending order.\n"
   ]
  },
  {
   "cell_type": "code",
   "execution_count": 24,
   "id": "c2dc5ce1-0523-4cd8-aa2b-9716b8539047",
   "metadata": {},
   "outputs": [
    {
     "data": {
      "text/plain": [
       "[8, 6, 5, 5, 4, 3, 1]"
      ]
     },
     "execution_count": 24,
     "metadata": {},
     "output_type": "execute_result"
    }
   ],
   "source": [
    "l = [1,5,4,6,8,5,3]\n",
    "l.sort() #sort in ascending\n",
    "l[::-1] # reverse the sorted list"
   ]
  },
  {
   "cell_type": "raw",
   "id": "b8198ee2-2338-430a-b655-a454d3bcd86f",
   "metadata": {},
   "source": [
    "13. Create a list of even numbers from 1 to 20.\n"
   ]
  },
  {
   "cell_type": "code",
   "execution_count": 28,
   "id": "bff0c6b3-37c5-4f6f-8268-17a03561685b",
   "metadata": {},
   "outputs": [
    {
     "data": {
      "text/plain": [
       "[0, 2, 4, 6, 8, 10, 12, 14, 16, 18, 20]"
      ]
     },
     "execution_count": 28,
     "metadata": {},
     "output_type": "execute_result"
    }
   ],
   "source": [
    "l = [ ]\n",
    "for i in range(0,21,2):\n",
    "    l.append(i)\n",
    "l"
   ]
  },
  {
   "cell_type": "raw",
   "id": "6a6e8483-a7d8-4443-91ec-f6e50f67227b",
   "metadata": {},
   "source": [
    "14. Create a list of odd numbers from 1 to 20."
   ]
  },
  {
   "cell_type": "code",
   "execution_count": 29,
   "id": "a5205653-3867-4d92-9abe-0e559a693ddb",
   "metadata": {},
   "outputs": [
    {
     "data": {
      "text/plain": [
       "[1, 3, 5, 7, 9, 11, 13, 15, 17, 19]"
      ]
     },
     "execution_count": 29,
     "metadata": {},
     "output_type": "execute_result"
    }
   ],
   "source": [
    "l = [ ]\n",
    "for i in range(1,21,2):\n",
    "    l.append(i)\n",
    "l"
   ]
  },
  {
   "cell_type": "raw",
   "id": "913073c7-6408-49e4-8726-daa8d348a714",
   "metadata": {},
   "source": [
    "15. Find the sum of all elements in a list.\n"
   ]
  },
  {
   "cell_type": "code",
   "execution_count": 31,
   "id": "1935b93e-2c42-487e-a6b0-f60d53f0871d",
   "metadata": {},
   "outputs": [
    {
     "data": {
      "text/plain": [
       "32"
      ]
     },
     "execution_count": 31,
     "metadata": {},
     "output_type": "execute_result"
    }
   ],
   "source": [
    "l = [1,5,4,6,8,5,3]\n",
    "sum(l) # sum all the elements -> 1+5+4+6+8+5+3\n"
   ]
  },
  {
   "cell_type": "raw",
   "id": "2105307d-7a79-4612-842f-95702c300da6",
   "metadata": {},
   "source": [
    "16. Find the maximum value in a list.\n"
   ]
  },
  {
   "cell_type": "code",
   "execution_count": 32,
   "id": "f156c9bc-f0bc-4f9d-a12e-faa9aafd8501",
   "metadata": {},
   "outputs": [
    {
     "data": {
      "text/plain": [
       "8"
      ]
     },
     "execution_count": 32,
     "metadata": {},
     "output_type": "execute_result"
    }
   ],
   "source": [
    "l = [1,5,4,6,8,5,3]\n",
    "max(l)"
   ]
  },
  {
   "cell_type": "raw",
   "id": "caa99b75-230e-477b-b10b-3ffeca77a24d",
   "metadata": {},
   "source": [
    "17. Find the minimum value in a list."
   ]
  },
  {
   "cell_type": "code",
   "execution_count": 33,
   "id": "ed9346d3-1eff-4670-be53-bd5c1f45cb85",
   "metadata": {},
   "outputs": [
    {
     "data": {
      "text/plain": [
       "1"
      ]
     },
     "execution_count": 33,
     "metadata": {},
     "output_type": "execute_result"
    }
   ],
   "source": [
    "l = [1,5,4,6,8,5,3]\n",
    "min(l)"
   ]
  },
  {
   "cell_type": "raw",
   "id": "62f2479d-8abd-4e0f-8c8d-ec34414faa04",
   "metadata": {},
   "source": [
    "18. Create a list of squares of numbers from 1 to 10.\n"
   ]
  },
  {
   "cell_type": "code",
   "execution_count": 34,
   "id": "21dc246c-ed1c-4d21-bd55-b9b20bb12622",
   "metadata": {},
   "outputs": [
    {
     "data": {
      "text/plain": [
       "[0, 1, 4, 9, 16, 25, 36, 49, 64, 81, 100]"
      ]
     },
     "execution_count": 34,
     "metadata": {},
     "output_type": "execute_result"
    }
   ],
   "source": [
    "l = []\n",
    "for i in range(0,11):\n",
    "    l.append(i**2)\n",
    "l"
   ]
  },
  {
   "cell_type": "raw",
   "id": "05687506-f334-4dcd-9093-5f42140ae63e",
   "metadata": {},
   "source": [
    "19. Create a list of random numbers.\n"
   ]
  },
  {
   "cell_type": "code",
   "execution_count": 7,
   "id": "11631e6e-f493-4d94-9a9e-5d6e3a2a2c51",
   "metadata": {},
   "outputs": [
    {
     "name": "stdout",
     "output_type": "stream",
     "text": [
      "[8, 2, 4, 7, 5]\n"
     ]
    }
   ],
   "source": [
    "## yet to be solve\n",
    "import random\n",
    "li = random.sample(range(1, 10), 5)\n",
    "print(li) "
   ]
  },
  {
   "cell_type": "raw",
   "id": "3c0f9d54-9890-436a-8019-6a9d628e3a8a",
   "metadata": {},
   "source": [
    "20. Remove duplicates from a list."
   ]
  },
  {
   "cell_type": "code",
   "execution_count": 41,
   "id": "ffd72f61-5252-4376-a1bf-62bc70a18bfe",
   "metadata": {},
   "outputs": [
    {
     "data": {
      "text/plain": [
       "[1, 3, 4, 5, 6, 8]"
      ]
     },
     "execution_count": 41,
     "metadata": {},
     "output_type": "execute_result"
    }
   ],
   "source": [
    "l = [1,5,4,6,8,3,5,3]\n",
    "l = list(set(l))\n",
    "l"
   ]
  },
  {
   "cell_type": "raw",
   "id": "15196385-f307-4024-8bdb-d22fc6985d36",
   "metadata": {},
   "source": [
    "21. Find the common elements between two lists.\n"
   ]
  },
  {
   "cell_type": "code",
   "execution_count": 1,
   "id": "8f1cbbef-426b-4ce6-9f30-202b7ecca388",
   "metadata": {},
   "outputs": [
    {
     "data": {
      "text/plain": [
       "[3, 4]"
      ]
     },
     "execution_count": 1,
     "metadata": {},
     "output_type": "execute_result"
    }
   ],
   "source": [
    "l1 = [1,2,3,4]\n",
    "l2 = [3,4,5]\n",
    "common=[]\n",
    "for i in l1:\n",
    "    for j in l2:\n",
    "        if i == j :\n",
    "            common.append(j)\n",
    "common"
   ]
  },
  {
   "cell_type": "raw",
   "id": "785d55eb-4896-4382-823f-13bf78569498",
   "metadata": {},
   "source": [
    "22. Find the difference between two lists.\n"
   ]
  },
  {
   "cell_type": "code",
   "execution_count": 10,
   "id": "47e4dcd2-27d2-4d0e-ac09-0b2f05a6459f",
   "metadata": {},
   "outputs": [
    {
     "data": {
      "text/plain": [
       "[1, 2]"
      ]
     },
     "execution_count": 10,
     "metadata": {},
     "output_type": "execute_result"
    }
   ],
   "source": [
    "l1 = [1,2,3,4]\n",
    "l2 = [3,4,5,8]\n",
    "diff = list(set(l1)-set(l2))\n",
    "diff"
   ]
  },
  {
   "cell_type": "raw",
   "id": "0197f14e-8e01-404c-a2f4-a9219194e8ee",
   "metadata": {},
   "source": [
    "23. Merge two lists.\n"
   ]
  },
  {
   "cell_type": "code",
   "execution_count": 11,
   "id": "d36c184e-f766-40cf-aae0-d2c3dfe1b688",
   "metadata": {},
   "outputs": [
    {
     "data": {
      "text/plain": [
       "[1, 2, 3, 4, 3, 4, 5, 8]"
      ]
     },
     "execution_count": 11,
     "metadata": {},
     "output_type": "execute_result"
    }
   ],
   "source": [
    "l1 = [1,2,3,4]\n",
    "l2 = [3,4,5,8]\n",
    "l1.extend(l2)\n",
    "l1"
   ]
  },
  {
   "cell_type": "code",
   "execution_count": null,
   "id": "0bfb84b9-8e46-4888-a620-f7db1dedc4d3",
   "metadata": {},
   "outputs": [],
   "source": []
  }
 ],
 "metadata": {
  "kernelspec": {
   "display_name": "Python 3 (ipykernel)",
   "language": "python",
   "name": "python3"
  },
  "language_info": {
   "codemirror_mode": {
    "name": "ipython",
    "version": 3
   },
   "file_extension": ".py",
   "mimetype": "text/x-python",
   "name": "python",
   "nbconvert_exporter": "python",
   "pygments_lexer": "ipython3",
   "version": "3.12.7"
  }
 },
 "nbformat": 4,
 "nbformat_minor": 5
}
