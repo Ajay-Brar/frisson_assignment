{
 "cells": [
  {
   "cell_type": "code",
   "execution_count": null,
   "id": "2d249c8c-e212-4917-b0d4-3f0ae3e22e72",
   "metadata": {},
   "outputs": [],
   "source": [
    "#1. Write a Python program to print the numbers from 1 to 10 using a `for` loop."
   ]
  },
  {
   "cell_type": "code",
   "execution_count": 1,
   "id": "4b614c5b-2c52-47f2-b8a4-d49a3c555172",
   "metadata": {},
   "outputs": [
    {
     "name": "stdout",
     "output_type": "stream",
     "text": [
      "1 2 3 4 5 6 7 8 9 10 "
     ]
    }
   ],
   "source": [
    "for i in range(1,11):\n",
    "    print(i,end=' ')"
   ]
  },
  {
   "cell_type": "code",
   "execution_count": 2,
   "id": "7edba989-c18b-4591-a4a8-2d44b56c7b3a",
   "metadata": {},
   "outputs": [],
   "source": [
    "#2. Create a program that calculates the sum of all numbers in a list using a `for` loop."
   ]
  },
  {
   "cell_type": "code",
   "execution_count": 4,
   "id": "659c44f9-76d0-4d90-b709-3cef42e2fc8d",
   "metadata": {},
   "outputs": [
    {
     "data": {
      "text/plain": [
       "15"
      ]
     },
     "execution_count": 4,
     "metadata": {},
     "output_type": "execute_result"
    }
   ],
   "source": [
    "l = list(range(1,6))#[1,2,3,4,5]\n",
    "sum = 0\n",
    "for i in l:\n",
    "    sum += i\n",
    "sum"
   ]
  },
  {
   "cell_type": "code",
   "execution_count": 5,
   "id": "64351049-3589-45c2-a9fa-ffb1e7636ae1",
   "metadata": {},
   "outputs": [],
   "source": [
    "#3. Write a program to print the characters of a string in reverse order using a `for` loop."
   ]
  },
  {
   "cell_type": "code",
   "execution_count": 7,
   "id": "19e460c3-8eb7-4345-a259-65cc765e6a77",
   "metadata": {},
   "outputs": [
    {
     "data": {
      "text/plain": [
       "'321'"
      ]
     },
     "execution_count": 7,
     "metadata": {},
     "output_type": "execute_result"
    }
   ],
   "source": [
    "s = '123'\n",
    "r = ''\n",
    "for i in range(len(s)-1,-1,-1):\n",
    "    r += s[i]\n",
    "r"
   ]
  },
  {
   "cell_type": "code",
   "execution_count": 8,
   "id": "213e708c-b0ef-460e-a3b8-5b8668a59ba2",
   "metadata": {},
   "outputs": [],
   "source": [
    "#4. Develop a program that finds the factorial of a given number using a `for` loop."
   ]
  },
  {
   "cell_type": "code",
   "execution_count": 27,
   "id": "8ddfbb1e-96b4-4c37-b6a6-02dbd046ccaa",
   "metadata": {},
   "outputs": [
    {
     "name": "stdin",
     "output_type": "stream",
     "text": [
      "enter the factorial  num :  5\n"
     ]
    },
    {
     "data": {
      "text/plain": [
       "120"
      ]
     },
     "execution_count": 27,
     "metadata": {},
     "output_type": "execute_result"
    }
   ],
   "source": [
    "n = int(input('enter the factorial  num : '))\n",
    "fact = 1\n",
    "for i in range(1,n+1):\n",
    "    fact *= i\n",
    "fact"
   ]
  },
  {
   "cell_type": "code",
   "execution_count": 11,
   "id": "ffa2a556-805f-433d-8c26-e8768ad64eae",
   "metadata": {},
   "outputs": [],
   "source": [
    "#5. Create a program to print the multiplication table of a given number using a `for` loop."
   ]
  },
  {
   "cell_type": "code",
   "execution_count": 13,
   "id": "99c062de-fbf8-47bb-883d-642a6c3b3d8d",
   "metadata": {},
   "outputs": [
    {
     "name": "stdin",
     "output_type": "stream",
     "text": [
      "enter the table num :  5\n"
     ]
    },
    {
     "name": "stdout",
     "output_type": "stream",
     "text": [
      "5\n",
      "10\n",
      "15\n",
      "20\n",
      "25\n",
      "30\n",
      "35\n",
      "40\n",
      "45\n",
      "50\n"
     ]
    }
   ],
   "source": [
    "n = int(input('enter the table num : '))\n",
    "for i in range(1,11):\n",
    "    print(n*i)\n",
    "    "
   ]
  },
  {
   "cell_type": "code",
   "execution_count": 14,
   "id": "6a30cf54-bddd-41bb-9174-51a67b594dbf",
   "metadata": {},
   "outputs": [],
   "source": [
    "#6. Write a program that counts the number of even and odd numbers in a list using a `for` loop."
   ]
  },
  {
   "cell_type": "code",
   "execution_count": 15,
   "id": "264a5bfe-79c8-48b5-8314-7a7e1ee8a7d5",
   "metadata": {},
   "outputs": [
    {
     "name": "stdout",
     "output_type": "stream",
     "text": [
      " even 4 and odd 5\n"
     ]
    }
   ],
   "source": [
    "l = [1,2,3,4,5,6,7,8,9]\n",
    "even = 0\n",
    "odd = 0\n",
    "for i in l:\n",
    "    if i%2==0:\n",
    "        even += 1\n",
    "    else:\n",
    "        odd += 1\n",
    "print(f' even {even} and odd {odd}')"
   ]
  },
  {
   "cell_type": "code",
   "execution_count": 21,
   "id": "0909d6af-80a1-4514-bc12-ccc942814fe8",
   "metadata": {},
   "outputs": [],
   "source": [
    "#7. Develop a program that prints the squares of numbers from 1 to 5 using a `for` loop."
   ]
  },
  {
   "cell_type": "code",
   "execution_count": 29,
   "id": "f6ec293f-600f-453e-b589-b67b9eff3b61",
   "metadata": {},
   "outputs": [
    {
     "name": "stdout",
     "output_type": "stream",
     "text": [
      "1 4 9 16 25 "
     ]
    }
   ],
   "source": [
    "for i in range(1,6):\n",
    "    print(i**2,end = ' ')"
   ]
  },
  {
   "cell_type": "code",
   "execution_count": 30,
   "id": "88800830-930b-4dec-bab6-f62d712c0d3e",
   "metadata": {},
   "outputs": [],
   "source": [
    "#8. Create a program to find the length of a string without using the `len()` function."
   ]
  },
  {
   "cell_type": "code",
   "execution_count": 31,
   "id": "b42381f8-f52a-4c8d-a922-0f129447f5ff",
   "metadata": {},
   "outputs": [
    {
     "data": {
      "text/plain": [
       "6"
      ]
     },
     "execution_count": 31,
     "metadata": {},
     "output_type": "execute_result"
    }
   ],
   "source": [
    "s = '123456'\n",
    "length=0\n",
    "for i in s:\n",
    "    length += 1\n",
    "length\n"
   ]
  },
  {
   "cell_type": "code",
   "execution_count": 32,
   "id": "f523c981-4a04-4de1-aa0d-f9bf2de0f7c4",
   "metadata": {},
   "outputs": [],
   "source": [
    "#9. Write a program that calculates the average of a list of numbers using a `for` loop."
   ]
  },
  {
   "cell_type": "code",
   "execution_count": 33,
   "id": "711aa294-0bb1-4f0f-bf37-6a3d483926db",
   "metadata": {},
   "outputs": [
    {
     "name": "stdout",
     "output_type": "stream",
     "text": [
      "4.4\n"
     ]
    }
   ],
   "source": [
    "l =[2,3,4,5,8]\n",
    "s,n = 0,0\n",
    "for i in l:\n",
    "    s += i\n",
    "    n += 1\n",
    "average = s/n\n",
    "print(average)"
   ]
  },
  {
   "cell_type": "code",
   "execution_count": 34,
   "id": "8eb06a39-67d4-4946-ae33-e73169c2f1f9",
   "metadata": {},
   "outputs": [],
   "source": [
    "#10. Develop a program that prints the first `n` Fibonacci numbers using a `for` loop."
   ]
  },
  {
   "cell_type": "code",
   "execution_count": 44,
   "id": "0a9580bd-0ca3-4f26-a24a-280bd9c1b828",
   "metadata": {},
   "outputs": [
    {
     "name": "stdin",
     "output_type": "stream",
     "text": [
      "entr the no.:  8\n"
     ]
    },
    {
     "name": "stdout",
     "output_type": "stream",
     "text": [
      "0\n",
      "1\n",
      "1\n",
      "2\n",
      "3\n",
      "5\n",
      "8\n",
      "13\n"
     ]
    }
   ],
   "source": [
    "a,b = 0,1\n",
    "n = int(input('entr the no.: '))\n",
    "print(a)\n",
    "print(b)\n",
    "for i in range(0,n-2):\n",
    "    c = a+b\n",
    "    a,b = b,c\n",
    "    print(c)"
   ]
  },
  {
   "cell_type": "code",
   "execution_count": 45,
   "id": "bc713d85-a735-451f-9cd8-8a7fc6aa698c",
   "metadata": {},
   "outputs": [],
   "source": [
    "#11. Write a program to check if a given list contains any duplicates using a `for` loop."
   ]
  },
  {
   "cell_type": "code",
   "execution_count": 69,
   "id": "31814cea-b305-4747-b196-13af1d984d75",
   "metadata": {},
   "outputs": [
    {
     "name": "stdout",
     "output_type": "stream",
     "text": [
      "it contain duplicate\n"
     ]
    }
   ],
   "source": [
    "l = [1,2,3,4,3,2,6]\n",
    "count = 0\n",
    "for i in l:\n",
    "    if l.count(i) > 1:\n",
    "        print('it contain duplicate')\n",
    "        break\n",
    "else:\n",
    "    print('it does not contain duplicate')\n",
    "    "
   ]
  },
  {
   "cell_type": "code",
   "execution_count": 49,
   "id": "fd219770-89a7-41bb-a0ae-dd487c776f0b",
   "metadata": {},
   "outputs": [],
   "source": [
    "#12. Create a program that prints the prime numbers in a given range using a `for` loop."
   ]
  },
  {
   "cell_type": "code",
   "execution_count": 61,
   "id": "bb41ca6b-14b7-4f27-aefe-5c8cca3e1ae4",
   "metadata": {},
   "outputs": [
    {
     "name": "stdout",
     "output_type": "stream",
     "text": [
      "2\n",
      "3\n",
      "5\n",
      "7\n",
      "11\n",
      "13\n",
      "17\n",
      "19\n"
     ]
    }
   ],
   "source": [
    "\n",
    "count =0\n",
    "for prime in range(2,20):\n",
    "    for j in range(2,prime):\n",
    "        if prime%j == 0:\n",
    "            break\n",
    " \n",
    "    else:\n",
    "        print(prime)"
   ]
  },
  {
   "cell_type": "code",
   "execution_count": 62,
   "id": "0477c7b2-e614-4872-8d43-f33cb7e00970",
   "metadata": {},
   "outputs": [],
   "source": [
    "#13. Develop a program that counts the number of vowels in a string using a `for` loop."
   ]
  },
  {
   "cell_type": "code",
   "execution_count": 63,
   "id": "0a1a8ab1-f662-4f01-9749-d2f5a97a8494",
   "metadata": {},
   "outputs": [
    {
     "name": "stdin",
     "output_type": "stream",
     "text": [
      "enter the string:  hi my name is ajay\n"
     ]
    },
    {
     "name": "stdout",
     "output_type": "stream",
     "text": [
      "the no. of vowel in string are 6\n"
     ]
    }
   ],
   "source": [
    "str = input('enter the string: ')\n",
    "v = 'aeiou'\n",
    "count = 0\n",
    "for i in str:\n",
    "    if i in v:\n",
    "        count += 1\n",
    "print(f'the no. of vowel in string are {count}')"
   ]
  },
  {
   "cell_type": "code",
   "execution_count": null,
   "id": "b54dc7ae-ecf6-44a7-8286-3a140ff8d0d9",
   "metadata": {},
   "outputs": [],
   "source": [
    "#14. Write a program to find the maximum element in a 2D list using a nested `for` loop."
   ]
  },
  {
   "cell_type": "code",
   "execution_count": 2,
   "id": "bb79c535-01bc-4bed-9054-2fb9173074bf",
   "metadata": {},
   "outputs": [
    {
     "data": {
      "text/plain": [
       "54"
      ]
     },
     "execution_count": 2,
     "metadata": {},
     "output_type": "execute_result"
    }
   ],
   "source": [
    "l = [[33,4],[22,54],[6,5,44]]\n",
    "a =0\n",
    "for i in l:\n",
    "    for j in range(0,len(i)):\n",
    "        if i[j] > a:\n",
    "            a =i[j]\n",
    "a"
   ]
  },
  {
   "cell_type": "code",
   "execution_count": 3,
   "id": "5c655067-0fca-4eef-96fe-341fe98b6ed4",
   "metadata": {},
   "outputs": [],
   "source": [
    "#15. Create a program that removes all occurrences of a specific element from a list using a `for` loop."
   ]
  },
  {
   "cell_type": "code",
   "execution_count": 9,
   "id": "1bbf7adf-b5f8-4416-a347-71307d60f838",
   "metadata": {},
   "outputs": [
    {
     "data": {
      "text/plain": [
       "[1, 2, 4, 3, 6, 7]"
      ]
     },
     "execution_count": 9,
     "metadata": {},
     "output_type": "execute_result"
    }
   ],
   "source": [
    "l = [1,2,4,5,3,5,6,7,5]\n",
    "l1 = []\n",
    "a = 5\n",
    "for i in l:\n",
    "    if i == a:\n",
    "        continue\n",
    "    else:\n",
    "        l1.append(i)\n",
    "l1"
   ]
  },
  {
   "cell_type": "code",
   "execution_count": 10,
   "id": "920a752c-91a3-4fe2-9b7a-f56fbc7a8695",
   "metadata": {},
   "outputs": [],
   "source": [
    "#16. Develop a program that generates a multiplication table for numbers from 1 to 5 using a nested `for` loop."
   ]
  },
  {
   "cell_type": "code",
   "execution_count": 15,
   "id": "435f6b42-7937-4fc2-87d1-91532a6328b7",
   "metadata": {},
   "outputs": [
    {
     "name": "stdout",
     "output_type": "stream",
     "text": [
      "1\n",
      "2\n",
      "3\n",
      "4\n",
      "5\n",
      "6\n",
      "7\n",
      "8\n",
      "9\n",
      "10\n",
      "2\n",
      "4\n",
      "6\n",
      "8\n",
      "10\n",
      "12\n",
      "14\n",
      "16\n",
      "18\n",
      "20\n",
      "3\n",
      "6\n",
      "9\n",
      "12\n",
      "15\n",
      "18\n",
      "21\n",
      "24\n",
      "27\n",
      "30\n",
      "4\n",
      "8\n",
      "12\n",
      "16\n",
      "20\n",
      "24\n",
      "28\n",
      "32\n",
      "36\n",
      "40\n",
      "5\n",
      "10\n",
      "15\n",
      "20\n",
      "25\n",
      "30\n",
      "35\n",
      "40\n",
      "45\n",
      "50\n"
     ]
    }
   ],
   "source": [
    "for i in range(1,6):\n",
    "    for j in range(1,11):\n",
    "        print(i*j)"
   ]
  },
  {
   "cell_type": "code",
   "execution_count": 16,
   "id": "b0170e6e-d770-4aee-b9df-d80cc00ab2be",
   "metadata": {},
   "outputs": [],
   "source": [
    "#17. Write a program that converts a list of Fahrenheit temperatures to Celsius using a `for` loop."
   ]
  },
  {
   "cell_type": "code",
   "execution_count": 22,
   "id": "17b2c744-c53a-4a3e-bf75-3d114fdbe43d",
   "metadata": {},
   "outputs": [
    {
     "data": {
      "text/plain": [
       "[23.333333333333336, 32.22222222222222, 35.55555555555556, 31.111111111111114]"
      ]
     },
     "execution_count": 22,
     "metadata": {},
     "output_type": "execute_result"
    }
   ],
   "source": [
    "f = [74,90,96,88]\n",
    "c = []\n",
    "for i in f:\n",
    "    c.append(((i-32)*(5/9)))\n",
    "c"
   ]
  },
  {
   "cell_type": "code",
   "execution_count": 19,
   "id": "3041590c-1634-4636-ba7c-d52b4dd75cd9",
   "metadata": {},
   "outputs": [],
   "source": [
    "#18. Create a program to print the common elements from two lists using a `for` loop."
   ]
  },
  {
   "cell_type": "code",
   "execution_count": 24,
   "id": "025bd2d1-3cdb-4ac1-84a8-d10e994abb4e",
   "metadata": {},
   "outputs": [
    {
     "data": {
      "text/plain": [
       "[5, 4, 3, 2]"
      ]
     },
     "execution_count": 24,
     "metadata": {},
     "output_type": "execute_result"
    }
   ],
   "source": [
    "l1 = [3,2,4,5,3,4,2]\n",
    "l2 = [5,6,4,7,3,2]\n",
    "com = []\n",
    "for i in l2:\n",
    "    if i in l1:\n",
    "        com.append(i)\n",
    "com"
   ]
  },
  {
   "cell_type": "code",
   "execution_count": 25,
   "id": "4ddb1b7c-7cac-4f46-a6d6-c1143606c17b",
   "metadata": {},
   "outputs": [],
   "source": [
    "#19. Develop a program that prints the pattern of right-angled triangles using a `for` loop. Use ‘*’ to draw the"
   ]
  },
  {
   "cell_type": "code",
   "execution_count": 33,
   "id": "ccf489b3-2d4e-4f87-a7ff-cd06b3408d1e",
   "metadata": {},
   "outputs": [
    {
     "name": "stdin",
     "output_type": "stream",
     "text": [
      "num: 6\n"
     ]
    },
    {
     "name": "stdout",
     "output_type": "stream",
     "text": [
      "*\n",
      "**\n",
      "***\n",
      "****\n",
      "*****\n",
      "******\n"
     ]
    }
   ],
   "source": [
    "n = int(input('num:'))\n",
    "for i in range(1,n+1):\n",
    "    print('*'*i)\n",
    "    "
   ]
  },
  {
   "cell_type": "code",
   "execution_count": 34,
   "id": "18e1db97-8dd2-440a-8c0f-ffae923fdf84",
   "metadata": {},
   "outputs": [],
   "source": [
    "#20. Write a program to find the greatest common divisor (GCD) of two numbers using a `for` loop."
   ]
  },
  {
   "cell_type": "code",
   "execution_count": 35,
   "id": "821abd23-2bb2-4fee-8db4-a07b84f1f01f",
   "metadata": {},
   "outputs": [
    {
     "name": "stdin",
     "output_type": "stream",
     "text": [
      "1st num:  50\n",
      "2st num:  25\n"
     ]
    },
    {
     "data": {
      "text/plain": [
       "25"
      ]
     },
     "execution_count": 35,
     "metadata": {},
     "output_type": "execute_result"
    }
   ],
   "source": [
    "n = int(input('1st num: '))\n",
    "m = int(input('2st num: '))\n",
    "gcd = 0\n",
    "if n>m :\n",
    "    cnt = n\n",
    "else:\n",
    "    cnt = m\n",
    "for i in range(1,cnt+1):\n",
    "    if n%i == 0 and m%i == 0:\n",
    "        gcd = i\n",
    "gcd"
   ]
  },
  {
   "cell_type": "code",
   "execution_count": null,
   "id": "3e10526f-a168-43c9-9d47-b43d3ff3c58a",
   "metadata": {},
   "outputs": [],
   "source": [
    "#21. Create a program that calculates the sum of the digits of numbers in a list using a list comprehension."
   ]
  },
  {
   "cell_type": "code",
   "execution_count": 54,
   "id": "236a35a3-4ed9-45d6-8833-d6c82ce0eebe",
   "metadata": {},
   "outputs": [
    {
     "name": "stdout",
     "output_type": "stream",
     "text": [
      "15\n"
     ]
    }
   ],
   "source": [
    "l = [1,2,3,4,5]\n",
    "sum = 0\n",
    "l1 = [sum:=sum+i for i in l]\n",
    "print(sum)"
   ]
  },
  {
   "cell_type": "code",
   "execution_count": null,
   "id": "c0e68aa1-3ba1-42d2-94fe-0c1ac63c34bd",
   "metadata": {},
   "outputs": [],
   "source": [
    "#22. Write a program to find the prime factors of a given number using a `for` loop and list comprehension."
   ]
  },
  {
   "cell_type": "code",
   "execution_count": 102,
   "id": "368b9b33-1f05-4eee-8e35-ed277eb432b3",
   "metadata": {},
   "outputs": [
    {
     "name": "stdin",
     "output_type": "stream",
     "text": [
      "enter a number:  15\n"
     ]
    },
    {
     "data": {
      "text/plain": [
       "[3, 5]"
      ]
     },
     "execution_count": 102,
     "metadata": {},
     "output_type": "execute_result"
    }
   ],
   "source": [
    "n=int(input('enter a number: '))\n",
    "l =[i for i in range(2,n+1) if n%i==0 and all(i%j !=0 for j in range(2,i)) ]\n",
    "l"
   ]
  },
  {
   "cell_type": "code",
   "execution_count": 38,
   "id": "27c73413-f7dd-41df-b8a5-59201be0aa5d",
   "metadata": {},
   "outputs": [],
   "source": [
    "#23. Develop a program that extracts unique elements from a list and stores them in a new list using a list"
   ]
  },
  {
   "cell_type": "code",
   "execution_count": 42,
   "id": "a86ebc45-c500-45c7-99b5-22deb1648d0a",
   "metadata": {},
   "outputs": [
    {
     "data": {
      "text/plain": [
       "[2, 1, 4, 5, 6]"
      ]
     },
     "execution_count": 42,
     "metadata": {},
     "output_type": "execute_result"
    }
   ],
   "source": [
    "l1 = [2,1,3,4,3,5,6]\n",
    "l = [i for i in l1 if l1.count(i) == 1 ]\n",
    "l"
   ]
  },
  {
   "cell_type": "code",
   "execution_count": null,
   "id": "55e4ec16-1394-4b86-be93-246ec53fc784",
   "metadata": {},
   "outputs": [],
   "source": [
    "#24. Create a program that generates a list of all palindromic numbers up to a specified limit using a list comprehension."
   ]
  },
  {
   "cell_type": "code",
   "execution_count": 1,
   "id": "c61991ec-b7aa-4da7-a8be-bfb2dc521b26",
   "metadata": {},
   "outputs": [
    {
     "data": {
      "text/plain": [
       "[11, 22, 33, 44, 55, 66, 77, 88, 99]"
      ]
     },
     "execution_count": 1,
     "metadata": {},
     "output_type": "execute_result"
    }
   ],
   "source": [
    "l = [i for i in range(10,100) if str(i)== str(i)[::-1]]\n",
    "l"
   ]
  },
  {
   "cell_type": "code",
   "execution_count": null,
   "id": "eb22fd21-9763-4732-80d9-ca8e40675d71",
   "metadata": {},
   "outputs": [],
   "source": [
    "#25. Write a program to flatten a nested list using list comprehension."
   ]
  },
  {
   "cell_type": "code",
   "execution_count": 7,
   "id": "3704eafe-2975-4656-9470-363cd596b933",
   "metadata": {},
   "outputs": [
    {
     "data": {
      "text/plain": [
       "[1, 2, 3, 4, 4, 5, 6, 7, 8, 9]"
      ]
     },
     "execution_count": 7,
     "metadata": {},
     "output_type": "execute_result"
    }
   ],
   "source": [
    "l=[[1,2],[3,4],[4,5],[6,7],[8,9]]\n",
    "[j for i in l for j in i ]"
   ]
  },
  {
   "cell_type": "code",
   "execution_count": null,
   "id": "f97269da-3c37-42a8-842e-f297845457fe",
   "metadata": {},
   "outputs": [],
   "source": [
    "#26. Develop a program that computes the sum of even and odd numbers in a list separately using list comprehension."
   ]
  },
  {
   "cell_type": "code",
   "execution_count": 23,
   "id": "7fd350e8-c444-490b-a269-b3ada5b2687f",
   "metadata": {},
   "outputs": [
    {
     "name": "stdout",
     "output_type": "stream",
     "text": [
      "20\n",
      "25\n"
     ]
    }
   ],
   "source": [
    "l=[1,2,3,4,5,6,7,8,9]\n",
    "even,odd=0,0\n",
    "\n",
    "x=[even:=even+i for i in l if i%2==0]\n",
    "y=[odd:=odd+i for i in l if i%2!=0]\n",
    "\n",
    "print(even)\n",
    "print(odd) "
   ]
  },
  {
   "cell_type": "code",
   "execution_count": null,
   "id": "bab36993-38f4-46f6-9066-5100bd37a37d",
   "metadata": {},
   "outputs": [],
   "source": [
    "#27. Create a program that generates a list of squares of odd numbers between 1 and 10 using list comprehension."
   ]
  },
  {
   "cell_type": "code",
   "execution_count": 8,
   "id": "b1212385-13c0-420a-b62f-d46146750913",
   "metadata": {},
   "outputs": [
    {
     "data": {
      "text/plain": [
       "[1, 9, 25, 49, 81]"
      ]
     },
     "execution_count": 8,
     "metadata": {},
     "output_type": "execute_result"
    }
   ],
   "source": [
    "l = [i**2 for i in range(1,11) if i%2!=0]\n",
    "l"
   ]
  },
  {
   "cell_type": "code",
   "execution_count": null,
   "id": "616023fe-3774-4407-a94a-7ae595a81117",
   "metadata": {},
   "outputs": [],
   "source": [
    "#28. Write a program that combines two lists into a dictionary using list comprehension."
   ]
  },
  {
   "cell_type": "code",
   "execution_count": 13,
   "id": "6f15b571-c524-4b1e-a901-9a17b3932ab7",
   "metadata": {},
   "outputs": [
    {
     "name": "stdout",
     "output_type": "stream",
     "text": [
      "{'b': 1, 'a': 2, 'n': 3, 'i': 4, 's': 5}\n"
     ]
    }
   ],
   "source": [
    "l1=['b','a','n','i','s']\n",
    "l2=[1,2,3,4,5]\n",
    "dic={}\n",
    "c=[dic.update({l1[i]:l2[i]}) for i in range(0,len(l1)) ]\n",
    "print(dic)\n"
   ]
  },
  {
   "cell_type": "code",
   "execution_count": null,
   "id": "a903e978-e131-41fc-af9b-4f4f62006698",
   "metadata": {},
   "outputs": [],
   "source": [
    "#29. Develop a program that extracts the vowels from a string and stores them in a list using list comprehension."
   ]
  },
  {
   "cell_type": "code",
   "execution_count": 16,
   "id": "a90bfa65-6c9e-4528-bec1-6f1f39330076",
   "metadata": {},
   "outputs": [
    {
     "name": "stdin",
     "output_type": "stream",
     "text": [
      "enter a string hi everyone\n"
     ]
    },
    {
     "data": {
      "text/plain": [
       "['i', 'e', 'e', 'o', 'e']"
      ]
     },
     "execution_count": 16,
     "metadata": {},
     "output_type": "execute_result"
    }
   ],
   "source": [
    "\n",
    "str=input(\"enter a string\")\n",
    "str1=\"aeiou\"\n",
    "l =[i for i in str if i in str1]\n",
    "l"
   ]
  },
  {
   "cell_type": "code",
   "execution_count": null,
   "id": "1a3380c4-e077-454b-b94b-7c9c494e9e00",
   "metadata": {},
   "outputs": [],
   "source": [
    "#30. Create a program that removes all non-numeric characters from a list of strings using list comprehension."
   ]
  },
  {
   "cell_type": "code",
   "execution_count": 19,
   "id": "b78542fb-dbdb-4055-b199-bcf6138d08be",
   "metadata": {},
   "outputs": [
    {
     "data": {
      "text/plain": [
       "[1, 2, 3, 4, 5]"
      ]
     },
     "execution_count": 19,
     "metadata": {},
     "output_type": "execute_result"
    }
   ],
   "source": [
    "l1=[1,2,3,4,5,'a','b',20.0]\n",
    "l = [i for i in l1 if type(i)== int]\n",
    "l"
   ]
  },
  {
   "cell_type": "code",
   "execution_count": null,
   "id": "d841c8fb-e8b5-4481-9e50-aed97de8a49c",
   "metadata": {},
   "outputs": [],
   "source": []
  },
  {
   "cell_type": "code",
   "execution_count": null,
   "id": "04bb3e0d-53b8-4b10-99a2-260ff8502ac2",
   "metadata": {},
   "outputs": [],
   "source": [
    "## .. IF ELSE STATEMENTS.. ##"
   ]
  },
  {
   "cell_type": "code",
   "execution_count": null,
   "id": "1d08b43c-9452-4410-992e-7dab3ce75deb",
   "metadata": {},
   "outputs": [],
   "source": []
  },
  {
   "cell_type": "code",
   "execution_count": 43,
   "id": "e89d4fb7-34ba-47a9-b636-3f5f555b3ab4",
   "metadata": {},
   "outputs": [],
   "source": [
    "#1. Write a Python program to check if a given number is positive or negative."
   ]
  },
  {
   "cell_type": "code",
   "execution_count": 45,
   "id": "1aaf8638-33ad-4c41-9b6d-9f2b12455f9d",
   "metadata": {},
   "outputs": [
    {
     "name": "stdin",
     "output_type": "stream",
     "text": [
      "num:  -5\n"
     ]
    },
    {
     "name": "stdout",
     "output_type": "stream",
     "text": [
      "Negative Number\n"
     ]
    }
   ],
   "source": [
    "n = int(input('num: '))\n",
    "if n>0:\n",
    "    print('Positive Number')\n",
    "else:\n",
    "    print('Negative Number')\n",
    "\n",
    "    "
   ]
  },
  {
   "cell_type": "code",
   "execution_count": 46,
   "id": "1d6d7013-3ade-4102-b88c-358b0ace5ac7",
   "metadata": {},
   "outputs": [
    {
     "name": "stdin",
     "output_type": "stream",
     "text": [
      "num:  8\n"
     ]
    },
    {
     "name": "stdout",
     "output_type": "stream",
     "text": [
      "Positive Number\n"
     ]
    }
   ],
   "source": [
    "n = int(input('num: '))\n",
    "if n>0:\n",
    "    print('Positive Number')\n",
    "else:\n",
    "    print('Negative Number')\n",
    "    "
   ]
  },
  {
   "cell_type": "code",
   "execution_count": 47,
   "id": "69282671-759e-4f38-a7aa-bffa93bcc2ce",
   "metadata": {},
   "outputs": [],
   "source": [
    "#2. Create a program that determines if a person is eligible to vote based on their age."
   ]
  },
  {
   "cell_type": "code",
   "execution_count": 48,
   "id": "45d16d03-63b6-4eb4-a32a-854d67887f2b",
   "metadata": {},
   "outputs": [
    {
     "name": "stdin",
     "output_type": "stream",
     "text": [
      "age:  25\n"
     ]
    },
    {
     "name": "stdout",
     "output_type": "stream",
     "text": [
      "Eligible for Vote\n"
     ]
    }
   ],
   "source": [
    "age = int(input('age: '))\n",
    "if age>=18:\n",
    "    print('Eligible for Vote')\n",
    "else:\n",
    "    print('not Eligible for Vote')"
   ]
  },
  {
   "cell_type": "code",
   "execution_count": 49,
   "id": "60b2d5f8-863d-49b1-9a30-2b8cafa07a22",
   "metadata": {},
   "outputs": [
    {
     "name": "stdin",
     "output_type": "stream",
     "text": [
      "age:  16\n"
     ]
    },
    {
     "name": "stdout",
     "output_type": "stream",
     "text": [
      "not Eligible for Vote\n"
     ]
    }
   ],
   "source": [
    "age = int(input('age: '))\n",
    "if age>=18:\n",
    "    print('Eligible for Vote')\n",
    "else:\n",
    "    print('not Eligible for Vote')"
   ]
  },
  {
   "cell_type": "code",
   "execution_count": 50,
   "id": "ae96ac01-c293-4e50-862c-183edcc6acd7",
   "metadata": {},
   "outputs": [],
   "source": [
    "#3. Develop a program to find the maximum of two numbers using if-else statements."
   ]
  },
  {
   "cell_type": "code",
   "execution_count": 51,
   "id": "b3bedce1-372b-4c53-a10f-cba6b68fdc5a",
   "metadata": {},
   "outputs": [
    {
     "name": "stdin",
     "output_type": "stream",
     "text": [
      "num:  5\n",
      "num:  9\n"
     ]
    },
    {
     "name": "stdout",
     "output_type": "stream",
     "text": [
      "9 Number is greater\n"
     ]
    }
   ],
   "source": [
    "n1= int(input('num: '))\n",
    "n2 = int(input('num: '))\n",
    "if n1>n2:\n",
    "    print(f'{n1} Number is greater')\n",
    "else:\n",
    "    print(f'{n2} Number is greater')\n",
    "    "
   ]
  },
  {
   "cell_type": "code",
   "execution_count": 52,
   "id": "2e322a48-f10d-483d-aa06-379dddc8994e",
   "metadata": {},
   "outputs": [],
   "source": [
    "#4. Write a Python script to classify a given year as a leap year or not."
   ]
  },
  {
   "cell_type": "code",
   "execution_count": 56,
   "id": "fbe3b721-a425-47c6-a4d7-ecfaa8a160b1",
   "metadata": {},
   "outputs": [
    {
     "name": "stdin",
     "output_type": "stream",
     "text": [
      "enter the year:  2400\n"
     ]
    },
    {
     "name": "stdout",
     "output_type": "stream",
     "text": [
      "leap year\n"
     ]
    }
   ],
   "source": [
    "y = int(input('enter the year: '))\n",
    "if y%400==0:\n",
    "    print('leap year')\n",
    "else:\n",
    "    print('not a leap year')\n"
   ]
  },
  {
   "cell_type": "code",
   "execution_count": 57,
   "id": "77524917-546b-474a-b8ba-c25d5d123015",
   "metadata": {},
   "outputs": [],
   "source": [
    "#5. Create a program that checks whether a character is a vowel or a cnsonant."
   ]
  },
  {
   "cell_type": "code",
   "execution_count": 59,
   "id": "abd00945-187e-4335-a8aa-c984611f55cb",
   "metadata": {},
   "outputs": [
    {
     "name": "stdin",
     "output_type": "stream",
     "text": [
      "enter the character:  a\n"
     ]
    },
    {
     "name": "stdout",
     "output_type": "stream",
     "text": [
      "Character is vowel\n"
     ]
    }
   ],
   "source": [
    "vowel = 'aeiou'\n",
    "char = input ('enter the character: ')\n",
    "if char in vowel:\n",
    "    print('Character is vowel')\n",
    "else:\n",
    "    print('Character is consonant')\n"
   ]
  },
  {
   "cell_type": "code",
   "execution_count": 60,
   "id": "50ef797f-0c11-4723-ba5a-ed20c0f1caa4",
   "metadata": {},
   "outputs": [
    {
     "name": "stdin",
     "output_type": "stream",
     "text": [
      "enter the character:  b\n"
     ]
    },
    {
     "name": "stdout",
     "output_type": "stream",
     "text": [
      "Character is consonant\n"
     ]
    }
   ],
   "source": [
    "vowel = 'aeiou'\n",
    "char = input ('enter the character: ')\n",
    "if char in vowel:\n",
    "    print('Character is vowel')\n",
    "else:\n",
    "    print('Character is consonant')\n"
   ]
  },
  {
   "cell_type": "code",
   "execution_count": 61,
   "id": "cd3ad1d4-c4e1-4c27-86d5-a72d1593b078",
   "metadata": {},
   "outputs": [],
   "source": [
    "#6. Implement a program to determine whether a given number is even or odd."
   ]
  },
  {
   "cell_type": "code",
   "execution_count": 62,
   "id": "5b42e767-a98b-414e-9536-9fa7474894ee",
   "metadata": {},
   "outputs": [
    {
     "name": "stdin",
     "output_type": "stream",
     "text": [
      "enter the year:  6\n"
     ]
    },
    {
     "name": "stdout",
     "output_type": "stream",
     "text": [
      "Even\n"
     ]
    }
   ],
   "source": [
    "y = int(input('enter the year: '))\n",
    "if y%2==0:\n",
    "    print('Even')\n",
    "else:\n",
    "    print('Odd')"
   ]
  },
  {
   "cell_type": "code",
   "execution_count": 63,
   "id": "5df09a99-0e59-416b-a652-63b0a1950c4a",
   "metadata": {},
   "outputs": [],
   "source": [
    "#7. Write a Python function to calculate the absolute value of a number without using the `abs()` function."
   ]
  },
  {
   "cell_type": "code",
   "execution_count": 69,
   "id": "61d00097-e8ee-432a-bd2c-fd117008b91e",
   "metadata": {},
   "outputs": [
    {
     "name": "stdin",
     "output_type": "stream",
     "text": [
      "enter the num:  -3\n"
     ]
    },
    {
     "data": {
      "text/plain": [
       "3"
      ]
     },
     "execution_count": 69,
     "metadata": {},
     "output_type": "execute_result"
    }
   ],
   "source": [
    "n = int(input('enter the num: '))\n",
    "abs = 0\n",
    "if n < 0:\n",
    "    abs = 0-n\n",
    "abs\n",
    "    "
   ]
  },
  {
   "cell_type": "code",
   "execution_count": 70,
   "id": "ee583741-ba7d-4b28-a789-bc89357545ba",
   "metadata": {},
   "outputs": [],
   "source": [
    "#8. Develop a program that determines the largest of three given numbers using if-else statements."
   ]
  },
  {
   "cell_type": "code",
   "execution_count": 71,
   "id": "311041f3-4c17-4887-87b5-e2af948b8c40",
   "metadata": {},
   "outputs": [
    {
     "name": "stdin",
     "output_type": "stream",
     "text": [
      "enter the num1:  9\n",
      "enter the num2:  4\n",
      "enter the num3:  7\n"
     ]
    },
    {
     "name": "stdout",
     "output_type": "stream",
     "text": [
      "9 is greatest number\n"
     ]
    }
   ],
   "source": [
    "x = int(input('enter the num1: '))\n",
    "y = int(input('enter the num2: '))\n",
    "z = int(input('enter the num3: '))\n",
    "if x>y and x>z:\n",
    "    print(f'{x} is greatest number')\n",
    "elif y>x and y>z:\n",
    "    print(f'{y} is greatest number')\n",
    "else:\n",
    "    print(f'{z} is greatest number')\n"
   ]
  },
  {
   "cell_type": "code",
   "execution_count": 72,
   "id": "9a2fcdaa-f77a-4dc0-aae1-ad5536db7077",
   "metadata": {},
   "outputs": [],
   "source": [
    "#9. Create a program that checks if a given string is a palindrome."
   ]
  },
  {
   "cell_type": "code",
   "execution_count": 73,
   "id": "22faa671-328c-4dcd-9f3c-2d75bc0a0261",
   "metadata": {},
   "outputs": [
    {
     "name": "stdout",
     "output_type": "stream",
     "text": [
      "string is palindrome\n"
     ]
    }
   ],
   "source": [
    "str = 'bob'\n",
    "if str==str[::-1]:\n",
    "    print('string is palindrome')\n",
    "else:\n",
    "    print(f'string {str} is not palindrom')\n",
    "    "
   ]
  },
  {
   "cell_type": "code",
   "execution_count": 74,
   "id": "259dd6a6-23f4-4769-97a8-e68e0bdbf267",
   "metadata": {},
   "outputs": [],
   "source": [
    "#10. Write a Python program to calculate the grade based on a student's score."
   ]
  },
  {
   "cell_type": "code",
   "execution_count": 76,
   "id": "089410c3-771c-48f0-b16e-05751328b3af",
   "metadata": {},
   "outputs": [
    {
     "name": "stdin",
     "output_type": "stream",
     "text": [
      "enter the no. of std:  91\n"
     ]
    },
    {
     "name": "stdout",
     "output_type": "stream",
     "text": [
      "A+\n"
     ]
    }
   ],
   "source": [
    "marks =int(input ('enter the no. of std: '))\n",
    "\n",
    "if marks >=90 and marks <=100:\n",
    "    print ('A+')\n",
    "elif marks >=80 and marks <90:\n",
    "    print('A')\n",
    "elif marks >=70 and marks <80:\n",
    "    print('B')\n",
    "elif marks >=60 and marks <70:\n",
    "    print('C')\n",
    "elif marks >=50 and marks <60:\n",
    "    print('Average')\n",
    "else:\n",
    "    print('not good marks')"
   ]
  },
  {
   "cell_type": "code",
   "execution_count": 77,
   "id": "542c98aa-3f4a-4a0e-97c9-6c0be64f5809",
   "metadata": {},
   "outputs": [],
   "source": [
    "#11. Write a program to find the largest among three numbers using nested if-else statements."
   ]
  },
  {
   "cell_type": "code",
   "execution_count": 79,
   "id": "0e45ad08-7b4b-4a5e-9319-d8561bd7aae3",
   "metadata": {},
   "outputs": [
    {
     "name": "stdin",
     "output_type": "stream",
     "text": [
      "enter the num1:  5\n",
      "enter the num2:  9\n",
      "enter the num3:  6\n"
     ]
    },
    {
     "name": "stdout",
     "output_type": "stream",
     "text": [
      "9 is greatest number\n"
     ]
    }
   ],
   "source": [
    "x = int(input('enter the num1: '))\n",
    "y = int(input('enter the num2: '))\n",
    "z = int(input('enter the num3: '))\n",
    "if x>y:\n",
    "    if x>z:\n",
    "        print(f'{x} is greatest number')\n",
    "if y>x :\n",
    "    if y>z:\n",
    "        print(f'{y} is greatest number')\n",
    "else:\n",
    "    print(f'{z} is greatest number')"
   ]
  },
  {
   "cell_type": "code",
   "execution_count": null,
   "id": "da6ae813-bde9-4bc3-8447-07d7269efa6c",
   "metadata": {},
   "outputs": [],
   "source": [
    "#12. Implement a program to determine if a triangle is equilateral, isosceles, or scalene."
   ]
  },
  {
   "cell_type": "code",
   "execution_count": 86,
   "id": "12a7b74c-8e03-4a67-a441-974c20bffc0e",
   "metadata": {},
   "outputs": [
    {
     "name": "stdin",
     "output_type": "stream",
     "text": [
      "enter the side1:  5\n",
      "enter the side2:  5\n",
      "enter the side3:  6\n"
     ]
    },
    {
     "name": "stdout",
     "output_type": "stream",
     "text": [
      "isosceles\n"
     ]
    }
   ],
   "source": [
    "x = int(input('enter the side1: '))\n",
    "y = int(input('enter the side2: '))\n",
    "z = int(input('enter the side3: '))\n",
    "if x == y :\n",
    "    if y == z:\n",
    "        if z==x:\n",
    "            print('equilateral')\n",
    "if x == y :\n",
    "    if y != z:\n",
    "        print('isosceles')\n",
    "else:\n",
    "    print('scalene')"
   ]
  },
  {
   "cell_type": "code",
   "execution_count": 87,
   "id": "f30a0e65-8817-439e-a1d2-2eb6d2be735d",
   "metadata": {},
   "outputs": [],
   "source": [
    "#13. Develop a program that checks if a year is a leap year and also if it is a century year."
   ]
  },
  {
   "cell_type": "code",
   "execution_count": 89,
   "id": "560d2851-0c8e-435c-abfb-76c9c739cb6b",
   "metadata": {},
   "outputs": [
    {
     "name": "stdin",
     "output_type": "stream",
     "text": [
      "enter the year:  2400\n"
     ]
    },
    {
     "name": "stdout",
     "output_type": "stream",
     "text": [
      "leap year\n"
     ]
    }
   ],
   "source": [
    "y = int(input('enter the year: '))\n",
    "if y%100==0:\n",
    "    if y%4==0:\n",
    "        print('leap year')\n",
    "else:\n",
    "    print('not a leap year')"
   ]
  },
  {
   "cell_type": "code",
   "execution_count": 90,
   "id": "ed040342-5469-4b2c-a264-dbdf5fd1fc8c",
   "metadata": {},
   "outputs": [],
   "source": [
    "#14. Write a Python script to determine if a number is positive, negative, or zero."
   ]
  },
  {
   "cell_type": "code",
   "execution_count": 96,
   "id": "c5e6fd80-f96b-41d3-b0bc-c5b06314871d",
   "metadata": {},
   "outputs": [
    {
     "name": "stdin",
     "output_type": "stream",
     "text": [
      "enter the num:  5\n"
     ]
    },
    {
     "name": "stdout",
     "output_type": "stream",
     "text": [
      "The number is positive.\n"
     ]
    }
   ],
   "source": [
    "n = int(input('enter the num: '))\n",
    "if n >= 0:\n",
    "    if n == 0:\n",
    "        print(\"The number is zero.\")\n",
    "    else:\n",
    "        print(\"The number is positive.\")\n",
    "else:\n",
    "    print(\"The number is negative.\")"
   ]
  },
  {
   "cell_type": "code",
   "execution_count": 94,
   "id": "e683fc91-f474-4fa5-b069-5c8552bdd72b",
   "metadata": {},
   "outputs": [],
   "source": [
    "#15. Create a program to check if a person is a teenager (between 13 and 19 years old)."
   ]
  },
  {
   "cell_type": "code",
   "execution_count": 95,
   "id": "6f61a173-05a6-4084-a1db-e893d0873ebf",
   "metadata": {},
   "outputs": [
    {
     "name": "stdin",
     "output_type": "stream",
     "text": [
      "age:  15\n"
     ]
    },
    {
     "name": "stdout",
     "output_type": "stream",
     "text": [
      "Teenager\n"
     ]
    }
   ],
   "source": [
    "age = int(input('age: '))\n",
    "if age>=13:\n",
    "    if age<=19:\n",
    "        print('Teenager')\n",
    "else:\n",
    "    print('not a Teenager')"
   ]
  },
  {
   "cell_type": "code",
   "execution_count": null,
   "id": "7b294c45-30b8-42f5-bb5d-2fc12bed7c94",
   "metadata": {},
   "outputs": [],
   "source": [
    "#16. Develop a program that determines the type of angle based on its measure (acute, obtuse, or right)."
   ]
  },
  {
   "cell_type": "code",
   "execution_count": null,
   "id": "840e85db-4735-4896-8f7e-7c21046375ca",
   "metadata": {},
   "outputs": [],
   "source": []
  }
 ],
 "metadata": {
  "kernelspec": {
   "display_name": "Python 3 (ipykernel)",
   "language": "python",
   "name": "python3"
  },
  "language_info": {
   "codemirror_mode": {
    "name": "ipython",
    "version": 3
   },
   "file_extension": ".py",
   "mimetype": "text/x-python",
   "name": "python",
   "nbconvert_exporter": "python",
   "pygments_lexer": "ipython3",
   "version": "3.12.7"
  },
  "panel-cell-order": [
   "648a37d0-d662-4e8c-94cd-c71c06bb2ec1"
  ]
 },
 "nbformat": 4,
 "nbformat_minor": 5
}
