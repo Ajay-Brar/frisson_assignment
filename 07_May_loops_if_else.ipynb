{
  "cells": [
    {
      "cell_type": "markdown",
      "metadata": {
        "id": "view-in-github",
        "colab_type": "text"
      },
      "source": [
        "<a href=\"https://colab.research.google.com/github/Ajay-Brar/frisson_assignment/blob/main/07_May_loops_if_else.ipynb\" target=\"_parent\"><img src=\"https://colab.research.google.com/assets/colab-badge.svg\" alt=\"Open In Colab\"/></a>"
      ]
    },
    {
      "cell_type": "code",
      "execution_count": null,
      "id": "2d249c8c-e212-4917-b0d4-3f0ae3e22e72",
      "metadata": {
        "id": "2d249c8c-e212-4917-b0d4-3f0ae3e22e72"
      },
      "outputs": [],
      "source": [
        "#1. Write a Python program to print the numbers from 1 to 10 using a `for` loop."
      ]
    },
    {
      "cell_type": "code",
      "execution_count": null,
      "id": "4b614c5b-2c52-47f2-b8a4-d49a3c555172",
      "metadata": {
        "id": "4b614c5b-2c52-47f2-b8a4-d49a3c555172",
        "outputId": "958dcef6-ccab-4867-935c-2db5d3d85b7d"
      },
      "outputs": [
        {
          "name": "stdout",
          "output_type": "stream",
          "text": [
            "1 2 3 4 5 6 7 8 9 10 "
          ]
        }
      ],
      "source": [
        "for i in range(1,11):\n",
        "    print(i,end=' ')"
      ]
    },
    {
      "cell_type": "code",
      "execution_count": null,
      "id": "7edba989-c18b-4591-a4a8-2d44b56c7b3a",
      "metadata": {
        "id": "7edba989-c18b-4591-a4a8-2d44b56c7b3a"
      },
      "outputs": [],
      "source": [
        "#2. Create a program that calculates the sum of all numbers in a list using a `for` loop."
      ]
    },
    {
      "cell_type": "code",
      "execution_count": null,
      "id": "659c44f9-76d0-4d90-b709-3cef42e2fc8d",
      "metadata": {
        "id": "659c44f9-76d0-4d90-b709-3cef42e2fc8d",
        "outputId": "20e7b8b0-42c1-47fc-89e2-0fe96c886df6"
      },
      "outputs": [
        {
          "data": {
            "text/plain": [
              "15"
            ]
          },
          "execution_count": 4,
          "metadata": {},
          "output_type": "execute_result"
        }
      ],
      "source": [
        "l = list(range(1,6))#[1,2,3,4,5]\n",
        "sum = 0\n",
        "for i in l:\n",
        "    sum += i\n",
        "sum"
      ]
    },
    {
      "cell_type": "code",
      "execution_count": null,
      "id": "64351049-3589-45c2-a9fa-ffb1e7636ae1",
      "metadata": {
        "id": "64351049-3589-45c2-a9fa-ffb1e7636ae1"
      },
      "outputs": [],
      "source": [
        "#3. Write a program to print the characters of a string in reverse order using a `for` loop."
      ]
    },
    {
      "cell_type": "code",
      "execution_count": null,
      "id": "19e460c3-8eb7-4345-a259-65cc765e6a77",
      "metadata": {
        "id": "19e460c3-8eb7-4345-a259-65cc765e6a77",
        "outputId": "3fef25d5-38e8-407e-8bf1-52c2aacf77a1"
      },
      "outputs": [
        {
          "data": {
            "text/plain": [
              "'321'"
            ]
          },
          "execution_count": 7,
          "metadata": {},
          "output_type": "execute_result"
        }
      ],
      "source": [
        "s = '123'\n",
        "r = ''\n",
        "for i in range(len(s)-1,-1,-1):\n",
        "    r += s[i]\n",
        "r"
      ]
    },
    {
      "cell_type": "code",
      "execution_count": null,
      "id": "213e708c-b0ef-460e-a3b8-5b8668a59ba2",
      "metadata": {
        "id": "213e708c-b0ef-460e-a3b8-5b8668a59ba2"
      },
      "outputs": [],
      "source": [
        "#4. Develop a program that finds the factorial of a given number using a `for` loop."
      ]
    },
    {
      "cell_type": "code",
      "execution_count": null,
      "id": "8ddfbb1e-96b4-4c37-b6a6-02dbd046ccaa",
      "metadata": {
        "id": "8ddfbb1e-96b4-4c37-b6a6-02dbd046ccaa",
        "outputId": "20cc946f-f8c7-4891-cf16-5065c7b7af2b"
      },
      "outputs": [
        {
          "name": "stdin",
          "output_type": "stream",
          "text": [
            "enter the factorial  num :  5\n"
          ]
        },
        {
          "data": {
            "text/plain": [
              "120"
            ]
          },
          "execution_count": 27,
          "metadata": {},
          "output_type": "execute_result"
        }
      ],
      "source": [
        "n = int(input('enter the factorial  num : '))\n",
        "fact = 1\n",
        "for i in range(1,n+1):\n",
        "    fact *= i\n",
        "fact"
      ]
    },
    {
      "cell_type": "code",
      "execution_count": null,
      "id": "ffa2a556-805f-433d-8c26-e8768ad64eae",
      "metadata": {
        "id": "ffa2a556-805f-433d-8c26-e8768ad64eae"
      },
      "outputs": [],
      "source": [
        "#5. Create a program to print the multiplication table of a given number using a `for` loop."
      ]
    },
    {
      "cell_type": "code",
      "execution_count": null,
      "id": "99c062de-fbf8-47bb-883d-642a6c3b3d8d",
      "metadata": {
        "id": "99c062de-fbf8-47bb-883d-642a6c3b3d8d",
        "outputId": "93b11e9d-25a0-49e4-e6b0-dad5b5f87673"
      },
      "outputs": [
        {
          "name": "stdin",
          "output_type": "stream",
          "text": [
            "enter the table num :  5\n"
          ]
        },
        {
          "name": "stdout",
          "output_type": "stream",
          "text": [
            "5\n",
            "10\n",
            "15\n",
            "20\n",
            "25\n",
            "30\n",
            "35\n",
            "40\n",
            "45\n",
            "50\n"
          ]
        }
      ],
      "source": [
        "n = int(input('enter the table num : '))\n",
        "for i in range(1,11):\n",
        "    print(n*i)\n",
        ""
      ]
    },
    {
      "cell_type": "code",
      "execution_count": null,
      "id": "6a30cf54-bddd-41bb-9174-51a67b594dbf",
      "metadata": {
        "id": "6a30cf54-bddd-41bb-9174-51a67b594dbf"
      },
      "outputs": [],
      "source": [
        "#6. Write a program that counts the number of even and odd numbers in a list using a `for` loop."
      ]
    },
    {
      "cell_type": "code",
      "execution_count": null,
      "id": "264a5bfe-79c8-48b5-8314-7a7e1ee8a7d5",
      "metadata": {
        "id": "264a5bfe-79c8-48b5-8314-7a7e1ee8a7d5",
        "outputId": "f2313057-c64d-4b61-ec50-45bc9b7cc708"
      },
      "outputs": [
        {
          "name": "stdout",
          "output_type": "stream",
          "text": [
            " even 4 and odd 5\n"
          ]
        }
      ],
      "source": [
        "l = [1,2,3,4,5,6,7,8,9]\n",
        "even = 0\n",
        "odd = 0\n",
        "for i in l:\n",
        "    if i%2==0:\n",
        "        even += 1\n",
        "    else:\n",
        "        odd += 1\n",
        "print(f' even {even} and odd {odd}')"
      ]
    },
    {
      "cell_type": "code",
      "execution_count": null,
      "id": "0909d6af-80a1-4514-bc12-ccc942814fe8",
      "metadata": {
        "id": "0909d6af-80a1-4514-bc12-ccc942814fe8"
      },
      "outputs": [],
      "source": [
        "#7. Develop a program that prints the squares of numbers from 1 to 5 using a `for` loop."
      ]
    },
    {
      "cell_type": "code",
      "execution_count": null,
      "id": "f6ec293f-600f-453e-b589-b67b9eff3b61",
      "metadata": {
        "id": "f6ec293f-600f-453e-b589-b67b9eff3b61",
        "outputId": "e4d13ccb-a91a-40c8-ec7b-a2f4f29dca1e"
      },
      "outputs": [
        {
          "name": "stdout",
          "output_type": "stream",
          "text": [
            "1 4 9 16 25 "
          ]
        }
      ],
      "source": [
        "for i in range(1,6):\n",
        "    print(i**2,end = ' ')"
      ]
    },
    {
      "cell_type": "code",
      "execution_count": null,
      "id": "88800830-930b-4dec-bab6-f62d712c0d3e",
      "metadata": {
        "id": "88800830-930b-4dec-bab6-f62d712c0d3e"
      },
      "outputs": [],
      "source": [
        "#8. Create a program to find the length of a string without using the `len()` function."
      ]
    },
    {
      "cell_type": "code",
      "execution_count": null,
      "id": "b42381f8-f52a-4c8d-a922-0f129447f5ff",
      "metadata": {
        "id": "b42381f8-f52a-4c8d-a922-0f129447f5ff",
        "outputId": "0860481f-c7af-4817-cd64-a7f1ab72c104"
      },
      "outputs": [
        {
          "data": {
            "text/plain": [
              "6"
            ]
          },
          "execution_count": 31,
          "metadata": {},
          "output_type": "execute_result"
        }
      ],
      "source": [
        "s = '123456'\n",
        "length=0\n",
        "for i in s:\n",
        "    length += 1\n",
        "length\n"
      ]
    },
    {
      "cell_type": "code",
      "execution_count": null,
      "id": "f523c981-4a04-4de1-aa0d-f9bf2de0f7c4",
      "metadata": {
        "id": "f523c981-4a04-4de1-aa0d-f9bf2de0f7c4"
      },
      "outputs": [],
      "source": [
        "#9. Write a program that calculates the average of a list of numbers using a `for` loop."
      ]
    },
    {
      "cell_type": "code",
      "execution_count": null,
      "id": "711aa294-0bb1-4f0f-bf37-6a3d483926db",
      "metadata": {
        "id": "711aa294-0bb1-4f0f-bf37-6a3d483926db",
        "outputId": "077f5764-358b-4de4-d3d9-aa177ca367c2"
      },
      "outputs": [
        {
          "name": "stdout",
          "output_type": "stream",
          "text": [
            "4.4\n"
          ]
        }
      ],
      "source": [
        "l =[2,3,4,5,8]\n",
        "s,n = 0,0\n",
        "for i in l:\n",
        "    s += i\n",
        "    n += 1\n",
        "average = s/n\n",
        "print(average)"
      ]
    },
    {
      "cell_type": "code",
      "execution_count": null,
      "id": "8eb06a39-67d4-4946-ae33-e73169c2f1f9",
      "metadata": {
        "id": "8eb06a39-67d4-4946-ae33-e73169c2f1f9"
      },
      "outputs": [],
      "source": [
        "#10. Develop a program that prints the first `n` Fibonacci numbers using a `for` loop."
      ]
    },
    {
      "cell_type": "code",
      "execution_count": null,
      "id": "0a9580bd-0ca3-4f26-a24a-280bd9c1b828",
      "metadata": {
        "id": "0a9580bd-0ca3-4f26-a24a-280bd9c1b828",
        "outputId": "23347d01-1de9-40d7-ff01-552635053f36"
      },
      "outputs": [
        {
          "name": "stdin",
          "output_type": "stream",
          "text": [
            "entr the no.:  8\n"
          ]
        },
        {
          "name": "stdout",
          "output_type": "stream",
          "text": [
            "0\n",
            "1\n",
            "1\n",
            "2\n",
            "3\n",
            "5\n",
            "8\n",
            "13\n"
          ]
        }
      ],
      "source": [
        "a,b = 0,1\n",
        "n = int(input('entr the no.: '))\n",
        "print(a)\n",
        "print(b)\n",
        "for i in range(0,n-2):\n",
        "    c = a+b\n",
        "    a,b = b,c\n",
        "    print(c)"
      ]
    },
    {
      "cell_type": "code",
      "execution_count": null,
      "id": "bc713d85-a735-451f-9cd8-8a7fc6aa698c",
      "metadata": {
        "id": "bc713d85-a735-451f-9cd8-8a7fc6aa698c"
      },
      "outputs": [],
      "source": [
        "#11. Write a program to check if a given list contains any duplicates using a `for` loop."
      ]
    },
    {
      "cell_type": "code",
      "execution_count": null,
      "id": "31814cea-b305-4747-b196-13af1d984d75",
      "metadata": {
        "id": "31814cea-b305-4747-b196-13af1d984d75",
        "outputId": "2b45adeb-cc79-46ed-b56b-32abe735ffc3"
      },
      "outputs": [
        {
          "name": "stdout",
          "output_type": "stream",
          "text": [
            "it contain duplicate\n"
          ]
        }
      ],
      "source": [
        "l = [1,2,3,4,3,2,6]\n",
        "count = 0\n",
        "for i in l:\n",
        "    if l.count(i) > 1:\n",
        "        print('it contain duplicate')\n",
        "        break\n",
        "else:\n",
        "    print('it does not contain duplicate')\n",
        ""
      ]
    },
    {
      "cell_type": "code",
      "execution_count": null,
      "id": "fd219770-89a7-41bb-a0ae-dd487c776f0b",
      "metadata": {
        "id": "fd219770-89a7-41bb-a0ae-dd487c776f0b"
      },
      "outputs": [],
      "source": [
        "#12. Create a program that prints the prime numbers in a given range using a `for` loop."
      ]
    },
    {
      "cell_type": "code",
      "execution_count": null,
      "id": "bb41ca6b-14b7-4f27-aefe-5c8cca3e1ae4",
      "metadata": {
        "id": "bb41ca6b-14b7-4f27-aefe-5c8cca3e1ae4",
        "outputId": "b6a2468c-a7fc-464f-df86-28a5653a7d20"
      },
      "outputs": [
        {
          "name": "stdout",
          "output_type": "stream",
          "text": [
            "2\n",
            "3\n",
            "5\n",
            "7\n",
            "11\n",
            "13\n",
            "17\n",
            "19\n"
          ]
        }
      ],
      "source": [
        "\n",
        "count =0\n",
        "for prime in range(2,20):\n",
        "    for j in range(2,prime):\n",
        "        if prime%j == 0:\n",
        "            break\n",
        "\n",
        "    else:\n",
        "        print(prime)"
      ]
    },
    {
      "cell_type": "code",
      "execution_count": null,
      "id": "0477c7b2-e614-4872-8d43-f33cb7e00970",
      "metadata": {
        "id": "0477c7b2-e614-4872-8d43-f33cb7e00970"
      },
      "outputs": [],
      "source": [
        "#13. Develop a program that counts the number of vowels in a string using a `for` loop."
      ]
    },
    {
      "cell_type": "code",
      "execution_count": null,
      "id": "0a1a8ab1-f662-4f01-9749-d2f5a97a8494",
      "metadata": {
        "id": "0a1a8ab1-f662-4f01-9749-d2f5a97a8494",
        "outputId": "cfda4a0e-d70b-4888-f535-8fdedd2dad2b"
      },
      "outputs": [
        {
          "name": "stdin",
          "output_type": "stream",
          "text": [
            "enter the string:  hi my name is ajay\n"
          ]
        },
        {
          "name": "stdout",
          "output_type": "stream",
          "text": [
            "the no. of vowel in string are 6\n"
          ]
        }
      ],
      "source": [
        "str = input('enter the string: ')\n",
        "v = 'aeiou'\n",
        "count = 0\n",
        "for i in str:\n",
        "    if i in v:\n",
        "        count += 1\n",
        "print(f'the no. of vowel in string are {count}')"
      ]
    },
    {
      "cell_type": "code",
      "execution_count": null,
      "id": "b54dc7ae-ecf6-44a7-8286-3a140ff8d0d9",
      "metadata": {
        "id": "b54dc7ae-ecf6-44a7-8286-3a140ff8d0d9"
      },
      "outputs": [],
      "source": [
        "#14. Write a program to find the maximum element in a 2D list using a nested `for` loop."
      ]
    },
    {
      "cell_type": "code",
      "execution_count": null,
      "id": "bb79c535-01bc-4bed-9054-2fb9173074bf",
      "metadata": {
        "id": "bb79c535-01bc-4bed-9054-2fb9173074bf",
        "outputId": "29bf422e-1a8f-47de-fbb3-473528d4cde2"
      },
      "outputs": [
        {
          "data": {
            "text/plain": [
              "54"
            ]
          },
          "execution_count": 2,
          "metadata": {},
          "output_type": "execute_result"
        }
      ],
      "source": [
        "l = [[33,4],[22,54],[6,5,44]]\n",
        "a =0\n",
        "for i in l:\n",
        "    for j in range(0,len(i)):\n",
        "        if i[j] > a:\n",
        "            a =i[j]\n",
        "a"
      ]
    },
    {
      "cell_type": "code",
      "execution_count": null,
      "id": "5c655067-0fca-4eef-96fe-341fe98b6ed4",
      "metadata": {
        "id": "5c655067-0fca-4eef-96fe-341fe98b6ed4"
      },
      "outputs": [],
      "source": [
        "#15. Create a program that removes all occurrences of a specific element from a list using a `for` loop."
      ]
    },
    {
      "cell_type": "code",
      "execution_count": null,
      "id": "1bbf7adf-b5f8-4416-a347-71307d60f838",
      "metadata": {
        "id": "1bbf7adf-b5f8-4416-a347-71307d60f838",
        "outputId": "c83bbcef-ffca-4e30-8f3a-2150767ddde1"
      },
      "outputs": [
        {
          "data": {
            "text/plain": [
              "[1, 2, 4, 3, 6, 7]"
            ]
          },
          "execution_count": 9,
          "metadata": {},
          "output_type": "execute_result"
        }
      ],
      "source": [
        "l = [1,2,4,5,3,5,6,7,5]\n",
        "l1 = []\n",
        "a = 5\n",
        "for i in l:\n",
        "    if i == a:\n",
        "        continue\n",
        "    else:\n",
        "        l1.append(i)\n",
        "l1"
      ]
    },
    {
      "cell_type": "code",
      "execution_count": null,
      "id": "920a752c-91a3-4fe2-9b7a-f56fbc7a8695",
      "metadata": {
        "id": "920a752c-91a3-4fe2-9b7a-f56fbc7a8695"
      },
      "outputs": [],
      "source": [
        "#16. Develop a program that generates a multiplication table for numbers from 1 to 5 using a nested `for` loop."
      ]
    },
    {
      "cell_type": "code",
      "execution_count": null,
      "id": "435f6b42-7937-4fc2-87d1-91532a6328b7",
      "metadata": {
        "id": "435f6b42-7937-4fc2-87d1-91532a6328b7",
        "outputId": "1b1a2325-028e-4ec3-a0a0-80e4344f3062"
      },
      "outputs": [
        {
          "name": "stdout",
          "output_type": "stream",
          "text": [
            "1\n",
            "2\n",
            "3\n",
            "4\n",
            "5\n",
            "6\n",
            "7\n",
            "8\n",
            "9\n",
            "10\n",
            "2\n",
            "4\n",
            "6\n",
            "8\n",
            "10\n",
            "12\n",
            "14\n",
            "16\n",
            "18\n",
            "20\n",
            "3\n",
            "6\n",
            "9\n",
            "12\n",
            "15\n",
            "18\n",
            "21\n",
            "24\n",
            "27\n",
            "30\n",
            "4\n",
            "8\n",
            "12\n",
            "16\n",
            "20\n",
            "24\n",
            "28\n",
            "32\n",
            "36\n",
            "40\n",
            "5\n",
            "10\n",
            "15\n",
            "20\n",
            "25\n",
            "30\n",
            "35\n",
            "40\n",
            "45\n",
            "50\n"
          ]
        }
      ],
      "source": [
        "for i in range(1,6):\n",
        "    for j in range(1,11):\n",
        "        print(i*j)"
      ]
    },
    {
      "cell_type": "code",
      "execution_count": null,
      "id": "b0170e6e-d770-4aee-b9df-d80cc00ab2be",
      "metadata": {
        "id": "b0170e6e-d770-4aee-b9df-d80cc00ab2be"
      },
      "outputs": [],
      "source": [
        "#17. Write a program that converts a list of Fahrenheit temperatures to Celsius using a `for` loop."
      ]
    },
    {
      "cell_type": "code",
      "execution_count": null,
      "id": "17b2c744-c53a-4a3e-bf75-3d114fdbe43d",
      "metadata": {
        "id": "17b2c744-c53a-4a3e-bf75-3d114fdbe43d",
        "outputId": "6947bdb3-4887-4f7d-e743-8d2a8228a983"
      },
      "outputs": [
        {
          "data": {
            "text/plain": [
              "[23.333333333333336, 32.22222222222222, 35.55555555555556, 31.111111111111114]"
            ]
          },
          "execution_count": 22,
          "metadata": {},
          "output_type": "execute_result"
        }
      ],
      "source": [
        "f = [74,90,96,88]\n",
        "c = []\n",
        "for i in f:\n",
        "    c.append(((i-32)*(5/9)))\n",
        "c"
      ]
    },
    {
      "cell_type": "code",
      "execution_count": null,
      "id": "3041590c-1634-4636-ba7c-d52b4dd75cd9",
      "metadata": {
        "id": "3041590c-1634-4636-ba7c-d52b4dd75cd9"
      },
      "outputs": [],
      "source": [
        "#18. Create a program to print the common elements from two lists using a `for` loop."
      ]
    },
    {
      "cell_type": "code",
      "execution_count": null,
      "id": "025bd2d1-3cdb-4ac1-84a8-d10e994abb4e",
      "metadata": {
        "id": "025bd2d1-3cdb-4ac1-84a8-d10e994abb4e",
        "outputId": "3ee336f0-e4b2-4394-fc9c-7b6c8113b993"
      },
      "outputs": [
        {
          "data": {
            "text/plain": [
              "[5, 4, 3, 2]"
            ]
          },
          "execution_count": 24,
          "metadata": {},
          "output_type": "execute_result"
        }
      ],
      "source": [
        "l1 = [3,2,4,5,3,4,2]\n",
        "l2 = [5,6,4,7,3,2]\n",
        "com = []\n",
        "for i in l2:\n",
        "    if i in l1:\n",
        "        com.append(i)\n",
        "com"
      ]
    },
    {
      "cell_type": "code",
      "execution_count": null,
      "id": "4ddb1b7c-7cac-4f46-a6d6-c1143606c17b",
      "metadata": {
        "id": "4ddb1b7c-7cac-4f46-a6d6-c1143606c17b"
      },
      "outputs": [],
      "source": [
        "#19. Develop a program that prints the pattern of right-angled triangles using a `for` loop. Use ‘*’ to draw the"
      ]
    },
    {
      "cell_type": "code",
      "execution_count": null,
      "id": "ccf489b3-2d4e-4f87-a7ff-cd06b3408d1e",
      "metadata": {
        "id": "ccf489b3-2d4e-4f87-a7ff-cd06b3408d1e",
        "outputId": "d7abd770-09ff-43d5-cd9d-6d31a19277fb"
      },
      "outputs": [
        {
          "name": "stdin",
          "output_type": "stream",
          "text": [
            "num: 6\n"
          ]
        },
        {
          "name": "stdout",
          "output_type": "stream",
          "text": [
            "*\n",
            "**\n",
            "***\n",
            "****\n",
            "*****\n",
            "******\n"
          ]
        }
      ],
      "source": [
        "n = int(input('num:'))\n",
        "for i in range(1,n+1):\n",
        "    print('*'*i)\n",
        ""
      ]
    },
    {
      "cell_type": "code",
      "execution_count": null,
      "id": "18e1db97-8dd2-440a-8c0f-ffae923fdf84",
      "metadata": {
        "id": "18e1db97-8dd2-440a-8c0f-ffae923fdf84"
      },
      "outputs": [],
      "source": [
        "#20. Write a program to find the greatest common divisor (GCD) of two numbers using a `for` loop."
      ]
    },
    {
      "cell_type": "code",
      "execution_count": null,
      "id": "821abd23-2bb2-4fee-8db4-a07b84f1f01f",
      "metadata": {
        "id": "821abd23-2bb2-4fee-8db4-a07b84f1f01f",
        "outputId": "63cea1fd-3fba-4f47-9874-50be89a3b58d"
      },
      "outputs": [
        {
          "name": "stdin",
          "output_type": "stream",
          "text": [
            "1st num:  50\n",
            "2st num:  25\n"
          ]
        },
        {
          "data": {
            "text/plain": [
              "25"
            ]
          },
          "execution_count": 35,
          "metadata": {},
          "output_type": "execute_result"
        }
      ],
      "source": [
        "n = int(input('1st num: '))\n",
        "m = int(input('2st num: '))\n",
        "gcd = 0\n",
        "if n>m :\n",
        "    cnt = n\n",
        "else:\n",
        "    cnt = m\n",
        "for i in range(1,cnt+1):\n",
        "    if n%i == 0 and m%i == 0:\n",
        "        gcd = i\n",
        "gcd"
      ]
    },
    {
      "cell_type": "code",
      "execution_count": null,
      "id": "3e10526f-a168-43c9-9d47-b43d3ff3c58a",
      "metadata": {
        "id": "3e10526f-a168-43c9-9d47-b43d3ff3c58a"
      },
      "outputs": [],
      "source": [
        "#21. Create a program that calculates the sum of the digits of numbers in a list using a list comprehension."
      ]
    },
    {
      "cell_type": "code",
      "execution_count": null,
      "id": "236a35a3-4ed9-45d6-8833-d6c82ce0eebe",
      "metadata": {
        "id": "236a35a3-4ed9-45d6-8833-d6c82ce0eebe",
        "outputId": "ddffdd01-e95c-469e-b59d-231768fce4e5"
      },
      "outputs": [
        {
          "name": "stdout",
          "output_type": "stream",
          "text": [
            "15\n"
          ]
        }
      ],
      "source": [
        "l = [1,2,3,4,5]\n",
        "sum = 0\n",
        "l1 = [sum:=sum+i for i in l]\n",
        "print(sum)"
      ]
    },
    {
      "cell_type": "code",
      "execution_count": null,
      "id": "c0e68aa1-3ba1-42d2-94fe-0c1ac63c34bd",
      "metadata": {
        "id": "c0e68aa1-3ba1-42d2-94fe-0c1ac63c34bd"
      },
      "outputs": [],
      "source": [
        "#22. Write a program to find the prime factors of a given number using a `for` loop and list comprehension."
      ]
    },
    {
      "cell_type": "code",
      "execution_count": null,
      "id": "368b9b33-1f05-4eee-8e35-ed277eb432b3",
      "metadata": {
        "id": "368b9b33-1f05-4eee-8e35-ed277eb432b3",
        "outputId": "7d18204e-91cc-40ca-d4b2-bd3b47583110"
      },
      "outputs": [
        {
          "name": "stdin",
          "output_type": "stream",
          "text": [
            "enter a number:  15\n"
          ]
        },
        {
          "data": {
            "text/plain": [
              "[3, 5]"
            ]
          },
          "execution_count": 102,
          "metadata": {},
          "output_type": "execute_result"
        }
      ],
      "source": [
        "n=int(input('enter a number: '))\n",
        "l =[i for i in range(2,n+1) if n%i==0 and all(i%j !=0 for j in range(2,i)) ]\n",
        "l"
      ]
    },
    {
      "cell_type": "code",
      "execution_count": null,
      "id": "27c73413-f7dd-41df-b8a5-59201be0aa5d",
      "metadata": {
        "id": "27c73413-f7dd-41df-b8a5-59201be0aa5d"
      },
      "outputs": [],
      "source": [
        "#23. Develop a program that extracts unique elements from a list and stores them in a new list using a list"
      ]
    },
    {
      "cell_type": "code",
      "execution_count": null,
      "id": "a86ebc45-c500-45c7-99b5-22deb1648d0a",
      "metadata": {
        "id": "a86ebc45-c500-45c7-99b5-22deb1648d0a",
        "outputId": "7aa0e548-ea64-4883-e401-ea133e1ecce9"
      },
      "outputs": [
        {
          "data": {
            "text/plain": [
              "[2, 1, 4, 5, 6]"
            ]
          },
          "execution_count": 42,
          "metadata": {},
          "output_type": "execute_result"
        }
      ],
      "source": [
        "l1 = [2,1,3,4,3,5,6]\n",
        "l = [i for i in l1 if l1.count(i) == 1 ]\n",
        "l"
      ]
    },
    {
      "cell_type": "code",
      "execution_count": null,
      "id": "55e4ec16-1394-4b86-be93-246ec53fc784",
      "metadata": {
        "id": "55e4ec16-1394-4b86-be93-246ec53fc784"
      },
      "outputs": [],
      "source": [
        "#24. Create a program that generates a list of all palindromic numbers up to a specified limit using a list comprehension."
      ]
    },
    {
      "cell_type": "code",
      "execution_count": null,
      "id": "c61991ec-b7aa-4da7-a8be-bfb2dc521b26",
      "metadata": {
        "id": "c61991ec-b7aa-4da7-a8be-bfb2dc521b26",
        "outputId": "8397e019-1443-44c6-e02e-b59ab1847fca"
      },
      "outputs": [
        {
          "data": {
            "text/plain": [
              "[11, 22, 33, 44, 55, 66, 77, 88, 99]"
            ]
          },
          "execution_count": 1,
          "metadata": {},
          "output_type": "execute_result"
        }
      ],
      "source": [
        "l = [i for i in range(10,100) if str(i)== str(i)[::-1]]\n",
        "l"
      ]
    },
    {
      "cell_type": "code",
      "execution_count": null,
      "id": "eb22fd21-9763-4732-80d9-ca8e40675d71",
      "metadata": {
        "id": "eb22fd21-9763-4732-80d9-ca8e40675d71"
      },
      "outputs": [],
      "source": [
        "#25. Write a program to flatten a nested list using list comprehension."
      ]
    },
    {
      "cell_type": "code",
      "execution_count": null,
      "id": "3704eafe-2975-4656-9470-363cd596b933",
      "metadata": {
        "id": "3704eafe-2975-4656-9470-363cd596b933",
        "outputId": "0f5ff32d-1455-41db-fcb1-8745209c9e9c"
      },
      "outputs": [
        {
          "data": {
            "text/plain": [
              "[1, 2, 3, 4, 4, 5, 6, 7, 8, 9]"
            ]
          },
          "execution_count": 7,
          "metadata": {},
          "output_type": "execute_result"
        }
      ],
      "source": [
        "l=[[1,2],[3,4],[4,5],[6,7],[8,9]]\n",
        "[j for i in l for j in i ]"
      ]
    },
    {
      "cell_type": "code",
      "execution_count": null,
      "id": "f97269da-3c37-42a8-842e-f297845457fe",
      "metadata": {
        "id": "f97269da-3c37-42a8-842e-f297845457fe"
      },
      "outputs": [],
      "source": [
        "#26. Develop a program that computes the sum of even and odd numbers in a list separately using list comprehension."
      ]
    },
    {
      "cell_type": "code",
      "execution_count": null,
      "id": "7fd350e8-c444-490b-a269-b3ada5b2687f",
      "metadata": {
        "id": "7fd350e8-c444-490b-a269-b3ada5b2687f",
        "outputId": "8c834631-94cd-4863-ddb0-224fd1e8399e"
      },
      "outputs": [
        {
          "name": "stdout",
          "output_type": "stream",
          "text": [
            "20\n",
            "25\n"
          ]
        }
      ],
      "source": [
        "l=[1,2,3,4,5,6,7,8,9]\n",
        "even,odd=0,0\n",
        "\n",
        "x=[even:=even+i for i in l if i%2==0]\n",
        "y=[odd:=odd+i for i in l if i%2!=0]\n",
        "\n",
        "print(even)\n",
        "print(odd)"
      ]
    },
    {
      "cell_type": "code",
      "execution_count": null,
      "id": "bab36993-38f4-46f6-9066-5100bd37a37d",
      "metadata": {
        "id": "bab36993-38f4-46f6-9066-5100bd37a37d"
      },
      "outputs": [],
      "source": [
        "#27. Create a program that generates a list of squares of odd numbers between 1 and 10 using list comprehension."
      ]
    },
    {
      "cell_type": "code",
      "execution_count": null,
      "id": "b1212385-13c0-420a-b62f-d46146750913",
      "metadata": {
        "id": "b1212385-13c0-420a-b62f-d46146750913",
        "outputId": "22d41b33-7050-4ed5-ced9-b4f7ffa8fe71"
      },
      "outputs": [
        {
          "data": {
            "text/plain": [
              "[1, 9, 25, 49, 81]"
            ]
          },
          "execution_count": 8,
          "metadata": {},
          "output_type": "execute_result"
        }
      ],
      "source": [
        "l = [i**2 for i in range(1,11) if i%2!=0]\n",
        "l"
      ]
    },
    {
      "cell_type": "code",
      "execution_count": null,
      "id": "616023fe-3774-4407-a94a-7ae595a81117",
      "metadata": {
        "id": "616023fe-3774-4407-a94a-7ae595a81117"
      },
      "outputs": [],
      "source": [
        "#28. Write a program that combines two lists into a dictionary using list comprehension."
      ]
    },
    {
      "cell_type": "code",
      "execution_count": null,
      "id": "6f15b571-c524-4b1e-a901-9a17b3932ab7",
      "metadata": {
        "id": "6f15b571-c524-4b1e-a901-9a17b3932ab7",
        "outputId": "40678bbe-d541-46e3-a8bc-f5b64997638f"
      },
      "outputs": [
        {
          "name": "stdout",
          "output_type": "stream",
          "text": [
            "{'b': 1, 'a': 2, 'n': 3, 'i': 4, 's': 5}\n"
          ]
        }
      ],
      "source": [
        "l1=['b','a','n','i','s']\n",
        "l2=[1,2,3,4,5]\n",
        "dic={}\n",
        "c=[dic.update({l1[i]:l2[i]}) for i in range(0,len(l1)) ]\n",
        "print(dic)\n"
      ]
    },
    {
      "cell_type": "code",
      "execution_count": null,
      "id": "a903e978-e131-41fc-af9b-4f4f62006698",
      "metadata": {
        "id": "a903e978-e131-41fc-af9b-4f4f62006698"
      },
      "outputs": [],
      "source": [
        "#29. Develop a program that extracts the vowels from a string and stores them in a list using list comprehension."
      ]
    },
    {
      "cell_type": "code",
      "execution_count": null,
      "id": "a90bfa65-6c9e-4528-bec1-6f1f39330076",
      "metadata": {
        "id": "a90bfa65-6c9e-4528-bec1-6f1f39330076",
        "outputId": "8d107b19-214d-4e34-9c16-d2d9b883e3e0"
      },
      "outputs": [
        {
          "name": "stdin",
          "output_type": "stream",
          "text": [
            "enter a string hi everyone\n"
          ]
        },
        {
          "data": {
            "text/plain": [
              "['i', 'e', 'e', 'o', 'e']"
            ]
          },
          "execution_count": 16,
          "metadata": {},
          "output_type": "execute_result"
        }
      ],
      "source": [
        "\n",
        "str=input(\"enter a string\")\n",
        "str1=\"aeiou\"\n",
        "l =[i for i in str if i in str1]\n",
        "l"
      ]
    },
    {
      "cell_type": "code",
      "execution_count": null,
      "id": "1a3380c4-e077-454b-b94b-7c9c494e9e00",
      "metadata": {
        "id": "1a3380c4-e077-454b-b94b-7c9c494e9e00"
      },
      "outputs": [],
      "source": [
        "#30. Create a program that removes all non-numeric characters from a list of strings using list comprehension."
      ]
    },
    {
      "cell_type": "code",
      "execution_count": null,
      "id": "b78542fb-dbdb-4055-b199-bcf6138d08be",
      "metadata": {
        "id": "b78542fb-dbdb-4055-b199-bcf6138d08be",
        "outputId": "5ce83955-d20e-4534-d7e2-78c912fa4c37"
      },
      "outputs": [
        {
          "data": {
            "text/plain": [
              "[1, 2, 3, 4, 5]"
            ]
          },
          "execution_count": 19,
          "metadata": {},
          "output_type": "execute_result"
        }
      ],
      "source": [
        "l1=[1,2,3,4,5,'a','b',20.0]\n",
        "l = [i for i in l1 if type(i)== int]\n",
        "l"
      ]
    },
    {
      "cell_type": "code",
      "execution_count": null,
      "id": "d841c8fb-e8b5-4481-9e50-aed97de8a49c",
      "metadata": {
        "id": "d841c8fb-e8b5-4481-9e50-aed97de8a49c"
      },
      "outputs": [],
      "source": []
    },
    {
      "cell_type": "code",
      "execution_count": null,
      "id": "04bb3e0d-53b8-4b10-99a2-260ff8502ac2",
      "metadata": {
        "id": "04bb3e0d-53b8-4b10-99a2-260ff8502ac2"
      },
      "outputs": [],
      "source": [
        "## .. IF ELSE STATEMENTS.. ##"
      ]
    },
    {
      "cell_type": "code",
      "execution_count": null,
      "id": "1d08b43c-9452-4410-992e-7dab3ce75deb",
      "metadata": {
        "id": "1d08b43c-9452-4410-992e-7dab3ce75deb"
      },
      "outputs": [],
      "source": []
    },
    {
      "cell_type": "code",
      "execution_count": null,
      "id": "e89d4fb7-34ba-47a9-b636-3f5f555b3ab4",
      "metadata": {
        "id": "e89d4fb7-34ba-47a9-b636-3f5f555b3ab4"
      },
      "outputs": [],
      "source": [
        "#1. Write a Python program to check if a given number is positive or negative."
      ]
    },
    {
      "cell_type": "code",
      "execution_count": null,
      "id": "1aaf8638-33ad-4c41-9b6d-9f2b12455f9d",
      "metadata": {
        "id": "1aaf8638-33ad-4c41-9b6d-9f2b12455f9d",
        "outputId": "9e146f92-5709-4bb2-9365-5713bb885ae5"
      },
      "outputs": [
        {
          "name": "stdin",
          "output_type": "stream",
          "text": [
            "num:  -5\n"
          ]
        },
        {
          "name": "stdout",
          "output_type": "stream",
          "text": [
            "Negative Number\n"
          ]
        }
      ],
      "source": [
        "n = int(input('num: '))\n",
        "if n>0:\n",
        "    print('Positive Number')\n",
        "else:\n",
        "    print('Negative Number')\n",
        "\n",
        ""
      ]
    },
    {
      "cell_type": "code",
      "execution_count": null,
      "id": "1d6d7013-3ade-4102-b88c-358b0ace5ac7",
      "metadata": {
        "id": "1d6d7013-3ade-4102-b88c-358b0ace5ac7",
        "outputId": "216743b0-eca6-4c26-a98f-f502f5d5a3da"
      },
      "outputs": [
        {
          "name": "stdin",
          "output_type": "stream",
          "text": [
            "num:  8\n"
          ]
        },
        {
          "name": "stdout",
          "output_type": "stream",
          "text": [
            "Positive Number\n"
          ]
        }
      ],
      "source": [
        "n = int(input('num: '))\n",
        "if n>0:\n",
        "    print('Positive Number')\n",
        "else:\n",
        "    print('Negative Number')\n",
        ""
      ]
    },
    {
      "cell_type": "code",
      "execution_count": null,
      "id": "69282671-759e-4f38-a7aa-bffa93bcc2ce",
      "metadata": {
        "id": "69282671-759e-4f38-a7aa-bffa93bcc2ce"
      },
      "outputs": [],
      "source": [
        "#2. Create a program that determines if a person is eligible to vote based on their age."
      ]
    },
    {
      "cell_type": "code",
      "execution_count": null,
      "id": "45d16d03-63b6-4eb4-a32a-854d67887f2b",
      "metadata": {
        "id": "45d16d03-63b6-4eb4-a32a-854d67887f2b",
        "outputId": "47aba1dc-2656-426f-90a0-97e3cabc4463"
      },
      "outputs": [
        {
          "name": "stdin",
          "output_type": "stream",
          "text": [
            "age:  25\n"
          ]
        },
        {
          "name": "stdout",
          "output_type": "stream",
          "text": [
            "Eligible for Vote\n"
          ]
        }
      ],
      "source": [
        "age = int(input('age: '))\n",
        "if age>=18:\n",
        "    print('Eligible for Vote')\n",
        "else:\n",
        "    print('not Eligible for Vote')"
      ]
    },
    {
      "cell_type": "code",
      "execution_count": null,
      "id": "60b2d5f8-863d-49b1-9a30-2b8cafa07a22",
      "metadata": {
        "id": "60b2d5f8-863d-49b1-9a30-2b8cafa07a22",
        "outputId": "b0e59ae8-bd65-4df9-e6d0-47800eb14988"
      },
      "outputs": [
        {
          "name": "stdin",
          "output_type": "stream",
          "text": [
            "age:  16\n"
          ]
        },
        {
          "name": "stdout",
          "output_type": "stream",
          "text": [
            "not Eligible for Vote\n"
          ]
        }
      ],
      "source": [
        "age = int(input('age: '))\n",
        "if age>=18:\n",
        "    print('Eligible for Vote')\n",
        "else:\n",
        "    print('not Eligible for Vote')"
      ]
    },
    {
      "cell_type": "code",
      "execution_count": null,
      "id": "ae96ac01-c293-4e50-862c-183edcc6acd7",
      "metadata": {
        "id": "ae96ac01-c293-4e50-862c-183edcc6acd7"
      },
      "outputs": [],
      "source": [
        "#3. Develop a program to find the maximum of two numbers using if-else statements."
      ]
    },
    {
      "cell_type": "code",
      "execution_count": null,
      "id": "b3bedce1-372b-4c53-a10f-cba6b68fdc5a",
      "metadata": {
        "id": "b3bedce1-372b-4c53-a10f-cba6b68fdc5a",
        "outputId": "db25eb72-37f8-410c-b000-79c36fef272a"
      },
      "outputs": [
        {
          "name": "stdin",
          "output_type": "stream",
          "text": [
            "num:  5\n",
            "num:  9\n"
          ]
        },
        {
          "name": "stdout",
          "output_type": "stream",
          "text": [
            "9 Number is greater\n"
          ]
        }
      ],
      "source": [
        "n1= int(input('num: '))\n",
        "n2 = int(input('num: '))\n",
        "if n1>n2:\n",
        "    print(f'{n1} Number is greater')\n",
        "else:\n",
        "    print(f'{n2} Number is greater')\n",
        ""
      ]
    },
    {
      "cell_type": "code",
      "execution_count": null,
      "id": "2e322a48-f10d-483d-aa06-379dddc8994e",
      "metadata": {
        "id": "2e322a48-f10d-483d-aa06-379dddc8994e"
      },
      "outputs": [],
      "source": [
        "#4. Write a Python script to classify a given year as a leap year or not."
      ]
    },
    {
      "cell_type": "code",
      "execution_count": null,
      "id": "fbe3b721-a425-47c6-a4d7-ecfaa8a160b1",
      "metadata": {
        "id": "fbe3b721-a425-47c6-a4d7-ecfaa8a160b1",
        "outputId": "08d5303e-39b2-4bf8-e0eb-b2b0423692df"
      },
      "outputs": [
        {
          "name": "stdin",
          "output_type": "stream",
          "text": [
            "enter the year:  2024\n"
          ]
        },
        {
          "name": "stdout",
          "output_type": "stream",
          "text": [
            "leap year\n"
          ]
        }
      ],
      "source": [
        "year = int(input('enter the year: '))\n",
        "if year%4==0 and (year%100!=0 or year%400==0):\n",
        "    print('leap year')\n",
        "else:\n",
        "    print('not a leap year')\n"
      ]
    },
    {
      "cell_type": "code",
      "execution_count": null,
      "id": "77524917-546b-474a-b8ba-c25d5d123015",
      "metadata": {
        "id": "77524917-546b-474a-b8ba-c25d5d123015"
      },
      "outputs": [],
      "source": [
        "#5. Create a program that checks whether a character is a vowel or a cnsonant."
      ]
    },
    {
      "cell_type": "code",
      "execution_count": null,
      "id": "abd00945-187e-4335-a8aa-c984611f55cb",
      "metadata": {
        "id": "abd00945-187e-4335-a8aa-c984611f55cb",
        "outputId": "17161827-972b-4907-f4ee-ec81019fe05d"
      },
      "outputs": [
        {
          "name": "stdin",
          "output_type": "stream",
          "text": [
            "enter the character:  a\n"
          ]
        },
        {
          "name": "stdout",
          "output_type": "stream",
          "text": [
            "Character is vowel\n"
          ]
        }
      ],
      "source": [
        "vowel = 'aeiou'\n",
        "char = input ('enter the character: ')\n",
        "if char in vowel:\n",
        "    print('Character is vowel')\n",
        "else:\n",
        "    print('Character is consonant')\n"
      ]
    },
    {
      "cell_type": "code",
      "execution_count": null,
      "id": "50ef797f-0c11-4723-ba5a-ed20c0f1caa4",
      "metadata": {
        "id": "50ef797f-0c11-4723-ba5a-ed20c0f1caa4",
        "outputId": "cd958f3f-283b-4932-fb5f-7373e6dfb5c0"
      },
      "outputs": [
        {
          "name": "stdin",
          "output_type": "stream",
          "text": [
            "enter the character:  b\n"
          ]
        },
        {
          "name": "stdout",
          "output_type": "stream",
          "text": [
            "Character is consonant\n"
          ]
        }
      ],
      "source": [
        "vowel = 'aeiou'\n",
        "char = input ('enter the character: ')\n",
        "if char in vowel:\n",
        "    print('Character is vowel')\n",
        "else:\n",
        "    print('Character is consonant')\n"
      ]
    },
    {
      "cell_type": "code",
      "execution_count": null,
      "id": "cd3ad1d4-c4e1-4c27-86d5-a72d1593b078",
      "metadata": {
        "id": "cd3ad1d4-c4e1-4c27-86d5-a72d1593b078"
      },
      "outputs": [],
      "source": [
        "#6. Implement a program to determine whether a given number is even or odd."
      ]
    },
    {
      "cell_type": "code",
      "execution_count": null,
      "id": "5b42e767-a98b-414e-9536-9fa7474894ee",
      "metadata": {
        "id": "5b42e767-a98b-414e-9536-9fa7474894ee",
        "outputId": "fc4969e3-26b1-4fb1-eec4-5de031e11d6a"
      },
      "outputs": [
        {
          "name": "stdin",
          "output_type": "stream",
          "text": [
            "enter the year:  6\n"
          ]
        },
        {
          "name": "stdout",
          "output_type": "stream",
          "text": [
            "Even\n"
          ]
        }
      ],
      "source": [
        "y = int(input('enter the year: '))\n",
        "if y%2==0:\n",
        "    print('Even')\n",
        "else:\n",
        "    print('Odd')"
      ]
    },
    {
      "cell_type": "code",
      "execution_count": null,
      "id": "5df09a99-0e59-416b-a652-63b0a1950c4a",
      "metadata": {
        "id": "5df09a99-0e59-416b-a652-63b0a1950c4a"
      },
      "outputs": [],
      "source": [
        "#7. Write a Python function to calculate the absolute value of a number without using the `abs()` function."
      ]
    },
    {
      "cell_type": "code",
      "execution_count": null,
      "id": "61d00097-e8ee-432a-bd2c-fd117008b91e",
      "metadata": {
        "id": "61d00097-e8ee-432a-bd2c-fd117008b91e",
        "outputId": "1ecbe548-891b-4180-be60-23ed2456c8e3"
      },
      "outputs": [
        {
          "name": "stdin",
          "output_type": "stream",
          "text": [
            "enter the num:  -3\n"
          ]
        },
        {
          "data": {
            "text/plain": [
              "3"
            ]
          },
          "execution_count": 69,
          "metadata": {},
          "output_type": "execute_result"
        }
      ],
      "source": [
        "n = int(input('enter the num: '))\n",
        "abs = 0\n",
        "if n < 0:\n",
        "    abs = 0-n\n",
        "abs\n",
        ""
      ]
    },
    {
      "cell_type": "code",
      "execution_count": null,
      "id": "ee583741-ba7d-4b28-a789-bc89357545ba",
      "metadata": {
        "id": "ee583741-ba7d-4b28-a789-bc89357545ba"
      },
      "outputs": [],
      "source": [
        "#8. Develop a program that determines the largest of three given numbers using if-else statements."
      ]
    },
    {
      "cell_type": "code",
      "execution_count": null,
      "id": "311041f3-4c17-4887-87b5-e2af948b8c40",
      "metadata": {
        "id": "311041f3-4c17-4887-87b5-e2af948b8c40",
        "outputId": "b4673c9b-b4a7-45ba-92d5-6a3ebcb72262"
      },
      "outputs": [
        {
          "name": "stdin",
          "output_type": "stream",
          "text": [
            "enter the num1:  9\n",
            "enter the num2:  4\n",
            "enter the num3:  7\n"
          ]
        },
        {
          "name": "stdout",
          "output_type": "stream",
          "text": [
            "9 is greatest number\n"
          ]
        }
      ],
      "source": [
        "x = int(input('enter the num1: '))\n",
        "y = int(input('enter the num2: '))\n",
        "z = int(input('enter the num3: '))\n",
        "if x>y and x>z:\n",
        "    print(f'{x} is greatest number')\n",
        "elif y>x and y>z:\n",
        "    print(f'{y} is greatest number')\n",
        "else:\n",
        "    print(f'{z} is greatest number')\n"
      ]
    },
    {
      "cell_type": "code",
      "execution_count": null,
      "id": "9a2fcdaa-f77a-4dc0-aae1-ad5536db7077",
      "metadata": {
        "id": "9a2fcdaa-f77a-4dc0-aae1-ad5536db7077"
      },
      "outputs": [],
      "source": [
        "#9. Create a program that checks if a given string is a palindrome."
      ]
    },
    {
      "cell_type": "code",
      "execution_count": null,
      "id": "22faa671-328c-4dcd-9f3c-2d75bc0a0261",
      "metadata": {
        "id": "22faa671-328c-4dcd-9f3c-2d75bc0a0261",
        "outputId": "ce5f2a59-706c-4a0e-c0ca-42467ca6f797"
      },
      "outputs": [
        {
          "name": "stdout",
          "output_type": "stream",
          "text": [
            "string is palindrome\n"
          ]
        }
      ],
      "source": [
        "str = 'bob'\n",
        "if str==str[::-1]:\n",
        "    print('string is palindrome')\n",
        "else:\n",
        "    print(f'string {str} is not palindrom')\n",
        ""
      ]
    },
    {
      "cell_type": "code",
      "execution_count": null,
      "id": "259dd6a6-23f4-4769-97a8-e68e0bdbf267",
      "metadata": {
        "id": "259dd6a6-23f4-4769-97a8-e68e0bdbf267"
      },
      "outputs": [],
      "source": [
        "#10. Write a Python program to calculate the grade based on a student's score."
      ]
    },
    {
      "cell_type": "code",
      "execution_count": null,
      "id": "089410c3-771c-48f0-b16e-05751328b3af",
      "metadata": {
        "id": "089410c3-771c-48f0-b16e-05751328b3af",
        "outputId": "cee38609-adab-429a-daed-7f53ff1e2460"
      },
      "outputs": [
        {
          "name": "stdin",
          "output_type": "stream",
          "text": [
            "enter the no. of std:  67\n"
          ]
        },
        {
          "name": "stdout",
          "output_type": "stream",
          "text": [
            "C\n"
          ]
        }
      ],
      "source": [
        "marks =int(input ('enter the no. of std: '))\n",
        "\n",
        "if marks >=90 and marks <=100:\n",
        "    print ('A+')\n",
        "elif marks >=80 and marks <90:\n",
        "    print('A')\n",
        "elif marks >=70 and marks <80:\n",
        "    print('B')\n",
        "elif marks >=60 and marks <70:\n",
        "    print('C')\n",
        "elif marks >=50 and marks <60:\n",
        "    print('Average')\n",
        "else:\n",
        "    print('not good marks')"
      ]
    },
    {
      "cell_type": "code",
      "execution_count": null,
      "id": "a1690551-cac2-4d5e-b399-e197c60f2d05",
      "metadata": {
        "id": "a1690551-cac2-4d5e-b399-e197c60f2d05"
      },
      "outputs": [],
      "source": [
        "## ..NESTED IF ELSE STATEMENTS .."
      ]
    },
    {
      "cell_type": "code",
      "execution_count": null,
      "id": "542c98aa-3f4a-4a0e-97c9-6c0be64f5809",
      "metadata": {
        "id": "542c98aa-3f4a-4a0e-97c9-6c0be64f5809"
      },
      "outputs": [],
      "source": [
        "#11. Write a program to find the largest among three numbers using nested if-else statements."
      ]
    },
    {
      "cell_type": "code",
      "execution_count": null,
      "id": "0e45ad08-7b4b-4a5e-9319-d8561bd7aae3",
      "metadata": {
        "id": "0e45ad08-7b4b-4a5e-9319-d8561bd7aae3",
        "outputId": "14a3c511-1255-4a3e-fe62-48043fd34a21"
      },
      "outputs": [
        {
          "name": "stdin",
          "output_type": "stream",
          "text": [
            "enter the num1:  5\n",
            "enter the num2:  9\n",
            "enter the num3:  6\n"
          ]
        },
        {
          "name": "stdout",
          "output_type": "stream",
          "text": [
            "9 is greatest number\n"
          ]
        }
      ],
      "source": [
        "x = int(input('enter the num1: '))\n",
        "y = int(input('enter the num2: '))\n",
        "z = int(input('enter the num3: '))\n",
        "if x>y:\n",
        "    if x>z:\n",
        "        print(f'{x} is greatest number')\n",
        "if y>x :\n",
        "    if y>z:\n",
        "        print(f'{y} is greatest number')\n",
        "else:\n",
        "    print(f'{z} is greatest number')"
      ]
    },
    {
      "cell_type": "code",
      "execution_count": null,
      "id": "da6ae813-bde9-4bc3-8447-07d7269efa6c",
      "metadata": {
        "id": "da6ae813-bde9-4bc3-8447-07d7269efa6c"
      },
      "outputs": [],
      "source": [
        "#12. Implement a program to determine if a triangle is equilateral, isosceles, or scalene."
      ]
    },
    {
      "cell_type": "code",
      "execution_count": null,
      "id": "12a7b74c-8e03-4a67-a441-974c20bffc0e",
      "metadata": {
        "id": "12a7b74c-8e03-4a67-a441-974c20bffc0e",
        "outputId": "c8ba3682-8cc9-467b-fd43-bdbfa3bf6d93"
      },
      "outputs": [
        {
          "name": "stdin",
          "output_type": "stream",
          "text": [
            "enter the side1:  12\n",
            "enter the side2:  13\n",
            "enter the side3:  12\n"
          ]
        },
        {
          "name": "stdout",
          "output_type": "stream",
          "text": [
            "isosceles\n"
          ]
        }
      ],
      "source": [
        "x = int(input('enter the side1: '))\n",
        "y = int(input('enter the side2: '))\n",
        "z = int(input('enter the side3: '))\n",
        "if x == y :\n",
        "    if y == z:\n",
        "        if z==x:\n",
        "            print('equilateral')\n",
        "if x == y or y ==z or z==x:\n",
        "    if y != z or x!=z:\n",
        "        print('isosceles')\n",
        "else:\n",
        "    print('scalene')"
      ]
    },
    {
      "cell_type": "code",
      "execution_count": null,
      "id": "f30a0e65-8817-439e-a1d2-2eb6d2be735d",
      "metadata": {
        "id": "f30a0e65-8817-439e-a1d2-2eb6d2be735d"
      },
      "outputs": [],
      "source": [
        "#13. Develop a program that checks if a year is a leap year and also if it is a century year."
      ]
    },
    {
      "cell_type": "code",
      "execution_count": null,
      "id": "560d2851-0c8e-435c-abfb-76c9c739cb6b",
      "metadata": {
        "id": "560d2851-0c8e-435c-abfb-76c9c739cb6b",
        "outputId": "4cc2364d-1462-4904-912b-0dc6cd787023"
      },
      "outputs": [
        {
          "name": "stdin",
          "output_type": "stream",
          "text": [
            "enter the year:  2024\n"
          ]
        },
        {
          "name": "stdout",
          "output_type": "stream",
          "text": [
            "leap year\n"
          ]
        }
      ],
      "source": [
        "y = int(input('enter the year: '))\n",
        "if y % 4 == 0:\n",
        "    if y % 100 != 0 or y % 400 == 0:\n",
        "        print('leap year')\n",
        "else:\n",
        "    print('not a leap year')"
      ]
    },
    {
      "cell_type": "code",
      "execution_count": null,
      "id": "ed040342-5469-4b2c-a264-dbdf5fd1fc8c",
      "metadata": {
        "id": "ed040342-5469-4b2c-a264-dbdf5fd1fc8c"
      },
      "outputs": [],
      "source": [
        "#14. Write a Python script to determine if a number is positive, negative, or zero."
      ]
    },
    {
      "cell_type": "code",
      "execution_count": null,
      "id": "c5e6fd80-f96b-41d3-b0bc-c5b06314871d",
      "metadata": {
        "id": "c5e6fd80-f96b-41d3-b0bc-c5b06314871d",
        "outputId": "463d2a57-143e-44cd-b209-87947ed39c17"
      },
      "outputs": [
        {
          "name": "stdin",
          "output_type": "stream",
          "text": [
            "enter the num:  5\n"
          ]
        },
        {
          "name": "stdout",
          "output_type": "stream",
          "text": [
            "The number is positive.\n"
          ]
        }
      ],
      "source": [
        "n = int(input('enter the num: '))\n",
        "if n >= 0:\n",
        "    if n == 0:\n",
        "        print(\"The number is zero.\")\n",
        "    else:\n",
        "        print(\"The number is positive.\")\n",
        "else:\n",
        "    print(\"The number is negative.\")"
      ]
    },
    {
      "cell_type": "code",
      "execution_count": null,
      "id": "e683fc91-f474-4fa5-b069-5c8552bdd72b",
      "metadata": {
        "id": "e683fc91-f474-4fa5-b069-5c8552bdd72b"
      },
      "outputs": [],
      "source": [
        "#15. Create a program to check if a person is a teenager (between 13 and 19 years old)."
      ]
    },
    {
      "cell_type": "code",
      "execution_count": null,
      "id": "6f61a173-05a6-4084-a1db-e893d0873ebf",
      "metadata": {
        "id": "6f61a173-05a6-4084-a1db-e893d0873ebf",
        "outputId": "c59e20ac-f162-433c-9c6d-168ed13603d8"
      },
      "outputs": [
        {
          "name": "stdin",
          "output_type": "stream",
          "text": [
            "age:  15\n"
          ]
        },
        {
          "name": "stdout",
          "output_type": "stream",
          "text": [
            "Teenager\n"
          ]
        }
      ],
      "source": [
        "age = int(input('age: '))\n",
        "if age>=13:\n",
        "    if age<=19:\n",
        "        print('Teenager')\n",
        "else:\n",
        "    print('not a Teenager')"
      ]
    },
    {
      "cell_type": "code",
      "execution_count": null,
      "id": "7b294c45-30b8-42f5-bb5d-2fc12bed7c94",
      "metadata": {
        "id": "7b294c45-30b8-42f5-bb5d-2fc12bed7c94"
      },
      "outputs": [],
      "source": [
        "#16. Develop a program that determines the type of angle based on its measure (acute, obtuse, or right)."
      ]
    },
    {
      "cell_type": "code",
      "execution_count": null,
      "id": "4e5e5f5a-2470-4ee7-b135-012f3c25eb67",
      "metadata": {
        "id": "4e5e5f5a-2470-4ee7-b135-012f3c25eb67",
        "outputId": "d916ba28-4dc3-4db0-ae80-1ab12a330dcf"
      },
      "outputs": [
        {
          "name": "stdin",
          "output_type": "stream",
          "text": [
            "enter the angle : 60\n"
          ]
        },
        {
          "name": "stdout",
          "output_type": "stream",
          "text": [
            "acute angle\n"
          ]
        }
      ],
      "source": [
        "angle = int(input(\"enter the angle :\"))\n",
        "if angle>=90:\n",
        "    if angle>90:\n",
        "        print('obtuse angel')\n",
        "    else:\n",
        "        print('right angle')\n",
        "else:\n",
        "    print('acute angle')"
      ]
    },
    {
      "cell_type": "code",
      "execution_count": null,
      "id": "840e85db-4735-4896-8f7e-7c21046375ca",
      "metadata": {
        "id": "840e85db-4735-4896-8f7e-7c21046375ca"
      },
      "outputs": [],
      "source": [
        "#17. Write a Python program to calculate the roots of a quadratic equation."
      ]
    },
    {
      "cell_type": "code",
      "execution_count": null,
      "id": "7385230c-0b3a-41e3-b366-7f185a41bd13",
      "metadata": {
        "id": "7385230c-0b3a-41e3-b366-7f185a41bd13",
        "outputId": "f66692f4-ea13-4674-8fa1-0e38176f1d60"
      },
      "outputs": [
        {
          "name": "stdin",
          "output_type": "stream",
          "text": [
            "Enter a:  1\n",
            "Enter b:  -5\n",
            "Enter c:  6\n"
          ]
        },
        {
          "name": "stdout",
          "output_type": "stream",
          "text": [
            "Root 1 = 3.0\n",
            "Root 2 = 2.0\n"
          ]
        }
      ],
      "source": [
        "a = float(input(\"Enter a: \"))\n",
        "b = float(input(\"Enter b: \"))\n",
        "c = float(input(\"Enter c: \"))\n",
        "if a != 0:\n",
        "    d = b*b - 4*a*c\n",
        "    if d > 0:         #d > 0, it calculates two real, different roots\n",
        "        root1 = (-b + (d)**0.5) / (2*a)\n",
        "        root2 = (-b - (d)**0.5) / (2*a)\n",
        "        print(\"Root 1 =\", root1)\n",
        "        print(\"Root 2 =\", root2)\n",
        "    else:\n",
        "        if d == 0:     # d == 0, it calculates one real, repeated root\n",
        "            root = -b / (2*a)\n",
        "            print(\"Root 1 = Root 2 =\", root)\n",
        "        else:\n",
        "            print(\"Roots are complex number\")\n",
        "else:\n",
        "    print(\"Not a quadratic equation\")\n",
        "\n"
      ]
    },
    {
      "cell_type": "code",
      "execution_count": null,
      "id": "f6152e62-b5f7-48ba-8d92-82dc176eae7a",
      "metadata": {
        "id": "f6152e62-b5f7-48ba-8d92-82dc176eae7a"
      },
      "outputs": [],
      "source": [
        "#18. Implement a program to determine the day of the week based on a user-provided number (1 for Monday, 2for Tuesday, etc.)."
      ]
    },
    {
      "cell_type": "code",
      "execution_count": null,
      "id": "453ad354-fc25-4449-8055-b797e234f3a2",
      "metadata": {
        "id": "453ad354-fc25-4449-8055-b797e234f3a2",
        "outputId": "cd618055-ba2e-40a4-c215-02a36e29825d"
      },
      "outputs": [
        {
          "name": "stdin",
          "output_type": "stream",
          "text": [
            "INSERT 1 TO 7 WEEK DAY:  5\n"
          ]
        },
        {
          "name": "stdout",
          "output_type": "stream",
          "text": [
            "FRIDAY\n"
          ]
        }
      ],
      "source": [
        "d = int(input('INSERT 1 TO 7 WEEK DAY: '))\n",
        "\n",
        "if d >= 1:\n",
        "    if d == 1:\n",
        "        print(\"MONDAY\")\n",
        "    else:\n",
        "        if d == 2:\n",
        "            print(\"TUESDAY\")\n",
        "        else:\n",
        "            if d == 3:\n",
        "                print(\"WEDNESDAY\")\n",
        "            else:\n",
        "                if d == 4:\n",
        "                    print(\"THURSDAY\")\n",
        "                else:\n",
        "                    if d == 5:\n",
        "                        print(\"FRIDAY\")\n",
        "                    else:\n",
        "                        if d == 6:\n",
        "                            print(\"SATURDAY\")\n",
        "                        else:\n",
        "                            if d == 7:\n",
        "                                print(\"SUNDAY\")\n",
        "                            else:\n",
        "                                print(\"Not a valid day number!\")\n",
        "\n"
      ]
    },
    {
      "cell_type": "code",
      "execution_count": null,
      "id": "69842250-db64-420a-9011-8f48d5ee7562",
      "metadata": {
        "id": "69842250-db64-420a-9011-8f48d5ee7562"
      },
      "outputs": [],
      "source": [
        "#19. Create a program that determines if a year is a leap year and also if it is evenly divisible by 400."
      ]
    },
    {
      "cell_type": "code",
      "execution_count": null,
      "id": "98d65247-989e-4ab4-aa7b-0a2277d7f03d",
      "metadata": {
        "id": "98d65247-989e-4ab4-aa7b-0a2277d7f03d",
        "outputId": "4b5a0184-4e9f-4a53-c9c2-b549b10b2f42"
      },
      "outputs": [
        {
          "name": "stdin",
          "output_type": "stream",
          "text": [
            "enter the year:  2400\n"
          ]
        },
        {
          "name": "stdout",
          "output_type": "stream",
          "text": [
            "leap year and divisible by 400\n"
          ]
        }
      ],
      "source": [
        "y = int(input('enter the year: '))\n",
        "if y % 4 == 0:\n",
        "    if y % 100 != 0 or y % 400 == 0:\n",
        "      if y % 400 == 0:\n",
        "        print('leap year and divisible by 400')\n",
        "      else:\n",
        "        print('leap year but not divisible by 400')\n",
        "    else:\n",
        "        print('not a leap year')\n",
        "else:\n",
        "    print('not a leap year')"
      ]
    },
    {
      "cell_type": "code",
      "execution_count": null,
      "id": "e905238e-31d8-4eaf-932e-e0f6238ac5fe",
      "metadata": {
        "id": "e905238e-31d8-4eaf-932e-e0f6238ac5fe"
      },
      "outputs": [],
      "source": [
        "#20. Develop a program that checks if a given number is prime or not using nested if-else statements."
      ]
    },
    {
      "cell_type": "code",
      "execution_count": null,
      "id": "7575c721-92ce-4495-9f8d-914557e9dbb9",
      "metadata": {
        "id": "7575c721-92ce-4495-9f8d-914557e9dbb9",
        "outputId": "b5128ff7-817a-45c0-ae73-7eb079c8411d"
      },
      "outputs": [
        {
          "name": "stdin",
          "output_type": "stream",
          "text": [
            "Enter a number:  7\n"
          ]
        },
        {
          "name": "stdout",
          "output_type": "stream",
          "text": [
            "Number is prime\n"
          ]
        }
      ],
      "source": [
        "n= int(input(\"Enter a number: \"))\n",
        "if n > 1:\n",
        "    for i in range(2, n):\n",
        "        if n % i == 0:\n",
        "            print(\"not prime\")\n",
        "            break\n",
        "    else:\n",
        "        print(\"Number is prime\")\n",
        "else:\n",
        "    print(\"not  prime \")"
      ]
    },
    {
      "cell_type": "code",
      "execution_count": null,
      "id": "f58fe7a0-5ea6-4504-be45-6db8eca92323",
      "metadata": {
        "id": "f58fe7a0-5ea6-4504-be45-6db8eca92323"
      },
      "outputs": [],
      "source": [
        "## ELIF STATEMENT.."
      ]
    },
    {
      "cell_type": "code",
      "execution_count": null,
      "id": "8e73a301-4f0f-4b40-867a-fa8ab906d074",
      "metadata": {
        "id": "8e73a301-4f0f-4b40-867a-fa8ab906d074"
      },
      "outputs": [],
      "source": [
        "#21. Write a Python program to assign grades based on different ranges of scores using elif statements."
      ]
    },
    {
      "cell_type": "code",
      "execution_count": null,
      "id": "f9924079-fc4e-4720-bf2c-63494eb1faf5",
      "metadata": {
        "id": "f9924079-fc4e-4720-bf2c-63494eb1faf5",
        "outputId": "b3de0efc-1227-48a8-cd60-29ec954e6dd4"
      },
      "outputs": [
        {
          "name": "stdin",
          "output_type": "stream",
          "text": [
            "enter the no. of std:  88\n"
          ]
        },
        {
          "name": "stdout",
          "output_type": "stream",
          "text": [
            "A\n"
          ]
        }
      ],
      "source": [
        "marks =int(input ('enter the no. of std: '))\n",
        "\n",
        "if marks >=90 and marks <=100:\n",
        "    print ('A+')\n",
        "elif marks >=80 and marks <90:\n",
        "    print('A')\n",
        "elif marks >=70 and marks <80:\n",
        "    print('B')\n",
        "elif marks >=60 and marks <70:\n",
        "    print('C')\n",
        "elif marks >=50 and marks <60:\n",
        "    print('Average')\n",
        "else:\n",
        "    print('not good marks')"
      ]
    },
    {
      "cell_type": "code",
      "execution_count": null,
      "id": "8c8e3312-bee1-4af4-9c82-a7ca137111ee",
      "metadata": {
        "id": "8c8e3312-bee1-4af4-9c82-a7ca137111ee"
      },
      "outputs": [],
      "source": [
        "#22. Implement a program to determine the type of a triangle based on its angles."
      ]
    },
    {
      "cell_type": "code",
      "execution_count": null,
      "id": "c96bfffc-10ff-4c9f-af73-feb0b1f11e0a",
      "metadata": {
        "id": "c96bfffc-10ff-4c9f-af73-feb0b1f11e0a",
        "outputId": "547ce84f-0feb-4b7d-9f88-37c0d95c1ff2"
      },
      "outputs": [
        {
          "name": "stdin",
          "output_type": "stream",
          "text": [
            "enter the angle:  125\n"
          ]
        },
        {
          "name": "stdout",
          "output_type": "stream",
          "text": [
            "angle is obtuse\n"
          ]
        }
      ],
      "source": [
        "angle = int(input('enter the angle: '))\n",
        "if angle>0 and angle<90:\n",
        "  print('angle is acute')\n",
        "elif angle == 90:\n",
        "  print('angle is right angle')\n",
        "elif angle>90 and angle<180:\n",
        "  print('angle is obtuse')\n",
        "else:\n",
        "    print('Not a triangel angle!!')"
      ]
    },
    {
      "cell_type": "code",
      "execution_count": null,
      "id": "aee01011-579f-402b-bee1-869f97bfe2d8",
      "metadata": {
        "id": "aee01011-579f-402b-bee1-869f97bfe2d8"
      },
      "outputs": [],
      "source": [
        "#23. Develop a program to categorize a given person's BMI into underweight, normal, overweight, or obese using"
      ]
    },
    {
      "cell_type": "code",
      "execution_count": null,
      "id": "ce0554cc-2af1-4d89-b91d-40dec79e9a9f",
      "metadata": {
        "id": "ce0554cc-2af1-4d89-b91d-40dec79e9a9f",
        "outputId": "507144d3-f46a-46df-e40e-748bf96eb3d0"
      },
      "outputs": [
        {
          "name": "stdin",
          "output_type": "stream",
          "text": [
            "Enter your weight in kg:  54\n",
            "Enter your height in meters:  1.65\n"
          ]
        },
        {
          "name": "stdout",
          "output_type": "stream",
          "text": [
            "Normal weight\n"
          ]
        }
      ],
      "source": [
        "\n",
        "weight = float(input(\"Enter your weight in kg: \"))\n",
        "height = float(input(\"Enter your height in meters: \"))\n",
        "bmi = weight / (height ** 2)\n",
        "if bmi < 18.5:\n",
        "    print(\"Underweight\")\n",
        "elif 18.5 <= bmi < 24.9:\n",
        "    print(\"Normal weight\")\n",
        "elif 25 <= bmi < 29.9:\n",
        "    print(\"Overweight\")\n",
        "else:\n",
        "    print(\"Obese\")"
      ]
    },
    {
      "cell_type": "code",
      "execution_count": null,
      "id": "2abfdcaf-2602-4929-b72d-342041901bfb",
      "metadata": {
        "id": "2abfdcaf-2602-4929-b72d-342041901bfb"
      },
      "outputs": [],
      "source": [
        "#24. Create a program that determines whether a given number is positive, negative, or zero using elif statements."
      ]
    },
    {
      "cell_type": "code",
      "execution_count": null,
      "id": "0ad20506-7cf0-4781-b215-5eb7a0db43b6",
      "metadata": {
        "id": "0ad20506-7cf0-4781-b215-5eb7a0db43b6",
        "outputId": "9826a23c-52a9-422d-8b33-f27f5ff474bf"
      },
      "outputs": [
        {
          "name": "stdin",
          "output_type": "stream",
          "text": [
            "enter the num:  -1\n"
          ]
        },
        {
          "name": "stdout",
          "output_type": "stream",
          "text": [
            "The number is negative.\n"
          ]
        }
      ],
      "source": [
        "n = int(input('enter the num: '))\n",
        "if n > 0:\n",
        "    print(\"The number is positive.\")\n",
        "elif n == 0:\n",
        "        print(\"The number is zero.\")\n",
        "else:\n",
        "    print(\"The number is negative.\")"
      ]
    },
    {
      "cell_type": "code",
      "execution_count": null,
      "id": "0a488ada-a04a-4f08-942b-a58034913d21",
      "metadata": {
        "id": "0a488ada-a04a-4f08-942b-a58034913d21"
      },
      "outputs": [],
      "source": [
        "#25. Write a Python script to determine the type of a character (uppercase, lowercase, or special) using elif statements"
      ]
    },
    {
      "cell_type": "code",
      "execution_count": null,
      "id": "cd791476-ee4f-4946-bd68-7d38d712338d",
      "metadata": {
        "id": "cd791476-ee4f-4946-bd68-7d38d712338d",
        "outputId": "22e3a389-486f-47ef-edbd-5cfe995d5503"
      },
      "outputs": [
        {
          "name": "stdin",
          "output_type": "stream",
          "text": [
            "enter the character:  @#\n"
          ]
        },
        {
          "name": "stdout",
          "output_type": "stream",
          "text": [
            "SPECIAL CHARACTER\n"
          ]
        }
      ],
      "source": [
        "char = input('enter the character: ')\n",
        "\n",
        "if char >='a' and char <='z':\n",
        "    print('LOWER CHARACTER')\n",
        "elif char >='A' and char <='Z':\n",
        "    print('UPPER CHARACTER')\n",
        "elif char >='0' and char <='9':\n",
        "    print('NUMERIC CHARACTER')\n",
        "else:\n",
        "    print('SPECIAL CHARACTER')"
      ]
    },
    {
      "cell_type": "code",
      "execution_count": null,
      "id": "1424b7cf-a399-402a-a3f9-19d2f2dd1f65",
      "metadata": {
        "id": "1424b7cf-a399-402a-a3f9-19d2f2dd1f65"
      },
      "outputs": [],
      "source": [
        "#26. Implement a program to calculate the discounted price based on different purchase amounts using elif statements."
      ]
    },
    {
      "cell_type": "code",
      "execution_count": null,
      "id": "72146a49-e6b6-46e3-85e8-cff092ab41be",
      "metadata": {
        "id": "72146a49-e6b6-46e3-85e8-cff092ab41be",
        "outputId": "15f5f601-92c3-4785-ef8b-3846248eea5f"
      },
      "outputs": [
        {
          "name": "stdin",
          "output_type": "stream",
          "text": [
            "Enter the purchase amount:  300\n"
          ]
        },
        {
          "name": "stdout",
          "output_type": "stream",
          "text": [
            "The discounted price is: 255.0\n"
          ]
        }
      ],
      "source": [
        "pa = float(input(\"Enter the purchase amount: \"))\n",
        "\n",
        "if pa < 100:\n",
        "    dp = 0\n",
        "elif pa < 200:\n",
        "    dp = 5\n",
        "elif pa < 300:\n",
        "    dp = 10\n",
        "else:\n",
        "    dp = 15\n",
        "\n",
        "da = pa * (dp / 100)\n",
        "discount_price = pa - da\n",
        "\n",
        "print(\"The discounted price is:\", discount_price)\n"
      ]
    },
    {
      "cell_type": "code",
      "execution_count": null,
      "id": "87f2d545-10ed-4331-8fab-bcc7e5b775f9",
      "metadata": {
        "id": "87f2d545-10ed-4331-8fab-bcc7e5b775f9"
      },
      "outputs": [],
      "source": [
        "#27. Develop a program to calculate the electricity bill based on different consumption slabs using elif statements."
      ]
    },
    {
      "cell_type": "code",
      "execution_count": null,
      "id": "7884c13d-0bbe-45d9-8e78-3338539e3dc3",
      "metadata": {
        "id": "7884c13d-0bbe-45d9-8e78-3338539e3dc3",
        "outputId": "29116ded-7ad4-46cc-aa89-4a3982e2f380"
      },
      "outputs": [
        {
          "name": "stdin",
          "output_type": "stream",
          "text": [
            "Enter the number of units:  300\n"
          ]
        },
        {
          "name": "stdout",
          "output_type": "stream",
          "text": [
            "The electricity bill is:  800.0\n"
          ]
        }
      ],
      "source": [
        "units = float(input(\"Enter the number of units: \"))\n",
        "\n",
        "if units <= 100:\n",
        "    bill = units * 1.5\n",
        "elif units <= 200:\n",
        "    bill = (100 * 1.5) + ((units - 100) * 2.5)\n",
        "else:\n",
        "    bill = (100 * 1.5) + (100 * 2.5) + ((units - 200) * 4)\n",
        "\n",
        "print(\"The electricity bill is: \", bill)"
      ]
    },
    {
      "cell_type": "code",
      "execution_count": null,
      "id": "8e568bd1-5b9c-4c05-a104-b975e3343171",
      "metadata": {
        "id": "8e568bd1-5b9c-4c05-a104-b975e3343171"
      },
      "outputs": [],
      "source": [
        "#28. Create a program to determine the type of quadrilateral based on its angles and sides using elif statements."
      ]
    },
    {
      "cell_type": "code",
      "execution_count": null,
      "id": "2bcc6b05-a8e7-4fe3-860c-013a4c18033a",
      "metadata": {
        "id": "2bcc6b05-a8e7-4fe3-860c-013a4c18033a",
        "outputId": "68c923f7-8442-4cd5-d156-9eda02c91fef"
      },
      "outputs": [
        {
          "name": "stdin",
          "output_type": "stream",
          "text": [
            "Enter side a:  10\n",
            "Enter side b:  10\n",
            "Enter side c:  10\n",
            "Enter side d:  10\n",
            "Enter angle 1:  90\n",
            "Enter angle 2:  90\n",
            "Enter angle 3:  90\n",
            "Enter angle 4:  90\n"
          ]
        },
        {
          "name": "stdout",
          "output_type": "stream",
          "text": [
            "It is a Square.\n"
          ]
        }
      ],
      "source": [
        "a = float(input(\"Enter side a: \"))\n",
        "b = float(input(\"Enter side b: \"))\n",
        "c = float(input(\"Enter side c: \"))\n",
        "d = float(input(\"Enter side d: \"))\n",
        "\n",
        "w = float(input(\"Enter angle 1: \"))\n",
        "x = float(input(\"Enter angle 2: \"))\n",
        "y = float(input(\"Enter angle 3: \"))\n",
        "z = float(input(\"Enter angle 4: \"))\n",
        "\n",
        "if a == b == c == d and w == x == y == z == 90:\n",
        "    print(\"It is a Square.\")\n",
        "elif a == c and b == d and w == x == y == z == 90:\n",
        "    print(\"It is a Rectangle.\")\n",
        "elif a == b == c == d and (w != 90 or x != 90 or y != 90 or z != 90):\n",
        "    print(\"It is a Rhombus.\")\n",
        "elif a == c and b == d and w == y and x == z:\n",
        "    print(\"It is a Parallelogram.\")\n",
        "else:\n",
        "    print(\"It is a Trapezium or other.\")\n"
      ]
    },
    {
      "cell_type": "code",
      "execution_count": null,
      "id": "fefeedb1-949c-49d1-8842-28fc00d819c3",
      "metadata": {
        "id": "fefeedb1-949c-49d1-8842-28fc00d819c3"
      },
      "outputs": [],
      "source": [
        "#29. Write a Python script to determine the season based on a user-provided month using elif statements."
      ]
    },
    {
      "cell_type": "code",
      "source": [
        "m = input(\"enter the month: \")\n",
        "if m == 'march' or m == 'april' or m == 'may':\n",
        "  print('Spring season')\n",
        "elif m == 'june' or m == 'july' or m == 'august':\n",
        "  print(\"Summer\")\n",
        "elif m == 'september' or m == 'october' or m == 'november':\n",
        "  print(\"Autumn season\")\n",
        "elif m == 'december season' or m == 'january' or m == 'february':\n",
        "  print(\"Winter season\")\n",
        "else:\n",
        "  print(\"Not a month!!!\")"
      ],
      "metadata": {
        "id": "iEh-WWAbLFrn",
        "outputId": "4820977c-fca1-4aa7-9a16-f932fda5d1b2",
        "colab": {
          "base_uri": "https://localhost:8080/"
        }
      },
      "id": "iEh-WWAbLFrn",
      "execution_count": 3,
      "outputs": [
        {
          "output_type": "stream",
          "name": "stdout",
          "text": [
            "enter the month: may\n",
            "Spring season\n"
          ]
        }
      ]
    },
    {
      "cell_type": "code",
      "source": [
        "#30. Implement a program to determine the type of a year (leap or common) and month (30 or 31 days) using elif statements."
      ],
      "metadata": {
        "id": "JqIu5kxXOhAJ"
      },
      "id": "JqIu5kxXOhAJ",
      "execution_count": null,
      "outputs": []
    },
    {
      "cell_type": "code",
      "source": [
        "y = int(input('enter the year: '))\n",
        "m = input(\"enter the month: \")\n",
        "l = ['january', 'march', 'may', 'july', 'august', 'october', 'december']\n",
        "if y % 4 == 0:\n",
        "    if y % 100 != 0 or y % 400 == 0:\n",
        "        print('leap year')\n",
        "        if m in l:\n",
        "            print(\"this month have 31 days\")\n",
        "        elif m  not in l:\n",
        "            print(\"this month have 30 days\")\n",
        "else:\n",
        "    print('not a leap year')\n",
        "    if m in l:\n",
        "      print(\"this month have 31 days\")\n",
        "    elif m  not in l:\n",
        "      print(\"this month have 30 days\")"
      ],
      "metadata": {
        "id": "EjeIzApuPLyz",
        "outputId": "20c1c4bb-b53d-4fa5-b037-a6b4b450f4e9",
        "colab": {
          "base_uri": "https://localhost:8080/"
        }
      },
      "id": "EjeIzApuPLyz",
      "execution_count": 9,
      "outputs": [
        {
          "output_type": "stream",
          "name": "stdout",
          "text": [
            "enter the year: 2019\n",
            "enter the month: june\n",
            "not a leap year\n",
            "this month have 30 days\n"
          ]
        }
      ]
    },
    {
      "cell_type": "code",
      "source": [
        "## Combined :"
      ],
      "metadata": {
        "id": "VNUnsu1BRLJC"
      },
      "id": "VNUnsu1BRLJC",
      "execution_count": null,
      "outputs": []
    }
  ],
  "metadata": {
    "kernelspec": {
      "display_name": "Python 3 (ipykernel)",
      "language": "python",
      "name": "python3"
    },
    "language_info": {
      "codemirror_mode": {
        "name": "ipython",
        "version": 3
      },
      "file_extension": ".py",
      "mimetype": "text/x-python",
      "name": "python",
      "nbconvert_exporter": "python",
      "pygments_lexer": "ipython3",
      "version": "3.12.7"
    },
    "panel-cell-order": [
      "648a37d0-d662-4e8c-94cd-c71c06bb2ec1"
    ],
    "colab": {
      "provenance": [],
      "include_colab_link": true
    }
  },
  "nbformat": 4,
  "nbformat_minor": 5
}