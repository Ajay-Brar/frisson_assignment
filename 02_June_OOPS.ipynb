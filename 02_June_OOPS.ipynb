{
  "nbformat": 4,
  "nbformat_minor": 0,
  "metadata": {
    "colab": {
      "provenance": [],
      "authorship_tag": "ABX9TyOHdwACfste2U/FeX4WlX51",
      "include_colab_link": true
    },
    "kernelspec": {
      "name": "python3",
      "display_name": "Python 3"
    },
    "language_info": {
      "name": "python"
    }
  },
  "cells": [
    {
      "cell_type": "markdown",
      "metadata": {
        "id": "view-in-github",
        "colab_type": "text"
      },
      "source": [
        "<a href=\"https://colab.research.google.com/github/Ajay-Brar/frisson_assignment/blob/main/02_June_OOPS.ipynb\" target=\"_parent\"><img src=\"https://colab.research.google.com/assets/colab-badge.svg\" alt=\"Open In Colab\"/></a>"
      ]
    },
    {
      "cell_type": "markdown",
      "source": [
        "# **Constructor**"
      ],
      "metadata": {
        "id": "a_OIkpeoHgsH"
      }
    },
    {
      "cell_type": "code",
      "execution_count": null,
      "metadata": {
        "id": "HcE-PF6WHMFs"
      },
      "outputs": [],
      "source": [
        "#1. What is a constructor in Python? Explain its purpose and usage."
      ]
    },
    {
      "cell_type": "code",
      "source": [
        "#ANS:\n",
        "'''\n",
        "\n",
        "A constructor in Python is a special method used to initialize\n",
        "the newly created object of a class. It is automatically called when an object of the class is instantiated.\n",
        "\n",
        "Purpose of a Constructor:\n",
        "To initialize object properties (also called attributes or instance variables).\n",
        "\n",
        "To set up default values or pass user-defined values at the time of object creation.\n",
        "\n",
        "To ensure that each object starts life in a well-defined state.\n",
        "\n",
        "EX:\n",
        "class Example:\n",
        "    pass\n",
        "\n",
        "obj = Example()  # default constructor called\n",
        "'''"
      ],
      "metadata": {
        "id": "7nRkLAGOHfub"
      },
      "execution_count": null,
      "outputs": []
    },
    {
      "cell_type": "code",
      "source": [
        "#2. Differentiate between a parameterless constructor and a parameterized constructor in Python."
      ],
      "metadata": {
        "id": "hVeHFgBdJ-kn"
      },
      "execution_count": null,
      "outputs": []
    },
    {
      "cell_type": "code",
      "source": [
        "'''\n",
        "Parameterless Constructor:\n",
        "\tA constructor that does not take any parameters (other than self).\n",
        " \tUsed when object initialization doesn’t need external values.\n",
        "\tLess flexible—same values are used for all objects.\n",
        "\n",
        "Prameter constructor:\n",
        "  A constructor that takes one or more parameters (besides self).\n",
        "  Used to initialize object with specific values.\n",
        "  More flexible—each object can have different initial values.\n",
        "\n",
        "'''"
      ],
      "metadata": {
        "id": "OrQtHbj1KAg_"
      },
      "execution_count": null,
      "outputs": []
    },
    {
      "cell_type": "code",
      "source": [
        "#3. How do you define a constructor in a Python class? Provide an example.\n",
        "'SAME AS QUETION 1'"
      ],
      "metadata": {
        "id": "EhuVy7-lMsjP"
      },
      "execution_count": null,
      "outputs": []
    },
    {
      "cell_type": "code",
      "source": [
        "#4. Explain the `__init__` method in Python and its role inconstructors.\n"
      ],
      "metadata": {
        "id": "Xtw_lnsDM8yJ"
      },
      "execution_count": null,
      "outputs": []
    },
    {
      "cell_type": "code",
      "source": [
        "'''__INIT__ METHOD:\n",
        "__init__ stands for \"initialize\".\n",
        "\n",
        "It is automatically called when an object of a class is created.\n",
        "\n",
        "Its main role is to initialize instance variables (object properties).\n",
        "ROLE:\n",
        "Acts as a constructor\n",
        "Initializes object attributes\n",
        "Encapsulates setup logic\n",
        "'''\n",
        "\n"
      ],
      "metadata": {
        "colab": {
          "base_uri": "https://localhost:8080/",
          "height": 53
        },
        "id": "hlGa9oiANIuX",
        "outputId": "6038a941-0ab6-4993-d96f-6a7ef9521102"
      },
      "execution_count": 4,
      "outputs": [
        {
          "output_type": "execute_result",
          "data": {
            "text/plain": [
              "'__INIT__ METHOD:\\n__init__ stands for \"initialize\".\\n\\nIt is automatically called when an object of a class is created.\\n\\nIts main role is to initialize instance variables (object properties).\\nROLE:\\nActs as a constructor\\nInitializes object attributes\\nEncapsulates setup logic\\n'"
            ],
            "application/vnd.google.colaboratory.intrinsic+json": {
              "type": "string"
            }
          },
          "metadata": {},
          "execution_count": 4
        }
      ]
    },
    {
      "cell_type": "code",
      "source": [
        "#5. In a class named `Person`, create a constructor that initializes the `name` and `age` attributes. Provide an example of creating an object of this class.\n"
      ],
      "metadata": {
        "id": "sTDANh0ANzDQ"
      },
      "execution_count": null,
      "outputs": []
    },
    {
      "cell_type": "code",
      "source": [
        "class Person:\n",
        "    def __init__(self, name, age):\n",
        "        self.name = name\n",
        "        self.age = age\n",
        "\n",
        "s1 = Person(\"AJAY\", \"22\")\n",
        "print(s1.name)\n",
        "print(s1.age)"
      ],
      "metadata": {
        "colab": {
          "base_uri": "https://localhost:8080/"
        },
        "id": "LJfSh_vsN_wp",
        "outputId": "45c47e9b-d69c-4f3d-cdd3-9fb5305016bd"
      },
      "execution_count": 3,
      "outputs": [
        {
          "output_type": "stream",
          "name": "stdout",
          "text": [
            "AJAY\n",
            "22\n"
          ]
        }
      ]
    },
    {
      "cell_type": "code",
      "source": [
        "#6. How can you call a constructor explicitly in Python? Give an example."
      ],
      "metadata": {
        "id": "HkDYg-eROdVB"
      },
      "execution_count": null,
      "outputs": []
    },
    {
      "cell_type": "code",
      "source": [
        "#7. What is the significance of the `self` parameter in Python constructors? Explain with an example.\n",
        "'''\n",
        "SELF:\n",
        "It binds the methods and variable of inside class with class\n",
        "\n",
        "example same as above\n",
        "'''"
      ],
      "metadata": {
        "id": "9si23W1NO3pU"
      },
      "execution_count": null,
      "outputs": []
    },
    {
      "cell_type": "code",
      "source": [
        "#8. Discuss the concept of default constructors in Python. When are they used?\n",
        "'''A default constructor is used to create an object without passing any parameters. It either:\n",
        "\n",
        "Is implicitly provided by Python if no __init__() is defined, or\n",
        "\n",
        "Can be explicitly defined by the programmer with just self.'''"
      ],
      "metadata": {
        "id": "H_ZXiu-xP1UT"
      },
      "execution_count": null,
      "outputs": []
    },
    {
      "cell_type": "code",
      "source": [
        "#9. Create a Python class called `Rectangle` with a constructor that initializes the `width` and `height` attributes. Provide a method to calculate the area of the rectangle."
      ],
      "metadata": {
        "id": "BU7XwG1MQ2zG"
      },
      "execution_count": null,
      "outputs": []
    },
    {
      "cell_type": "code",
      "source": [
        "class Rectangle:\n",
        "  def __init__(self,width,height):\n",
        "    self.width = width\n",
        "    self.height = height\n",
        "  def area(self):\n",
        "    return f'Area = {self.width*self.height}'\n",
        "\n",
        "r = Rectangle(5,7)\n",
        "r.area()\n"
      ],
      "metadata": {
        "colab": {
          "base_uri": "https://localhost:8080/",
          "height": 36
        },
        "id": "0HafOHhkQ93X",
        "outputId": "9bdea104-c010-4af9-e165-07ea31f978c6"
      },
      "execution_count": 5,
      "outputs": [
        {
          "output_type": "execute_result",
          "data": {
            "text/plain": [
              "'Area = 35'"
            ],
            "application/vnd.google.colaboratory.intrinsic+json": {
              "type": "string"
            }
          },
          "metadata": {},
          "execution_count": 5
        }
      ]
    },
    {
      "cell_type": "code",
      "source": [
        "#10. How can you have multiple constructors in a Python class? Explain with an example."
      ],
      "metadata": {
        "id": "dKEFHm9QSeLW"
      },
      "execution_count": null,
      "outputs": []
    },
    {
      "cell_type": "code",
      "source": [
        "class Book:\n",
        "    def __init__(self, title=\"Unknown\", author=\"Unknown\"):\n",
        "        self.title = title\n",
        "        self.author = author\n",
        "\n",
        "# Uses default values\n",
        "b1 = Book()\n",
        "\n",
        "# Uses provided values\n",
        "b2 = Book(\"2002\", \"Ajay Brar\")\n",
        "\n",
        "print(b1.title, \"-\", b1.author)\n",
        "print(b2.title, \"-\", b2.author)\n",
        "# Output: Unknown - Unknown\n",
        "# Output: 1984 - George Orwell\n"
      ],
      "metadata": {
        "colab": {
          "base_uri": "https://localhost:8080/"
        },
        "id": "Vq8E0CZ1Slct",
        "outputId": "ba768a9d-545b-4c45-cc0f-e731f5d95846"
      },
      "execution_count": 7,
      "outputs": [
        {
          "output_type": "stream",
          "name": "stdout",
          "text": [
            "Unknown - Unknown\n",
            "2002 - Ajay Brar\n"
          ]
        }
      ]
    },
    {
      "cell_type": "code",
      "source": [
        "#11. What is method overloading, and how is it related to constructors in Python?"
      ],
      "metadata": {
        "id": "_FFmIPeiVSHB"
      },
      "execution_count": null,
      "outputs": []
    },
    {
      "cell_type": "code",
      "source": [
        "## Method Overloading :\n",
        "\n",
        "class Calculate :\n",
        "  def sum(self,a,b):\n",
        "    return a+b\n",
        "\n",
        "  def sum(self,*args):\n",
        "    return sum(args)\n",
        "ov = Calculate()\n",
        "print(ov.sum(5,5), ov.sum(5,5,1))"
      ],
      "metadata": {
        "colab": {
          "base_uri": "https://localhost:8080/"
        },
        "id": "iyDlY_ZWV9z-",
        "outputId": "c965271b-e5b1-4784-871e-26cdefe4123b"
      },
      "execution_count": 20,
      "outputs": [
        {
          "output_type": "stream",
          "name": "stdout",
          "text": [
            "10 11\n"
          ]
        }
      ]
    },
    {
      "cell_type": "code",
      "source": [],
      "metadata": {
        "id": "reZGnXdEWNB4"
      },
      "execution_count": null,
      "outputs": []
    }
  ]
}