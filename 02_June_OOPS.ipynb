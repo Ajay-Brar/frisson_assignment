{
  "nbformat": 4,
  "nbformat_minor": 0,
  "metadata": {
    "colab": {
      "provenance": [],
      "authorship_tag": "ABX9TyPGKKD13obkt6dsMDvrYRYU",
      "include_colab_link": true
    },
    "kernelspec": {
      "name": "python3",
      "display_name": "Python 3"
    },
    "language_info": {
      "name": "python"
    }
  },
  "cells": [
    {
      "cell_type": "markdown",
      "metadata": {
        "id": "view-in-github",
        "colab_type": "text"
      },
      "source": [
        "<a href=\"https://colab.research.google.com/github/Ajay-Brar/frisson_assignment/blob/main/02_June_OOPS.ipynb\" target=\"_parent\"><img src=\"https://colab.research.google.com/assets/colab-badge.svg\" alt=\"Open In Colab\"/></a>"
      ]
    },
    {
      "cell_type": "markdown",
      "source": [
        "# **Constructor**"
      ],
      "metadata": {
        "id": "a_OIkpeoHgsH"
      }
    },
    {
      "cell_type": "code",
      "execution_count": null,
      "metadata": {
        "id": "HcE-PF6WHMFs"
      },
      "outputs": [],
      "source": [
        "#1. What is a constructor in Python? Explain its purpose and usage."
      ]
    },
    {
      "cell_type": "code",
      "source": [
        "#ANS:\n",
        "'''\n",
        "\n",
        "A constructor in Python is a special method used to initialize\n",
        "the newly created object of a class. It is automatically called when an object of the class is instantiated.\n",
        "\n",
        "Purpose of a Constructor:\n",
        "To initialize object properties (also called attributes or instance variables).\n",
        "\n",
        "To set up default values or pass user-defined values at the time of object creation.\n",
        "\n",
        "To ensure that each object starts life in a well-defined state.\n",
        "\n",
        "EX:\n",
        "class Example:\n",
        "    pass\n",
        "\n",
        "obj = Example()  # default constructor called\n",
        "'''"
      ],
      "metadata": {
        "id": "7nRkLAGOHfub"
      },
      "execution_count": null,
      "outputs": []
    },
    {
      "cell_type": "code",
      "source": [
        "#2. Differentiate between a parameterless constructor and a parameterized constructor in Python."
      ],
      "metadata": {
        "id": "hVeHFgBdJ-kn"
      },
      "execution_count": null,
      "outputs": []
    },
    {
      "cell_type": "code",
      "source": [
        "'''\n",
        "Parameterless Constructor:\n",
        "\tA constructor that does not take any parameters (other than self).\n",
        " \tUsed when object initialization doesn’t need external values.\n",
        "\tLess flexible—same values are used for all objects.\n",
        "\n",
        "Prameter constructor:\n",
        "  A constructor that takes one or more parameters (besides self).\n",
        "  Used to initialize object with specific values.\n",
        "  More flexible—each object can have different initial values.\n",
        "\n",
        "'''"
      ],
      "metadata": {
        "id": "OrQtHbj1KAg_"
      },
      "execution_count": null,
      "outputs": []
    },
    {
      "cell_type": "code",
      "source": [
        "#3. How do you define a constructor in a Python class? Provide an example.\n",
        "'SAME AS QUETION 1'"
      ],
      "metadata": {
        "id": "EhuVy7-lMsjP"
      },
      "execution_count": null,
      "outputs": []
    },
    {
      "cell_type": "code",
      "source": [
        "#4. Explain the `__init__` method in Python and its role inconstructors.\n"
      ],
      "metadata": {
        "id": "Xtw_lnsDM8yJ"
      },
      "execution_count": null,
      "outputs": []
    },
    {
      "cell_type": "code",
      "source": [
        "'''__INIT__ METHOD:\n",
        "__init__ stands for \"initialize\".\n",
        "\n",
        "It is automatically called when an object of a class is created.\n",
        "\n",
        "Its main role is to initialize instance variables (object properties).\n",
        "ROLE:\n",
        "Acts as a constructor\n",
        "Initializes object attributes\n",
        "Encapsulates setup logic\n",
        "'''\n",
        "\n"
      ],
      "metadata": {
        "colab": {
          "base_uri": "https://localhost:8080/",
          "height": 53
        },
        "id": "hlGa9oiANIuX",
        "outputId": "6038a941-0ab6-4993-d96f-6a7ef9521102"
      },
      "execution_count": null,
      "outputs": [
        {
          "output_type": "execute_result",
          "data": {
            "text/plain": [
              "'__INIT__ METHOD:\\n__init__ stands for \"initialize\".\\n\\nIt is automatically called when an object of a class is created.\\n\\nIts main role is to initialize instance variables (object properties).\\nROLE:\\nActs as a constructor\\nInitializes object attributes\\nEncapsulates setup logic\\n'"
            ],
            "application/vnd.google.colaboratory.intrinsic+json": {
              "type": "string"
            }
          },
          "metadata": {},
          "execution_count": 4
        }
      ]
    },
    {
      "cell_type": "code",
      "source": [
        "#5. In a class named `Person`, create a constructor that initializes the `name` and `age` attributes. Provide an example of creating an object of this class.\n"
      ],
      "metadata": {
        "id": "sTDANh0ANzDQ"
      },
      "execution_count": null,
      "outputs": []
    },
    {
      "cell_type": "code",
      "source": [
        "class Person:\n",
        "    def __init__(self, name, age):\n",
        "        self.name = name\n",
        "        self.age = age\n",
        "\n",
        "s1 = Person(\"AJAY\", \"22\")\n",
        "print(s1.name)\n",
        "print(s1.age)"
      ],
      "metadata": {
        "colab": {
          "base_uri": "https://localhost:8080/"
        },
        "id": "LJfSh_vsN_wp",
        "outputId": "45c47e9b-d69c-4f3d-cdd3-9fb5305016bd"
      },
      "execution_count": null,
      "outputs": [
        {
          "output_type": "stream",
          "name": "stdout",
          "text": [
            "AJAY\n",
            "22\n"
          ]
        }
      ]
    },
    {
      "cell_type": "code",
      "source": [
        "#6. How can you call a constructor explicitly in Python? Give an example."
      ],
      "metadata": {
        "id": "HkDYg-eROdVB"
      },
      "execution_count": null,
      "outputs": []
    },
    {
      "cell_type": "code",
      "source": [
        "#7. What is the significance of the `self` parameter in Python constructors? Explain with an example.\n",
        "'''\n",
        "SELF:\n",
        "It binds the methods and variable of inside class with class\n",
        "\n",
        "example same as above\n",
        "'''"
      ],
      "metadata": {
        "id": "9si23W1NO3pU"
      },
      "execution_count": null,
      "outputs": []
    },
    {
      "cell_type": "code",
      "source": [
        "#8. Discuss the concept of default constructors in Python. When are they used?\n",
        "'''A default constructor is used to create an object without passing any parameters. It either:\n",
        "\n",
        "Is implicitly provided by Python if no __init__() is defined, or\n",
        "\n",
        "Can be explicitly defined by the programmer with just self.'''"
      ],
      "metadata": {
        "id": "H_ZXiu-xP1UT"
      },
      "execution_count": null,
      "outputs": []
    },
    {
      "cell_type": "code",
      "source": [
        "#9. Create a Python class called `Rectangle` with a constructor that initializes the `width` and `height` attributes. Provide a method to calculate the area of the rectangle."
      ],
      "metadata": {
        "id": "BU7XwG1MQ2zG"
      },
      "execution_count": null,
      "outputs": []
    },
    {
      "cell_type": "code",
      "source": [
        "class Rectangle:\n",
        "  def __init__(self,width,height):\n",
        "    self.width = width\n",
        "    self.height = height\n",
        "  def area(self):\n",
        "    return f'Area = {self.width*self.height}'\n",
        "\n",
        "r = Rectangle(5,7)\n",
        "r.area()\n"
      ],
      "metadata": {
        "colab": {
          "base_uri": "https://localhost:8080/",
          "height": 36
        },
        "id": "0HafOHhkQ93X",
        "outputId": "9bdea104-c010-4af9-e165-07ea31f978c6"
      },
      "execution_count": null,
      "outputs": [
        {
          "output_type": "execute_result",
          "data": {
            "text/plain": [
              "'Area = 35'"
            ],
            "application/vnd.google.colaboratory.intrinsic+json": {
              "type": "string"
            }
          },
          "metadata": {},
          "execution_count": 5
        }
      ]
    },
    {
      "cell_type": "code",
      "source": [
        "#10. How can you have multiple constructors in a Python class? Explain with an example."
      ],
      "metadata": {
        "id": "dKEFHm9QSeLW"
      },
      "execution_count": null,
      "outputs": []
    },
    {
      "cell_type": "code",
      "source": [
        "class Book:\n",
        "    def __init__(self, title=\"Unknown\", author=\"Unknown\"):\n",
        "        self.title = title\n",
        "        self.author = author\n",
        "\n",
        "# Uses default values\n",
        "b1 = Book()\n",
        "\n",
        "# Uses provided values\n",
        "b2 = Book(\"2002\", \"Ajay Brar\")\n",
        "\n",
        "print(b1.title, \"-\", b1.author)\n",
        "print(b2.title, \"-\", b2.author)\n",
        "# Output: Unknown - Unknown\n",
        "# Output: 1984 - George Orwell\n"
      ],
      "metadata": {
        "colab": {
          "base_uri": "https://localhost:8080/"
        },
        "id": "Vq8E0CZ1Slct",
        "outputId": "ba768a9d-545b-4c45-cc0f-e731f5d95846"
      },
      "execution_count": null,
      "outputs": [
        {
          "output_type": "stream",
          "name": "stdout",
          "text": [
            "Unknown - Unknown\n",
            "2002 - Ajay Brar\n"
          ]
        }
      ]
    },
    {
      "cell_type": "code",
      "source": [
        "#11. What is method overloading, and how is it related to constructors in Python?"
      ],
      "metadata": {
        "id": "_FFmIPeiVSHB"
      },
      "execution_count": null,
      "outputs": []
    },
    {
      "cell_type": "code",
      "source": [
        "## Method Overloading :\n",
        "\n",
        "class Calculate :\n",
        "  def sum(self,a,b):\n",
        "    return a+b\n",
        "\n",
        "  def sum(self,*args):\n",
        "    return sum(args)\n",
        "ov = Calculate()\n",
        "print(ov.sum(5,5), ov.sum(5,5,1))"
      ],
      "metadata": {
        "colab": {
          "base_uri": "https://localhost:8080/"
        },
        "id": "iyDlY_ZWV9z-",
        "outputId": "c965271b-e5b1-4784-871e-26cdefe4123b"
      },
      "execution_count": null,
      "outputs": [
        {
          "output_type": "stream",
          "name": "stdout",
          "text": [
            "10 11\n"
          ]
        }
      ]
    },
    {
      "cell_type": "code",
      "source": [
        "#12. Explain the use of the `super()` function in Python constructors. Provide an example."
      ],
      "metadata": {
        "id": "reZGnXdEWNB4"
      },
      "execution_count": null,
      "outputs": []
    },
    {
      "cell_type": "code",
      "source": [
        "'''\n",
        "In Python, the super() function is used to call a method from a parent (or superclass) class.\n",
        "It is commonly used in constructors (__init__ methods) to ensure that the parent class is properly initialized when a subclass is created.\n",
        "mainly used for code reusability and avoids code duplication.\n",
        "'''\n",
        "class Parent:\n",
        "    def __init__(self):\n",
        "        print(\"Parent constructor called\")\n",
        "\n",
        "class Child(Parent):\n",
        "    def __init__(self):\n",
        "        super().__init__()\n",
        "        print(\"Child constructor called\")\n",
        "\n",
        "\n",
        "c = Child()\n"
      ],
      "metadata": {
        "colab": {
          "base_uri": "https://localhost:8080/"
        },
        "id": "pC7FAh8vceJ7",
        "outputId": "a4b1240f-942f-4f72-bddd-723be58ee168"
      },
      "execution_count": 1,
      "outputs": [
        {
          "output_type": "stream",
          "name": "stdout",
          "text": [
            "Parent constructor called\n",
            "Child constructor called\n"
          ]
        }
      ]
    },
    {
      "cell_type": "code",
      "source": [
        "#13. Create a class called `Book` with a constructor that initializes the `title`, `author`, and `published_year` attributes. Provide a method to display book details."
      ],
      "metadata": {
        "id": "WQ33psceiI-h"
      },
      "execution_count": null,
      "outputs": []
    },
    {
      "cell_type": "code",
      "source": [
        "class Book:\n",
        "  def __init__(self,title,author,published_year):\n",
        "     self.title = title\n",
        "     self.author = author\n",
        "     self.pupublished_year =published_year\n",
        "#\n",
        "detail = Book('The Blue','Enid Blyton','1945')\n",
        "\n",
        "detail.title,detail.author,detail.pupublished_year"
      ],
      "metadata": {
        "colab": {
          "base_uri": "https://localhost:8080/"
        },
        "id": "ROJkvjwCikMR",
        "outputId": "b2e70eaf-092e-4049-fff0-a5b75ad2e9f3"
      },
      "execution_count": 18,
      "outputs": [
        {
          "output_type": "execute_result",
          "data": {
            "text/plain": [
              "('The Blue', 'Enid Blyton', '1945')"
            ]
          },
          "metadata": {},
          "execution_count": 18
        }
      ]
    },
    {
      "cell_type": "code",
      "source": [
        "#14. Discuss the differences between constructors and regular methods in Python classes."
      ],
      "metadata": {
        "id": "GKy-B4bmkOYw"
      },
      "execution_count": null,
      "outputs": []
    },
    {
      "cell_type": "code",
      "source": [
        "'''\n",
        "Constructor:\n",
        "Initializes a new object when it is created\n",
        "Always named __init__\n",
        "called automatically when an object is created\n",
        "Must return None (implicitly)\n",
        "Sets up initial state (assigns values to attributes)\n",
        "Called only once per object\n",
        "\n",
        "Method:\n",
        "Defines behavior or actions of the object\n",
        "Can have any valid name\n",
        "must be called explicitly\n",
        "Can return any value\n",
        "Performs actions using object data\n",
        "Can be called multiple times\n",
        "\n",
        "'''"
      ],
      "metadata": {
        "id": "eXHMhZZSnLP3"
      },
      "execution_count": null,
      "outputs": []
    },
    {
      "cell_type": "code",
      "source": [
        "#15. Explain the role of the `self` parameter in instance variable initialization within a constructor."
      ],
      "metadata": {
        "id": "XVRv4Ew8pGUr"
      },
      "execution_count": null,
      "outputs": []
    },
    {
      "cell_type": "code",
      "source": [
        "'''\n",
        "self:\n",
        "self is used in constructor within the class\n",
        "self parameter binds the instance variable to the class\n",
        "Without self, the variable would be local to the constructor and not accessible outside.\n",
        "'''"
      ],
      "metadata": {
        "id": "huk49ujmpZsi"
      },
      "execution_count": null,
      "outputs": []
    },
    {
      "cell_type": "code",
      "source": [
        "#16. How do you prevent a class from having multiple instances by using constructors in Python? Provide an example."
      ],
      "metadata": {
        "id": "-VolTPX9qd6g"
      },
      "execution_count": null,
      "outputs": []
    },
    {
      "cell_type": "code",
      "source": [
        "'''By using the super method and overrriding we can prevent the multiple instance variable'''\n",
        "class Singleton:\n",
        "    _instance = None\n",
        "\n",
        "    def __new__(cls):\n",
        "        if cls._instance is None:\n",
        "            cls._instance = super().__new__(cls)\n",
        "        return cls._instance\n",
        "\n",
        "a = Singleton()\n",
        "b = Singleton()\n",
        "\n",
        "print(a is b)"
      ],
      "metadata": {
        "colab": {
          "base_uri": "https://localhost:8080/"
        },
        "id": "H06QBAzcq57e",
        "outputId": "13a3c46f-03ea-4d1a-bd0c-f5d89079e00f"
      },
      "execution_count": 20,
      "outputs": [
        {
          "output_type": "stream",
          "name": "stdout",
          "text": [
            "True\n"
          ]
        }
      ]
    },
    {
      "cell_type": "code",
      "source": [
        "#17. Create a Python class called `Student` with a constructor that takes a list of subjects as a parameter and initializes the `subjects` attribute."
      ],
      "metadata": {
        "id": "VjArVJgnuHs1"
      },
      "execution_count": null,
      "outputs": []
    },
    {
      "cell_type": "code",
      "source": [
        "class student:\n",
        "  def sub(self,*args):\n",
        "    return args\n",
        "\n",
        "s = student()\n",
        "s.sub('eng','math','sci')"
      ],
      "metadata": {
        "colab": {
          "base_uri": "https://localhost:8080/"
        },
        "id": "4zXzzy6hteNq",
        "outputId": "80be5ab9-4bc2-4175-a461-5135e57a4bdd"
      },
      "execution_count": 26,
      "outputs": [
        {
          "output_type": "execute_result",
          "data": {
            "text/plain": [
              "('eng', 'math', 'sci')"
            ]
          },
          "metadata": {},
          "execution_count": 26
        }
      ]
    },
    {
      "cell_type": "code",
      "source": [
        "#18. What is the purpose of the `__del__` method in Python classes, and how does it relate to constructors?"
      ],
      "metadata": {
        "id": "eLRm8G-FvVjr"
      },
      "execution_count": null,
      "outputs": []
    },
    {
      "cell_type": "code",
      "source": [
        "'''The __del__ method is a destructor in Python. It is called automatically when an object is about to be destroyed\n",
        "\n",
        "relate to construv=ctor:\n",
        "\n",
        "__init__ → Constructor: Initializes an object when it's created.\n",
        "\n",
        "__del__ → Destructor: Cleans up just before the object is deleted.\n",
        "'''"
      ],
      "metadata": {
        "id": "VQfeVPgAv0oe"
      },
      "execution_count": null,
      "outputs": []
    },
    {
      "cell_type": "code",
      "source": [
        "#19. Explain the use of constructor chaining in Python. Provide a practical example."
      ],
      "metadata": {
        "id": "mj4aLRuow2DR"
      },
      "execution_count": null,
      "outputs": []
    },
    {
      "cell_type": "code",
      "source": [
        "'''\n",
        "Constructor chaining means calling one constructor from another,\n",
        "typically when a subclass constructor calls the parent class constructor to ensure proper initialization.\n",
        "This is commonly done using the super() function\n",
        "'''\n",
        "\n",
        "class Person:\n",
        "    def __init__(self, name):\n",
        "        self.name = name\n",
        "        print(f\"Person constructor: {self.name}\")\n",
        "\n",
        "class Employee(Person):\n",
        "    def __init__(self, name, employee_id):\n",
        "        super().__init__(name)\n",
        "        self.employee_id = employee_id\n",
        "        print(f\"Employee constructor: ID = {self.employee_id}\")\n",
        "\n",
        "\n",
        "e = Employee(\"Ajay\", 123)\n"
      ],
      "metadata": {
        "colab": {
          "base_uri": "https://localhost:8080/"
        },
        "id": "gvR0iu51w4o3",
        "outputId": "bf95ae37-ab94-40ab-f310-c85d825ac8c3"
      },
      "execution_count": 28,
      "outputs": [
        {
          "output_type": "stream",
          "name": "stdout",
          "text": [
            "Person constructor: Ajay\n",
            "Employee constructor: ID = 123\n"
          ]
        }
      ]
    },
    {
      "cell_type": "code",
      "source": [
        "#20. Create a Python class called `Car` with a default constructor that initializes the `make` and `model` attributes. Provide a method to display car information."
      ],
      "metadata": {
        "id": "sBiQCjXUxMRM"
      },
      "execution_count": null,
      "outputs": []
    },
    {
      "cell_type": "code",
      "source": [
        "class car:\n",
        "  def __init__(self,make,model):\n",
        "    self.make = make\n",
        "    self.model = model\n",
        "  def detail(self):\n",
        "    return self.make,self.model\n",
        "d = car('porche','2021)')\n",
        "d.detail()\n",
        "\n"
      ],
      "metadata": {
        "colab": {
          "base_uri": "https://localhost:8080/"
        },
        "id": "fWtSkvuvx7Ts",
        "outputId": "99bd95d8-f320-4f9e-8a4a-9b48374a68c0"
      },
      "execution_count": 30,
      "outputs": [
        {
          "output_type": "execute_result",
          "data": {
            "text/plain": [
              "('porche', '2021)')"
            ]
          },
          "metadata": {},
          "execution_count": 30
        }
      ]
    },
    {
      "cell_type": "code",
      "source": [],
      "metadata": {
        "id": "xqRBV2W0zXq7"
      },
      "execution_count": null,
      "outputs": []
    }
  ]
}