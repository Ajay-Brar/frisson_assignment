{
  "nbformat": 4,
  "nbformat_minor": 0,
  "metadata": {
    "colab": {
      "provenance": [],
      "authorship_tag": "ABX9TyOJJlumE7C+OyFJdXlmC8yb",
      "include_colab_link": true
    },
    "kernelspec": {
      "name": "python3",
      "display_name": "Python 3"
    },
    "language_info": {
      "name": "python"
    }
  },
  "cells": [
    {
      "cell_type": "markdown",
      "metadata": {
        "id": "view-in-github",
        "colab_type": "text"
      },
      "source": [
        "<a href=\"https://colab.research.google.com/github/Ajay-Brar/frisson_assignment/blob/main/02_June_OOPS.ipynb\" target=\"_parent\"><img src=\"https://colab.research.google.com/assets/colab-badge.svg\" alt=\"Open In Colab\"/></a>"
      ]
    },
    {
      "cell_type": "markdown",
      "source": [
        "# **Constructor**"
      ],
      "metadata": {
        "id": "a_OIkpeoHgsH"
      }
    },
    {
      "cell_type": "code",
      "execution_count": null,
      "metadata": {
        "id": "HcE-PF6WHMFs"
      },
      "outputs": [],
      "source": [
        "#1. What is a constructor in Python? Explain its purpose and usage."
      ]
    },
    {
      "cell_type": "code",
      "source": [
        "#ANS:\n",
        "'''\n",
        "\n",
        "A constructor in Python is a special method used to initialize\n",
        "the newly created object of a class. It is automatically called when an object of the class is instantiated.\n",
        "\n",
        "Purpose of a Constructor:\n",
        "To initialize object properties (also called attributes or instance variables).\n",
        "\n",
        "To set up default values or pass user-defined values at the time of object creation.\n",
        "\n",
        "To ensure that each object starts life in a well-defined state.\n",
        "\n",
        "EX:\n",
        "class Example:\n",
        "    pass\n",
        "\n",
        "obj = Example()  # default constructor called\n",
        "'''"
      ],
      "metadata": {
        "id": "7nRkLAGOHfub"
      },
      "execution_count": null,
      "outputs": []
    },
    {
      "cell_type": "code",
      "source": [
        "#2. Differentiate between a parameterless constructor and a parameterized constructor in Python."
      ],
      "metadata": {
        "id": "hVeHFgBdJ-kn"
      },
      "execution_count": null,
      "outputs": []
    },
    {
      "cell_type": "code",
      "source": [
        "'''\n",
        "Parameterless Constructor:\n",
        "\tA constructor that does not take any parameters (other than self).\n",
        " \tUsed when object initialization doesn’t need external values.\n",
        "\tLess flexible—same values are used for all objects.\n",
        "\n",
        "Prameter constructor:\n",
        "  A constructor that takes one or more parameters (besides self).\n",
        "  Used to initialize object with specific values.\n",
        "  More flexible—each object can have different initial values.\n",
        "\n",
        "'''"
      ],
      "metadata": {
        "id": "OrQtHbj1KAg_"
      },
      "execution_count": null,
      "outputs": []
    },
    {
      "cell_type": "code",
      "source": [
        "#3. How do you define a constructor in a Python class? Provide an example.\n",
        "'SAME AS QUETION 1'"
      ],
      "metadata": {
        "id": "EhuVy7-lMsjP"
      },
      "execution_count": null,
      "outputs": []
    },
    {
      "cell_type": "code",
      "source": [
        "#4. Explain the `__init__` method in Python and its role inconstructors.\n"
      ],
      "metadata": {
        "id": "Xtw_lnsDM8yJ"
      },
      "execution_count": null,
      "outputs": []
    },
    {
      "cell_type": "code",
      "source": [
        "'''__INIT__ METHOD:\n",
        "__init__ stands for \"initialize\".\n",
        "\n",
        "It is automatically called when an object of a class is created.\n",
        "\n",
        "Its main role is to initialize instance variables (object properties).\n",
        "ROLE:\n",
        "Acts as a constructor\n",
        "Initializes object attributes\n",
        "Encapsulates setup logic\n",
        "'''\n",
        "\n"
      ],
      "metadata": {
        "colab": {
          "base_uri": "https://localhost:8080/",
          "height": 53
        },
        "id": "hlGa9oiANIuX",
        "outputId": "6038a941-0ab6-4993-d96f-6a7ef9521102"
      },
      "execution_count": null,
      "outputs": [
        {
          "output_type": "execute_result",
          "data": {
            "text/plain": [
              "'__INIT__ METHOD:\\n__init__ stands for \"initialize\".\\n\\nIt is automatically called when an object of a class is created.\\n\\nIts main role is to initialize instance variables (object properties).\\nROLE:\\nActs as a constructor\\nInitializes object attributes\\nEncapsulates setup logic\\n'"
            ],
            "application/vnd.google.colaboratory.intrinsic+json": {
              "type": "string"
            }
          },
          "metadata": {},
          "execution_count": 4
        }
      ]
    },
    {
      "cell_type": "code",
      "source": [
        "#5. In a class named `Person`, create a constructor that initializes the `name` and `age` attributes. Provide an example of creating an object of this class.\n"
      ],
      "metadata": {
        "id": "sTDANh0ANzDQ"
      },
      "execution_count": null,
      "outputs": []
    },
    {
      "cell_type": "code",
      "source": [
        "class Person:\n",
        "    def __init__(self, name, age):\n",
        "        self.name = name\n",
        "        self.age = age\n",
        "\n",
        "s1 = Person(\"AJAY\", \"22\")\n",
        "print(s1.name)\n",
        "print(s1.age)"
      ],
      "metadata": {
        "colab": {
          "base_uri": "https://localhost:8080/"
        },
        "id": "LJfSh_vsN_wp",
        "outputId": "45c47e9b-d69c-4f3d-cdd3-9fb5305016bd"
      },
      "execution_count": null,
      "outputs": [
        {
          "output_type": "stream",
          "name": "stdout",
          "text": [
            "AJAY\n",
            "22\n"
          ]
        }
      ]
    },
    {
      "cell_type": "code",
      "source": [
        "#6. How can you call a constructor explicitly in Python? Give an example."
      ],
      "metadata": {
        "id": "HkDYg-eROdVB"
      },
      "execution_count": null,
      "outputs": []
    },
    {
      "cell_type": "code",
      "source": [
        "#7. What is the significance of the `self` parameter in Python constructors? Explain with an example.\n",
        "'''\n",
        "SELF:\n",
        "It binds the methods and variable of inside class with class\n",
        "\n",
        "example same as above\n",
        "'''"
      ],
      "metadata": {
        "id": "9si23W1NO3pU"
      },
      "execution_count": null,
      "outputs": []
    },
    {
      "cell_type": "code",
      "source": [
        "#8. Discuss the concept of default constructors in Python. When are they used?\n",
        "'''A default constructor is used to create an object without passing any parameters. It either:\n",
        "\n",
        "Is implicitly provided by Python if no __init__() is defined, or\n",
        "\n",
        "Can be explicitly defined by the programmer with just self.'''"
      ],
      "metadata": {
        "id": "H_ZXiu-xP1UT"
      },
      "execution_count": null,
      "outputs": []
    },
    {
      "cell_type": "code",
      "source": [
        "#9. Create a Python class called `Rectangle` with a constructor that initializes the `width` and `height` attributes. Provide a method to calculate the area of the rectangle."
      ],
      "metadata": {
        "id": "BU7XwG1MQ2zG"
      },
      "execution_count": null,
      "outputs": []
    },
    {
      "cell_type": "code",
      "source": [
        "class Rectangle:\n",
        "  def __init__(self,width,height):\n",
        "    self.width = width\n",
        "    self.height = height\n",
        "  def area(self):\n",
        "    return f'Area = {self.width*self.height}'\n",
        "\n",
        "r = Rectangle(5,7)\n",
        "r.area()\n"
      ],
      "metadata": {
        "colab": {
          "base_uri": "https://localhost:8080/",
          "height": 36
        },
        "id": "0HafOHhkQ93X",
        "outputId": "9bdea104-c010-4af9-e165-07ea31f978c6"
      },
      "execution_count": null,
      "outputs": [
        {
          "output_type": "execute_result",
          "data": {
            "text/plain": [
              "'Area = 35'"
            ],
            "application/vnd.google.colaboratory.intrinsic+json": {
              "type": "string"
            }
          },
          "metadata": {},
          "execution_count": 5
        }
      ]
    },
    {
      "cell_type": "code",
      "source": [
        "#10. How can you have multiple constructors in a Python class? Explain with an example."
      ],
      "metadata": {
        "id": "dKEFHm9QSeLW"
      },
      "execution_count": null,
      "outputs": []
    },
    {
      "cell_type": "code",
      "source": [
        "class Book:\n",
        "    def __init__(self, title=\"Unknown\", author=\"Unknown\"):\n",
        "        self.title = title\n",
        "        self.author = author\n",
        "\n",
        "# Uses default values\n",
        "b1 = Book()\n",
        "\n",
        "# Uses provided values\n",
        "b2 = Book(\"2002\", \"Ajay Brar\")\n",
        "\n",
        "print(b1.title, \"-\", b1.author)\n",
        "print(b2.title, \"-\", b2.author)\n",
        "# Output: Unknown - Unknown\n",
        "# Output: 1984 - George Orwell\n"
      ],
      "metadata": {
        "colab": {
          "base_uri": "https://localhost:8080/"
        },
        "id": "Vq8E0CZ1Slct",
        "outputId": "ba768a9d-545b-4c45-cc0f-e731f5d95846"
      },
      "execution_count": null,
      "outputs": [
        {
          "output_type": "stream",
          "name": "stdout",
          "text": [
            "Unknown - Unknown\n",
            "2002 - Ajay Brar\n"
          ]
        }
      ]
    },
    {
      "cell_type": "code",
      "source": [
        "#11. What is method overloading, and how is it related to constructors in Python?"
      ],
      "metadata": {
        "id": "_FFmIPeiVSHB"
      },
      "execution_count": null,
      "outputs": []
    },
    {
      "cell_type": "code",
      "source": [
        "## Method Overloading :\n",
        "\n",
        "class Calculate :\n",
        "  def sum(self,a,b):\n",
        "    return a+b\n",
        "\n",
        "  def sum(self,*args):\n",
        "    return sum(args)\n",
        "ov = Calculate()\n",
        "print(ov.sum(5,5), ov.sum(5,5,1))"
      ],
      "metadata": {
        "colab": {
          "base_uri": "https://localhost:8080/"
        },
        "id": "iyDlY_ZWV9z-",
        "outputId": "c965271b-e5b1-4784-871e-26cdefe4123b"
      },
      "execution_count": null,
      "outputs": [
        {
          "output_type": "stream",
          "name": "stdout",
          "text": [
            "10 11\n"
          ]
        }
      ]
    },
    {
      "cell_type": "code",
      "source": [
        "#12. Explain the use of the `super()` function in Python constructors. Provide an example."
      ],
      "metadata": {
        "id": "reZGnXdEWNB4"
      },
      "execution_count": null,
      "outputs": []
    },
    {
      "cell_type": "code",
      "source": [
        "'''\n",
        "In Python, the super() function is used to call a method from a parent (or superclass) class.\n",
        "It is commonly used in constructors (__init__ methods) to ensure that the parent class is properly initialized when a subclass is created.\n",
        "mainly used for code reusability and avoids code duplication.\n",
        "'''\n",
        "class Parent:\n",
        "    def __init__(self):\n",
        "        print(\"Parent constructor called\")\n",
        "\n",
        "class Child(Parent):\n",
        "    def __init__(self):\n",
        "        super().__init__()\n",
        "        print(\"Child constructor called\")\n",
        "\n",
        "\n",
        "c = Child()\n"
      ],
      "metadata": {
        "colab": {
          "base_uri": "https://localhost:8080/"
        },
        "id": "pC7FAh8vceJ7",
        "outputId": "a4b1240f-942f-4f72-bddd-723be58ee168"
      },
      "execution_count": null,
      "outputs": [
        {
          "output_type": "stream",
          "name": "stdout",
          "text": [
            "Parent constructor called\n",
            "Child constructor called\n"
          ]
        }
      ]
    },
    {
      "cell_type": "code",
      "source": [
        "#13. Create a class called `Book` with a constructor that initializes the `title`, `author`, and `published_year` attributes. Provide a method to display book details."
      ],
      "metadata": {
        "id": "WQ33psceiI-h"
      },
      "execution_count": null,
      "outputs": []
    },
    {
      "cell_type": "code",
      "source": [
        "class Book:\n",
        "  def __init__(self,title,author,published_year):\n",
        "     self.title = title\n",
        "     self.author = author\n",
        "     self.pupublished_year =published_year\n",
        "#\n",
        "detail = Book('The Blue','Enid Blyton','1945')\n",
        "\n",
        "detail.title,detail.author,detail.pupublished_year"
      ],
      "metadata": {
        "colab": {
          "base_uri": "https://localhost:8080/"
        },
        "id": "ROJkvjwCikMR",
        "outputId": "b2e70eaf-092e-4049-fff0-a5b75ad2e9f3"
      },
      "execution_count": null,
      "outputs": [
        {
          "output_type": "execute_result",
          "data": {
            "text/plain": [
              "('The Blue', 'Enid Blyton', '1945')"
            ]
          },
          "metadata": {},
          "execution_count": 18
        }
      ]
    },
    {
      "cell_type": "code",
      "source": [
        "#14. Discuss the differences between constructors and regular methods in Python classes."
      ],
      "metadata": {
        "id": "GKy-B4bmkOYw"
      },
      "execution_count": null,
      "outputs": []
    },
    {
      "cell_type": "code",
      "source": [
        "'''\n",
        "Constructor:\n",
        "Initializes a new object when it is created\n",
        "Always named __init__\n",
        "called automatically when an object is created\n",
        "Must return None (implicitly)\n",
        "Sets up initial state (assigns values to attributes)\n",
        "Called only once per object\n",
        "\n",
        "Method:\n",
        "Defines behavior or actions of the object\n",
        "Can have any valid name\n",
        "must be called explicitly\n",
        "Can return any value\n",
        "Performs actions using object data\n",
        "Can be called multiple times\n",
        "\n",
        "'''"
      ],
      "metadata": {
        "id": "eXHMhZZSnLP3"
      },
      "execution_count": null,
      "outputs": []
    },
    {
      "cell_type": "code",
      "source": [
        "#15. Explain the role of the `self` parameter in instance variable initialization within a constructor."
      ],
      "metadata": {
        "id": "XVRv4Ew8pGUr"
      },
      "execution_count": null,
      "outputs": []
    },
    {
      "cell_type": "code",
      "source": [
        "'''\n",
        "self:\n",
        "self is used in constructor within the class\n",
        "self parameter binds the instance variable to the class\n",
        "Without self, the variable would be local to the constructor and not accessible outside.\n",
        "'''"
      ],
      "metadata": {
        "id": "huk49ujmpZsi"
      },
      "execution_count": null,
      "outputs": []
    },
    {
      "cell_type": "code",
      "source": [
        "#16. How do you prevent a class from having multiple instances by using constructors in Python? Provide an example."
      ],
      "metadata": {
        "id": "-VolTPX9qd6g"
      },
      "execution_count": null,
      "outputs": []
    },
    {
      "cell_type": "code",
      "source": [
        "'''By using the super method and overrriding we can prevent the multiple instance variable'''\n",
        "class Singleton:\n",
        "    _instance = None\n",
        "\n",
        "    def __new__(cls):\n",
        "        if cls._instance is None:\n",
        "            cls._instance = super().__new__(cls)\n",
        "        return cls._instance\n",
        "\n",
        "a = Singleton()\n",
        "b = Singleton()\n",
        "\n",
        "print(a is b)"
      ],
      "metadata": {
        "colab": {
          "base_uri": "https://localhost:8080/"
        },
        "id": "H06QBAzcq57e",
        "outputId": "13a3c46f-03ea-4d1a-bd0c-f5d89079e00f"
      },
      "execution_count": null,
      "outputs": [
        {
          "output_type": "stream",
          "name": "stdout",
          "text": [
            "True\n"
          ]
        }
      ]
    },
    {
      "cell_type": "code",
      "source": [
        "#17. Create a Python class called `Student` with a constructor that takes a list of subjects as a parameter and initializes the `subjects` attribute."
      ],
      "metadata": {
        "id": "VjArVJgnuHs1"
      },
      "execution_count": null,
      "outputs": []
    },
    {
      "cell_type": "code",
      "source": [
        "class student:\n",
        "  def sub(self,*args):\n",
        "    return args\n",
        "\n",
        "s = student()\n",
        "s.sub('eng','math','sci')"
      ],
      "metadata": {
        "colab": {
          "base_uri": "https://localhost:8080/"
        },
        "id": "4zXzzy6hteNq",
        "outputId": "80be5ab9-4bc2-4175-a461-5135e57a4bdd"
      },
      "execution_count": null,
      "outputs": [
        {
          "output_type": "execute_result",
          "data": {
            "text/plain": [
              "('eng', 'math', 'sci')"
            ]
          },
          "metadata": {},
          "execution_count": 26
        }
      ]
    },
    {
      "cell_type": "code",
      "source": [
        "#18. What is the purpose of the `__del__` method in Python classes, and how does it relate to constructors?"
      ],
      "metadata": {
        "id": "eLRm8G-FvVjr"
      },
      "execution_count": null,
      "outputs": []
    },
    {
      "cell_type": "code",
      "source": [
        "'''The __del__ method is a destructor in Python. It is called automatically when an object is about to be destroyed\n",
        "\n",
        "relate to construv=ctor:\n",
        "\n",
        "__init__ → Constructor: Initializes an object when it's created.\n",
        "\n",
        "__del__ → Destructor: Cleans up just before the object is deleted.\n",
        "'''"
      ],
      "metadata": {
        "id": "VQfeVPgAv0oe"
      },
      "execution_count": null,
      "outputs": []
    },
    {
      "cell_type": "code",
      "source": [
        "#19. Explain the use of constructor chaining in Python. Provide a practical example."
      ],
      "metadata": {
        "id": "mj4aLRuow2DR"
      },
      "execution_count": null,
      "outputs": []
    },
    {
      "cell_type": "code",
      "source": [
        "'''\n",
        "Constructor chaining means calling one constructor from another,\n",
        "typically when a subclass constructor calls the parent class constructor to ensure proper initialization.\n",
        "This is commonly done using the super() function\n",
        "'''\n",
        "\n",
        "class Person:\n",
        "    def __init__(self, name):\n",
        "        self.name = name\n",
        "        print(f\"Person constructor: {self.name}\")\n",
        "\n",
        "class Employee(Person):\n",
        "    def __init__(self, name, employee_id):\n",
        "        super().__init__(name)\n",
        "        self.employee_id = employee_id\n",
        "        print(f\"Employee constructor: ID = {self.employee_id}\")\n",
        "\n",
        "\n",
        "e = Employee(\"Ajay\", 123)\n"
      ],
      "metadata": {
        "colab": {
          "base_uri": "https://localhost:8080/"
        },
        "id": "gvR0iu51w4o3",
        "outputId": "bf95ae37-ab94-40ab-f310-c85d825ac8c3"
      },
      "execution_count": null,
      "outputs": [
        {
          "output_type": "stream",
          "name": "stdout",
          "text": [
            "Person constructor: Ajay\n",
            "Employee constructor: ID = 123\n"
          ]
        }
      ]
    },
    {
      "cell_type": "code",
      "source": [
        "#20. Create a Python class called `Car` with a default constructor that initializes the `make` and `model` attributes. Provide a method to display car information."
      ],
      "metadata": {
        "id": "sBiQCjXUxMRM"
      },
      "execution_count": null,
      "outputs": []
    },
    {
      "cell_type": "code",
      "source": [
        "class car:\n",
        "  def __init__(self,make,model):\n",
        "    self.make = make\n",
        "    self.model = model\n",
        "  def detail(self):\n",
        "    return self.make,self.model\n",
        "d = car('porche','2021)')\n",
        "d.detail()\n",
        "\n"
      ],
      "metadata": {
        "colab": {
          "base_uri": "https://localhost:8080/"
        },
        "id": "fWtSkvuvx7Ts",
        "outputId": "99bd95d8-f320-4f9e-8a4a-9b48374a68c0"
      },
      "execution_count": null,
      "outputs": [
        {
          "output_type": "execute_result",
          "data": {
            "text/plain": [
              "('porche', '2021)')"
            ]
          },
          "metadata": {},
          "execution_count": 30
        }
      ]
    },
    {
      "cell_type": "code",
      "source": [],
      "metadata": {
        "id": "xqRBV2W0zXq7"
      },
      "execution_count": null,
      "outputs": []
    },
    {
      "cell_type": "markdown",
      "source": [
        "# **Inheritance:**"
      ],
      "metadata": {
        "id": "eXWEDwaP5t7I"
      }
    },
    {
      "cell_type": "code",
      "source": [
        "# 1. What is inheritance in Python? Explain its significance in object-oriented programming.\n",
        "'''\n",
        "ANS:\n",
        "Inheritance is a fundamental concept in object-oriented programming (OOP)\n",
        "that allows a class (called the child or derived class) to inherit properties\n",
        "and behaviors (methods and attributes) from another class (called the parent or base class).\n",
        "\n",
        "significance->\n",
        "\n",
        "Code Reusability\n",
        "Reuse code written in a base class without rewriting it in the child class.\n",
        "\n",
        "Improved Maintainability\n",
        "Common functionality is centralized in one place (base class), making updates easier.\n",
        "\n",
        "Extensibility\n",
        "Extend or modify the behavior of existing classes without changing the original code.\n",
        "\n",
        "Polymorphism Support\n",
        "Enables different classes to be treated as instances of the same base class.\n",
        "\n",
        "'''"
      ],
      "metadata": {
        "id": "119msvbb55JH"
      },
      "execution_count": null,
      "outputs": []
    },
    {
      "cell_type": "code",
      "source": [
        "#2. Differentiate between single inheritance and multiple inheritance in Python. Provide examples for each.\n",
        "'''\n",
        "ANS:\n",
        "Single Inheritance->\n",
        "\tA class inherits from only one parent class.\n",
        "  Simple and easy to manage.\n",
        "  No conflict in methods or attributes.\n",
        "  When behavior needs to be extended from one class.\n",
        "\n",
        "Multiple Inheritance->\n",
        "  A class inherits from more than one parent class.\n",
        "  More complex due to multiple base classes.\n",
        "  May lead to ambiguity, resolved using MRO (Method Resolution Order).\n",
        "  When a class needs to combine features from multiple sources.\n",
        "\n",
        "'''"
      ],
      "metadata": {
        "id": "9lJAc1FE6wsN"
      },
      "execution_count": null,
      "outputs": []
    },
    {
      "cell_type": "code",
      "source": [
        "# 3. Create a Python class called `Vehicle` with attributes `color` and `speed`. Then, create a child class called `Car` that inherits from `Vehicle` and adds a `brand` attribute. Provide an example of creating a `Car` object."
      ],
      "metadata": {
        "id": "hzYmKyVc7pq7"
      },
      "execution_count": 1,
      "outputs": []
    },
    {
      "cell_type": "code",
      "source": [
        "class Vehicle:\n",
        "  def __init__(self,color,speed):\n",
        "     self.color = color\n",
        "     self.speed = speed\n",
        "class Car(Vehicle):\n",
        "  def info(self):\n",
        "    return f'This is car info: color -> {self.color} and speed -> {self.speed}'\n",
        "a = Car('Red','200 km/h')\n",
        "a.info()"
      ],
      "metadata": {
        "colab": {
          "base_uri": "https://localhost:8080/",
          "height": 36
        },
        "id": "5OpwzpZa73zj",
        "outputId": "8d33db1a-8ede-4b87-8a52-4bccee2048df"
      },
      "execution_count": 9,
      "outputs": [
        {
          "output_type": "execute_result",
          "data": {
            "text/plain": [
              "'This is car info: color -> Red and speed -> 200 km/h'"
            ],
            "application/vnd.google.colaboratory.intrinsic+json": {
              "type": "string"
            }
          },
          "metadata": {},
          "execution_count": 9
        }
      ]
    },
    {
      "cell_type": "code",
      "source": [
        "# 4. Explain the concept of method overriding in inheritance. Provide a practical example."
      ],
      "metadata": {
        "id": "l0aSkGkt9nP5"
      },
      "execution_count": null,
      "outputs": []
    },
    {
      "cell_type": "code",
      "source": [
        "'''\n",
        "ANS:\n",
        "Method overriding is an object-oriented programming feature\n",
        "where a child class provides a specific implementation of a method that is already defined in its parent class.\n",
        "When you override a method, the version in the child class replaces (or overrides) the one inherited from the parent class.\n",
        "'''\n",
        "class Animal:\n",
        "    def Dog(self):\n",
        "        print(\"Dog is an animal...\")\n",
        "\n",
        "class Pet(Animal):\n",
        "     def Dog(self):\n",
        "        print(\"Dog is a pet animal...\")\n",
        "b = Animal()\n",
        "b.Dog()\n",
        "\n",
        "a=Pet()\n",
        "a.Dog()\n",
        "\n"
      ],
      "metadata": {
        "colab": {
          "base_uri": "https://localhost:8080/"
        },
        "id": "Of7qf0wm-7t0",
        "outputId": "1d926e0b-3bbc-44ac-ed23-7a461374cc3d"
      },
      "execution_count": 14,
      "outputs": [
        {
          "output_type": "stream",
          "name": "stdout",
          "text": [
            "Dog is an animal...\n",
            "Dog is a pet animal...\n"
          ]
        }
      ]
    },
    {
      "cell_type": "code",
      "source": [
        "# 5. How can you access the methods and attributes of a parent class from a child class in Python? Give an example."
      ],
      "metadata": {
        "id": "kGJzD7MbAIaO"
      },
      "execution_count": null,
      "outputs": []
    },
    {
      "cell_type": "code",
      "source": [
        "# using super() method\n",
        "class Animal:\n",
        "    def __init__(self):\n",
        "        self.type = \"Mammal\"\n",
        "\n",
        "    def speak(self):\n",
        "        print(\"Animal makes a sound\")\n",
        "\n",
        "class Dog(Animal):\n",
        "    def __init__(self):\n",
        "        super().__init__()\n",
        "        self.breed = \"Labrador\"\n",
        "\n",
        "    def show_info(self):\n",
        "        print(f\"Type: {self.type}\")\n",
        "        super().speak()\n",
        "d = Dog()\n",
        "d.show_info()"
      ],
      "metadata": {
        "colab": {
          "base_uri": "https://localhost:8080/"
        },
        "id": "-BQT039HBLSp",
        "outputId": "a1027b83-3396-4c7c-ac85-7161594e27e1"
      },
      "execution_count": 17,
      "outputs": [
        {
          "output_type": "stream",
          "name": "stdout",
          "text": [
            "Type: Mammal\n",
            "Animal makes a sound\n"
          ]
        }
      ]
    },
    {
      "cell_type": "markdown",
      "source": [
        "or"
      ],
      "metadata": {
        "id": "PV57RwtpCgv6"
      }
    },
    {
      "cell_type": "code",
      "source": [
        "from os import name\n",
        "# simply inheriting and accessing it using '.name'\n",
        "class person:\n",
        "  def __init__(self,name) -> None:\n",
        "      self.name = name\n",
        "class man(person):\n",
        "  def naam(self):\n",
        "   pass\n",
        "\n",
        "a = man('Ajay')\n",
        "a.name\n"
      ],
      "metadata": {
        "colab": {
          "base_uri": "https://localhost:8080/",
          "height": 36
        },
        "id": "xGaRTnLCCTmj",
        "outputId": "0c9dc08d-4411-4b60-84a5-669d31661d50"
      },
      "execution_count": 26,
      "outputs": [
        {
          "output_type": "execute_result",
          "data": {
            "text/plain": [
              "'Ajay'"
            ],
            "application/vnd.google.colaboratory.intrinsic+json": {
              "type": "string"
            }
          },
          "metadata": {},
          "execution_count": 26
        }
      ]
    },
    {
      "cell_type": "code",
      "source": [
        "#6. Discuss the use of the `super()` function in Python inheritance. When and why is it used? Provide an example.\n",
        "\n",
        "''' Same as Q-5 case one '''"
      ],
      "metadata": {
        "id": "42aEkSKXDmfq"
      },
      "execution_count": null,
      "outputs": []
    }
  ]
}