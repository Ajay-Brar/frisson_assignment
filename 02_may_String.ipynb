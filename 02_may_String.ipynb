{
 "cells": [
  {
   "cell_type": "raw",
   "id": "2647a586-2086-4c0a-ad9e-e555ceb521a0",
   "metadata": {},
   "source": [
    "1. Declare two variables, `x` and `y`, and assign them integer values. Swap the\n",
    "values of these variables without using any temporary variable."
   ]
  },
  {
   "cell_type": "code",
   "execution_count": 2,
   "id": "eb9b0a92-4f28-4fbd-bc46-3392d25bb881",
   "metadata": {},
   "outputs": [
    {
     "name": "stdout",
     "output_type": "stream",
     "text": [
      "value before swap: 2 and 4\n",
      "values after swap: 4 and 2\n"
     ]
    }
   ],
   "source": [
    "#assign \n",
    "\n",
    "a = 2  \n",
    "b = 4\n",
    "\n",
    "print(f'value before swap a,b: {a} and {b}')  # display values\n",
    "\n",
    "a,b = b,a  # swap value\n",
    "\n",
    "print(f'values after swap a,b: {a} and {b}') # display values"
   ]
  },
  {
   "cell_type": "raw",
   "id": "be529526-4d58-482b-9a22-85ca353a4f76",
   "metadata": {},
   "source": [
    "2. Create a program that calculates the area of a rectangle. Take the length and\n",
    "width as inputs from the user and store them in variables. Calculate and\n",
    "display the area"
   ]
  },
  {
   "cell_type": "code",
   "execution_count": 5,
   "id": "67056ea4-a5c5-49ca-8607-5bb7c6f84198",
   "metadata": {},
   "outputs": [
    {
     "name": "stdin",
     "output_type": "stream",
     "text": [
      "enter the length:  5\n",
      "enter the breadth:  6\n"
     ]
    },
    {
     "name": "stdout",
     "output_type": "stream",
     "text": [
      "Area of the rectangle is: 30\n"
     ]
    }
   ],
   "source": [
    "#taking inputs from user\n",
    "length = int(input(\"enter the length: \")) #assign length\n",
    "breadth =  int(input(\"enter the breadth: \")) #assign breadth\n",
    "\n",
    "# Formula for area of rectangle\n",
    "area = length*breadth\n",
    "\n",
    "print(f'Area of the rectangle is: {area}') #display area"
   ]
  },
  {
   "cell_type": "raw",
   "id": "0b90af96-fb2b-414e-adb8-ec0352c300b8",
   "metadata": {},
   "source": [
    "3. Write a Python program that converts temperatures from Celsius to\n",
    "Fahrenheit. Take the temperature in Celsius as input, store it in a variable,\n",
    "convert it to Fahrenheit, and display"
   ]
  },
  {
   "cell_type": "code",
   "execution_count": 10,
   "id": "df7d8d2f-297a-42b2-9c21-0f9ab45b7777",
   "metadata": {},
   "outputs": [
    {
     "name": "stdin",
     "output_type": "stream",
     "text": [
      "enter temprature in celsius:  24.0\n"
     ]
    },
    {
     "name": "stdout",
     "output_type": "stream",
     "text": [
      "temparature in fahrenheit is: 75.2\n"
     ]
    }
   ],
   "source": [
    "# Taking input form the user\n",
    "c = float(input('enter temprature in celsius: ' ))\n",
    "\n",
    "#formula to convert celcius to fahrenheit\n",
    "f = (c*9/5)+32\n",
    "\n",
    "#display temparature in fahrenheit\n",
    "print(f'temparature in fahrenheit is: {f}')\n"
   ]
  },
  {
   "cell_type": "code",
   "execution_count": null,
   "id": "f6b6032f-3859-41d5-824b-02e188b16b6f",
   "metadata": {},
   "outputs": [],
   "source": []
  },
  {
   "cell_type": "raw",
   "id": "3c4551e4-8f6d-4cd6-985f-ff7456a1d790",
   "metadata": {},
   "source": [
    "4.create custom function of all the in built functions that we learned today !\n"
   ]
  },
  {
   "cell_type": "code",
   "execution_count": 15,
   "id": "3386f25d-afa9-4846-b9c3-eb1d80cc7578",
   "metadata": {},
   "outputs": [
    {
     "data": {
      "text/plain": [
       "'HELLO'"
      ]
     },
     "execution_count": 15,
     "metadata": {},
     "output_type": "execute_result"
    }
   ],
   "source": [
    "# Custom function to mimic str.upper()\n",
    "def custom_upper(text):\n",
    "    result = \"\"\n",
    "    for char in text:\n",
    "        if 'a' <= char <= 'z':\n",
    "            result += chr(ord(char) - 32)\n",
    "        else:\n",
    "            result += char\n",
    "    return result\n",
    "str = 'hello'\n",
    "custom_upper(str)\n"
   ]
  },
  {
   "cell_type": "code",
   "execution_count": 13,
   "id": "415cf1f6-4302-4e2c-9fd4-b14528a6228a",
   "metadata": {},
   "outputs": [
    {
     "data": {
      "text/plain": [
       "'hello'"
      ]
     },
     "execution_count": 13,
     "metadata": {},
     "output_type": "execute_result"
    }
   ],
   "source": [
    "\n",
    "# Custom function to mimic str.lower()\n",
    "def custom_lower(text):\n",
    "    result = \"\"\n",
    "    for char in text:\n",
    "        if 'A' <= char <= 'Z':\n",
    "            result += chr(ord(char) + 32)\n",
    "        else:\n",
    "            result += char\n",
    "    return result\n",
    "str = 'HELLO'\n",
    "custom_lower(str)"
   ]
  },
  {
   "cell_type": "code",
   "execution_count": 16,
   "id": "735e83e8-5986-460c-833c-0bf72bd8c9b3",
   "metadata": {},
   "outputs": [
    {
     "data": {
      "text/plain": [
       "'good day'"
      ]
     },
     "execution_count": 16,
     "metadata": {},
     "output_type": "execute_result"
    }
   ],
   "source": [
    "\n",
    "# Custom function to mimic str.lstrip()\n",
    "def custom_lstrip(text):\n",
    "    i = 0\n",
    "    while i < len(text) and text[i] == ' ':\n",
    "        i += 1\n",
    "    return text[i:]\n",
    "str = ' good day'\n",
    "custom_lstrip(str)"
   ]
  },
  {
   "cell_type": "code",
   "execution_count": 17,
   "id": "2524b58f-f267-4e8e-9466-32874faa41ae",
   "metadata": {},
   "outputs": [
    {
     "data": {
      "text/plain": [
       "'good day'"
      ]
     },
     "execution_count": 17,
     "metadata": {},
     "output_type": "execute_result"
    }
   ],
   "source": [
    "\n",
    "# Custom function to mimic str.rstrip()\n",
    "def custom_rstrip(text):\n",
    "    i = len(text) - 1\n",
    "    while i >= 0 and text[i] == ' ':\n",
    "        i -= 1\n",
    "    return text[:i+1]\n",
    "str = 'good day '\n",
    "custom_rstrip(str)"
   ]
  },
  {
   "cell_type": "code",
   "execution_count": 18,
   "id": "3f23067a-7909-412c-b9e4-251ed8e5b9c6",
   "metadata": {},
   "outputs": [
    {
     "data": {
      "text/plain": [
       "'good day'"
      ]
     },
     "execution_count": 18,
     "metadata": {},
     "output_type": "execute_result"
    }
   ],
   "source": [
    "\n",
    "# Custom function to mimic str.strip()\n",
    "def custom_strip(text):\n",
    "    return custom_lstrip(custom_rstrip(text))\n",
    "str = ' good day '\n",
    "custom_strip(str)"
   ]
  },
  {
   "cell_type": "code",
   "execution_count": 25,
   "id": "c53a8c14-8105-4d04-9bf0-c081ca8a43c4",
   "metadata": {},
   "outputs": [
    {
     "name": "stdout",
     "output_type": "stream",
     "text": [
      "old string :   good day to you\n"
     ]
    },
    {
     "data": {
      "text/plain": [
       "'good night to you'"
      ]
     },
     "execution_count": 25,
     "metadata": {},
     "output_type": "execute_result"
    }
   ],
   "source": [
    "\n",
    "# Custom function to mimic str.replace(old, new)\n",
    "def custom_replace(text, old, new):\n",
    "    result = \"\"\n",
    "    i = 0\n",
    "    while i < len(text):\n",
    "        if text[i:i+len(old)] == old:\n",
    "            result += new\n",
    "            i += len(old)\n",
    "        else:\n",
    "            result += text[i]\n",
    "            i += 1\n",
    "    return result\n",
    "str = 'good day to you'\n",
    "print(f'old string :   {str}')\n",
    "custom_replace(str,'day', 'night')"
   ]
  },
  {
   "cell_type": "code",
   "execution_count": 24,
   "id": "aef53162-e9c0-4889-a38a-861a0e924774",
   "metadata": {},
   "outputs": [
    {
     "data": {
      "text/plain": [
       "['good', 'day']"
      ]
     },
     "execution_count": 24,
     "metadata": {},
     "output_type": "execute_result"
    }
   ],
   "source": [
    "\n",
    "# Custom function to mimic str.split(delimiter)\n",
    "def custom_split(text, delimiter=\" \"):\n",
    "    result = []\n",
    "    current = \"\"\n",
    "    for char in text:\n",
    "        if char == delimiter:\n",
    "            result.append(current)\n",
    "            current = \"\"\n",
    "        else:\n",
    "            current += char\n",
    "    result.append(current)\n",
    "    return result\n",
    "str = 'good day'\n",
    "custom_split(str,' ')"
   ]
  },
  {
   "cell_type": "code",
   "execution_count": null,
   "id": "33f5c09a-5a69-4d16-9a8e-db74bf48d9c7",
   "metadata": {},
   "outputs": [],
   "source": []
  }
 ],
 "metadata": {
  "kernelspec": {
   "display_name": "Python 3 (ipykernel)",
   "language": "python",
   "name": "python3"
  },
  "language_info": {
   "codemirror_mode": {
    "name": "ipython",
    "version": 3
   },
   "file_extension": ".py",
   "mimetype": "text/x-python",
   "name": "python",
   "nbconvert_exporter": "python",
   "pygments_lexer": "ipython3",
   "version": "3.12.7"
  }
 },
 "nbformat": 4,
 "nbformat_minor": 5
}
