{
  "nbformat": 4,
  "nbformat_minor": 0,
  "metadata": {
    "colab": {
      "provenance": [],
      "authorship_tag": "ABX9TyNskzg0vna/tJVwFmKNcMLI",
      "include_colab_link": true
    },
    "kernelspec": {
      "name": "python3",
      "display_name": "Python 3"
    },
    "language_info": {
      "name": "python"
    }
  },
  "cells": [
    {
      "cell_type": "markdown",
      "metadata": {
        "id": "view-in-github",
        "colab_type": "text"
      },
      "source": [
        "<a href=\"https://colab.research.google.com/github/Ajay-Brar/frisson_assignment/blob/main/12_May_Stats.ipynb\" target=\"_parent\"><img src=\"https://colab.research.google.com/assets/colab-badge.svg\" alt=\"Open In Colab\"/></a>"
      ]
    },
    {
      "cell_type": "code",
      "execution_count": 1,
      "metadata": {
        "id": "GpfIUPEmamDk"
      },
      "outputs": [],
      "source": [
        "#Q= Generate a list of 100 integers containing values between 90 to 130 and store it in the variable `int_list`. After generating the list, find the following:"
      ]
    },
    {
      "cell_type": "code",
      "source": [
        "import random\n",
        "l = []\n",
        "for i in range(0,100):\n",
        "  l.append(random.randint(90,131))\n",
        "print(l,end='')"
      ],
      "metadata": {
        "colab": {
          "base_uri": "https://localhost:8080/"
        },
        "id": "u6_nf1HXb4VH",
        "outputId": "983f08e4-ac32-473b-ed01-60c0ab1815dd"
      },
      "execution_count": 5,
      "outputs": [
        {
          "output_type": "stream",
          "name": "stdout",
          "text": [
            "[109, 103, 96, 99, 122, 124, 117, 105, 106, 131, 91, 128, 94, 124, 111, 122, 119, 100, 129, 96, 104, 120, 113, 108, 116, 111, 103, 114, 100, 115, 109, 111, 91, 118, 98, 100, 111, 131, 129, 99, 128, 118, 116, 90, 105, 114, 118, 121, 111, 131, 112, 111, 123, 91, 121, 96, 113, 125, 117, 121, 124, 103, 92, 113, 117, 96, 93, 106, 119, 104, 117, 93, 107, 110, 112, 100, 98, 114, 101, 92, 103, 100, 102, 97, 105, 122, 108, 98, 115, 98, 118, 108, 105, 91, 107, 99, 114, 101, 104, 120]"
          ]
        }
      ]
    },
    {
      "cell_type": "code",
      "source": [
        "# (i) Write a Python function to calculate the mean of a given list of numbers. Create a function to find the median of a list of numbers.\n",
        "def mean(a):\n",
        "  return sum(a)/len(a)\n",
        "\n",
        "def median(a):\n",
        "  avg= a[len(a)//2] + a[(len(a)//2)+1]\n",
        "  return avg/2\n",
        "\n",
        "\n",
        "print(f'Mean {mean(l)}')\n",
        "print(f'Meadian {median(l)}')"
      ],
      "metadata": {
        "colab": {
          "base_uri": "https://localhost:8080/"
        },
        "id": "_4rB5eYndCAU",
        "outputId": "b384f66a-1ecb-44bd-8008-21108e1be63d"
      },
      "execution_count": 9,
      "outputs": [
        {
          "output_type": "stream",
          "name": "stdout",
          "text": [
            "Mean 109.35\n",
            "Meadian 111.5\n"
          ]
        }
      ]
    },
    {
      "cell_type": "code",
      "source": [
        "#(ii) Develop a program to compute the mode of a list of integers.\n",
        "def mode(a):\n",
        "  count = 0\n",
        "  for i in a:\n",
        "    if count==0:\n",
        "      count = a.count(i)\n",
        "    if a.count(i)>count:\n",
        "      count = a.count(i)\n",
        "      b = i\n",
        "  return f'the Mode is {b} and count is {count}'\n",
        "\n",
        "mode(l)\n"
      ],
      "metadata": {
        "colab": {
          "base_uri": "https://localhost:8080/",
          "height": 35
        },
        "id": "MbQmskKDenaL",
        "outputId": "3a731143-0e64-4189-d2c2-f00e086a97ee"
      },
      "execution_count": 12,
      "outputs": [
        {
          "output_type": "execute_result",
          "data": {
            "text/plain": [
              "'the Mode is 111 and count is 6'"
            ],
            "application/vnd.google.colaboratory.intrinsic+json": {
              "type": "string"
            }
          },
          "metadata": {},
          "execution_count": 12
        }
      ]
    },
    {
      "cell_type": "code",
      "source": [
        "#(iii) Implement a function to calculate the weighted mean of a list of values and their corresponding weights.\n",
        "dict1 = {}\n",
        "for i in l:\n",
        "  if i not in dict1:\n",
        "    dict1[i] = l.count(i)\n",
        "ksum = 0\n",
        "vsum = 0\n",
        "for key,value in dict1.items():\n",
        "  ksum += key*value\n",
        "  vsum += value\n",
        "wm = ksum/vsum\n",
        "print(f'the weghted mean is : {wm}')"
      ],
      "metadata": {
        "colab": {
          "base_uri": "https://localhost:8080/"
        },
        "id": "uc8xZX9bjQpd",
        "outputId": "ce2feb34-99d5-4400-dc01-ceb1c22931a0"
      },
      "execution_count": 21,
      "outputs": [
        {
          "output_type": "stream",
          "name": "stdout",
          "text": [
            "the weghted mean is : 109.35\n"
          ]
        }
      ]
    },
    {
      "cell_type": "code",
      "source": [
        "#(iv) Write a Python function to find the geometric mean of a list of positive numbers.\n",
        "def geometric_mean(a):\n",
        "  product = 1\n",
        "  for num in a:\n",
        "       product *= num\n",
        "\n",
        "  return product ** (1 / len(a))\n",
        "geometric_mean(l)"
      ],
      "metadata": {
        "colab": {
          "base_uri": "https://localhost:8080/"
        },
        "id": "npR_l8Ifkxk4",
        "outputId": "de0cff87-386a-4ebd-c320-9ce413f61bb5"
      },
      "execution_count": 23,
      "outputs": [
        {
          "output_type": "execute_result",
          "data": {
            "text/plain": [
              "108.80600516151436"
            ]
          },
          "metadata": {},
          "execution_count": 23
        }
      ]
    },
    {
      "cell_type": "code",
      "source": [
        "#(v) Create a program to calculate the harmonic mean of a list of values.\n",
        "def harmonic_mean(a):\n",
        "  s = 0\n",
        "  for i in a:\n",
        "    s += 1/i\n",
        "  return len(a)/s\n",
        "harmonic_mean(l)"
      ],
      "metadata": {
        "colab": {
          "base_uri": "https://localhost:8080/"
        },
        "id": "2nrVLrC-k2JV",
        "outputId": "b2d47927-46a7-4045-b551-eaea8fa8c8b0"
      },
      "execution_count": 24,
      "outputs": [
        {
          "output_type": "execute_result",
          "data": {
            "text/plain": [
              "108.26246660154627"
            ]
          },
          "metadata": {},
          "execution_count": 24
        }
      ]
    },
    {
      "cell_type": "code",
      "source": [
        "#(vi) Build a function to determine the midrange of a list of a (average of the minimum and maximum).\n",
        "def midrange(a):\n",
        "    minimum = min(a)\n",
        "    maximum = max(a)\n",
        "    return (minimum + maximum) / 2\n",
        "midrange(l)"
      ],
      "metadata": {
        "colab": {
          "base_uri": "https://localhost:8080/"
        },
        "id": "_XszarYRk7fw",
        "outputId": "313d30be-4552-488b-db99-e74929c86a2d"
      },
      "execution_count": 25,
      "outputs": [
        {
          "output_type": "execute_result",
          "data": {
            "text/plain": [
              "110.5"
            ]
          },
          "metadata": {},
          "execution_count": 25
        }
      ]
    },
    {
      "cell_type": "code",
      "source": [
        "#(vii) Implement a Python program to find the trimmed mean of a list, excluding a certain percentage of outliers.\n",
        "def trim_mean(a):\n",
        "  a.sort()\n",
        "  t = int(input('enter the trim percent'))\n",
        "  sum =0\n",
        "  tp = (t//len(a)) *100\n",
        "\n",
        "  for i in range(0,tp+1):\n",
        "    a.remove(a[i])\n",
        "  for i in range(tp,-1,-1):\n",
        "    a.pop()\n",
        "  for i in a:\n",
        "    sum += i\n",
        "  return sum/len(a)\n",
        "trim_mean(l)"
      ],
      "metadata": {
        "colab": {
          "base_uri": "https://localhost:8080/"
        },
        "id": "5z-klfMjk-Yz",
        "outputId": "5bb6e67d-5b0d-4f7c-ea97-18a18dcb65f1"
      },
      "execution_count": 35,
      "outputs": [
        {
          "name": "stdout",
          "output_type": "stream",
          "text": [
            "enter the trim percent20\n"
          ]
        },
        {
          "output_type": "execute_result",
          "data": {
            "text/plain": [
              "110.85227272727273"
            ]
          },
          "metadata": {},
          "execution_count": 35
        }
      ]
    },
    {
      "cell_type": "code",
      "source": [],
      "metadata": {
        "id": "zo2IP3Qu14eu"
      },
      "execution_count": 31,
      "outputs": []
    }
  ]
}